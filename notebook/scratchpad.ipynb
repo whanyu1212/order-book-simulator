{
 "cells": [
  {
   "cell_type": "code",
   "execution_count": 1,
   "id": "55c0fcc8",
   "metadata": {},
   "outputs": [],
   "source": [
    "from decimal import Decimal"
   ]
  },
  {
   "cell_type": "code",
   "execution_count": 2,
   "id": "3147982d",
   "metadata": {},
   "outputs": [
    {
     "name": "stdout",
     "output_type": "stream",
     "text": [
      "False\n",
      "0.30000000000000004\n"
     ]
    }
   ],
   "source": [
    "print(0.1 + 0.2 == 0.3)\n",
    "\n",
    "print(0.1 + 0.2)"
   ]
  },
  {
   "cell_type": "code",
   "execution_count": 3,
   "id": "0c4c6e0e",
   "metadata": {},
   "outputs": [
    {
     "name": "stdout",
     "output_type": "stream",
     "text": [
      "Float calculation profit: $20.000000000003126\n",
      "Decimal calculation profit: $20.00\n",
      "\n",
      "Difference in profit calculation: $-3.126E-12\n"
     ]
    }
   ],
   "source": [
    "# 4. Real-world Trading Scenario\n",
    "def calculate_profit_float(entry_price, exit_price, shares):\n",
    "    return (exit_price - entry_price) * shares\n",
    "\n",
    "def calculate_profit_decimal(entry_price, exit_price, shares):\n",
    "    return (Decimal(str(exit_price)) - Decimal(str(entry_price))) * Decimal(str(shares))\n",
    "\n",
    "# Trading scenario: Buy 1000 shares at 19.99, sell at 20.01\n",
    "shares = 1000\n",
    "entry = 19.99\n",
    "exit = 20.01\n",
    "\n",
    "float_profit = calculate_profit_float(entry, exit, shares)\n",
    "decimal_profit = calculate_profit_decimal(entry, exit, shares)\n",
    "\n",
    "print(f\"Float calculation profit: ${float_profit}\")\n",
    "print(f\"Decimal calculation profit: ${decimal_profit}\")\n",
    "print(f\"\\nDifference in profit calculation: ${decimal_profit - Decimal(str(float_profit))}\")"
   ]
  },
  {
   "cell_type": "code",
   "execution_count": 5,
   "id": "7749f8d7",
   "metadata": {},
   "outputs": [
    {
     "name": "stdout",
     "output_type": "stream",
     "text": [
      "Float total fees: $999.9999999992356\n",
      "Decimal total fees: $1000.00\n",
      "Difference in cents: 7.64400E-8\n"
     ]
    }
   ],
   "source": [
    "small_fee = 0.01  # 1 cent fee\n",
    "num_transactions = 100000\n",
    "\n",
    "# Using float - accumulates errors\n",
    "float_total = 0\n",
    "for _ in range(num_transactions):\n",
    "    float_total += small_fee\n",
    "\n",
    "# Using Decimal - maintains precision\n",
    "from decimal import Decimal\n",
    "decimal_total = Decimal('0')\n",
    "for _ in range(num_transactions):\n",
    "    decimal_total += Decimal('0.01')\n",
    "\n",
    "print(f\"Float total fees: ${float_total}\")         # 999.9999999999091\n",
    "print(f\"Decimal total fees: ${decimal_total}\")     # 1000.00\n",
    "print(f\"Difference in cents: {(decimal_total - Decimal(str(float_total))) * 100}\")"
   ]
  }
 ],
 "metadata": {
  "kernelspec": {
   "display_name": "order-book-simulator-py3.12",
   "language": "python",
   "name": "python3"
  },
  "language_info": {
   "codemirror_mode": {
    "name": "ipython",
    "version": 3
   },
   "file_extension": ".py",
   "mimetype": "text/x-python",
   "name": "python",
   "nbconvert_exporter": "python",
   "pygments_lexer": "ipython3",
   "version": "3.12.4"
  }
 },
 "nbformat": 4,
 "nbformat_minor": 5
}
