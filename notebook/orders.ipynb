{
 "cells": [
  {
   "cell_type": "code",
   "execution_count": null,
   "id": "7767bf6f",
   "metadata": {},
   "outputs": [],
   "source": [
    "import uuid\n",
    "import asyncio\n",
    "import pandas as pd\n",
    "from typing import List, Dict\n",
    "from uuid import UUID\n",
    "from tqdm import tqdm\n",
    "from rich import print\n",
    "from rich.console import Console\n",
    "from rich.table import Table\n",
    "from order_book_simulator.config import OrderRequest, Priority, Side\n",
    "from order_book_simulator.config.trade import Trade\n",
    "from order_book_simulator.core import OrderBook, MatchingEngine\n",
    "from order_book_simulator.websocket import ConnectionManager\n",
    "from order_book_simulator.analysis import MetricsCalculator\n",
    "from order_book_simulator.util import create_trade_table\n",
    "\n",
    "console = Console()"
   ]
  },
  {
   "cell_type": "code",
   "execution_count": 2,
   "id": "fb708966",
   "metadata": {},
   "outputs": [],
   "source": [
    "orders_df = pd.read_csv('../data/orders-1.csv')"
   ]
  },
  {
   "cell_type": "code",
   "execution_count": 3,
   "id": "bf79b15e",
   "metadata": {},
   "outputs": [],
   "source": [
    "# just to adhere to my definition of the OrdrerRequest dataclass\n",
    "# unix timestamp is more efficient for computation and storage\n",
    "# trader_uuid is more secure and flexible than group number\n",
    "# (in real life, traders won't identify themselves with group numbers)\n",
    "# so we convert them here\n",
    "# Note: keeping full nanosecond precision by converting to float (seconds with decimals)\n",
    "\n",
    "orders_df[\"unix_timestamp\"] = pd.to_datetime(orders_df[\"Timestamp\"]).astype(int) / 10**9 # preserve nanoseconds\n",
    "group_to_uuid = {group: uuid.uuid4() for group in orders_df[\"Group Number\"].unique()}\n",
    "orders_df[\"trader_uuid\"] = orders_df[\"Group Number\"].map(group_to_uuid)\n",
    "\n",
    "# Create reverse mapping for displaying trades\n",
    "uuid_to_group = {v: k for k, v in group_to_uuid.items()}"
   ]
  },
  {
   "cell_type": "code",
   "execution_count": 4,
   "id": "41ea300c",
   "metadata": {},
   "outputs": [],
   "source": [
    "order_book = OrderBook()\n",
    "metrics_calculator = MetricsCalculator(order_book, 0.01)\n",
    "connection_manager = ConnectionManager()\n",
    "\n",
    "# websocket related stuff are not required for this assignment but we designed some functions to allow that\n",
    "matching_engine = MatchingEngine(order_book, \n",
    "                                 connection_manager, # not needed for assignment\n",
    "                                 asyncio.get_event_loop(), # not needed for assignment\n",
    "                                 metrics_calculator)"
   ]
  },
  {
   "cell_type": "code",
   "execution_count": null,
   "id": "e95fb329",
   "metadata": {},
   "outputs": [
    {
     "name": "stderr",
     "output_type": "stream",
     "text": [
      "Processing orders:   0%|          | 0/248 [00:00<?, ?it/s]"
     ]
    },
    {
     "data": {
      "text/html": [
       "<pre style=\"white-space:pre;overflow-x:auto;line-height:normal;font-family:Menlo,'DejaVu Sans Mono',consolas,'Courier New',monospace\">\n",
       "<span style=\"color: #008080; text-decoration-color: #008080; font-weight: bold\">=== Order Book after #</span><span style=\"color: #008080; text-decoration-color: #008080; font-weight: bold\">5</span><span style=\"color: #008080; text-decoration-color: #008080; font-weight: bold\"> orders ===</span>\n",
       "</pre>\n"
      ],
      "text/plain": [
       "\n",
       "\u001b[1;36m=== Order Book after #\u001b[0m\u001b[1;36m5\u001b[0m\u001b[1;36m orders ===\u001b[0m\n"
      ]
     },
     "metadata": {},
     "output_type": "display_data"
    },
    {
     "data": {
      "text/html": [
       "<pre style=\"white-space:pre;overflow-x:auto;line-height:normal;font-family:Menlo,'DejaVu Sans Mono',consolas,'Courier New',monospace\">┏━━━━━━━━━━━┳━━━━━━━━━━━━━━┳━━━━━━━━━━━┳━━━━━━━━━━━━━━┓\n",
       "┃<span style=\"color: #800080; text-decoration-color: #800080; font-weight: bold\"> Bid Price </span>┃<span style=\"color: #800080; text-decoration-color: #800080; font-weight: bold\"> Bid Quantity </span>┃<span style=\"color: #800080; text-decoration-color: #800080; font-weight: bold\"> Ask Price </span>┃<span style=\"color: #800080; text-decoration-color: #800080; font-weight: bold\"> Ask Quantity </span>┃\n",
       "┡━━━━━━━━━━━╇━━━━━━━━━━━━━━╇━━━━━━━━━━━╇━━━━━━━━━━━━━━┩\n",
       "│<span style=\"color: #008080; text-decoration-color: #008080\">     11.00 </span>│<span style=\"color: #008080; text-decoration-color: #008080\">           20 </span>│<span style=\"color: #800080; text-decoration-color: #800080\">     12.00 </span>│<span style=\"color: #800080; text-decoration-color: #800080\">           30 </span>│\n",
       "│<span style=\"color: #008080; text-decoration-color: #008080\">           </span>│<span style=\"color: #008080; text-decoration-color: #008080\">              </span>│<span style=\"color: #800080; text-decoration-color: #800080\">     50.00 </span>│<span style=\"color: #800080; text-decoration-color: #800080\">           11 </span>│\n",
       "└───────────┴──────────────┴───────────┴──────────────┘\n",
       "</pre>\n"
      ],
      "text/plain": [
       "┏━━━━━━━━━━━┳━━━━━━━━━━━━━━┳━━━━━━━━━━━┳━━━━━━━━━━━━━━┓\n",
       "┃\u001b[1;35m \u001b[0m\u001b[1;35mBid Price\u001b[0m\u001b[1;35m \u001b[0m┃\u001b[1;35m \u001b[0m\u001b[1;35mBid Quantity\u001b[0m\u001b[1;35m \u001b[0m┃\u001b[1;35m \u001b[0m\u001b[1;35mAsk Price\u001b[0m\u001b[1;35m \u001b[0m┃\u001b[1;35m \u001b[0m\u001b[1;35mAsk Quantity\u001b[0m\u001b[1;35m \u001b[0m┃\n",
       "┡━━━━━━━━━━━╇━━━━━━━━━━━━━━╇━━━━━━━━━━━╇━━━━━━━━━━━━━━┩\n",
       "│\u001b[36m \u001b[0m\u001b[36m    11.00\u001b[0m\u001b[36m \u001b[0m│\u001b[36m \u001b[0m\u001b[36m          20\u001b[0m\u001b[36m \u001b[0m│\u001b[35m \u001b[0m\u001b[35m    12.00\u001b[0m\u001b[35m \u001b[0m│\u001b[35m \u001b[0m\u001b[35m          30\u001b[0m\u001b[35m \u001b[0m│\n",
       "│\u001b[36m \u001b[0m\u001b[36m         \u001b[0m\u001b[36m \u001b[0m│\u001b[36m \u001b[0m\u001b[36m            \u001b[0m\u001b[36m \u001b[0m│\u001b[35m \u001b[0m\u001b[35m    50.00\u001b[0m\u001b[35m \u001b[0m│\u001b[35m \u001b[0m\u001b[35m          11\u001b[0m\u001b[35m \u001b[0m│\n",
       "└───────────┴──────────────┴───────────┴──────────────┘\n"
      ]
     },
     "metadata": {},
     "output_type": "display_data"
    },
    {
     "data": {
      "text/html": [
       "<pre style=\"white-space:pre;overflow-x:auto;line-height:normal;font-family:Menlo,'DejaVu Sans Mono',consolas,'Courier New',monospace\">\n",
       "</pre>\n"
      ],
      "text/plain": [
       "\n"
      ]
     },
     "metadata": {},
     "output_type": "display_data"
    },
    {
     "data": {
      "text/html": [
       "<pre style=\"white-space:pre;overflow-x:auto;line-height:normal;font-family:Menlo,'DejaVu Sans Mono',consolas,'Courier New',monospace\">\n",
       "<span style=\"color: #008080; text-decoration-color: #008080; font-weight: bold\">=== Order Book after #</span><span style=\"color: #008080; text-decoration-color: #008080; font-weight: bold\">20</span><span style=\"color: #008080; text-decoration-color: #008080; font-weight: bold\"> orders ===</span>\n",
       "</pre>\n"
      ],
      "text/plain": [
       "\n",
       "\u001b[1;36m=== Order Book after #\u001b[0m\u001b[1;36m20\u001b[0m\u001b[1;36m orders ===\u001b[0m\n"
      ]
     },
     "metadata": {},
     "output_type": "display_data"
    },
    {
     "data": {
      "text/html": [
       "<pre style=\"white-space:pre;overflow-x:auto;line-height:normal;font-family:Menlo,'DejaVu Sans Mono',consolas,'Courier New',monospace\">┏━━━━━━━━━━━┳━━━━━━━━━━━━━━┳━━━━━━━━━━━┳━━━━━━━━━━━━━━┓\n",
       "┃<span style=\"color: #800080; text-decoration-color: #800080; font-weight: bold\"> Bid Price </span>┃<span style=\"color: #800080; text-decoration-color: #800080; font-weight: bold\"> Bid Quantity </span>┃<span style=\"color: #800080; text-decoration-color: #800080; font-weight: bold\"> Ask Price </span>┃<span style=\"color: #800080; text-decoration-color: #800080; font-weight: bold\"> Ask Quantity </span>┃\n",
       "┡━━━━━━━━━━━╇━━━━━━━━━━━━━━╇━━━━━━━━━━━╇━━━━━━━━━━━━━━┩\n",
       "│<span style=\"color: #008080; text-decoration-color: #008080\">     11.00 </span>│<span style=\"color: #008080; text-decoration-color: #008080\">           50 </span>│<span style=\"color: #800080; text-decoration-color: #800080\">     12.00 </span>│<span style=\"color: #800080; text-decoration-color: #800080\">           55 </span>│\n",
       "│<span style=\"color: #008080; text-decoration-color: #008080\">     10.00 </span>│<span style=\"color: #008080; text-decoration-color: #008080\">           75 </span>│<span style=\"color: #800080; text-decoration-color: #800080\">     50.00 </span>│<span style=\"color: #800080; text-decoration-color: #800080\">           11 </span>│\n",
       "└───────────┴──────────────┴───────────┴──────────────┘\n",
       "</pre>\n"
      ],
      "text/plain": [
       "┏━━━━━━━━━━━┳━━━━━━━━━━━━━━┳━━━━━━━━━━━┳━━━━━━━━━━━━━━┓\n",
       "┃\u001b[1;35m \u001b[0m\u001b[1;35mBid Price\u001b[0m\u001b[1;35m \u001b[0m┃\u001b[1;35m \u001b[0m\u001b[1;35mBid Quantity\u001b[0m\u001b[1;35m \u001b[0m┃\u001b[1;35m \u001b[0m\u001b[1;35mAsk Price\u001b[0m\u001b[1;35m \u001b[0m┃\u001b[1;35m \u001b[0m\u001b[1;35mAsk Quantity\u001b[0m\u001b[1;35m \u001b[0m┃\n",
       "┡━━━━━━━━━━━╇━━━━━━━━━━━━━━╇━━━━━━━━━━━╇━━━━━━━━━━━━━━┩\n",
       "│\u001b[36m \u001b[0m\u001b[36m    11.00\u001b[0m\u001b[36m \u001b[0m│\u001b[36m \u001b[0m\u001b[36m          50\u001b[0m\u001b[36m \u001b[0m│\u001b[35m \u001b[0m\u001b[35m    12.00\u001b[0m\u001b[35m \u001b[0m│\u001b[35m \u001b[0m\u001b[35m          55\u001b[0m\u001b[35m \u001b[0m│\n",
       "│\u001b[36m \u001b[0m\u001b[36m    10.00\u001b[0m\u001b[36m \u001b[0m│\u001b[36m \u001b[0m\u001b[36m          75\u001b[0m\u001b[36m \u001b[0m│\u001b[35m \u001b[0m\u001b[35m    50.00\u001b[0m\u001b[35m \u001b[0m│\u001b[35m \u001b[0m\u001b[35m          11\u001b[0m\u001b[35m \u001b[0m│\n",
       "└───────────┴──────────────┴───────────┴──────────────┘\n"
      ]
     },
     "metadata": {},
     "output_type": "display_data"
    },
    {
     "data": {
      "text/html": [
       "<pre style=\"white-space:pre;overflow-x:auto;line-height:normal;font-family:Menlo,'DejaVu Sans Mono',consolas,'Courier New',monospace\">\n",
       "</pre>\n"
      ],
      "text/plain": [
       "\n"
      ]
     },
     "metadata": {},
     "output_type": "display_data"
    },
    {
     "data": {
      "text/html": [
       "<pre style=\"white-space:pre;overflow-x:auto;line-height:normal;font-family:Menlo,'DejaVu Sans Mono',consolas,'Courier New',monospace\">\n",
       "<span style=\"color: #800000; text-decoration-color: #800000; font-weight: bold\">⚠️  CROSSED BOOK DETECTED at timestamp </span><span style=\"color: #800000; text-decoration-color: #800000; font-weight: bold\">1759868528.65815</span><span style=\"color: #800000; text-decoration-color: #800000; font-weight: bold\">!</span>\n",
       "</pre>\n"
      ],
      "text/plain": [
       "\n",
       "\u001b[1;31m⚠️  CROSSED BOOK DETECTED at timestamp \u001b[0m\u001b[1;31m1759868528.65815\u001b[0m\u001b[1;31m!\u001b[0m\n"
      ]
     },
     "metadata": {},
     "output_type": "display_data"
    },
    {
     "data": {
      "text/html": [
       "<pre style=\"white-space:pre;overflow-x:auto;line-height:normal;font-family:Menlo,'DejaVu Sans Mono',consolas,'Courier New',monospace\"><span style=\"color: #ff8700; text-decoration-color: #ff8700\">  Best Bid: $</span><span style=\"color: #ff8700; text-decoration-color: #ff8700; font-weight: bold\">10.00</span><span style=\"color: #ff8700; text-decoration-color: #ff8700\"> &gt;= Best Ask: $</span><span style=\"color: #ff8700; text-decoration-color: #ff8700; font-weight: bold\">10.00</span>\n",
       "</pre>\n"
      ],
      "text/plain": [
       "\u001b[38;5;208m  Best Bid: $\u001b[0m\u001b[1;38;5;208m10.00\u001b[0m\u001b[38;5;208m >= Best Ask: $\u001b[0m\u001b[1;38;5;208m10.00\u001b[0m\n"
      ]
     },
     "metadata": {},
     "output_type": "display_data"
    },
    {
     "data": {
      "text/html": [
       "<pre style=\"white-space:pre;overflow-x:auto;line-height:normal;font-family:Menlo,'DejaVu Sans Mono',consolas,'Courier New',monospace\">\n",
       "<span style=\"color: #800000; text-decoration-color: #800000; font-weight: bold\">⚠️  CROSSED BOOK DETECTED at timestamp </span><span style=\"color: #800000; text-decoration-color: #800000; font-weight: bold\">1759868535.4140673</span><span style=\"color: #800000; text-decoration-color: #800000; font-weight: bold\">!</span>\n",
       "</pre>\n"
      ],
      "text/plain": [
       "\n",
       "\u001b[1;31m⚠️  CROSSED BOOK DETECTED at timestamp \u001b[0m\u001b[1;31m1759868535.4140673\u001b[0m\u001b[1;31m!\u001b[0m\n"
      ]
     },
     "metadata": {},
     "output_type": "display_data"
    },
    {
     "data": {
      "text/html": [
       "<pre style=\"white-space:pre;overflow-x:auto;line-height:normal;font-family:Menlo,'DejaVu Sans Mono',consolas,'Courier New',monospace\"><span style=\"color: #ff8700; text-decoration-color: #ff8700\">  Best Bid: $</span><span style=\"color: #ff8700; text-decoration-color: #ff8700; font-weight: bold\">10.00</span><span style=\"color: #ff8700; text-decoration-color: #ff8700\"> &gt;= Best Ask: $</span><span style=\"color: #ff8700; text-decoration-color: #ff8700; font-weight: bold\">10.00</span>\n",
       "</pre>\n"
      ],
      "text/plain": [
       "\u001b[38;5;208m  Best Bid: $\u001b[0m\u001b[1;38;5;208m10.00\u001b[0m\u001b[38;5;208m >= Best Ask: $\u001b[0m\u001b[1;38;5;208m10.00\u001b[0m\n"
      ]
     },
     "metadata": {},
     "output_type": "display_data"
    },
    {
     "data": {
      "text/html": [
       "<pre style=\"white-space:pre;overflow-x:auto;line-height:normal;font-family:Menlo,'DejaVu Sans Mono',consolas,'Courier New',monospace\">\n",
       "<span style=\"color: #800000; text-decoration-color: #800000; font-weight: bold\">⚠️  CROSSED BOOK DETECTED at timestamp </span><span style=\"color: #800000; text-decoration-color: #800000; font-weight: bold\">1759868540.1620402</span><span style=\"color: #800000; text-decoration-color: #800000; font-weight: bold\">!</span>\n",
       "</pre>\n"
      ],
      "text/plain": [
       "\n",
       "\u001b[1;31m⚠️  CROSSED BOOK DETECTED at timestamp \u001b[0m\u001b[1;31m1759868540.1620402\u001b[0m\u001b[1;31m!\u001b[0m\n"
      ]
     },
     "metadata": {},
     "output_type": "display_data"
    },
    {
     "data": {
      "text/html": [
       "<pre style=\"white-space:pre;overflow-x:auto;line-height:normal;font-family:Menlo,'DejaVu Sans Mono',consolas,'Courier New',monospace\"><span style=\"color: #ff8700; text-decoration-color: #ff8700\">  Best Bid: $</span><span style=\"color: #ff8700; text-decoration-color: #ff8700; font-weight: bold\">10.00</span><span style=\"color: #ff8700; text-decoration-color: #ff8700\"> &gt;= Best Ask: $</span><span style=\"color: #ff8700; text-decoration-color: #ff8700; font-weight: bold\">10.00</span>\n",
       "</pre>\n"
      ],
      "text/plain": [
       "\u001b[38;5;208m  Best Bid: $\u001b[0m\u001b[1;38;5;208m10.00\u001b[0m\u001b[38;5;208m >= Best Ask: $\u001b[0m\u001b[1;38;5;208m10.00\u001b[0m\n"
      ]
     },
     "metadata": {},
     "output_type": "display_data"
    },
    {
     "data": {
      "text/html": [
       "<pre style=\"white-space:pre;overflow-x:auto;line-height:normal;font-family:Menlo,'DejaVu Sans Mono',consolas,'Courier New',monospace\">\n",
       "<span style=\"color: #800000; text-decoration-color: #800000; font-weight: bold\">⚠️  CROSSED BOOK DETECTED at timestamp </span><span style=\"color: #800000; text-decoration-color: #800000; font-weight: bold\">1759868545.457759</span><span style=\"color: #800000; text-decoration-color: #800000; font-weight: bold\">!</span>\n",
       "</pre>\n"
      ],
      "text/plain": [
       "\n",
       "\u001b[1;31m⚠️  CROSSED BOOK DETECTED at timestamp \u001b[0m\u001b[1;31m1759868545.457759\u001b[0m\u001b[1;31m!\u001b[0m\n"
      ]
     },
     "metadata": {},
     "output_type": "display_data"
    },
    {
     "data": {
      "text/html": [
       "<pre style=\"white-space:pre;overflow-x:auto;line-height:normal;font-family:Menlo,'DejaVu Sans Mono',consolas,'Courier New',monospace\"><span style=\"color: #ff8700; text-decoration-color: #ff8700\">  Best Bid: $</span><span style=\"color: #ff8700; text-decoration-color: #ff8700; font-weight: bold\">10.00</span><span style=\"color: #ff8700; text-decoration-color: #ff8700\"> &gt;= Best Ask: $</span><span style=\"color: #ff8700; text-decoration-color: #ff8700; font-weight: bold\">10.00</span>\n",
       "</pre>\n"
      ],
      "text/plain": [
       "\u001b[38;5;208m  Best Bid: $\u001b[0m\u001b[1;38;5;208m10.00\u001b[0m\u001b[38;5;208m >= Best Ask: $\u001b[0m\u001b[1;38;5;208m10.00\u001b[0m\n"
      ]
     },
     "metadata": {},
     "output_type": "display_data"
    },
    {
     "data": {
      "text/html": [
       "<pre style=\"white-space:pre;overflow-x:auto;line-height:normal;font-family:Menlo,'DejaVu Sans Mono',consolas,'Courier New',monospace\">\n",
       "<span style=\"color: #800000; text-decoration-color: #800000; font-weight: bold\">⚠️  CROSSED BOOK DETECTED at timestamp </span><span style=\"color: #800000; text-decoration-color: #800000; font-weight: bold\">1759868562.5308638</span><span style=\"color: #800000; text-decoration-color: #800000; font-weight: bold\">!</span>\n",
       "</pre>\n"
      ],
      "text/plain": [
       "\n",
       "\u001b[1;31m⚠️  CROSSED BOOK DETECTED at timestamp \u001b[0m\u001b[1;31m1759868562.5308638\u001b[0m\u001b[1;31m!\u001b[0m\n"
      ]
     },
     "metadata": {},
     "output_type": "display_data"
    },
    {
     "data": {
      "text/html": [
       "<pre style=\"white-space:pre;overflow-x:auto;line-height:normal;font-family:Menlo,'DejaVu Sans Mono',consolas,'Courier New',monospace\"><span style=\"color: #ff8700; text-decoration-color: #ff8700\">  Best Bid: $</span><span style=\"color: #ff8700; text-decoration-color: #ff8700; font-weight: bold\">10.00</span><span style=\"color: #ff8700; text-decoration-color: #ff8700\"> &gt;= Best Ask: $</span><span style=\"color: #ff8700; text-decoration-color: #ff8700; font-weight: bold\">10.00</span>\n",
       "</pre>\n"
      ],
      "text/plain": [
       "\u001b[38;5;208m  Best Bid: $\u001b[0m\u001b[1;38;5;208m10.00\u001b[0m\u001b[38;5;208m >= Best Ask: $\u001b[0m\u001b[1;38;5;208m10.00\u001b[0m\n"
      ]
     },
     "metadata": {},
     "output_type": "display_data"
    },
    {
     "data": {
      "text/html": [
       "<pre style=\"white-space:pre;overflow-x:auto;line-height:normal;font-family:Menlo,'DejaVu Sans Mono',consolas,'Courier New',monospace\">\n",
       "<span style=\"color: #800000; text-decoration-color: #800000; font-weight: bold\">⚠️  CROSSED BOOK DETECTED at timestamp </span><span style=\"color: #800000; text-decoration-color: #800000; font-weight: bold\">1759868567.5341454</span><span style=\"color: #800000; text-decoration-color: #800000; font-weight: bold\">!</span>\n",
       "</pre>\n"
      ],
      "text/plain": [
       "\n",
       "\u001b[1;31m⚠️  CROSSED BOOK DETECTED at timestamp \u001b[0m\u001b[1;31m1759868567.5341454\u001b[0m\u001b[1;31m!\u001b[0m\n"
      ]
     },
     "metadata": {},
     "output_type": "display_data"
    },
    {
     "data": {
      "text/html": [
       "<pre style=\"white-space:pre;overflow-x:auto;line-height:normal;font-family:Menlo,'DejaVu Sans Mono',consolas,'Courier New',monospace\"><span style=\"color: #ff8700; text-decoration-color: #ff8700\">  Best Bid: $</span><span style=\"color: #ff8700; text-decoration-color: #ff8700; font-weight: bold\">10.00</span><span style=\"color: #ff8700; text-decoration-color: #ff8700\"> &gt;= Best Ask: $</span><span style=\"color: #ff8700; text-decoration-color: #ff8700; font-weight: bold\">10.00</span>\n",
       "</pre>\n"
      ],
      "text/plain": [
       "\u001b[38;5;208m  Best Bid: $\u001b[0m\u001b[1;38;5;208m10.00\u001b[0m\u001b[38;5;208m >= Best Ask: $\u001b[0m\u001b[1;38;5;208m10.00\u001b[0m\n"
      ]
     },
     "metadata": {},
     "output_type": "display_data"
    },
    {
     "data": {
      "text/html": [
       "<pre style=\"white-space:pre;overflow-x:auto;line-height:normal;font-family:Menlo,'DejaVu Sans Mono',consolas,'Courier New',monospace\">\n",
       "<span style=\"color: #800000; text-decoration-color: #800000; font-weight: bold\">⚠️  CROSSED BOOK DETECTED at timestamp </span><span style=\"color: #800000; text-decoration-color: #800000; font-weight: bold\">1759868576.267902</span><span style=\"color: #800000; text-decoration-color: #800000; font-weight: bold\">!</span>\n",
       "</pre>\n"
      ],
      "text/plain": [
       "\n",
       "\u001b[1;31m⚠️  CROSSED BOOK DETECTED at timestamp \u001b[0m\u001b[1;31m1759868576.267902\u001b[0m\u001b[1;31m!\u001b[0m\n"
      ]
     },
     "metadata": {},
     "output_type": "display_data"
    },
    {
     "data": {
      "text/html": [
       "<pre style=\"white-space:pre;overflow-x:auto;line-height:normal;font-family:Menlo,'DejaVu Sans Mono',consolas,'Courier New',monospace\"><span style=\"color: #ff8700; text-decoration-color: #ff8700\">  Best Bid: $</span><span style=\"color: #ff8700; text-decoration-color: #ff8700; font-weight: bold\">10.00</span><span style=\"color: #ff8700; text-decoration-color: #ff8700\"> &gt;= Best Ask: $</span><span style=\"color: #ff8700; text-decoration-color: #ff8700; font-weight: bold\">10.00</span>\n",
       "</pre>\n"
      ],
      "text/plain": [
       "\u001b[38;5;208m  Best Bid: $\u001b[0m\u001b[1;38;5;208m10.00\u001b[0m\u001b[38;5;208m >= Best Ask: $\u001b[0m\u001b[1;38;5;208m10.00\u001b[0m\n"
      ]
     },
     "metadata": {},
     "output_type": "display_data"
    },
    {
     "data": {
      "text/html": [
       "<pre style=\"white-space:pre;overflow-x:auto;line-height:normal;font-family:Menlo,'DejaVu Sans Mono',consolas,'Courier New',monospace\">\n",
       "<span style=\"color: #800000; text-decoration-color: #800000; font-weight: bold\">⚠️  CROSSED BOOK DETECTED at timestamp </span><span style=\"color: #800000; text-decoration-color: #800000; font-weight: bold\">1759868615.043267</span><span style=\"color: #800000; text-decoration-color: #800000; font-weight: bold\">!</span>\n",
       "</pre>\n"
      ],
      "text/plain": [
       "\n",
       "\u001b[1;31m⚠️  CROSSED BOOK DETECTED at timestamp \u001b[0m\u001b[1;31m1759868615.043267\u001b[0m\u001b[1;31m!\u001b[0m\n"
      ]
     },
     "metadata": {},
     "output_type": "display_data"
    },
    {
     "data": {
      "text/html": [
       "<pre style=\"white-space:pre;overflow-x:auto;line-height:normal;font-family:Menlo,'DejaVu Sans Mono',consolas,'Courier New',monospace\"><span style=\"color: #ff8700; text-decoration-color: #ff8700\">  Best Bid: $</span><span style=\"color: #ff8700; text-decoration-color: #ff8700; font-weight: bold\">10.00</span><span style=\"color: #ff8700; text-decoration-color: #ff8700\"> &gt;= Best Ask: $</span><span style=\"color: #ff8700; text-decoration-color: #ff8700; font-weight: bold\">10.00</span>\n",
       "</pre>\n"
      ],
      "text/plain": [
       "\u001b[38;5;208m  Best Bid: $\u001b[0m\u001b[1;38;5;208m10.00\u001b[0m\u001b[38;5;208m >= Best Ask: $\u001b[0m\u001b[1;38;5;208m10.00\u001b[0m\n"
      ]
     },
     "metadata": {},
     "output_type": "display_data"
    },
    {
     "data": {
      "text/html": [
       "<pre style=\"white-space:pre;overflow-x:auto;line-height:normal;font-family:Menlo,'DejaVu Sans Mono',consolas,'Courier New',monospace\">\n",
       "<span style=\"color: #800000; text-decoration-color: #800000; font-weight: bold\">⚠️  CROSSED BOOK DETECTED at timestamp </span><span style=\"color: #800000; text-decoration-color: #800000; font-weight: bold\">1759868967.297148</span><span style=\"color: #800000; text-decoration-color: #800000; font-weight: bold\">!</span>\n",
       "</pre>\n"
      ],
      "text/plain": [
       "\n",
       "\u001b[1;31m⚠️  CROSSED BOOK DETECTED at timestamp \u001b[0m\u001b[1;31m1759868967.297148\u001b[0m\u001b[1;31m!\u001b[0m\n"
      ]
     },
     "metadata": {},
     "output_type": "display_data"
    },
    {
     "data": {
      "text/html": [
       "<pre style=\"white-space:pre;overflow-x:auto;line-height:normal;font-family:Menlo,'DejaVu Sans Mono',consolas,'Courier New',monospace\"><span style=\"color: #ff8700; text-decoration-color: #ff8700\">  Best Bid: $</span><span style=\"color: #ff8700; text-decoration-color: #ff8700; font-weight: bold\">10.00</span><span style=\"color: #ff8700; text-decoration-color: #ff8700\"> &gt;= Best Ask: $</span><span style=\"color: #ff8700; text-decoration-color: #ff8700; font-weight: bold\">10.00</span>\n",
       "</pre>\n"
      ],
      "text/plain": [
       "\u001b[38;5;208m  Best Bid: $\u001b[0m\u001b[1;38;5;208m10.00\u001b[0m\u001b[38;5;208m >= Best Ask: $\u001b[0m\u001b[1;38;5;208m10.00\u001b[0m\n"
      ]
     },
     "metadata": {},
     "output_type": "display_data"
    },
    {
     "data": {
      "text/html": [
       "<pre style=\"white-space:pre;overflow-x:auto;line-height:normal;font-family:Menlo,'DejaVu Sans Mono',consolas,'Courier New',monospace\">\n",
       "<span style=\"color: #800000; text-decoration-color: #800000; font-weight: bold\">⚠️  CROSSED BOOK DETECTED at timestamp </span><span style=\"color: #800000; text-decoration-color: #800000; font-weight: bold\">1759869069.4104345</span><span style=\"color: #800000; text-decoration-color: #800000; font-weight: bold\">!</span>\n",
       "</pre>\n"
      ],
      "text/plain": [
       "\n",
       "\u001b[1;31m⚠️  CROSSED BOOK DETECTED at timestamp \u001b[0m\u001b[1;31m1759869069.4104345\u001b[0m\u001b[1;31m!\u001b[0m\n"
      ]
     },
     "metadata": {},
     "output_type": "display_data"
    },
    {
     "data": {
      "text/html": [
       "<pre style=\"white-space:pre;overflow-x:auto;line-height:normal;font-family:Menlo,'DejaVu Sans Mono',consolas,'Courier New',monospace\"><span style=\"color: #ff8700; text-decoration-color: #ff8700\">  Best Bid: $</span><span style=\"color: #ff8700; text-decoration-color: #ff8700; font-weight: bold\">10.00</span><span style=\"color: #ff8700; text-decoration-color: #ff8700\"> &gt;= Best Ask: $</span><span style=\"color: #ff8700; text-decoration-color: #ff8700; font-weight: bold\">10.00</span>\n",
       "</pre>\n"
      ],
      "text/plain": [
       "\u001b[38;5;208m  Best Bid: $\u001b[0m\u001b[1;38;5;208m10.00\u001b[0m\u001b[38;5;208m >= Best Ask: $\u001b[0m\u001b[1;38;5;208m10.00\u001b[0m\n"
      ]
     },
     "metadata": {},
     "output_type": "display_data"
    },
    {
     "data": {
      "text/html": [
       "<pre style=\"white-space:pre;overflow-x:auto;line-height:normal;font-family:Menlo,'DejaVu Sans Mono',consolas,'Courier New',monospace\">\n",
       "<span style=\"color: #800000; text-decoration-color: #800000; font-weight: bold\">⚠️  CROSSED BOOK DETECTED at timestamp </span><span style=\"color: #800000; text-decoration-color: #800000; font-weight: bold\">1759869421.2538884</span><span style=\"color: #800000; text-decoration-color: #800000; font-weight: bold\">!</span>\n",
       "</pre>\n"
      ],
      "text/plain": [
       "\n",
       "\u001b[1;31m⚠️  CROSSED BOOK DETECTED at timestamp \u001b[0m\u001b[1;31m1759869421.2538884\u001b[0m\u001b[1;31m!\u001b[0m\n"
      ]
     },
     "metadata": {},
     "output_type": "display_data"
    },
    {
     "data": {
      "text/html": [
       "<pre style=\"white-space:pre;overflow-x:auto;line-height:normal;font-family:Menlo,'DejaVu Sans Mono',consolas,'Courier New',monospace\"><span style=\"color: #ff8700; text-decoration-color: #ff8700\">  Best Bid: $</span><span style=\"color: #ff8700; text-decoration-color: #ff8700; font-weight: bold\">10.00</span><span style=\"color: #ff8700; text-decoration-color: #ff8700\"> &gt;= Best Ask: $</span><span style=\"color: #ff8700; text-decoration-color: #ff8700; font-weight: bold\">10.00</span>\n",
       "</pre>\n"
      ],
      "text/plain": [
       "\u001b[38;5;208m  Best Bid: $\u001b[0m\u001b[1;38;5;208m10.00\u001b[0m\u001b[38;5;208m >= Best Ask: $\u001b[0m\u001b[1;38;5;208m10.00\u001b[0m\n"
      ]
     },
     "metadata": {},
     "output_type": "display_data"
    },
    {
     "data": {
      "text/html": [
       "<pre style=\"white-space:pre;overflow-x:auto;line-height:normal;font-family:Menlo,'DejaVu Sans Mono',consolas,'Courier New',monospace\">\n",
       "<span style=\"color: #800000; text-decoration-color: #800000; font-weight: bold\">⚠️  CROSSED BOOK DETECTED at timestamp </span><span style=\"color: #800000; text-decoration-color: #800000; font-weight: bold\">1759869421.5100951</span><span style=\"color: #800000; text-decoration-color: #800000; font-weight: bold\">!</span>\n",
       "</pre>\n"
      ],
      "text/plain": [
       "\n",
       "\u001b[1;31m⚠️  CROSSED BOOK DETECTED at timestamp \u001b[0m\u001b[1;31m1759869421.5100951\u001b[0m\u001b[1;31m!\u001b[0m\n"
      ]
     },
     "metadata": {},
     "output_type": "display_data"
    },
    {
     "data": {
      "text/html": [
       "<pre style=\"white-space:pre;overflow-x:auto;line-height:normal;font-family:Menlo,'DejaVu Sans Mono',consolas,'Courier New',monospace\"><span style=\"color: #ff8700; text-decoration-color: #ff8700\">  Best Bid: $</span><span style=\"color: #ff8700; text-decoration-color: #ff8700; font-weight: bold\">10.00</span><span style=\"color: #ff8700; text-decoration-color: #ff8700\"> &gt;= Best Ask: $</span><span style=\"color: #ff8700; text-decoration-color: #ff8700; font-weight: bold\">10.00</span>\n",
       "</pre>\n"
      ],
      "text/plain": [
       "\u001b[38;5;208m  Best Bid: $\u001b[0m\u001b[1;38;5;208m10.00\u001b[0m\u001b[38;5;208m >= Best Ask: $\u001b[0m\u001b[1;38;5;208m10.00\u001b[0m\n"
      ]
     },
     "metadata": {},
     "output_type": "display_data"
    },
    {
     "data": {
      "text/html": [
       "<pre style=\"white-space:pre;overflow-x:auto;line-height:normal;font-family:Menlo,'DejaVu Sans Mono',consolas,'Courier New',monospace\">\n",
       "<span style=\"color: #008080; text-decoration-color: #008080; font-weight: bold\">=== Order Book after FINAL orders ===</span>\n",
       "</pre>\n"
      ],
      "text/plain": [
       "\n",
       "\u001b[1;36m=== Order Book after FINAL orders ===\u001b[0m\n"
      ]
     },
     "metadata": {},
     "output_type": "display_data"
    },
    {
     "data": {
      "text/html": [
       "<pre style=\"white-space:pre;overflow-x:auto;line-height:normal;font-family:Menlo,'DejaVu Sans Mono',consolas,'Courier New',monospace\">┏━━━━━━━━━━━┳━━━━━━━━━━━━━━┳━━━━━━━━━━━┳━━━━━━━━━━━━━━┓\n",
       "┃<span style=\"color: #800080; text-decoration-color: #800080; font-weight: bold\"> Bid Price </span>┃<span style=\"color: #800080; text-decoration-color: #800080; font-weight: bold\"> Bid Quantity </span>┃<span style=\"color: #800080; text-decoration-color: #800080; font-weight: bold\"> Ask Price </span>┃<span style=\"color: #800080; text-decoration-color: #800080; font-weight: bold\"> Ask Quantity </span>┃\n",
       "┡━━━━━━━━━━━╇━━━━━━━━━━━━━━╇━━━━━━━━━━━╇━━━━━━━━━━━━━━┩\n",
       "│<span style=\"color: #008080; text-decoration-color: #008080\">     10.00 </span>│<span style=\"color: #008080; text-decoration-color: #008080\">          190 </span>│<span style=\"color: #800080; text-decoration-color: #800080\">     11.00 </span>│<span style=\"color: #800080; text-decoration-color: #800080\">           81 </span>│\n",
       "│<span style=\"color: #008080; text-decoration-color: #008080\">      9.00 </span>│<span style=\"color: #008080; text-decoration-color: #008080\">          228 </span>│<span style=\"color: #800080; text-decoration-color: #800080\">     12.00 </span>│<span style=\"color: #800080; text-decoration-color: #800080\">          510 </span>│\n",
       "│<span style=\"color: #008080; text-decoration-color: #008080\">      8.00 </span>│<span style=\"color: #008080; text-decoration-color: #008080\">           25 </span>│<span style=\"color: #800080; text-decoration-color: #800080\">     13.00 </span>│<span style=\"color: #800080; text-decoration-color: #800080\">          155 </span>│\n",
       "│<span style=\"color: #008080; text-decoration-color: #008080\">      7.00 </span>│<span style=\"color: #008080; text-decoration-color: #008080\">          130 </span>│<span style=\"color: #800080; text-decoration-color: #800080\">     15.00 </span>│<span style=\"color: #800080; text-decoration-color: #800080\">           50 </span>│\n",
       "│<span style=\"color: #008080; text-decoration-color: #008080\">           </span>│<span style=\"color: #008080; text-decoration-color: #008080\">              </span>│<span style=\"color: #800080; text-decoration-color: #800080\">     50.00 </span>│<span style=\"color: #800080; text-decoration-color: #800080\">           11 </span>│\n",
       "└───────────┴──────────────┴───────────┴──────────────┘\n",
       "</pre>\n"
      ],
      "text/plain": [
       "┏━━━━━━━━━━━┳━━━━━━━━━━━━━━┳━━━━━━━━━━━┳━━━━━━━━━━━━━━┓\n",
       "┃\u001b[1;35m \u001b[0m\u001b[1;35mBid Price\u001b[0m\u001b[1;35m \u001b[0m┃\u001b[1;35m \u001b[0m\u001b[1;35mBid Quantity\u001b[0m\u001b[1;35m \u001b[0m┃\u001b[1;35m \u001b[0m\u001b[1;35mAsk Price\u001b[0m\u001b[1;35m \u001b[0m┃\u001b[1;35m \u001b[0m\u001b[1;35mAsk Quantity\u001b[0m\u001b[1;35m \u001b[0m┃\n",
       "┡━━━━━━━━━━━╇━━━━━━━━━━━━━━╇━━━━━━━━━━━╇━━━━━━━━━━━━━━┩\n",
       "│\u001b[36m \u001b[0m\u001b[36m    10.00\u001b[0m\u001b[36m \u001b[0m│\u001b[36m \u001b[0m\u001b[36m         190\u001b[0m\u001b[36m \u001b[0m│\u001b[35m \u001b[0m\u001b[35m    11.00\u001b[0m\u001b[35m \u001b[0m│\u001b[35m \u001b[0m\u001b[35m          81\u001b[0m\u001b[35m \u001b[0m│\n",
       "│\u001b[36m \u001b[0m\u001b[36m     9.00\u001b[0m\u001b[36m \u001b[0m│\u001b[36m \u001b[0m\u001b[36m         228\u001b[0m\u001b[36m \u001b[0m│\u001b[35m \u001b[0m\u001b[35m    12.00\u001b[0m\u001b[35m \u001b[0m│\u001b[35m \u001b[0m\u001b[35m         510\u001b[0m\u001b[35m \u001b[0m│\n",
       "│\u001b[36m \u001b[0m\u001b[36m     8.00\u001b[0m\u001b[36m \u001b[0m│\u001b[36m \u001b[0m\u001b[36m          25\u001b[0m\u001b[36m \u001b[0m│\u001b[35m \u001b[0m\u001b[35m    13.00\u001b[0m\u001b[35m \u001b[0m│\u001b[35m \u001b[0m\u001b[35m         155\u001b[0m\u001b[35m \u001b[0m│\n",
       "│\u001b[36m \u001b[0m\u001b[36m     7.00\u001b[0m\u001b[36m \u001b[0m│\u001b[36m \u001b[0m\u001b[36m         130\u001b[0m\u001b[36m \u001b[0m│\u001b[35m \u001b[0m\u001b[35m    15.00\u001b[0m\u001b[35m \u001b[0m│\u001b[35m \u001b[0m\u001b[35m          50\u001b[0m\u001b[35m \u001b[0m│\n",
       "│\u001b[36m \u001b[0m\u001b[36m         \u001b[0m\u001b[36m \u001b[0m│\u001b[36m \u001b[0m\u001b[36m            \u001b[0m\u001b[36m \u001b[0m│\u001b[35m \u001b[0m\u001b[35m    50.00\u001b[0m\u001b[35m \u001b[0m│\u001b[35m \u001b[0m\u001b[35m          11\u001b[0m\u001b[35m \u001b[0m│\n",
       "└───────────┴──────────────┴───────────┴──────────────┘\n"
      ]
     },
     "metadata": {},
     "output_type": "display_data"
    },
    {
     "data": {
      "text/html": [
       "<pre style=\"white-space:pre;overflow-x:auto;line-height:normal;font-family:Menlo,'DejaVu Sans Mono',consolas,'Courier New',monospace\">\n",
       "</pre>\n"
      ],
      "text/plain": [
       "\n"
      ]
     },
     "metadata": {},
     "output_type": "display_data"
    },
    {
     "name": "stderr",
     "output_type": "stream",
     "text": [
      "Processing orders: 100%|██████████| 248/248 [00:00<00:00, 6606.63it/s]\n",
      "\n"
     ]
    },
    {
     "data": {
      "text/html": [
       "<pre style=\"white-space:pre;overflow-x:auto;line-height:normal;font-family:Menlo,'DejaVu Sans Mono',consolas,'Courier New',monospace\">\n",
       "<span style=\"color: #008080; text-decoration-color: #008080; font-weight: bold\">=== ALL EXECUTED TRADES ===</span>\n",
       "</pre>\n"
      ],
      "text/plain": [
       "\n",
       "\u001b[1;36m=== ALL EXECUTED TRADES ===\u001b[0m\n"
      ]
     },
     "metadata": {},
     "output_type": "display_data"
    },
    {
     "data": {
      "text/html": [
       "<pre style=\"white-space:pre;overflow-x:auto;line-height:normal;font-family:Menlo,'DejaVu Sans Mono',consolas,'Courier New',monospace\"><span style=\"font-weight: bold\">Total number of trades: </span><span style=\"color: #008080; text-decoration-color: #008080; font-weight: bold\">204</span>\n",
       "\n",
       "</pre>\n"
      ],
      "text/plain": [
       "\u001b[1mTotal number of trades: \u001b[0m\u001b[1;36m204\u001b[0m\n",
       "\n"
      ]
     },
     "metadata": {},
     "output_type": "display_data"
    },
    {
     "data": {
      "text/html": [
       "<pre style=\"white-space:pre;overflow-x:auto;line-height:normal;font-family:Menlo,'DejaVu Sans Mono',consolas,'Courier New',monospace\">┏━━━━━━━━━┳━━━━━━━━━━┳━━━━━━━━┳━━━━━━━━━━━━━┳━━━━━━━━━━━━━━━━━━━━━━━━┳━━━━━━━━━━━━━┳━━━━━━━━━━━━━━━━━━━━━━━┳━━━━━━┓\n",
       "┃<span style=\"color: #800080; text-decoration-color: #800080; font-weight: bold\"> Trade # </span>┃<span style=\"color: #800080; text-decoration-color: #800080; font-weight: bold\"> Quantity </span>┃<span style=\"color: #800080; text-decoration-color: #800080; font-weight: bold\">  Price </span>┃<span style=\"color: #800080; text-decoration-color: #800080; font-weight: bold\"> Maker Group </span>┃<span style=\"color: #800080; text-decoration-color: #800080; font-weight: bold\"> Maker UUID             </span>┃<span style=\"color: #800080; text-decoration-color: #800080; font-weight: bold\"> Taker Group </span>┃<span style=\"color: #800080; text-decoration-color: #800080; font-weight: bold\"> Taker UUID            </span>┃<span style=\"color: #800080; text-decoration-color: #800080; font-weight: bold\"> Side </span>┃\n",
       "┡━━━━━━━━━╇━━━━━━━━━━╇━━━━━━━━╇━━━━━━━━━━━━━╇━━━━━━━━━━━━━━━━━━━━━━━━╇━━━━━━━━━━━━━╇━━━━━━━━━━━━━━━━━━━━━━━╇━━━━━━┩\n",
       "│<span style=\"color: #008080; text-decoration-color: #008080\">       1 </span>│       30 │ $11.00 │<span style=\"color: #008000; text-decoration-color: #008000\"> 15          </span>│<span style=\"color: #7f7f7f; text-decoration-color: #7f7f7f\"> d8db39d8-d3d6-4e2c-87… </span>│<span style=\"color: #000080; text-decoration-color: #000080\"> 16          </span>│<span style=\"color: #7f7f7f; text-decoration-color: #7f7f7f\"> b4bb277a-1a92-4698-8… </span>│ sell │\n",
       "│<span style=\"color: #008080; text-decoration-color: #008080\">       2 </span>│       30 │ $11.00 │<span style=\"color: #008000; text-decoration-color: #008000\"> 15          </span>│<span style=\"color: #7f7f7f; text-decoration-color: #7f7f7f\"> d8db39d8-d3d6-4e2c-87… </span>│<span style=\"color: #000080; text-decoration-color: #000080\"> 16          </span>│<span style=\"color: #7f7f7f; text-decoration-color: #7f7f7f\"> b4bb277a-1a92-4698-8… </span>│ sell │\n",
       "│<span style=\"color: #008080; text-decoration-color: #008080\">       3 </span>│       10 │ $11.00 │<span style=\"color: #008000; text-decoration-color: #008000\"> 15          </span>│<span style=\"color: #7f7f7f; text-decoration-color: #7f7f7f\"> d8db39d8-d3d6-4e2c-87… </span>│<span style=\"color: #000080; text-decoration-color: #000080\"> 6           </span>│<span style=\"color: #7f7f7f; text-decoration-color: #7f7f7f\"> 4a42da52-9be1-40d8-8… </span>│ sell │\n",
       "│<span style=\"color: #008080; text-decoration-color: #008080\">       4 </span>│       10 │ $11.00 │<span style=\"color: #008000; text-decoration-color: #008000\"> 15          </span>│<span style=\"color: #7f7f7f; text-decoration-color: #7f7f7f\"> d8db39d8-d3d6-4e2c-87… </span>│<span style=\"color: #000080; text-decoration-color: #000080\"> 6           </span>│<span style=\"color: #7f7f7f; text-decoration-color: #7f7f7f\"> 4a42da52-9be1-40d8-8… </span>│ sell │\n",
       "│<span style=\"color: #008080; text-decoration-color: #008080\">       5 </span>│       50 │ $10.00 │<span style=\"color: #008000; text-decoration-color: #008000\"> 5           </span>│<span style=\"color: #7f7f7f; text-decoration-color: #7f7f7f\"> 361ef7c2-e97d-4b86-bf… </span>│<span style=\"color: #000080; text-decoration-color: #000080\"> 10          </span>│<span style=\"color: #7f7f7f; text-decoration-color: #7f7f7f\"> 5ecae8a0-42dd-45f1-a… </span>│ sell │\n",
       "│<span style=\"color: #008080; text-decoration-color: #008080\">       6 </span>│       30 │ $10.00 │<span style=\"color: #008000; text-decoration-color: #008000\"> 5           </span>│<span style=\"color: #7f7f7f; text-decoration-color: #7f7f7f\"> 361ef7c2-e97d-4b86-bf… </span>│<span style=\"color: #000080; text-decoration-color: #000080\"> 10          </span>│<span style=\"color: #7f7f7f; text-decoration-color: #7f7f7f\"> 5ecae8a0-42dd-45f1-a… </span>│ sell │\n",
       "│<span style=\"color: #008080; text-decoration-color: #008080\">       7 </span>│       20 │ $11.00 │<span style=\"color: #008000; text-decoration-color: #008000\"> 10          </span>│<span style=\"color: #7f7f7f; text-decoration-color: #7f7f7f\"> 5ecae8a0-42dd-45f1-ad… </span>│<span style=\"color: #000080; text-decoration-color: #000080\"> 3           </span>│<span style=\"color: #7f7f7f; text-decoration-color: #7f7f7f\"> 182320fb-3475-49de-b… </span>│ buy  │\n",
       "│<span style=\"color: #008080; text-decoration-color: #008080\">       8 </span>│        5 │ $12.00 │<span style=\"color: #008000; text-decoration-color: #008000\"> 16          </span>│<span style=\"color: #7f7f7f; text-decoration-color: #7f7f7f\"> b4bb277a-1a92-4698-89… </span>│<span style=\"color: #000080; text-decoration-color: #000080\"> 3           </span>│<span style=\"color: #7f7f7f; text-decoration-color: #7f7f7f\"> 182320fb-3475-49de-b… </span>│ buy  │\n",
       "│<span style=\"color: #008080; text-decoration-color: #008080\">       9 </span>│       20 │ $11.00 │<span style=\"color: #008000; text-decoration-color: #008000\"> 3           </span>│<span style=\"color: #7f7f7f; text-decoration-color: #7f7f7f\"> 182320fb-3475-49de-b0… </span>│<span style=\"color: #000080; text-decoration-color: #000080\"> 2           </span>│<span style=\"color: #7f7f7f; text-decoration-color: #7f7f7f\"> 99151189-cb6f-457c-8… </span>│ sell │\n",
       "│<span style=\"color: #008080; text-decoration-color: #008080\">      10 </span>│       20 │ $11.00 │<span style=\"color: #008000; text-decoration-color: #008000\"> 3           </span>│<span style=\"color: #7f7f7f; text-decoration-color: #7f7f7f\"> 182320fb-3475-49de-b0… </span>│<span style=\"color: #000080; text-decoration-color: #000080\"> 12          </span>│<span style=\"color: #7f7f7f; text-decoration-color: #7f7f7f\"> a4107c07-6a0d-4710-8… </span>│ sell │\n",
       "│<span style=\"color: #008080; text-decoration-color: #008080\">      11 </span>│       10 │ $11.00 │<span style=\"color: #008000; text-decoration-color: #008000\"> 3           </span>│<span style=\"color: #7f7f7f; text-decoration-color: #7f7f7f\"> 182320fb-3475-49de-b0… </span>│<span style=\"color: #000080; text-decoration-color: #000080\"> 2           </span>│<span style=\"color: #7f7f7f; text-decoration-color: #7f7f7f\"> 99151189-cb6f-457c-8… </span>│ sell │\n",
       "│<span style=\"color: #008080; text-decoration-color: #008080\">      12 </span>│       10 │ $11.00 │<span style=\"color: #008000; text-decoration-color: #008000\"> 17          </span>│<span style=\"color: #7f7f7f; text-decoration-color: #7f7f7f\"> b698bca8-0c4e-4c78-b9… </span>│<span style=\"color: #000080; text-decoration-color: #000080\"> 2           </span>│<span style=\"color: #7f7f7f; text-decoration-color: #7f7f7f\"> 99151189-cb6f-457c-8… </span>│ sell │\n",
       "│<span style=\"color: #008080; text-decoration-color: #008080\">      13 </span>│       20 │ $11.00 │<span style=\"color: #008000; text-decoration-color: #008000\"> 17          </span>│<span style=\"color: #7f7f7f; text-decoration-color: #7f7f7f\"> b698bca8-0c4e-4c78-b9… </span>│<span style=\"color: #000080; text-decoration-color: #000080\"> 12          </span>│<span style=\"color: #7f7f7f; text-decoration-color: #7f7f7f\"> a4107c07-6a0d-4710-8… </span>│ sell │\n",
       "│<span style=\"color: #008080; text-decoration-color: #008080\">      14 </span>│        5 │ $12.00 │<span style=\"color: #008000; text-decoration-color: #008000\"> 16          </span>│<span style=\"color: #7f7f7f; text-decoration-color: #7f7f7f\"> b4bb277a-1a92-4698-89… </span>│<span style=\"color: #000080; text-decoration-color: #000080\"> 17          </span>│<span style=\"color: #7f7f7f; text-decoration-color: #7f7f7f\"> b698bca8-0c4e-4c78-b… </span>│ buy  │\n",
       "│<span style=\"color: #008080; text-decoration-color: #008080\">      15 </span>│       10 │ $11.00 │<span style=\"color: #008000; text-decoration-color: #008000\"> 17          </span>│<span style=\"color: #7f7f7f; text-decoration-color: #7f7f7f\"> b698bca8-0c4e-4c78-b9… </span>│<span style=\"color: #000080; text-decoration-color: #000080\"> 2           </span>│<span style=\"color: #7f7f7f; text-decoration-color: #7f7f7f\"> 99151189-cb6f-457c-8… </span>│ sell │\n",
       "│<span style=\"color: #008080; text-decoration-color: #008080\">      16 </span>│       20 │ $11.00 │<span style=\"color: #008000; text-decoration-color: #008000\"> 13          </span>│<span style=\"color: #7f7f7f; text-decoration-color: #7f7f7f\"> fa8a9258-6206-48fc-81… </span>│<span style=\"color: #000080; text-decoration-color: #000080\"> 2           </span>│<span style=\"color: #7f7f7f; text-decoration-color: #7f7f7f\"> 99151189-cb6f-457c-8… </span>│ sell │\n",
       "│<span style=\"color: #008080; text-decoration-color: #008080\">      17 </span>│       10 │ $10.00 │<span style=\"color: #008000; text-decoration-color: #008000\"> 17          </span>│<span style=\"color: #7f7f7f; text-decoration-color: #7f7f7f\"> b698bca8-0c4e-4c78-b9… </span>│<span style=\"color: #000080; text-decoration-color: #000080\"> 2           </span>│<span style=\"color: #7f7f7f; text-decoration-color: #7f7f7f\"> 99151189-cb6f-457c-8… </span>│ sell │\n",
       "│<span style=\"color: #008080; text-decoration-color: #008080\">      18 </span>│       39 │ $10.00 │<span style=\"color: #008000; text-decoration-color: #008000\"> 17          </span>│<span style=\"color: #7f7f7f; text-decoration-color: #7f7f7f\"> b698bca8-0c4e-4c78-b9… </span>│<span style=\"color: #000080; text-decoration-color: #000080\"> 2           </span>│<span style=\"color: #7f7f7f; text-decoration-color: #7f7f7f\"> 99151189-cb6f-457c-8… </span>│ sell │\n",
       "│<span style=\"color: #008080; text-decoration-color: #008080\">      19 </span>│       18 │ $11.00 │<span style=\"color: #008000; text-decoration-color: #008000\"> 12          </span>│<span style=\"color: #7f7f7f; text-decoration-color: #7f7f7f\"> a4107c07-6a0d-4710-89… </span>│<span style=\"color: #000080; text-decoration-color: #000080\"> 5           </span>│<span style=\"color: #7f7f7f; text-decoration-color: #7f7f7f\"> 361ef7c2-e97d-4b86-b… </span>│ buy  │\n",
       "│<span style=\"color: #008080; text-decoration-color: #008080\">      20 </span>│        1 │ $10.00 │<span style=\"color: #008000; text-decoration-color: #008000\"> 17          </span>│<span style=\"color: #7f7f7f; text-decoration-color: #7f7f7f\"> b698bca8-0c4e-4c78-b9… </span>│<span style=\"color: #000080; text-decoration-color: #000080\"> 18          </span>│<span style=\"color: #7f7f7f; text-decoration-color: #7f7f7f\"> 0dc93dfc-ebf7-47de-b… </span>│ sell │\n",
       "│<span style=\"color: #008080; text-decoration-color: #008080\">      21 </span>│       25 │ $10.00 │<span style=\"color: #008000; text-decoration-color: #008000\"> 3           </span>│<span style=\"color: #7f7f7f; text-decoration-color: #7f7f7f\"> 182320fb-3475-49de-b0… </span>│<span style=\"color: #000080; text-decoration-color: #000080\"> 18          </span>│<span style=\"color: #7f7f7f; text-decoration-color: #7f7f7f\"> 0dc93dfc-ebf7-47de-b… </span>│ sell │\n",
       "│<span style=\"color: #008080; text-decoration-color: #008080\">      22 </span>│        4 │ $10.00 │<span style=\"color: #008000; text-decoration-color: #008000\"> 11          </span>│<span style=\"color: #7f7f7f; text-decoration-color: #7f7f7f\"> 061bc19c-3e99-4c5a-a7… </span>│<span style=\"color: #000080; text-decoration-color: #000080\"> 18          </span>│<span style=\"color: #7f7f7f; text-decoration-color: #7f7f7f\"> 0dc93dfc-ebf7-47de-b… </span>│ sell │\n",
       "│<span style=\"color: #008080; text-decoration-color: #008080\">      23 </span>│        8 │ $11.00 │<span style=\"color: #008000; text-decoration-color: #008000\"> 12          </span>│<span style=\"color: #7f7f7f; text-decoration-color: #7f7f7f\"> a4107c07-6a0d-4710-89… </span>│<span style=\"color: #000080; text-decoration-color: #000080\"> 1           </span>│<span style=\"color: #7f7f7f; text-decoration-color: #7f7f7f\"> f8d93e64-87de-4a47-b… </span>│ buy  │\n",
       "│<span style=\"color: #008080; text-decoration-color: #008080\">      24 </span>│       20 │ $10.00 │<span style=\"color: #008000; text-decoration-color: #008000\"> 11          </span>│<span style=\"color: #7f7f7f; text-decoration-color: #7f7f7f\"> 061bc19c-3e99-4c5a-a7… </span>│<span style=\"color: #000080; text-decoration-color: #000080\"> 4           </span>│<span style=\"color: #7f7f7f; text-decoration-color: #7f7f7f\"> 25a6b711-b285-483f-9… </span>│ sell │\n",
       "│<span style=\"color: #008080; text-decoration-color: #008080\">      25 </span>│        3 │ $11.00 │<span style=\"color: #008000; text-decoration-color: #008000\"> 12          </span>│<span style=\"color: #7f7f7f; text-decoration-color: #7f7f7f\"> a4107c07-6a0d-4710-89… </span>│<span style=\"color: #000080; text-decoration-color: #000080\"> 1           </span>│<span style=\"color: #7f7f7f; text-decoration-color: #7f7f7f\"> f8d93e64-87de-4a47-b… </span>│ buy  │\n",
       "│<span style=\"color: #008080; text-decoration-color: #008080\">      26 </span>│       30 │ $10.00 │<span style=\"color: #008000; text-decoration-color: #008000\"> 11          </span>│<span style=\"color: #7f7f7f; text-decoration-color: #7f7f7f\"> 061bc19c-3e99-4c5a-a7… </span>│<span style=\"color: #000080; text-decoration-color: #000080\"> 20          </span>│<span style=\"color: #7f7f7f; text-decoration-color: #7f7f7f\"> 6643233d-7499-4b7a-b… </span>│ sell │\n",
       "│<span style=\"color: #008080; text-decoration-color: #008080\">      27 </span>│       46 │ $10.00 │<span style=\"color: #008000; text-decoration-color: #008000\"> 11          </span>│<span style=\"color: #7f7f7f; text-decoration-color: #7f7f7f\"> 061bc19c-3e99-4c5a-a7… </span>│<span style=\"color: #000080; text-decoration-color: #000080\"> 5           </span>│<span style=\"color: #7f7f7f; text-decoration-color: #7f7f7f\"> 361ef7c2-e97d-4b86-b… </span>│ sell │\n",
       "│<span style=\"color: #008080; text-decoration-color: #008080\">      28 </span>│       40 │ $10.00 │<span style=\"color: #008000; text-decoration-color: #008000\"> 7           </span>│<span style=\"color: #7f7f7f; text-decoration-color: #7f7f7f\"> d1a48546-375f-49f9-b8… </span>│<span style=\"color: #000080; text-decoration-color: #000080\"> 5           </span>│<span style=\"color: #7f7f7f; text-decoration-color: #7f7f7f\"> 361ef7c2-e97d-4b86-b… </span>│ sell │\n",
       "│<span style=\"color: #008080; text-decoration-color: #008080\">      29 </span>│       20 │ $10.00 │<span style=\"color: #008000; text-decoration-color: #008000\"> 13          </span>│<span style=\"color: #7f7f7f; text-decoration-color: #7f7f7f\"> fa8a9258-6206-48fc-81… </span>│<span style=\"color: #000080; text-decoration-color: #000080\"> 5           </span>│<span style=\"color: #7f7f7f; text-decoration-color: #7f7f7f\"> 361ef7c2-e97d-4b86-b… </span>│ sell │\n",
       "│<span style=\"color: #008080; text-decoration-color: #008080\">      30 </span>│       50 │ $10.00 │<span style=\"color: #008000; text-decoration-color: #008000\"> 9           </span>│<span style=\"color: #7f7f7f; text-decoration-color: #7f7f7f\"> 58feba90-005f-43d5-93… </span>│<span style=\"color: #000080; text-decoration-color: #000080\"> 5           </span>│<span style=\"color: #7f7f7f; text-decoration-color: #7f7f7f\"> 361ef7c2-e97d-4b86-b… </span>│ sell │\n",
       "│<span style=\"color: #008080; text-decoration-color: #008080\">      31 </span>│       10 │ $10.00 │<span style=\"color: #008000; text-decoration-color: #008000\"> 5           </span>│<span style=\"color: #7f7f7f; text-decoration-color: #7f7f7f\"> 361ef7c2-e97d-4b86-bf… </span>│<span style=\"color: #000080; text-decoration-color: #000080\"> 16          </span>│<span style=\"color: #7f7f7f; text-decoration-color: #7f7f7f\"> b4bb277a-1a92-4698-8… </span>│ buy  │\n",
       "│<span style=\"color: #008080; text-decoration-color: #008080\">      32 </span>│       14 │ $10.00 │<span style=\"color: #008000; text-decoration-color: #008000\"> 5           </span>│<span style=\"color: #7f7f7f; text-decoration-color: #7f7f7f\"> 361ef7c2-e97d-4b86-bf… </span>│<span style=\"color: #000080; text-decoration-color: #000080\"> 14          </span>│<span style=\"color: #7f7f7f; text-decoration-color: #7f7f7f\"> 0097b91e-d691-4cae-8… </span>│ buy  │\n",
       "│<span style=\"color: #008080; text-decoration-color: #008080\">      33 </span>│       26 │ $10.00 │<span style=\"color: #008000; text-decoration-color: #008000\"> 11          </span>│<span style=\"color: #7f7f7f; text-decoration-color: #7f7f7f\"> 061bc19c-3e99-4c5a-a7… </span>│<span style=\"color: #000080; text-decoration-color: #000080\"> 14          </span>│<span style=\"color: #7f7f7f; text-decoration-color: #7f7f7f\"> 0097b91e-d691-4cae-8… </span>│ buy  │\n",
       "│<span style=\"color: #008080; text-decoration-color: #008080\">      34 </span>│       30 │ $10.00 │<span style=\"color: #008000; text-decoration-color: #008000\"> 11          </span>│<span style=\"color: #7f7f7f; text-decoration-color: #7f7f7f\"> 061bc19c-3e99-4c5a-a7… </span>│<span style=\"color: #000080; text-decoration-color: #000080\"> 14          </span>│<span style=\"color: #7f7f7f; text-decoration-color: #7f7f7f\"> 0097b91e-d691-4cae-8… </span>│ buy  │\n",
       "│<span style=\"color: #008080; text-decoration-color: #008080\">      35 </span>│       50 │ $10.00 │<span style=\"color: #008000; text-decoration-color: #008000\"> 11          </span>│<span style=\"color: #7f7f7f; text-decoration-color: #7f7f7f\"> 061bc19c-3e99-4c5a-a7… </span>│<span style=\"color: #000080; text-decoration-color: #000080\"> 2           </span>│<span style=\"color: #7f7f7f; text-decoration-color: #7f7f7f\"> 99151189-cb6f-457c-8… </span>│ buy  │\n",
       "│<span style=\"color: #008080; text-decoration-color: #008080\">      36 </span>│       48 │ $10.00 │<span style=\"color: #008000; text-decoration-color: #008000\"> 11          </span>│<span style=\"color: #7f7f7f; text-decoration-color: #7f7f7f\"> 061bc19c-3e99-4c5a-a7… </span>│<span style=\"color: #000080; text-decoration-color: #000080\"> 2           </span>│<span style=\"color: #7f7f7f; text-decoration-color: #7f7f7f\"> 99151189-cb6f-457c-8… </span>│ buy  │\n",
       "│<span style=\"color: #008080; text-decoration-color: #008080\">      37 </span>│        2 │ $10.00 │<span style=\"color: #008000; text-decoration-color: #008000\"> 3           </span>│<span style=\"color: #7f7f7f; text-decoration-color: #7f7f7f\"> 182320fb-3475-49de-b0… </span>│<span style=\"color: #000080; text-decoration-color: #000080\"> 2           </span>│<span style=\"color: #7f7f7f; text-decoration-color: #7f7f7f\"> 99151189-cb6f-457c-8… </span>│ buy  │\n",
       "│<span style=\"color: #008080; text-decoration-color: #008080\">      38 </span>│       60 │ $10.00 │<span style=\"color: #008000; text-decoration-color: #008000\"> 3           </span>│<span style=\"color: #7f7f7f; text-decoration-color: #7f7f7f\"> 182320fb-3475-49de-b0… </span>│<span style=\"color: #000080; text-decoration-color: #000080\"> 18          </span>│<span style=\"color: #7f7f7f; text-decoration-color: #7f7f7f\"> 0dc93dfc-ebf7-47de-b… </span>│ buy  │\n",
       "│<span style=\"color: #008080; text-decoration-color: #008080\">      39 </span>│       20 │ $10.00 │<span style=\"color: #008000; text-decoration-color: #008000\"> 3           </span>│<span style=\"color: #7f7f7f; text-decoration-color: #7f7f7f\"> 182320fb-3475-49de-b0… </span>│<span style=\"color: #000080; text-decoration-color: #000080\"> 2           </span>│<span style=\"color: #7f7f7f; text-decoration-color: #7f7f7f\"> 99151189-cb6f-457c-8… </span>│ buy  │\n",
       "│<span style=\"color: #008080; text-decoration-color: #008080\">      40 </span>│       18 │ $10.00 │<span style=\"color: #008000; text-decoration-color: #008000\"> 3           </span>│<span style=\"color: #7f7f7f; text-decoration-color: #7f7f7f\"> 182320fb-3475-49de-b0… </span>│<span style=\"color: #000080; text-decoration-color: #000080\"> 18          </span>│<span style=\"color: #7f7f7f; text-decoration-color: #7f7f7f\"> 0dc93dfc-ebf7-47de-b… </span>│ buy  │\n",
       "│<span style=\"color: #008080; text-decoration-color: #008080\">      41 </span>│       12 │ $10.00 │<span style=\"color: #008000; text-decoration-color: #008000\"> 13          </span>│<span style=\"color: #7f7f7f; text-decoration-color: #7f7f7f\"> fa8a9258-6206-48fc-81… </span>│<span style=\"color: #000080; text-decoration-color: #000080\"> 18          </span>│<span style=\"color: #7f7f7f; text-decoration-color: #7f7f7f\"> 0dc93dfc-ebf7-47de-b… </span>│ buy  │\n",
       "│<span style=\"color: #008080; text-decoration-color: #008080\">      42 </span>│        8 │ $10.00 │<span style=\"color: #008000; text-decoration-color: #008000\"> 13          </span>│<span style=\"color: #7f7f7f; text-decoration-color: #7f7f7f\"> fa8a9258-6206-48fc-81… </span>│<span style=\"color: #000080; text-decoration-color: #000080\"> 12          </span>│<span style=\"color: #7f7f7f; text-decoration-color: #7f7f7f\"> a4107c07-6a0d-4710-8… </span>│ buy  │\n",
       "│<span style=\"color: #008080; text-decoration-color: #008080\">      43 </span>│       22 │ $10.00 │<span style=\"color: #008000; text-decoration-color: #008000\"> 13          </span>│<span style=\"color: #7f7f7f; text-decoration-color: #7f7f7f\"> fa8a9258-6206-48fc-81… </span>│<span style=\"color: #000080; text-decoration-color: #000080\"> 12          </span>│<span style=\"color: #7f7f7f; text-decoration-color: #7f7f7f\"> a4107c07-6a0d-4710-8… </span>│ buy  │\n",
       "│<span style=\"color: #008080; text-decoration-color: #008080\">      44 </span>│        8 │ $10.00 │<span style=\"color: #008000; text-decoration-color: #008000\"> 13          </span>│<span style=\"color: #7f7f7f; text-decoration-color: #7f7f7f\"> fa8a9258-6206-48fc-81… </span>│<span style=\"color: #000080; text-decoration-color: #000080\"> 4           </span>│<span style=\"color: #7f7f7f; text-decoration-color: #7f7f7f\"> 25a6b711-b285-483f-9… </span>│ buy  │\n",
       "│<span style=\"color: #008080; text-decoration-color: #008080\">      45 </span>│        1 │ $11.00 │<span style=\"color: #008000; text-decoration-color: #008000\"> 12          </span>│<span style=\"color: #7f7f7f; text-decoration-color: #7f7f7f\"> a4107c07-6a0d-4710-89… </span>│<span style=\"color: #000080; text-decoration-color: #000080\"> 2           </span>│<span style=\"color: #7f7f7f; text-decoration-color: #7f7f7f\"> 99151189-cb6f-457c-8… </span>│ buy  │\n",
       "│<span style=\"color: #008080; text-decoration-color: #008080\">      46 </span>│       40 │ $11.00 │<span style=\"color: #008000; text-decoration-color: #008000\"> 18          </span>│<span style=\"color: #7f7f7f; text-decoration-color: #7f7f7f\"> 0dc93dfc-ebf7-47de-bf… </span>│<span style=\"color: #000080; text-decoration-color: #000080\"> 2           </span>│<span style=\"color: #7f7f7f; text-decoration-color: #7f7f7f\"> 99151189-cb6f-457c-8… </span>│ buy  │\n",
       "│<span style=\"color: #008080; text-decoration-color: #008080\">      47 </span>│        9 │ $11.00 │<span style=\"color: #008000; text-decoration-color: #008000\"> 5           </span>│<span style=\"color: #7f7f7f; text-decoration-color: #7f7f7f\"> 361ef7c2-e97d-4b86-bf… </span>│<span style=\"color: #000080; text-decoration-color: #000080\"> 2           </span>│<span style=\"color: #7f7f7f; text-decoration-color: #7f7f7f\"> 99151189-cb6f-457c-8… </span>│ buy  │\n",
       "│<span style=\"color: #008080; text-decoration-color: #008080\">      48 </span>│        9 │ $11.00 │<span style=\"color: #008000; text-decoration-color: #008000\"> 5           </span>│<span style=\"color: #7f7f7f; text-decoration-color: #7f7f7f\"> 361ef7c2-e97d-4b86-bf… </span>│<span style=\"color: #000080; text-decoration-color: #000080\"> 6           </span>│<span style=\"color: #7f7f7f; text-decoration-color: #7f7f7f\"> 4a42da52-9be1-40d8-8… </span>│ buy  │\n",
       "│<span style=\"color: #008080; text-decoration-color: #008080\">      49 </span>│       16 │ $11.00 │<span style=\"color: #008000; text-decoration-color: #008000\"> 17          </span>│<span style=\"color: #7f7f7f; text-decoration-color: #7f7f7f\"> b698bca8-0c4e-4c78-b9… </span>│<span style=\"color: #000080; text-decoration-color: #000080\"> 6           </span>│<span style=\"color: #7f7f7f; text-decoration-color: #7f7f7f\"> 4a42da52-9be1-40d8-8… </span>│ buy  │\n",
       "│<span style=\"color: #008080; text-decoration-color: #008080\">      50 </span>│       20 │ $11.00 │<span style=\"color: #008000; text-decoration-color: #008000\"> 17          </span>│<span style=\"color: #7f7f7f; text-decoration-color: #7f7f7f\"> b698bca8-0c4e-4c78-b9… </span>│<span style=\"color: #000080; text-decoration-color: #000080\"> 6           </span>│<span style=\"color: #7f7f7f; text-decoration-color: #7f7f7f\"> 4a42da52-9be1-40d8-8… </span>│ buy  │\n",
       "│<span style=\"color: #008080; text-decoration-color: #008080\">      51 </span>│       10 │ $11.00 │<span style=\"color: #008000; text-decoration-color: #008000\"> 17          </span>│<span style=\"color: #7f7f7f; text-decoration-color: #7f7f7f\"> b698bca8-0c4e-4c78-b9… </span>│<span style=\"color: #000080; text-decoration-color: #000080\"> 6           </span>│<span style=\"color: #7f7f7f; text-decoration-color: #7f7f7f\"> 4a42da52-9be1-40d8-8… </span>│ buy  │\n",
       "│<span style=\"color: #008080; text-decoration-color: #008080\">      52 </span>│       50 │ $11.00 │<span style=\"color: #008000; text-decoration-color: #008000\"> 17          </span>│<span style=\"color: #7f7f7f; text-decoration-color: #7f7f7f\"> b698bca8-0c4e-4c78-b9… </span>│<span style=\"color: #000080; text-decoration-color: #000080\"> 4           </span>│<span style=\"color: #7f7f7f; text-decoration-color: #7f7f7f\"> 25a6b711-b285-483f-9… </span>│ buy  │\n",
       "│<span style=\"color: #008080; text-decoration-color: #008080\">      53 </span>│        4 │ $11.00 │<span style=\"color: #008000; text-decoration-color: #008000\"> 17          </span>│<span style=\"color: #7f7f7f; text-decoration-color: #7f7f7f\"> b698bca8-0c4e-4c78-b9… </span>│<span style=\"color: #000080; text-decoration-color: #000080\"> 4           </span>│<span style=\"color: #7f7f7f; text-decoration-color: #7f7f7f\"> 25a6b711-b285-483f-9… </span>│ buy  │\n",
       "│<span style=\"color: #008080; text-decoration-color: #008080\">      54 </span>│       16 │ $11.00 │<span style=\"color: #008000; text-decoration-color: #008000\"> 3           </span>│<span style=\"color: #7f7f7f; text-decoration-color: #7f7f7f\"> 182320fb-3475-49de-b0… </span>│<span style=\"color: #000080; text-decoration-color: #000080\"> 4           </span>│<span style=\"color: #7f7f7f; text-decoration-color: #7f7f7f\"> 25a6b711-b285-483f-9… </span>│ buy  │\n",
       "│<span style=\"color: #008080; text-decoration-color: #008080\">      55 </span>│       10 │ $11.00 │<span style=\"color: #008000; text-decoration-color: #008000\"> 3           </span>│<span style=\"color: #7f7f7f; text-decoration-color: #7f7f7f\"> 182320fb-3475-49de-b0… </span>│<span style=\"color: #000080; text-decoration-color: #000080\"> 6           </span>│<span style=\"color: #7f7f7f; text-decoration-color: #7f7f7f\"> 4a42da52-9be1-40d8-8… </span>│ buy  │\n",
       "│<span style=\"color: #008080; text-decoration-color: #008080\">      56 </span>│       19 │ $11.00 │<span style=\"color: #008000; text-decoration-color: #008000\"> 3           </span>│<span style=\"color: #7f7f7f; text-decoration-color: #7f7f7f\"> 182320fb-3475-49de-b0… </span>│<span style=\"color: #000080; text-decoration-color: #000080\"> 4           </span>│<span style=\"color: #7f7f7f; text-decoration-color: #7f7f7f\"> 25a6b711-b285-483f-9… </span>│ buy  │\n",
       "│<span style=\"color: #008080; text-decoration-color: #008080\">      57 </span>│        5 │ $11.00 │<span style=\"color: #008000; text-decoration-color: #008000\"> 3           </span>│<span style=\"color: #7f7f7f; text-decoration-color: #7f7f7f\"> 182320fb-3475-49de-b0… </span>│<span style=\"color: #000080; text-decoration-color: #000080\"> 20          </span>│<span style=\"color: #7f7f7f; text-decoration-color: #7f7f7f\"> 6643233d-7499-4b7a-b… </span>│ buy  │\n",
       "│<span style=\"color: #008080; text-decoration-color: #008080\">      58 </span>│       15 │ $11.00 │<span style=\"color: #008000; text-decoration-color: #008000\"> 13          </span>│<span style=\"color: #7f7f7f; text-decoration-color: #7f7f7f\"> fa8a9258-6206-48fc-81… </span>│<span style=\"color: #000080; text-decoration-color: #000080\"> 20          </span>│<span style=\"color: #7f7f7f; text-decoration-color: #7f7f7f\"> 6643233d-7499-4b7a-b… </span>│ buy  │\n",
       "│<span style=\"color: #008080; text-decoration-color: #008080\">      59 </span>│       12 │ $10.00 │<span style=\"color: #008000; text-decoration-color: #008000\"> 4           </span>│<span style=\"color: #7f7f7f; text-decoration-color: #7f7f7f\"> 25a6b711-b285-483f-9b… </span>│<span style=\"color: #000080; text-decoration-color: #000080\"> 7           </span>│<span style=\"color: #7f7f7f; text-decoration-color: #7f7f7f\"> d1a48546-375f-49f9-b… </span>│ sell │\n",
       "│<span style=\"color: #008080; text-decoration-color: #008080\">      60 </span>│       18 │ $10.00 │<span style=\"color: #008000; text-decoration-color: #008000\"> 12          </span>│<span style=\"color: #7f7f7f; text-decoration-color: #7f7f7f\"> a4107c07-6a0d-4710-89… </span>│<span style=\"color: #000080; text-decoration-color: #000080\"> 7           </span>│<span style=\"color: #7f7f7f; text-decoration-color: #7f7f7f\"> d1a48546-375f-49f9-b… </span>│ sell │\n",
       "│<span style=\"color: #008080; text-decoration-color: #008080\">      61 </span>│       24 │ $10.00 │<span style=\"color: #008000; text-decoration-color: #008000\"> 12          </span>│<span style=\"color: #7f7f7f; text-decoration-color: #7f7f7f\"> a4107c07-6a0d-4710-89… </span>│<span style=\"color: #000080; text-decoration-color: #000080\"> 2           </span>│<span style=\"color: #7f7f7f; text-decoration-color: #7f7f7f\"> 99151189-cb6f-457c-8… </span>│ sell │\n",
       "│<span style=\"color: #008080; text-decoration-color: #008080\">      62 </span>│      127 │ $10.00 │<span style=\"color: #008000; text-decoration-color: #008000\"> 10          </span>│<span style=\"color: #7f7f7f; text-decoration-color: #7f7f7f\"> 5ecae8a0-42dd-45f1-ad… </span>│<span style=\"color: #000080; text-decoration-color: #000080\"> 2           </span>│<span style=\"color: #7f7f7f; text-decoration-color: #7f7f7f\"> 99151189-cb6f-457c-8… </span>│ sell │\n",
       "│<span style=\"color: #008080; text-decoration-color: #008080\">      63 </span>│       75 │ $10.00 │<span style=\"color: #008000; text-decoration-color: #008000\"> 10          </span>│<span style=\"color: #7f7f7f; text-decoration-color: #7f7f7f\"> 5ecae8a0-42dd-45f1-ad… </span>│<span style=\"color: #000080; text-decoration-color: #000080\"> 14          </span>│<span style=\"color: #7f7f7f; text-decoration-color: #7f7f7f\"> 0097b91e-d691-4cae-8… </span>│ sell │\n",
       "│<span style=\"color: #008080; text-decoration-color: #008080\">      64 </span>│       25 │ $10.00 │<span style=\"color: #008000; text-decoration-color: #008000\"> 20          </span>│<span style=\"color: #7f7f7f; text-decoration-color: #7f7f7f\"> 6643233d-7499-4b7a-bd… </span>│<span style=\"color: #000080; text-decoration-color: #000080\"> 14          </span>│<span style=\"color: #7f7f7f; text-decoration-color: #7f7f7f\"> 0097b91e-d691-4cae-8… </span>│ sell │\n",
       "│<span style=\"color: #008080; text-decoration-color: #008080\">      65 </span>│       25 │ $10.00 │<span style=\"color: #008000; text-decoration-color: #008000\"> 20          </span>│<span style=\"color: #7f7f7f; text-decoration-color: #7f7f7f\"> 6643233d-7499-4b7a-bd… </span>│<span style=\"color: #000080; text-decoration-color: #000080\"> 18          </span>│<span style=\"color: #7f7f7f; text-decoration-color: #7f7f7f\"> 0dc93dfc-ebf7-47de-b… </span>│ sell │\n",
       "│<span style=\"color: #008080; text-decoration-color: #008080\">      66 </span>│       12 │ $10.00 │<span style=\"color: #008000; text-decoration-color: #008000\"> 15          </span>│<span style=\"color: #7f7f7f; text-decoration-color: #7f7f7f\"> d8db39d8-d3d6-4e2c-87… </span>│<span style=\"color: #000080; text-decoration-color: #000080\"> 18          </span>│<span style=\"color: #7f7f7f; text-decoration-color: #7f7f7f\"> 0dc93dfc-ebf7-47de-b… </span>│ sell │\n",
       "│<span style=\"color: #008080; text-decoration-color: #008080\">      67 </span>│       20 │ $10.00 │<span style=\"color: #008000; text-decoration-color: #008000\"> 13          </span>│<span style=\"color: #7f7f7f; text-decoration-color: #7f7f7f\"> fa8a9258-6206-48fc-81… </span>│<span style=\"color: #000080; text-decoration-color: #000080\"> 18          </span>│<span style=\"color: #7f7f7f; text-decoration-color: #7f7f7f\"> 0dc93dfc-ebf7-47de-b… </span>│ sell │\n",
       "│<span style=\"color: #008080; text-decoration-color: #008080\">      68 </span>│       43 │ $10.00 │<span style=\"color: #008000; text-decoration-color: #008000\"> 18          </span>│<span style=\"color: #7f7f7f; text-decoration-color: #7f7f7f\"> 0dc93dfc-ebf7-47de-bf… </span>│<span style=\"color: #000080; text-decoration-color: #000080\"> 3           </span>│<span style=\"color: #7f7f7f; text-decoration-color: #7f7f7f\"> 182320fb-3475-49de-b… </span>│ buy  │\n",
       "│<span style=\"color: #008080; text-decoration-color: #008080\">      69 </span>│        5 │ $11.00 │<span style=\"color: #008000; text-decoration-color: #008000\"> 13          </span>│<span style=\"color: #7f7f7f; text-decoration-color: #7f7f7f\"> fa8a9258-6206-48fc-81… </span>│<span style=\"color: #000080; text-decoration-color: #000080\"> 3           </span>│<span style=\"color: #7f7f7f; text-decoration-color: #7f7f7f\"> 182320fb-3475-49de-b… </span>│ buy  │\n",
       "│<span style=\"color: #008080; text-decoration-color: #008080\">      70 </span>│        2 │ $11.00 │<span style=\"color: #008000; text-decoration-color: #008000\"> 1           </span>│<span style=\"color: #7f7f7f; text-decoration-color: #7f7f7f\"> f8d93e64-87de-4a47-b0… </span>│<span style=\"color: #000080; text-decoration-color: #000080\"> 3           </span>│<span style=\"color: #7f7f7f; text-decoration-color: #7f7f7f\"> 182320fb-3475-49de-b… </span>│ buy  │\n",
       "│<span style=\"color: #008080; text-decoration-color: #008080\">      71 </span>│      109 │ $11.00 │<span style=\"color: #008000; text-decoration-color: #008000\"> 1           </span>│<span style=\"color: #7f7f7f; text-decoration-color: #7f7f7f\"> f8d93e64-87de-4a47-b0… </span>│<span style=\"color: #000080; text-decoration-color: #000080\"> 11          </span>│<span style=\"color: #7f7f7f; text-decoration-color: #7f7f7f\"> 061bc19c-3e99-4c5a-a… </span>│ buy  │\n",
       "│<span style=\"color: #008080; text-decoration-color: #008080\">      72 </span>│       31 │ $11.00 │<span style=\"color: #008000; text-decoration-color: #008000\"> 15          </span>│<span style=\"color: #7f7f7f; text-decoration-color: #7f7f7f\"> d8db39d8-d3d6-4e2c-87… </span>│<span style=\"color: #000080; text-decoration-color: #000080\"> 11          </span>│<span style=\"color: #7f7f7f; text-decoration-color: #7f7f7f\"> 061bc19c-3e99-4c5a-a… </span>│ buy  │\n",
       "│<span style=\"color: #008080; text-decoration-color: #008080\">      73 </span>│       19 │ $11.00 │<span style=\"color: #008000; text-decoration-color: #008000\"> 15          </span>│<span style=\"color: #7f7f7f; text-decoration-color: #7f7f7f\"> d8db39d8-d3d6-4e2c-87… </span>│<span style=\"color: #000080; text-decoration-color: #000080\"> 17          </span>│<span style=\"color: #7f7f7f; text-decoration-color: #7f7f7f\"> b698bca8-0c4e-4c78-b… </span>│ buy  │\n",
       "│<span style=\"color: #008080; text-decoration-color: #008080\">      74 </span>│       40 │ $11.00 │<span style=\"color: #008000; text-decoration-color: #008000\"> 7           </span>│<span style=\"color: #7f7f7f; text-decoration-color: #7f7f7f\"> d1a48546-375f-49f9-b8… </span>│<span style=\"color: #000080; text-decoration-color: #000080\"> 17          </span>│<span style=\"color: #7f7f7f; text-decoration-color: #7f7f7f\"> b698bca8-0c4e-4c78-b… </span>│ buy  │\n",
       "│<span style=\"color: #008080; text-decoration-color: #008080\">      75 </span>│       41 │ $11.00 │<span style=\"color: #008000; text-decoration-color: #008000\"> 14          </span>│<span style=\"color: #7f7f7f; text-decoration-color: #7f7f7f\"> 0097b91e-d691-4cae-8e… </span>│<span style=\"color: #000080; text-decoration-color: #000080\"> 17          </span>│<span style=\"color: #7f7f7f; text-decoration-color: #7f7f7f\"> b698bca8-0c4e-4c78-b… </span>│ buy  │\n",
       "│<span style=\"color: #008080; text-decoration-color: #008080\">      76 </span>│       25 │ $11.00 │<span style=\"color: #008000; text-decoration-color: #008000\"> 14          </span>│<span style=\"color: #7f7f7f; text-decoration-color: #7f7f7f\"> 0097b91e-d691-4cae-8e… </span>│<span style=\"color: #000080; text-decoration-color: #000080\"> 3           </span>│<span style=\"color: #7f7f7f; text-decoration-color: #7f7f7f\"> 182320fb-3475-49de-b… </span>│ buy  │\n",
       "│<span style=\"color: #008080; text-decoration-color: #008080\">      77 </span>│      100 │ $10.00 │<span style=\"color: #008000; text-decoration-color: #008000\"> 5           </span>│<span style=\"color: #7f7f7f; text-decoration-color: #7f7f7f\"> 361ef7c2-e97d-4b86-bf… </span>│<span style=\"color: #000080; text-decoration-color: #000080\"> 2           </span>│<span style=\"color: #7f7f7f; text-decoration-color: #7f7f7f\"> 99151189-cb6f-457c-8… </span>│ sell │\n",
       "│<span style=\"color: #008080; text-decoration-color: #008080\">      78 </span>│      100 │ $10.00 │<span style=\"color: #008000; text-decoration-color: #008000\"> 5           </span>│<span style=\"color: #7f7f7f; text-decoration-color: #7f7f7f\"> 361ef7c2-e97d-4b86-bf… </span>│<span style=\"color: #000080; text-decoration-color: #000080\"> 1           </span>│<span style=\"color: #7f7f7f; text-decoration-color: #7f7f7f\"> f8d93e64-87de-4a47-b… </span>│ sell │\n",
       "│<span style=\"color: #008080; text-decoration-color: #008080\">      79 </span>│       11 │ $10.00 │<span style=\"color: #008000; text-decoration-color: #008000\"> 3           </span>│<span style=\"color: #7f7f7f; text-decoration-color: #7f7f7f\"> 182320fb-3475-49de-b0… </span>│<span style=\"color: #000080; text-decoration-color: #000080\"> 1           </span>│<span style=\"color: #7f7f7f; text-decoration-color: #7f7f7f\"> f8d93e64-87de-4a47-b… </span>│ sell │\n",
       "│<span style=\"color: #008080; text-decoration-color: #008080\">      80 </span>│       89 │ $10.00 │<span style=\"color: #008000; text-decoration-color: #008000\"> 3           </span>│<span style=\"color: #7f7f7f; text-decoration-color: #7f7f7f\"> 182320fb-3475-49de-b0… </span>│<span style=\"color: #000080; text-decoration-color: #000080\"> 4           </span>│<span style=\"color: #7f7f7f; text-decoration-color: #7f7f7f\"> 25a6b711-b285-483f-9… </span>│ sell │\n",
       "│<span style=\"color: #008080; text-decoration-color: #008080\">      81 </span>│       11 │ $10.00 │<span style=\"color: #008000; text-decoration-color: #008000\"> 4           </span>│<span style=\"color: #7f7f7f; text-decoration-color: #7f7f7f\"> 25a6b711-b285-483f-9b… </span>│<span style=\"color: #000080; text-decoration-color: #000080\"> 13          </span>│<span style=\"color: #7f7f7f; text-decoration-color: #7f7f7f\"> fa8a9258-6206-48fc-8… </span>│ buy  │\n",
       "│<span style=\"color: #008080; text-decoration-color: #008080\">      82 </span>│        4 │ $11.00 │<span style=\"color: #008000; text-decoration-color: #008000\"> 14          </span>│<span style=\"color: #7f7f7f; text-decoration-color: #7f7f7f\"> 0097b91e-d691-4cae-8e… </span>│<span style=\"color: #000080; text-decoration-color: #000080\"> 13          </span>│<span style=\"color: #7f7f7f; text-decoration-color: #7f7f7f\"> fa8a9258-6206-48fc-8… </span>│ buy  │\n",
       "│<span style=\"color: #008080; text-decoration-color: #008080\">      83 </span>│       15 │ $11.00 │<span style=\"color: #008000; text-decoration-color: #008000\"> 20          </span>│<span style=\"color: #7f7f7f; text-decoration-color: #7f7f7f\"> 6643233d-7499-4b7a-bd… </span>│<span style=\"color: #000080; text-decoration-color: #000080\"> 13          </span>│<span style=\"color: #7f7f7f; text-decoration-color: #7f7f7f\"> fa8a9258-6206-48fc-8… </span>│ buy  │\n",
       "│<span style=\"color: #008080; text-decoration-color: #008080\">      84 </span>│       50 │ $10.00 │<span style=\"color: #008000; text-decoration-color: #008000\"> 9           </span>│<span style=\"color: #7f7f7f; text-decoration-color: #7f7f7f\"> 58feba90-005f-43d5-93… </span>│<span style=\"color: #000080; text-decoration-color: #000080\"> 4           </span>│<span style=\"color: #7f7f7f; text-decoration-color: #7f7f7f\"> 25a6b711-b285-483f-9… </span>│ sell │\n",
       "│<span style=\"color: #008080; text-decoration-color: #008080\">      85 </span>│       30 │ $10.00 │<span style=\"color: #008000; text-decoration-color: #008000\"> 9           </span>│<span style=\"color: #7f7f7f; text-decoration-color: #7f7f7f\"> 58feba90-005f-43d5-93… </span>│<span style=\"color: #000080; text-decoration-color: #000080\"> 20          </span>│<span style=\"color: #7f7f7f; text-decoration-color: #7f7f7f\"> 6643233d-7499-4b7a-b… </span>│ sell │\n",
       "│<span style=\"color: #008080; text-decoration-color: #008080\">      86 </span>│       10 │ $11.00 │<span style=\"color: #008000; text-decoration-color: #008000\"> 20          </span>│<span style=\"color: #7f7f7f; text-decoration-color: #7f7f7f\"> 6643233d-7499-4b7a-bd… </span>│<span style=\"color: #000080; text-decoration-color: #000080\"> 13          </span>│<span style=\"color: #7f7f7f; text-decoration-color: #7f7f7f\"> fa8a9258-6206-48fc-8… </span>│ buy  │\n",
       "│<span style=\"color: #008080; text-decoration-color: #008080\">      87 </span>│       25 │ $11.00 │<span style=\"color: #008000; text-decoration-color: #008000\"> 20          </span>│<span style=\"color: #7f7f7f; text-decoration-color: #7f7f7f\"> 6643233d-7499-4b7a-bd… </span>│<span style=\"color: #000080; text-decoration-color: #000080\"> 15          </span>│<span style=\"color: #7f7f7f; text-decoration-color: #7f7f7f\"> d8db39d8-d3d6-4e2c-8… </span>│ buy  │\n",
       "│<span style=\"color: #008080; text-decoration-color: #008080\">      88 </span>│       25 │ $11.00 │<span style=\"color: #008000; text-decoration-color: #008000\"> 2           </span>│<span style=\"color: #7f7f7f; text-decoration-color: #7f7f7f\"> 99151189-cb6f-457c-8b… </span>│<span style=\"color: #000080; text-decoration-color: #000080\"> 15          </span>│<span style=\"color: #7f7f7f; text-decoration-color: #7f7f7f\"> d8db39d8-d3d6-4e2c-8… </span>│ buy  │\n",
       "│<span style=\"color: #008080; text-decoration-color: #008080\">      89 </span>│       30 │ $11.00 │<span style=\"color: #008000; text-decoration-color: #008000\"> 12          </span>│<span style=\"color: #7f7f7f; text-decoration-color: #7f7f7f\"> a4107c07-6a0d-4710-89… </span>│<span style=\"color: #000080; text-decoration-color: #000080\"> 15          </span>│<span style=\"color: #7f7f7f; text-decoration-color: #7f7f7f\"> d8db39d8-d3d6-4e2c-8… </span>│ buy  │\n",
       "│<span style=\"color: #008080; text-decoration-color: #008080\">      90 </span>│       20 │ $11.00 │<span style=\"color: #008000; text-decoration-color: #008000\"> 18          </span>│<span style=\"color: #7f7f7f; text-decoration-color: #7f7f7f\"> 0dc93dfc-ebf7-47de-bf… </span>│<span style=\"color: #000080; text-decoration-color: #000080\"> 15          </span>│<span style=\"color: #7f7f7f; text-decoration-color: #7f7f7f\"> d8db39d8-d3d6-4e2c-8… </span>│ buy  │\n",
       "│<span style=\"color: #008080; text-decoration-color: #008080\">      91 </span>│       20 │ $10.00 │<span style=\"color: #008000; text-decoration-color: #008000\"> 9           </span>│<span style=\"color: #7f7f7f; text-decoration-color: #7f7f7f\"> 58feba90-005f-43d5-93… </span>│<span style=\"color: #000080; text-decoration-color: #000080\"> 8           </span>│<span style=\"color: #7f7f7f; text-decoration-color: #7f7f7f\"> b23f55dc-9db5-4632-8… </span>│ sell │\n",
       "│<span style=\"color: #008080; text-decoration-color: #008080\">      92 </span>│       20 │ $10.00 │<span style=\"color: #008000; text-decoration-color: #008000\"> 1           </span>│<span style=\"color: #7f7f7f; text-decoration-color: #7f7f7f\"> f8d93e64-87de-4a47-b0… </span>│<span style=\"color: #000080; text-decoration-color: #000080\"> 8           </span>│<span style=\"color: #7f7f7f; text-decoration-color: #7f7f7f\"> b23f55dc-9db5-4632-8… </span>│ sell │\n",
       "│<span style=\"color: #008080; text-decoration-color: #008080\">      93 </span>│       10 │ $10.00 │<span style=\"color: #008000; text-decoration-color: #008000\"> 1           </span>│<span style=\"color: #7f7f7f; text-decoration-color: #7f7f7f\"> f8d93e64-87de-4a47-b0… </span>│<span style=\"color: #000080; text-decoration-color: #000080\"> 20          </span>│<span style=\"color: #7f7f7f; text-decoration-color: #7f7f7f\"> 6643233d-7499-4b7a-b… </span>│ sell │\n",
       "│<span style=\"color: #008080; text-decoration-color: #008080\">      94 </span>│       30 │ $10.00 │<span style=\"color: #008000; text-decoration-color: #008000\"> 1           </span>│<span style=\"color: #7f7f7f; text-decoration-color: #7f7f7f\"> f8d93e64-87de-4a47-b0… </span>│<span style=\"color: #000080; text-decoration-color: #000080\"> 11          </span>│<span style=\"color: #7f7f7f; text-decoration-color: #7f7f7f\"> 061bc19c-3e99-4c5a-a… </span>│ buy  │\n",
       "│<span style=\"color: #008080; text-decoration-color: #008080\">      95 </span>│       20 │ $10.00 │<span style=\"color: #008000; text-decoration-color: #008000\"> 1           </span>│<span style=\"color: #7f7f7f; text-decoration-color: #7f7f7f\"> f8d93e64-87de-4a47-b0… </span>│<span style=\"color: #000080; text-decoration-color: #000080\"> 3           </span>│<span style=\"color: #7f7f7f; text-decoration-color: #7f7f7f\"> 182320fb-3475-49de-b… </span>│ sell │\n",
       "│<span style=\"color: #008080; text-decoration-color: #008080\">      96 </span>│       20 │ $10.00 │<span style=\"color: #008000; text-decoration-color: #008000\"> 1           </span>│<span style=\"color: #7f7f7f; text-decoration-color: #7f7f7f\"> f8d93e64-87de-4a47-b0… </span>│<span style=\"color: #000080; text-decoration-color: #000080\"> 6           </span>│<span style=\"color: #7f7f7f; text-decoration-color: #7f7f7f\"> 4a42da52-9be1-40d8-8… </span>│ sell │\n",
       "│<span style=\"color: #008080; text-decoration-color: #008080\">      97 </span>│       30 │ $10.00 │<span style=\"color: #008000; text-decoration-color: #008000\"> 1           </span>│<span style=\"color: #7f7f7f; text-decoration-color: #7f7f7f\"> f8d93e64-87de-4a47-b0… </span>│<span style=\"color: #000080; text-decoration-color: #000080\"> 13          </span>│<span style=\"color: #7f7f7f; text-decoration-color: #7f7f7f\"> fa8a9258-6206-48fc-8… </span>│ sell │\n",
       "│<span style=\"color: #008080; text-decoration-color: #008080\">      98 </span>│       80 │ $10.00 │<span style=\"color: #008000; text-decoration-color: #008000\"> 1           </span>│<span style=\"color: #7f7f7f; text-decoration-color: #7f7f7f\"> f8d93e64-87de-4a47-b0… </span>│<span style=\"color: #000080; text-decoration-color: #000080\"> 14          </span>│<span style=\"color: #7f7f7f; text-decoration-color: #7f7f7f\"> 0097b91e-d691-4cae-8… </span>│ buy  │\n",
       "│<span style=\"color: #008080; text-decoration-color: #008080\">      99 </span>│       11 │ $10.00 │<span style=\"color: #008000; text-decoration-color: #008000\"> 1           </span>│<span style=\"color: #7f7f7f; text-decoration-color: #7f7f7f\"> f8d93e64-87de-4a47-b0… </span>│<span style=\"color: #000080; text-decoration-color: #000080\"> 5           </span>│<span style=\"color: #7f7f7f; text-decoration-color: #7f7f7f\"> 361ef7c2-e97d-4b86-b… </span>│ sell │\n",
       "│<span style=\"color: #008080; text-decoration-color: #008080\">     100 </span>│      111 │ $10.00 │<span style=\"color: #008000; text-decoration-color: #008000\"> 1           </span>│<span style=\"color: #7f7f7f; text-decoration-color: #7f7f7f\"> f8d93e64-87de-4a47-b0… </span>│<span style=\"color: #000080; text-decoration-color: #000080\"> 5           </span>│<span style=\"color: #7f7f7f; text-decoration-color: #7f7f7f\"> 361ef7c2-e97d-4b86-b… </span>│ sell │\n",
       "│<span style=\"color: #008080; text-decoration-color: #008080\">     101 </span>│       51 │ $10.00 │<span style=\"color: #008000; text-decoration-color: #008000\"> 1           </span>│<span style=\"color: #7f7f7f; text-decoration-color: #7f7f7f\"> f8d93e64-87de-4a47-b0… </span>│<span style=\"color: #000080; text-decoration-color: #000080\"> 5           </span>│<span style=\"color: #7f7f7f; text-decoration-color: #7f7f7f\"> 361ef7c2-e97d-4b86-b… </span>│ sell │\n",
       "│<span style=\"color: #008080; text-decoration-color: #008080\">     102 </span>│        1 │ $10.00 │<span style=\"color: #008000; text-decoration-color: #008000\"> 1           </span>│<span style=\"color: #7f7f7f; text-decoration-color: #7f7f7f\"> f8d93e64-87de-4a47-b0… </span>│<span style=\"color: #000080; text-decoration-color: #000080\"> 6           </span>│<span style=\"color: #7f7f7f; text-decoration-color: #7f7f7f\"> 4a42da52-9be1-40d8-8… </span>│ buy  │\n",
       "│<span style=\"color: #008080; text-decoration-color: #008080\">     103 </span>│       27 │ $10.00 │<span style=\"color: #008000; text-decoration-color: #008000\"> 5           </span>│<span style=\"color: #7f7f7f; text-decoration-color: #7f7f7f\"> 361ef7c2-e97d-4b86-bf… </span>│<span style=\"color: #000080; text-decoration-color: #000080\"> 6           </span>│<span style=\"color: #7f7f7f; text-decoration-color: #7f7f7f\"> 4a42da52-9be1-40d8-8… </span>│ buy  │\n",
       "│<span style=\"color: #008080; text-decoration-color: #008080\">     104 </span>│       48 │ $10.00 │<span style=\"color: #008000; text-decoration-color: #008000\"> 6           </span>│<span style=\"color: #7f7f7f; text-decoration-color: #7f7f7f\"> 4a42da52-9be1-40d8-87… </span>│<span style=\"color: #000080; text-decoration-color: #000080\"> 13          </span>│<span style=\"color: #7f7f7f; text-decoration-color: #7f7f7f\"> fa8a9258-6206-48fc-8… </span>│ sell │\n",
       "│<span style=\"color: #008080; text-decoration-color: #008080\">     105 </span>│       22 │ $10.00 │<span style=\"color: #008000; text-decoration-color: #008000\"> 13          </span>│<span style=\"color: #7f7f7f; text-decoration-color: #7f7f7f\"> fa8a9258-6206-48fc-81… </span>│<span style=\"color: #000080; text-decoration-color: #000080\"> 2           </span>│<span style=\"color: #7f7f7f; text-decoration-color: #7f7f7f\"> 99151189-cb6f-457c-8… </span>│ buy  │\n",
       "│<span style=\"color: #008080; text-decoration-color: #008080\">     106 </span>│       78 │ $10.00 │<span style=\"color: #008000; text-decoration-color: #008000\"> 3           </span>│<span style=\"color: #7f7f7f; text-decoration-color: #7f7f7f\"> 182320fb-3475-49de-b0… </span>│<span style=\"color: #000080; text-decoration-color: #000080\"> 2           </span>│<span style=\"color: #7f7f7f; text-decoration-color: #7f7f7f\"> 99151189-cb6f-457c-8… </span>│ buy  │\n",
       "│<span style=\"color: #008080; text-decoration-color: #008080\">     107 </span>│       22 │ $10.00 │<span style=\"color: #008000; text-decoration-color: #008000\"> 3           </span>│<span style=\"color: #7f7f7f; text-decoration-color: #7f7f7f\"> 182320fb-3475-49de-b0… </span>│<span style=\"color: #000080; text-decoration-color: #000080\"> 12          </span>│<span style=\"color: #7f7f7f; text-decoration-color: #7f7f7f\"> a4107c07-6a0d-4710-8… </span>│ buy  │\n",
       "│<span style=\"color: #008080; text-decoration-color: #008080\">     108 </span>│      100 │ $11.00 │<span style=\"color: #008000; text-decoration-color: #008000\"> 6           </span>│<span style=\"color: #7f7f7f; text-decoration-color: #7f7f7f\"> 4a42da52-9be1-40d8-87… </span>│<span style=\"color: #000080; text-decoration-color: #000080\"> 2           </span>│<span style=\"color: #7f7f7f; text-decoration-color: #7f7f7f\"> 99151189-cb6f-457c-8… </span>│ buy  │\n",
       "│<span style=\"color: #008080; text-decoration-color: #008080\">     109 </span>│       28 │ $10.00 │<span style=\"color: #008000; text-decoration-color: #008000\"> 12          </span>│<span style=\"color: #7f7f7f; text-decoration-color: #7f7f7f\"> a4107c07-6a0d-4710-89… </span>│<span style=\"color: #000080; text-decoration-color: #000080\"> 17          </span>│<span style=\"color: #7f7f7f; text-decoration-color: #7f7f7f\"> b698bca8-0c4e-4c78-b… </span>│ sell │\n",
       "│<span style=\"color: #008080; text-decoration-color: #008080\">     110 </span>│      167 │ $10.00 │<span style=\"color: #008000; text-decoration-color: #008000\"> 18          </span>│<span style=\"color: #7f7f7f; text-decoration-color: #7f7f7f\"> 0dc93dfc-ebf7-47de-bf… </span>│<span style=\"color: #000080; text-decoration-color: #000080\"> 17          </span>│<span style=\"color: #7f7f7f; text-decoration-color: #7f7f7f\"> b698bca8-0c4e-4c78-b… </span>│ sell │\n",
       "│<span style=\"color: #008080; text-decoration-color: #008080\">     111 </span>│       19 │ $10.00 │<span style=\"color: #008000; text-decoration-color: #008000\"> 18          </span>│<span style=\"color: #7f7f7f; text-decoration-color: #7f7f7f\"> 0dc93dfc-ebf7-47de-bf… </span>│<span style=\"color: #000080; text-decoration-color: #000080\"> 11          </span>│<span style=\"color: #7f7f7f; text-decoration-color: #7f7f7f\"> 061bc19c-3e99-4c5a-a… </span>│ sell │\n",
       "│<span style=\"color: #008080; text-decoration-color: #008080\">     112 </span>│       40 │ $10.00 │<span style=\"color: #008000; text-decoration-color: #008000\"> 11          </span>│<span style=\"color: #7f7f7f; text-decoration-color: #7f7f7f\"> 061bc19c-3e99-4c5a-a7… </span>│<span style=\"color: #000080; text-decoration-color: #000080\"> 20          </span>│<span style=\"color: #7f7f7f; text-decoration-color: #7f7f7f\"> 6643233d-7499-4b7a-b… </span>│ buy  │\n",
       "│<span style=\"color: #008080; text-decoration-color: #008080\">     113 </span>│      100 │ $10.00 │<span style=\"color: #008000; text-decoration-color: #008000\"> 11          </span>│<span style=\"color: #7f7f7f; text-decoration-color: #7f7f7f\"> 061bc19c-3e99-4c5a-a7… </span>│<span style=\"color: #000080; text-decoration-color: #000080\"> 2           </span>│<span style=\"color: #7f7f7f; text-decoration-color: #7f7f7f\"> 99151189-cb6f-457c-8… </span>│ buy  │\n",
       "│<span style=\"color: #008080; text-decoration-color: #008080\">     114 </span>│       40 │ $10.00 │<span style=\"color: #008000; text-decoration-color: #008000\"> 11          </span>│<span style=\"color: #7f7f7f; text-decoration-color: #7f7f7f\"> 061bc19c-3e99-4c5a-a7… </span>│<span style=\"color: #000080; text-decoration-color: #000080\"> 20          </span>│<span style=\"color: #7f7f7f; text-decoration-color: #7f7f7f\"> 6643233d-7499-4b7a-b… </span>│ buy  │\n",
       "│<span style=\"color: #008080; text-decoration-color: #008080\">     115 </span>│       17 │ $10.00 │<span style=\"color: #008000; text-decoration-color: #008000\"> 11          </span>│<span style=\"color: #7f7f7f; text-decoration-color: #7f7f7f\"> 061bc19c-3e99-4c5a-a7… </span>│<span style=\"color: #000080; text-decoration-color: #000080\"> 8           </span>│<span style=\"color: #7f7f7f; text-decoration-color: #7f7f7f\"> b23f55dc-9db5-4632-8… </span>│ buy  │\n",
       "│<span style=\"color: #008080; text-decoration-color: #008080\">     116 </span>│       23 │ $10.00 │<span style=\"color: #008000; text-decoration-color: #008000\"> 7           </span>│<span style=\"color: #7f7f7f; text-decoration-color: #7f7f7f\"> d1a48546-375f-49f9-b8… </span>│<span style=\"color: #000080; text-decoration-color: #000080\"> 8           </span>│<span style=\"color: #7f7f7f; text-decoration-color: #7f7f7f\"> b23f55dc-9db5-4632-8… </span>│ buy  │\n",
       "│<span style=\"color: #008080; text-decoration-color: #008080\">     117 </span>│        7 │ $10.00 │<span style=\"color: #008000; text-decoration-color: #008000\"> 7           </span>│<span style=\"color: #7f7f7f; text-decoration-color: #7f7f7f\"> d1a48546-375f-49f9-b8… </span>│<span style=\"color: #000080; text-decoration-color: #000080\"> 20          </span>│<span style=\"color: #7f7f7f; text-decoration-color: #7f7f7f\"> 6643233d-7499-4b7a-b… </span>│ buy  │\n",
       "│<span style=\"color: #008080; text-decoration-color: #008080\">     118 </span>│       25 │ $11.00 │<span style=\"color: #008000; text-decoration-color: #008000\"> 2           </span>│<span style=\"color: #7f7f7f; text-decoration-color: #7f7f7f\"> 99151189-cb6f-457c-8b… </span>│<span style=\"color: #000080; text-decoration-color: #000080\"> 20          </span>│<span style=\"color: #7f7f7f; text-decoration-color: #7f7f7f\"> 6643233d-7499-4b7a-b… </span>│ buy  │\n",
       "│<span style=\"color: #008080; text-decoration-color: #008080\">     119 </span>│        8 │ $11.00 │<span style=\"color: #008000; text-decoration-color: #008000\"> 8           </span>│<span style=\"color: #7f7f7f; text-decoration-color: #7f7f7f\"> b23f55dc-9db5-4632-8b… </span>│<span style=\"color: #000080; text-decoration-color: #000080\"> 20          </span>│<span style=\"color: #7f7f7f; text-decoration-color: #7f7f7f\"> 6643233d-7499-4b7a-b… </span>│ buy  │\n",
       "│<span style=\"color: #008080; text-decoration-color: #008080\">     120 </span>│       22 │ $11.00 │<span style=\"color: #008000; text-decoration-color: #008000\"> 8           </span>│<span style=\"color: #7f7f7f; text-decoration-color: #7f7f7f\"> b23f55dc-9db5-4632-8b… </span>│<span style=\"color: #000080; text-decoration-color: #000080\"> 20          </span>│<span style=\"color: #7f7f7f; text-decoration-color: #7f7f7f\"> 6643233d-7499-4b7a-b… </span>│ buy  │\n",
       "│<span style=\"color: #008080; text-decoration-color: #008080\">     121 </span>│       10 │ $11.00 │<span style=\"color: #008000; text-decoration-color: #008000\"> 13          </span>│<span style=\"color: #7f7f7f; text-decoration-color: #7f7f7f\"> fa8a9258-6206-48fc-81… </span>│<span style=\"color: #000080; text-decoration-color: #000080\"> 20          </span>│<span style=\"color: #7f7f7f; text-decoration-color: #7f7f7f\"> 6643233d-7499-4b7a-b… </span>│ buy  │\n",
       "│<span style=\"color: #008080; text-decoration-color: #008080\">     122 </span>│       13 │ $11.00 │<span style=\"color: #008000; text-decoration-color: #008000\"> 9           </span>│<span style=\"color: #7f7f7f; text-decoration-color: #7f7f7f\"> 58feba90-005f-43d5-93… </span>│<span style=\"color: #000080; text-decoration-color: #000080\"> 20          </span>│<span style=\"color: #7f7f7f; text-decoration-color: #7f7f7f\"> 6643233d-7499-4b7a-b… </span>│ buy  │\n",
       "│<span style=\"color: #008080; text-decoration-color: #008080\">     123 </span>│       45 │ $11.00 │<span style=\"color: #008000; text-decoration-color: #008000\"> 9           </span>│<span style=\"color: #7f7f7f; text-decoration-color: #7f7f7f\"> 58feba90-005f-43d5-93… </span>│<span style=\"color: #000080; text-decoration-color: #000080\"> 4           </span>│<span style=\"color: #7f7f7f; text-decoration-color: #7f7f7f\"> 25a6b711-b285-483f-9… </span>│ buy  │\n",
       "│<span style=\"color: #008080; text-decoration-color: #008080\">     124 </span>│      100 │ $10.00 │<span style=\"color: #008000; text-decoration-color: #008000\"> 4           </span>│<span style=\"color: #7f7f7f; text-decoration-color: #7f7f7f\"> 25a6b711-b285-483f-9b… </span>│<span style=\"color: #000080; text-decoration-color: #000080\"> 15          </span>│<span style=\"color: #7f7f7f; text-decoration-color: #7f7f7f\"> d8db39d8-d3d6-4e2c-8… </span>│ sell │\n",
       "│<span style=\"color: #008080; text-decoration-color: #008080\">     125 </span>│       10 │  $9.00 │<span style=\"color: #008000; text-decoration-color: #008000\"> 13          </span>│<span style=\"color: #7f7f7f; text-decoration-color: #7f7f7f\"> fa8a9258-6206-48fc-81… </span>│<span style=\"color: #000080; text-decoration-color: #000080\"> 15          </span>│<span style=\"color: #7f7f7f; text-decoration-color: #7f7f7f\"> d8db39d8-d3d6-4e2c-8… </span>│ sell │\n",
       "│<span style=\"color: #008080; text-decoration-color: #008080\">     126 </span>│       30 │  $9.00 │<span style=\"color: #008000; text-decoration-color: #008000\"> 1           </span>│<span style=\"color: #7f7f7f; text-decoration-color: #7f7f7f\"> f8d93e64-87de-4a47-b0… </span>│<span style=\"color: #000080; text-decoration-color: #000080\"> 15          </span>│<span style=\"color: #7f7f7f; text-decoration-color: #7f7f7f\"> d8db39d8-d3d6-4e2c-8… </span>│ sell │\n",
       "│<span style=\"color: #008080; text-decoration-color: #008080\">     127 </span>│       20 │  $9.00 │<span style=\"color: #008000; text-decoration-color: #008000\"> 16          </span>│<span style=\"color: #7f7f7f; text-decoration-color: #7f7f7f\"> b4bb277a-1a92-4698-89… </span>│<span style=\"color: #000080; text-decoration-color: #000080\"> 15          </span>│<span style=\"color: #7f7f7f; text-decoration-color: #7f7f7f\"> d8db39d8-d3d6-4e2c-8… </span>│ sell │\n",
       "│<span style=\"color: #008080; text-decoration-color: #008080\">     128 </span>│       30 │  $9.00 │<span style=\"color: #008000; text-decoration-color: #008000\"> 12          </span>│<span style=\"color: #7f7f7f; text-decoration-color: #7f7f7f\"> a4107c07-6a0d-4710-89… </span>│<span style=\"color: #000080; text-decoration-color: #000080\"> 15          </span>│<span style=\"color: #7f7f7f; text-decoration-color: #7f7f7f\"> d8db39d8-d3d6-4e2c-8… </span>│ sell │\n",
       "│<span style=\"color: #008080; text-decoration-color: #008080\">     129 </span>│       10 │  $9.00 │<span style=\"color: #008000; text-decoration-color: #008000\"> 18          </span>│<span style=\"color: #7f7f7f; text-decoration-color: #7f7f7f\"> 0dc93dfc-ebf7-47de-bf… </span>│<span style=\"color: #000080; text-decoration-color: #000080\"> 15          </span>│<span style=\"color: #7f7f7f; text-decoration-color: #7f7f7f\"> d8db39d8-d3d6-4e2c-8… </span>│ sell │\n",
       "│<span style=\"color: #008080; text-decoration-color: #008080\">     130 </span>│       40 │  $9.00 │<span style=\"color: #008000; text-decoration-color: #008000\"> 8           </span>│<span style=\"color: #7f7f7f; text-decoration-color: #7f7f7f\"> b23f55dc-9db5-4632-8b… </span>│<span style=\"color: #000080; text-decoration-color: #000080\"> 15          </span>│<span style=\"color: #7f7f7f; text-decoration-color: #7f7f7f\"> d8db39d8-d3d6-4e2c-8… </span>│ sell │\n",
       "│<span style=\"color: #008080; text-decoration-color: #008080\">     131 </span>│       30 │ $11.00 │<span style=\"color: #008000; text-decoration-color: #008000\"> 9           </span>│<span style=\"color: #7f7f7f; text-decoration-color: #7f7f7f\"> 58feba90-005f-43d5-93… </span>│<span style=\"color: #000080; text-decoration-color: #000080\"> 16          </span>│<span style=\"color: #7f7f7f; text-decoration-color: #7f7f7f\"> b4bb277a-1a92-4698-8… </span>│ buy  │\n",
       "│<span style=\"color: #008080; text-decoration-color: #008080\">     132 </span>│       50 │ $11.00 │<span style=\"color: #008000; text-decoration-color: #008000\"> 9           </span>│<span style=\"color: #7f7f7f; text-decoration-color: #7f7f7f\"> 58feba90-005f-43d5-93… </span>│<span style=\"color: #000080; text-decoration-color: #000080\"> 16          </span>│<span style=\"color: #7f7f7f; text-decoration-color: #7f7f7f\"> b4bb277a-1a92-4698-8… </span>│ buy  │\n",
       "│<span style=\"color: #008080; text-decoration-color: #008080\">     133 </span>│       20 │  $9.00 │<span style=\"color: #008000; text-decoration-color: #008000\"> 8           </span>│<span style=\"color: #7f7f7f; text-decoration-color: #7f7f7f\"> b23f55dc-9db5-4632-8b… </span>│<span style=\"color: #000080; text-decoration-color: #000080\"> 10          </span>│<span style=\"color: #7f7f7f; text-decoration-color: #7f7f7f\"> 5ecae8a0-42dd-45f1-a… </span>│ sell │\n",
       "│<span style=\"color: #008080; text-decoration-color: #008080\">     134 </span>│       30 │  $9.00 │<span style=\"color: #008000; text-decoration-color: #008000\"> 20          </span>│<span style=\"color: #7f7f7f; text-decoration-color: #7f7f7f\"> 6643233d-7499-4b7a-bd… </span>│<span style=\"color: #000080; text-decoration-color: #000080\"> 10          </span>│<span style=\"color: #7f7f7f; text-decoration-color: #7f7f7f\"> 5ecae8a0-42dd-45f1-a… </span>│ sell │\n",
       "│<span style=\"color: #008080; text-decoration-color: #008080\">     135 </span>│       20 │  $9.00 │<span style=\"color: #008000; text-decoration-color: #008000\"> 2           </span>│<span style=\"color: #7f7f7f; text-decoration-color: #7f7f7f\"> 99151189-cb6f-457c-8b… </span>│<span style=\"color: #000080; text-decoration-color: #000080\"> 10          </span>│<span style=\"color: #7f7f7f; text-decoration-color: #7f7f7f\"> 5ecae8a0-42dd-45f1-a… </span>│ sell │\n",
       "│<span style=\"color: #008080; text-decoration-color: #008080\">     136 </span>│       30 │  $9.00 │<span style=\"color: #008000; text-decoration-color: #008000\"> 14          </span>│<span style=\"color: #7f7f7f; text-decoration-color: #7f7f7f\"> 0097b91e-d691-4cae-8e… </span>│<span style=\"color: #000080; text-decoration-color: #000080\"> 10          </span>│<span style=\"color: #7f7f7f; text-decoration-color: #7f7f7f\"> 5ecae8a0-42dd-45f1-a… </span>│ sell │\n",
       "│<span style=\"color: #008080; text-decoration-color: #008080\">     137 </span>│       90 │  $9.00 │<span style=\"color: #008000; text-decoration-color: #008000\"> 12          </span>│<span style=\"color: #7f7f7f; text-decoration-color: #7f7f7f\"> a4107c07-6a0d-4710-89… </span>│<span style=\"color: #000080; text-decoration-color: #000080\"> 10          </span>│<span style=\"color: #7f7f7f; text-decoration-color: #7f7f7f\"> 5ecae8a0-42dd-45f1-a… </span>│ sell │\n",
       "│<span style=\"color: #008080; text-decoration-color: #008080\">     138 </span>│       12 │  $9.00 │<span style=\"color: #008000; text-decoration-color: #008000\"> 1           </span>│<span style=\"color: #7f7f7f; text-decoration-color: #7f7f7f\"> f8d93e64-87de-4a47-b0… </span>│<span style=\"color: #000080; text-decoration-color: #000080\"> 10          </span>│<span style=\"color: #7f7f7f; text-decoration-color: #7f7f7f\"> 5ecae8a0-42dd-45f1-a… </span>│ sell │\n",
       "│<span style=\"color: #008080; text-decoration-color: #008080\">     139 </span>│      200 │ $10.00 │<span style=\"color: #008000; text-decoration-color: #008000\"> 5           </span>│<span style=\"color: #7f7f7f; text-decoration-color: #7f7f7f\"> 361ef7c2-e97d-4b86-bf… </span>│<span style=\"color: #000080; text-decoration-color: #000080\"> 16          </span>│<span style=\"color: #7f7f7f; text-decoration-color: #7f7f7f\"> b4bb277a-1a92-4698-8… </span>│ sell │\n",
       "│<span style=\"color: #008080; text-decoration-color: #008080\">     140 </span>│       39 │  $9.00 │<span style=\"color: #008000; text-decoration-color: #008000\"> 1           </span>│<span style=\"color: #7f7f7f; text-decoration-color: #7f7f7f\"> f8d93e64-87de-4a47-b0… </span>│<span style=\"color: #000080; text-decoration-color: #000080\"> 16          </span>│<span style=\"color: #7f7f7f; text-decoration-color: #7f7f7f\"> b4bb277a-1a92-4698-8… </span>│ sell │\n",
       "│<span style=\"color: #008080; text-decoration-color: #008080\">     141 </span>│       10 │  $9.00 │<span style=\"color: #008000; text-decoration-color: #008000\"> 18          </span>│<span style=\"color: #7f7f7f; text-decoration-color: #7f7f7f\"> 0dc93dfc-ebf7-47de-bf… </span>│<span style=\"color: #000080; text-decoration-color: #000080\"> 16          </span>│<span style=\"color: #7f7f7f; text-decoration-color: #7f7f7f\"> b4bb277a-1a92-4698-8… </span>│ sell │\n",
       "│<span style=\"color: #008080; text-decoration-color: #008080\">     142 </span>│       31 │  $9.00 │<span style=\"color: #008000; text-decoration-color: #008000\"> 8           </span>│<span style=\"color: #7f7f7f; text-decoration-color: #7f7f7f\"> b23f55dc-9db5-4632-8b… </span>│<span style=\"color: #000080; text-decoration-color: #000080\"> 16          </span>│<span style=\"color: #7f7f7f; text-decoration-color: #7f7f7f\"> b4bb277a-1a92-4698-8… </span>│ sell │\n",
       "│<span style=\"color: #008080; text-decoration-color: #008080\">     143 </span>│      180 │ $10.00 │<span style=\"color: #008000; text-decoration-color: #008000\"> 17          </span>│<span style=\"color: #7f7f7f; text-decoration-color: #7f7f7f\"> b698bca8-0c4e-4c78-b9… </span>│<span style=\"color: #000080; text-decoration-color: #000080\"> 18          </span>│<span style=\"color: #7f7f7f; text-decoration-color: #7f7f7f\"> 0dc93dfc-ebf7-47de-b… </span>│ sell │\n",
       "│<span style=\"color: #008080; text-decoration-color: #008080\">     144 </span>│       15 │ $10.00 │<span style=\"color: #008000; text-decoration-color: #008000\"> 17          </span>│<span style=\"color: #7f7f7f; text-decoration-color: #7f7f7f\"> b698bca8-0c4e-4c78-b9… </span>│<span style=\"color: #000080; text-decoration-color: #000080\"> 1           </span>│<span style=\"color: #7f7f7f; text-decoration-color: #7f7f7f\"> f8d93e64-87de-4a47-b… </span>│ sell │\n",
       "│<span style=\"color: #008080; text-decoration-color: #008080\">     145 </span>│       66 │ $10.00 │<span style=\"color: #008000; text-decoration-color: #008000\"> 1           </span>│<span style=\"color: #7f7f7f; text-decoration-color: #7f7f7f\"> f8d93e64-87de-4a47-b0… </span>│<span style=\"color: #000080; text-decoration-color: #000080\"> 11          </span>│<span style=\"color: #7f7f7f; text-decoration-color: #7f7f7f\"> 061bc19c-3e99-4c5a-a… </span>│ buy  │\n",
       "│<span style=\"color: #008080; text-decoration-color: #008080\">     146 </span>│      112 │ $11.00 │<span style=\"color: #008000; text-decoration-color: #008000\"> 9           </span>│<span style=\"color: #7f7f7f; text-decoration-color: #7f7f7f\"> 58feba90-005f-43d5-93… </span>│<span style=\"color: #000080; text-decoration-color: #000080\"> 11          </span>│<span style=\"color: #7f7f7f; text-decoration-color: #7f7f7f\"> 061bc19c-3e99-4c5a-a… </span>│ buy  │\n",
       "│<span style=\"color: #008080; text-decoration-color: #008080\">     147 </span>│        5 │ $11.00 │<span style=\"color: #008000; text-decoration-color: #008000\"> 3           </span>│<span style=\"color: #7f7f7f; text-decoration-color: #7f7f7f\"> 182320fb-3475-49de-b0… </span>│<span style=\"color: #000080; text-decoration-color: #000080\"> 11          </span>│<span style=\"color: #7f7f7f; text-decoration-color: #7f7f7f\"> 061bc19c-3e99-4c5a-a… </span>│ buy  │\n",
       "│<span style=\"color: #008080; text-decoration-color: #008080\">     148 </span>│       50 │ $10.00 │<span style=\"color: #008000; text-decoration-color: #008000\"> 13          </span>│<span style=\"color: #7f7f7f; text-decoration-color: #7f7f7f\"> fa8a9258-6206-48fc-81… </span>│<span style=\"color: #000080; text-decoration-color: #000080\"> 14          </span>│<span style=\"color: #7f7f7f; text-decoration-color: #7f7f7f\"> 0097b91e-d691-4cae-8… </span>│ sell │\n",
       "│<span style=\"color: #008080; text-decoration-color: #008080\">     149 </span>│       10 │ $10.00 │<span style=\"color: #008000; text-decoration-color: #008000\"> 13          </span>│<span style=\"color: #7f7f7f; text-decoration-color: #7f7f7f\"> fa8a9258-6206-48fc-81… </span>│<span style=\"color: #000080; text-decoration-color: #000080\"> 14          </span>│<span style=\"color: #7f7f7f; text-decoration-color: #7f7f7f\"> 0097b91e-d691-4cae-8… </span>│ sell │\n",
       "│<span style=\"color: #008080; text-decoration-color: #008080\">     150 </span>│       20 │ $10.00 │<span style=\"color: #008000; text-decoration-color: #008000\"> 9           </span>│<span style=\"color: #7f7f7f; text-decoration-color: #7f7f7f\"> 58feba90-005f-43d5-93… </span>│<span style=\"color: #000080; text-decoration-color: #000080\"> 14          </span>│<span style=\"color: #7f7f7f; text-decoration-color: #7f7f7f\"> 0097b91e-d691-4cae-8… </span>│ sell │\n",
       "│<span style=\"color: #008080; text-decoration-color: #008080\">     151 </span>│       80 │ $10.00 │<span style=\"color: #008000; text-decoration-color: #008000\"> 9           </span>│<span style=\"color: #7f7f7f; text-decoration-color: #7f7f7f\"> 58feba90-005f-43d5-93… </span>│<span style=\"color: #000080; text-decoration-color: #000080\"> 20          </span>│<span style=\"color: #7f7f7f; text-decoration-color: #7f7f7f\"> 6643233d-7499-4b7a-b… </span>│ sell │\n",
       "│<span style=\"color: #008080; text-decoration-color: #008080\">     152 </span>│       30 │ $10.00 │<span style=\"color: #008000; text-decoration-color: #008000\"> 13          </span>│<span style=\"color: #7f7f7f; text-decoration-color: #7f7f7f\"> fa8a9258-6206-48fc-81… </span>│<span style=\"color: #000080; text-decoration-color: #000080\"> 20          </span>│<span style=\"color: #7f7f7f; text-decoration-color: #7f7f7f\"> 6643233d-7499-4b7a-b… </span>│ sell │\n",
       "│<span style=\"color: #008080; text-decoration-color: #008080\">     153 </span>│        9 │  $9.00 │<span style=\"color: #008000; text-decoration-color: #008000\"> 8           </span>│<span style=\"color: #7f7f7f; text-decoration-color: #7f7f7f\"> b23f55dc-9db5-4632-8b… </span>│<span style=\"color: #000080; text-decoration-color: #000080\"> 20          </span>│<span style=\"color: #7f7f7f; text-decoration-color: #7f7f7f\"> 6643233d-7499-4b7a-b… </span>│ sell │\n",
       "│<span style=\"color: #008080; text-decoration-color: #008080\">     154 </span>│       31 │  $9.00 │<span style=\"color: #008000; text-decoration-color: #008000\"> 7           </span>│<span style=\"color: #7f7f7f; text-decoration-color: #7f7f7f\"> d1a48546-375f-49f9-b8… </span>│<span style=\"color: #000080; text-decoration-color: #000080\"> 20          </span>│<span style=\"color: #7f7f7f; text-decoration-color: #7f7f7f\"> 6643233d-7499-4b7a-b… </span>│ sell │\n",
       "│<span style=\"color: #008080; text-decoration-color: #008080\">     155 </span>│       45 │ $11.00 │<span style=\"color: #008000; text-decoration-color: #008000\"> 3           </span>│<span style=\"color: #7f7f7f; text-decoration-color: #7f7f7f\"> 182320fb-3475-49de-b0… </span>│<span style=\"color: #000080; text-decoration-color: #000080\"> 9           </span>│<span style=\"color: #7f7f7f; text-decoration-color: #7f7f7f\"> 58feba90-005f-43d5-9… </span>│ buy  │\n",
       "│<span style=\"color: #008080; text-decoration-color: #008080\">     156 </span>│        5 │ $11.00 │<span style=\"color: #008000; text-decoration-color: #008000\"> 7           </span>│<span style=\"color: #7f7f7f; text-decoration-color: #7f7f7f\"> d1a48546-375f-49f9-b8… </span>│<span style=\"color: #000080; text-decoration-color: #000080\"> 9           </span>│<span style=\"color: #7f7f7f; text-decoration-color: #7f7f7f\"> 58feba90-005f-43d5-9… </span>│ buy  │\n",
       "│<span style=\"color: #008080; text-decoration-color: #008080\">     157 </span>│       25 │ $11.00 │<span style=\"color: #008000; text-decoration-color: #008000\"> 7           </span>│<span style=\"color: #7f7f7f; text-decoration-color: #7f7f7f\"> d1a48546-375f-49f9-b8… </span>│<span style=\"color: #000080; text-decoration-color: #000080\"> 15          </span>│<span style=\"color: #7f7f7f; text-decoration-color: #7f7f7f\"> d8db39d8-d3d6-4e2c-8… </span>│ buy  │\n",
       "│<span style=\"color: #008080; text-decoration-color: #008080\">     158 </span>│       30 │ $11.00 │<span style=\"color: #008000; text-decoration-color: #008000\"> 12          </span>│<span style=\"color: #7f7f7f; text-decoration-color: #7f7f7f\"> a4107c07-6a0d-4710-89… </span>│<span style=\"color: #000080; text-decoration-color: #000080\"> 15          </span>│<span style=\"color: #7f7f7f; text-decoration-color: #7f7f7f\"> d8db39d8-d3d6-4e2c-8… </span>│ buy  │\n",
       "│<span style=\"color: #008080; text-decoration-color: #008080\">     159 </span>│       45 │ $11.00 │<span style=\"color: #008000; text-decoration-color: #008000\"> 2           </span>│<span style=\"color: #7f7f7f; text-decoration-color: #7f7f7f\"> 99151189-cb6f-457c-8b… </span>│<span style=\"color: #000080; text-decoration-color: #000080\"> 15          </span>│<span style=\"color: #7f7f7f; text-decoration-color: #7f7f7f\"> d8db39d8-d3d6-4e2c-8… </span>│ buy  │\n",
       "│<span style=\"color: #008080; text-decoration-color: #008080\">     160 </span>│       61 │ $10.00 │<span style=\"color: #008000; text-decoration-color: #008000\"> 4           </span>│<span style=\"color: #7f7f7f; text-decoration-color: #7f7f7f\"> 25a6b711-b285-483f-9b… </span>│<span style=\"color: #000080; text-decoration-color: #000080\"> 15          </span>│<span style=\"color: #7f7f7f; text-decoration-color: #7f7f7f\"> d8db39d8-d3d6-4e2c-8… </span>│ buy  │\n",
       "│<span style=\"color: #008080; text-decoration-color: #008080\">     161 </span>│       19 │  $9.00 │<span style=\"color: #008000; text-decoration-color: #008000\"> 7           </span>│<span style=\"color: #7f7f7f; text-decoration-color: #7f7f7f\"> d1a48546-375f-49f9-b8… </span>│<span style=\"color: #000080; text-decoration-color: #000080\"> 4           </span>│<span style=\"color: #7f7f7f; text-decoration-color: #7f7f7f\"> 25a6b711-b285-483f-9… </span>│ sell │\n",
       "│<span style=\"color: #008080; text-decoration-color: #008080\">     162 </span>│       40 │  $9.00 │<span style=\"color: #008000; text-decoration-color: #008000\"> 7           </span>│<span style=\"color: #7f7f7f; text-decoration-color: #7f7f7f\"> d1a48546-375f-49f9-b8… </span>│<span style=\"color: #000080; text-decoration-color: #000080\"> 4           </span>│<span style=\"color: #7f7f7f; text-decoration-color: #7f7f7f\"> 25a6b711-b285-483f-9… </span>│ sell │\n",
       "│<span style=\"color: #008080; text-decoration-color: #008080\">     163 </span>│       31 │  $9.00 │<span style=\"color: #008000; text-decoration-color: #008000\"> 7           </span>│<span style=\"color: #7f7f7f; text-decoration-color: #7f7f7f\"> d1a48546-375f-49f9-b8… </span>│<span style=\"color: #000080; text-decoration-color: #000080\"> 4           </span>│<span style=\"color: #7f7f7f; text-decoration-color: #7f7f7f\"> 25a6b711-b285-483f-9… </span>│ sell │\n",
       "│<span style=\"color: #008080; text-decoration-color: #008080\">     164 </span>│        8 │  $9.00 │<span style=\"color: #008000; text-decoration-color: #008000\"> 7           </span>│<span style=\"color: #7f7f7f; text-decoration-color: #7f7f7f\"> d1a48546-375f-49f9-b8… </span>│<span style=\"color: #000080; text-decoration-color: #000080\"> 20          </span>│<span style=\"color: #7f7f7f; text-decoration-color: #7f7f7f\"> 6643233d-7499-4b7a-b… </span>│ sell │\n",
       "│<span style=\"color: #008080; text-decoration-color: #008080\">     165 </span>│       20 │ $10.00 │<span style=\"color: #008000; text-decoration-color: #008000\"> 4           </span>│<span style=\"color: #7f7f7f; text-decoration-color: #7f7f7f\"> 25a6b711-b285-483f-9b… </span>│<span style=\"color: #000080; text-decoration-color: #000080\"> 3           </span>│<span style=\"color: #7f7f7f; text-decoration-color: #7f7f7f\"> 182320fb-3475-49de-b… </span>│ buy  │\n",
       "│<span style=\"color: #008080; text-decoration-color: #008080\">     166 </span>│        9 │ $10.00 │<span style=\"color: #008000; text-decoration-color: #008000\"> 4           </span>│<span style=\"color: #7f7f7f; text-decoration-color: #7f7f7f\"> 25a6b711-b285-483f-9b… </span>│<span style=\"color: #000080; text-decoration-color: #000080\"> 3           </span>│<span style=\"color: #7f7f7f; text-decoration-color: #7f7f7f\"> 182320fb-3475-49de-b… </span>│ buy  │\n",
       "│<span style=\"color: #008080; text-decoration-color: #008080\">     167 </span>│       11 │ $10.00 │<span style=\"color: #008000; text-decoration-color: #008000\"> 8           </span>│<span style=\"color: #7f7f7f; text-decoration-color: #7f7f7f\"> b23f55dc-9db5-4632-8b… </span>│<span style=\"color: #000080; text-decoration-color: #000080\"> 3           </span>│<span style=\"color: #7f7f7f; text-decoration-color: #7f7f7f\"> 182320fb-3475-49de-b… </span>│ buy  │\n",
       "│<span style=\"color: #008080; text-decoration-color: #008080\">     168 </span>│       19 │ $10.00 │<span style=\"color: #008000; text-decoration-color: #008000\"> 8           </span>│<span style=\"color: #7f7f7f; text-decoration-color: #7f7f7f\"> b23f55dc-9db5-4632-8b… </span>│<span style=\"color: #000080; text-decoration-color: #000080\"> 3           </span>│<span style=\"color: #7f7f7f; text-decoration-color: #7f7f7f\"> 182320fb-3475-49de-b… </span>│ buy  │\n",
       "│<span style=\"color: #008080; text-decoration-color: #008080\">     169 </span>│        1 │ $10.00 │<span style=\"color: #008000; text-decoration-color: #008000\"> 12          </span>│<span style=\"color: #7f7f7f; text-decoration-color: #7f7f7f\"> a4107c07-6a0d-4710-89… </span>│<span style=\"color: #000080; text-decoration-color: #000080\"> 3           </span>│<span style=\"color: #7f7f7f; text-decoration-color: #7f7f7f\"> 182320fb-3475-49de-b… </span>│ buy  │\n",
       "│<span style=\"color: #008080; text-decoration-color: #008080\">     170 </span>│        1 │ $10.00 │<span style=\"color: #008000; text-decoration-color: #008000\"> 12          </span>│<span style=\"color: #7f7f7f; text-decoration-color: #7f7f7f\"> a4107c07-6a0d-4710-89… </span>│<span style=\"color: #000080; text-decoration-color: #000080\"> 3           </span>│<span style=\"color: #7f7f7f; text-decoration-color: #7f7f7f\"> 182320fb-3475-49de-b… </span>│ buy  │\n",
       "│<span style=\"color: #008080; text-decoration-color: #008080\">     171 </span>│        3 │ $10.00 │<span style=\"color: #008000; text-decoration-color: #008000\"> 6           </span>│<span style=\"color: #7f7f7f; text-decoration-color: #7f7f7f\"> 4a42da52-9be1-40d8-87… </span>│<span style=\"color: #000080; text-decoration-color: #000080\"> 3           </span>│<span style=\"color: #7f7f7f; text-decoration-color: #7f7f7f\"> 182320fb-3475-49de-b… </span>│ buy  │\n",
       "│<span style=\"color: #008080; text-decoration-color: #008080\">     172 </span>│       11 │  $9.00 │<span style=\"color: #008000; text-decoration-color: #008000\"> 7           </span>│<span style=\"color: #7f7f7f; text-decoration-color: #7f7f7f\"> d1a48546-375f-49f9-b8… </span>│<span style=\"color: #000080; text-decoration-color: #000080\"> 13          </span>│<span style=\"color: #7f7f7f; text-decoration-color: #7f7f7f\"> fa8a9258-6206-48fc-8… </span>│ sell │\n",
       "│<span style=\"color: #008080; text-decoration-color: #008080\">     173 </span>│       50 │  $8.00 │<span style=\"color: #008000; text-decoration-color: #008000\"> 1           </span>│<span style=\"color: #7f7f7f; text-decoration-color: #7f7f7f\"> f8d93e64-87de-4a47-b0… </span>│<span style=\"color: #000080; text-decoration-color: #000080\"> 7           </span>│<span style=\"color: #7f7f7f; text-decoration-color: #7f7f7f\"> d1a48546-375f-49f9-b… </span>│ sell │\n",
       "│<span style=\"color: #008080; text-decoration-color: #008080\">     174 </span>│       50 │  $9.00 │<span style=\"color: #008000; text-decoration-color: #008000\"> 13          </span>│<span style=\"color: #7f7f7f; text-decoration-color: #7f7f7f\"> fa8a9258-6206-48fc-81… </span>│<span style=\"color: #000080; text-decoration-color: #000080\"> 2           </span>│<span style=\"color: #7f7f7f; text-decoration-color: #7f7f7f\"> 99151189-cb6f-457c-8… </span>│ buy  │\n",
       "│<span style=\"color: #008080; text-decoration-color: #008080\">     175 </span>│       12 │  $9.00 │<span style=\"color: #008000; text-decoration-color: #008000\"> 13          </span>│<span style=\"color: #7f7f7f; text-decoration-color: #7f7f7f\"> fa8a9258-6206-48fc-81… </span>│<span style=\"color: #000080; text-decoration-color: #000080\"> 12          </span>│<span style=\"color: #7f7f7f; text-decoration-color: #7f7f7f\"> a4107c07-6a0d-4710-8… </span>│ buy  │\n",
       "│<span style=\"color: #008080; text-decoration-color: #008080\">     176 </span>│        7 │  $9.00 │<span style=\"color: #008000; text-decoration-color: #008000\"> 13          </span>│<span style=\"color: #7f7f7f; text-decoration-color: #7f7f7f\"> fa8a9258-6206-48fc-81… </span>│<span style=\"color: #000080; text-decoration-color: #000080\"> 16          </span>│<span style=\"color: #7f7f7f; text-decoration-color: #7f7f7f\"> b4bb277a-1a92-4698-8… </span>│ buy  │\n",
       "│<span style=\"color: #008080; text-decoration-color: #008080\">     177 </span>│      143 │  $9.00 │<span style=\"color: #008000; text-decoration-color: #008000\"> 5           </span>│<span style=\"color: #7f7f7f; text-decoration-color: #7f7f7f\"> 361ef7c2-e97d-4b86-bf… </span>│<span style=\"color: #000080; text-decoration-color: #000080\"> 16          </span>│<span style=\"color: #7f7f7f; text-decoration-color: #7f7f7f\"> b4bb277a-1a92-4698-8… </span>│ buy  │\n",
       "│<span style=\"color: #008080; text-decoration-color: #008080\">     178 </span>│       20 │  $9.00 │<span style=\"color: #008000; text-decoration-color: #008000\"> 5           </span>│<span style=\"color: #7f7f7f; text-decoration-color: #7f7f7f\"> 361ef7c2-e97d-4b86-bf… </span>│<span style=\"color: #000080; text-decoration-color: #000080\"> 2           </span>│<span style=\"color: #7f7f7f; text-decoration-color: #7f7f7f\"> 99151189-cb6f-457c-8… </span>│ buy  │\n",
       "│<span style=\"color: #008080; text-decoration-color: #008080\">     179 </span>│       30 │  $8.00 │<span style=\"color: #008000; text-decoration-color: #008000\"> 7           </span>│<span style=\"color: #7f7f7f; text-decoration-color: #7f7f7f\"> d1a48546-375f-49f9-b8… </span>│<span style=\"color: #000080; text-decoration-color: #000080\"> 11          </span>│<span style=\"color: #7f7f7f; text-decoration-color: #7f7f7f\"> 061bc19c-3e99-4c5a-a… </span>│ sell │\n",
       "│<span style=\"color: #008080; text-decoration-color: #008080\">     180 </span>│       30 │  $8.00 │<span style=\"color: #008000; text-decoration-color: #008000\"> 7           </span>│<span style=\"color: #7f7f7f; text-decoration-color: #7f7f7f\"> d1a48546-375f-49f9-b8… </span>│<span style=\"color: #000080; text-decoration-color: #000080\"> 11          </span>│<span style=\"color: #7f7f7f; text-decoration-color: #7f7f7f\"> 061bc19c-3e99-4c5a-a… </span>│ sell │\n",
       "│<span style=\"color: #008080; text-decoration-color: #008080\">     181 </span>│       30 │  $8.00 │<span style=\"color: #008000; text-decoration-color: #008000\"> 1           </span>│<span style=\"color: #7f7f7f; text-decoration-color: #7f7f7f\"> f8d93e64-87de-4a47-b0… </span>│<span style=\"color: #000080; text-decoration-color: #000080\"> 11          </span>│<span style=\"color: #7f7f7f; text-decoration-color: #7f7f7f\"> 061bc19c-3e99-4c5a-a… </span>│ sell │\n",
       "│<span style=\"color: #008080; text-decoration-color: #008080\">     182 </span>│       30 │  $8.00 │<span style=\"color: #008000; text-decoration-color: #008000\"> 16          </span>│<span style=\"color: #7f7f7f; text-decoration-color: #7f7f7f\"> b4bb277a-1a92-4698-89… </span>│<span style=\"color: #000080; text-decoration-color: #000080\"> 11          </span>│<span style=\"color: #7f7f7f; text-decoration-color: #7f7f7f\"> 061bc19c-3e99-4c5a-a… </span>│ sell │\n",
       "│<span style=\"color: #008080; text-decoration-color: #008080\">     183 </span>│       63 │  $8.00 │<span style=\"color: #008000; text-decoration-color: #008000\"> 7           </span>│<span style=\"color: #7f7f7f; text-decoration-color: #7f7f7f\"> d1a48546-375f-49f9-b8… </span>│<span style=\"color: #000080; text-decoration-color: #000080\"> 11          </span>│<span style=\"color: #7f7f7f; text-decoration-color: #7f7f7f\"> 061bc19c-3e99-4c5a-a… </span>│ sell │\n",
       "│<span style=\"color: #008080; text-decoration-color: #008080\">     184 </span>│       37 │  $9.00 │<span style=\"color: #008000; text-decoration-color: #008000\"> 5           </span>│<span style=\"color: #7f7f7f; text-decoration-color: #7f7f7f\"> 361ef7c2-e97d-4b86-bf… </span>│<span style=\"color: #000080; text-decoration-color: #000080\"> 16          </span>│<span style=\"color: #7f7f7f; text-decoration-color: #7f7f7f\"> b4bb277a-1a92-4698-8… </span>│ buy  │\n",
       "│<span style=\"color: #008080; text-decoration-color: #008080\">     185 </span>│       97 │ $10.00 │<span style=\"color: #008000; text-decoration-color: #008000\"> 6           </span>│<span style=\"color: #7f7f7f; text-decoration-color: #7f7f7f\"> 4a42da52-9be1-40d8-87… </span>│<span style=\"color: #000080; text-decoration-color: #000080\"> 16          </span>│<span style=\"color: #7f7f7f; text-decoration-color: #7f7f7f\"> b4bb277a-1a92-4698-8… </span>│ buy  │\n",
       "│<span style=\"color: #008080; text-decoration-color: #008080\">     186 </span>│       16 │ $10.00 │<span style=\"color: #008000; text-decoration-color: #008000\"> 16          </span>│<span style=\"color: #7f7f7f; text-decoration-color: #7f7f7f\"> b4bb277a-1a92-4698-89… </span>│<span style=\"color: #000080; text-decoration-color: #000080\"> 13          </span>│<span style=\"color: #7f7f7f; text-decoration-color: #7f7f7f\"> fa8a9258-6206-48fc-8… </span>│ sell │\n",
       "│<span style=\"color: #008080; text-decoration-color: #008080\">     187 </span>│        7 │  $8.00 │<span style=\"color: #008000; text-decoration-color: #008000\"> 7           </span>│<span style=\"color: #7f7f7f; text-decoration-color: #7f7f7f\"> d1a48546-375f-49f9-b8… </span>│<span style=\"color: #000080; text-decoration-color: #000080\"> 13          </span>│<span style=\"color: #7f7f7f; text-decoration-color: #7f7f7f\"> fa8a9258-6206-48fc-8… </span>│ sell │\n",
       "│<span style=\"color: #008080; text-decoration-color: #008080\">     188 </span>│       10 │  $8.00 │<span style=\"color: #008000; text-decoration-color: #008000\"> 8           </span>│<span style=\"color: #7f7f7f; text-decoration-color: #7f7f7f\"> b23f55dc-9db5-4632-8b… </span>│<span style=\"color: #000080; text-decoration-color: #000080\"> 13          </span>│<span style=\"color: #7f7f7f; text-decoration-color: #7f7f7f\"> fa8a9258-6206-48fc-8… </span>│ sell │\n",
       "│<span style=\"color: #008080; text-decoration-color: #008080\">     189 </span>│        7 │  $8.00 │<span style=\"color: #008000; text-decoration-color: #008000\"> 13          </span>│<span style=\"color: #7f7f7f; text-decoration-color: #7f7f7f\"> fa8a9258-6206-48fc-81… </span>│<span style=\"color: #000080; text-decoration-color: #000080\"> 16          </span>│<span style=\"color: #7f7f7f; text-decoration-color: #7f7f7f\"> b4bb277a-1a92-4698-8… </span>│ buy  │\n",
       "│<span style=\"color: #008080; text-decoration-color: #008080\">     190 </span>│      143 │  $9.00 │<span style=\"color: #008000; text-decoration-color: #008000\"> 17          </span>│<span style=\"color: #7f7f7f; text-decoration-color: #7f7f7f\"> b698bca8-0c4e-4c78-b9… </span>│<span style=\"color: #000080; text-decoration-color: #000080\"> 16          </span>│<span style=\"color: #7f7f7f; text-decoration-color: #7f7f7f\"> b4bb277a-1a92-4698-8… </span>│ buy  │\n",
       "│<span style=\"color: #008080; text-decoration-color: #008080\">     191 </span>│       50 │  $8.00 │<span style=\"color: #008000; text-decoration-color: #008000\"> 7           </span>│<span style=\"color: #7f7f7f; text-decoration-color: #7f7f7f\"> d1a48546-375f-49f9-b8… </span>│<span style=\"color: #000080; text-decoration-color: #000080\"> 18          </span>│<span style=\"color: #7f7f7f; text-decoration-color: #7f7f7f\"> 0dc93dfc-ebf7-47de-b… </span>│ buy  │\n",
       "│<span style=\"color: #008080; text-decoration-color: #008080\">     192 </span>│       48 │  $8.00 │<span style=\"color: #008000; text-decoration-color: #008000\"> 7           </span>│<span style=\"color: #7f7f7f; text-decoration-color: #7f7f7f\"> d1a48546-375f-49f9-b8… </span>│<span style=\"color: #000080; text-decoration-color: #000080\"> 18          </span>│<span style=\"color: #7f7f7f; text-decoration-color: #7f7f7f\"> 0dc93dfc-ebf7-47de-b… </span>│ buy  │\n",
       "│<span style=\"color: #008080; text-decoration-color: #008080\">     193 </span>│       52 │  $9.00 │<span style=\"color: #008000; text-decoration-color: #008000\"> 17          </span>│<span style=\"color: #7f7f7f; text-decoration-color: #7f7f7f\"> b698bca8-0c4e-4c78-b9… </span>│<span style=\"color: #000080; text-decoration-color: #000080\"> 18          </span>│<span style=\"color: #7f7f7f; text-decoration-color: #7f7f7f\"> 0dc93dfc-ebf7-47de-b… </span>│ buy  │\n",
       "│<span style=\"color: #008080; text-decoration-color: #008080\">     194 </span>│       10 │ $10.00 │<span style=\"color: #008000; text-decoration-color: #008000\"> 1           </span>│<span style=\"color: #7f7f7f; text-decoration-color: #7f7f7f\"> f8d93e64-87de-4a47-b0… </span>│<span style=\"color: #000080; text-decoration-color: #000080\"> 18          </span>│<span style=\"color: #7f7f7f; text-decoration-color: #7f7f7f\"> 0dc93dfc-ebf7-47de-b… </span>│ buy  │\n",
       "│<span style=\"color: #008080; text-decoration-color: #008080\">     195 </span>│       41 │ $10.00 │<span style=\"color: #008000; text-decoration-color: #008000\"> 1           </span>│<span style=\"color: #7f7f7f; text-decoration-color: #7f7f7f\"> f8d93e64-87de-4a47-b0… </span>│<span style=\"color: #000080; text-decoration-color: #000080\"> 10          </span>│<span style=\"color: #7f7f7f; text-decoration-color: #7f7f7f\"> 5ecae8a0-42dd-45f1-a… </span>│ buy  │\n",
       "│<span style=\"color: #008080; text-decoration-color: #008080\">     196 </span>│        5 │ $11.00 │<span style=\"color: #008000; text-decoration-color: #008000\"> 2           </span>│<span style=\"color: #7f7f7f; text-decoration-color: #7f7f7f\"> 99151189-cb6f-457c-8b… </span>│<span style=\"color: #000080; text-decoration-color: #000080\"> 10          </span>│<span style=\"color: #7f7f7f; text-decoration-color: #7f7f7f\"> 5ecae8a0-42dd-45f1-a… </span>│ buy  │\n",
       "│<span style=\"color: #008080; text-decoration-color: #008080\">     197 </span>│       16 │ $11.00 │<span style=\"color: #008000; text-decoration-color: #008000\"> 18          </span>│<span style=\"color: #7f7f7f; text-decoration-color: #7f7f7f\"> 0dc93dfc-ebf7-47de-bf… </span>│<span style=\"color: #000080; text-decoration-color: #000080\"> 10          </span>│<span style=\"color: #7f7f7f; text-decoration-color: #7f7f7f\"> 5ecae8a0-42dd-45f1-a… </span>│ buy  │\n",
       "│<span style=\"color: #008080; text-decoration-color: #008080\">     198 </span>│       60 │ $11.00 │<span style=\"color: #008000; text-decoration-color: #008000\"> 12          </span>│<span style=\"color: #7f7f7f; text-decoration-color: #7f7f7f\"> a4107c07-6a0d-4710-89… </span>│<span style=\"color: #000080; text-decoration-color: #000080\"> 10          </span>│<span style=\"color: #7f7f7f; text-decoration-color: #7f7f7f\"> 5ecae8a0-42dd-45f1-a… </span>│ buy  │\n",
       "│<span style=\"color: #008080; text-decoration-color: #008080\">     199 </span>│       20 │ $11.00 │<span style=\"color: #008000; text-decoration-color: #008000\"> 8           </span>│<span style=\"color: #7f7f7f; text-decoration-color: #7f7f7f\"> b23f55dc-9db5-4632-8b… </span>│<span style=\"color: #000080; text-decoration-color: #000080\"> 10          </span>│<span style=\"color: #7f7f7f; text-decoration-color: #7f7f7f\"> 5ecae8a0-42dd-45f1-a… </span>│ buy  │\n",
       "│<span style=\"color: #008080; text-decoration-color: #008080\">     200 </span>│        9 │ $11.00 │<span style=\"color: #008000; text-decoration-color: #008000\"> 9           </span>│<span style=\"color: #7f7f7f; text-decoration-color: #7f7f7f\"> 58feba90-005f-43d5-93… </span>│<span style=\"color: #000080; text-decoration-color: #000080\"> 10          </span>│<span style=\"color: #7f7f7f; text-decoration-color: #7f7f7f\"> 5ecae8a0-42dd-45f1-a… </span>│ buy  │\n",
       "│<span style=\"color: #008080; text-decoration-color: #008080\">     201 </span>│      107 │ $10.00 │<span style=\"color: #008000; text-decoration-color: #008000\"> 6           </span>│<span style=\"color: #7f7f7f; text-decoration-color: #7f7f7f\"> 4a42da52-9be1-40d8-87… </span>│<span style=\"color: #000080; text-decoration-color: #000080\"> 15          </span>│<span style=\"color: #7f7f7f; text-decoration-color: #7f7f7f\"> d8db39d8-d3d6-4e2c-8… </span>│ sell │\n",
       "│<span style=\"color: #008080; text-decoration-color: #008080\">     202 </span>│       56 │  $9.00 │<span style=\"color: #008000; text-decoration-color: #008000\"> 14          </span>│<span style=\"color: #7f7f7f; text-decoration-color: #7f7f7f\"> 0097b91e-d691-4cae-8e… </span>│<span style=\"color: #000080; text-decoration-color: #000080\"> 15          </span>│<span style=\"color: #7f7f7f; text-decoration-color: #7f7f7f\"> d8db39d8-d3d6-4e2c-8… </span>│ sell │\n",
       "│<span style=\"color: #008080; text-decoration-color: #008080\">     203 </span>│       50 │ $11.00 │<span style=\"color: #008000; text-decoration-color: #008000\"> 9           </span>│<span style=\"color: #7f7f7f; text-decoration-color: #7f7f7f\"> 58feba90-005f-43d5-93… </span>│<span style=\"color: #000080; text-decoration-color: #000080\"> 20          </span>│<span style=\"color: #7f7f7f; text-decoration-color: #7f7f7f\"> 6643233d-7499-4b7a-b… </span>│ buy  │\n",
       "│<span style=\"color: #008080; text-decoration-color: #008080\">     204 </span>│       10 │ $11.00 │<span style=\"color: #008000; text-decoration-color: #008000\"> 9           </span>│<span style=\"color: #7f7f7f; text-decoration-color: #7f7f7f\"> 58feba90-005f-43d5-93… </span>│<span style=\"color: #000080; text-decoration-color: #000080\"> 20          </span>│<span style=\"color: #7f7f7f; text-decoration-color: #7f7f7f\"> 6643233d-7499-4b7a-b… </span>│ buy  │\n",
       "└─────────┴──────────┴────────┴─────────────┴────────────────────────┴─────────────┴───────────────────────┴──────┘\n",
       "</pre>\n"
      ],
      "text/plain": [
       "┏━━━━━━━━━┳━━━━━━━━━━┳━━━━━━━━┳━━━━━━━━━━━━━┳━━━━━━━━━━━━━━━━━━━━━━━━┳━━━━━━━━━━━━━┳━━━━━━━━━━━━━━━━━━━━━━━┳━━━━━━┓\n",
       "┃\u001b[1;35m \u001b[0m\u001b[1;35mTrade #\u001b[0m\u001b[1;35m \u001b[0m┃\u001b[1;35m \u001b[0m\u001b[1;35mQuantity\u001b[0m\u001b[1;35m \u001b[0m┃\u001b[1;35m \u001b[0m\u001b[1;35m Price\u001b[0m\u001b[1;35m \u001b[0m┃\u001b[1;35m \u001b[0m\u001b[1;35mMaker Group\u001b[0m\u001b[1;35m \u001b[0m┃\u001b[1;35m \u001b[0m\u001b[1;35mMaker UUID            \u001b[0m\u001b[1;35m \u001b[0m┃\u001b[1;35m \u001b[0m\u001b[1;35mTaker Group\u001b[0m\u001b[1;35m \u001b[0m┃\u001b[1;35m \u001b[0m\u001b[1;35mTaker UUID           \u001b[0m\u001b[1;35m \u001b[0m┃\u001b[1;35m \u001b[0m\u001b[1;35mSide\u001b[0m\u001b[1;35m \u001b[0m┃\n",
       "┡━━━━━━━━━╇━━━━━━━━━━╇━━━━━━━━╇━━━━━━━━━━━━━╇━━━━━━━━━━━━━━━━━━━━━━━━╇━━━━━━━━━━━━━╇━━━━━━━━━━━━━━━━━━━━━━━╇━━━━━━┩\n",
       "│\u001b[36m \u001b[0m\u001b[36m      1\u001b[0m\u001b[36m \u001b[0m│       30 │ $11.00 │\u001b[32m \u001b[0m\u001b[32m15         \u001b[0m\u001b[32m \u001b[0m│\u001b[2m \u001b[0m\u001b[2md8db39d8-d3d6-4e2c-87…\u001b[0m\u001b[2m \u001b[0m│\u001b[34m \u001b[0m\u001b[34m16         \u001b[0m\u001b[34m \u001b[0m│\u001b[2m \u001b[0m\u001b[2mb4bb277a-1a92-4698-8…\u001b[0m\u001b[2m \u001b[0m│ sell │\n",
       "│\u001b[36m \u001b[0m\u001b[36m      2\u001b[0m\u001b[36m \u001b[0m│       30 │ $11.00 │\u001b[32m \u001b[0m\u001b[32m15         \u001b[0m\u001b[32m \u001b[0m│\u001b[2m \u001b[0m\u001b[2md8db39d8-d3d6-4e2c-87…\u001b[0m\u001b[2m \u001b[0m│\u001b[34m \u001b[0m\u001b[34m16         \u001b[0m\u001b[34m \u001b[0m│\u001b[2m \u001b[0m\u001b[2mb4bb277a-1a92-4698-8…\u001b[0m\u001b[2m \u001b[0m│ sell │\n",
       "│\u001b[36m \u001b[0m\u001b[36m      3\u001b[0m\u001b[36m \u001b[0m│       10 │ $11.00 │\u001b[32m \u001b[0m\u001b[32m15         \u001b[0m\u001b[32m \u001b[0m│\u001b[2m \u001b[0m\u001b[2md8db39d8-d3d6-4e2c-87…\u001b[0m\u001b[2m \u001b[0m│\u001b[34m \u001b[0m\u001b[34m6          \u001b[0m\u001b[34m \u001b[0m│\u001b[2m \u001b[0m\u001b[2m4a42da52-9be1-40d8-8…\u001b[0m\u001b[2m \u001b[0m│ sell │\n",
       "│\u001b[36m \u001b[0m\u001b[36m      4\u001b[0m\u001b[36m \u001b[0m│       10 │ $11.00 │\u001b[32m \u001b[0m\u001b[32m15         \u001b[0m\u001b[32m \u001b[0m│\u001b[2m \u001b[0m\u001b[2md8db39d8-d3d6-4e2c-87…\u001b[0m\u001b[2m \u001b[0m│\u001b[34m \u001b[0m\u001b[34m6          \u001b[0m\u001b[34m \u001b[0m│\u001b[2m \u001b[0m\u001b[2m4a42da52-9be1-40d8-8…\u001b[0m\u001b[2m \u001b[0m│ sell │\n",
       "│\u001b[36m \u001b[0m\u001b[36m      5\u001b[0m\u001b[36m \u001b[0m│       50 │ $10.00 │\u001b[32m \u001b[0m\u001b[32m5          \u001b[0m\u001b[32m \u001b[0m│\u001b[2m \u001b[0m\u001b[2m361ef7c2-e97d-4b86-bf…\u001b[0m\u001b[2m \u001b[0m│\u001b[34m \u001b[0m\u001b[34m10         \u001b[0m\u001b[34m \u001b[0m│\u001b[2m \u001b[0m\u001b[2m5ecae8a0-42dd-45f1-a…\u001b[0m\u001b[2m \u001b[0m│ sell │\n",
       "│\u001b[36m \u001b[0m\u001b[36m      6\u001b[0m\u001b[36m \u001b[0m│       30 │ $10.00 │\u001b[32m \u001b[0m\u001b[32m5          \u001b[0m\u001b[32m \u001b[0m│\u001b[2m \u001b[0m\u001b[2m361ef7c2-e97d-4b86-bf…\u001b[0m\u001b[2m \u001b[0m│\u001b[34m \u001b[0m\u001b[34m10         \u001b[0m\u001b[34m \u001b[0m│\u001b[2m \u001b[0m\u001b[2m5ecae8a0-42dd-45f1-a…\u001b[0m\u001b[2m \u001b[0m│ sell │\n",
       "│\u001b[36m \u001b[0m\u001b[36m      7\u001b[0m\u001b[36m \u001b[0m│       20 │ $11.00 │\u001b[32m \u001b[0m\u001b[32m10         \u001b[0m\u001b[32m \u001b[0m│\u001b[2m \u001b[0m\u001b[2m5ecae8a0-42dd-45f1-ad…\u001b[0m\u001b[2m \u001b[0m│\u001b[34m \u001b[0m\u001b[34m3          \u001b[0m\u001b[34m \u001b[0m│\u001b[2m \u001b[0m\u001b[2m182320fb-3475-49de-b…\u001b[0m\u001b[2m \u001b[0m│ buy  │\n",
       "│\u001b[36m \u001b[0m\u001b[36m      8\u001b[0m\u001b[36m \u001b[0m│        5 │ $12.00 │\u001b[32m \u001b[0m\u001b[32m16         \u001b[0m\u001b[32m \u001b[0m│\u001b[2m \u001b[0m\u001b[2mb4bb277a-1a92-4698-89…\u001b[0m\u001b[2m \u001b[0m│\u001b[34m \u001b[0m\u001b[34m3          \u001b[0m\u001b[34m \u001b[0m│\u001b[2m \u001b[0m\u001b[2m182320fb-3475-49de-b…\u001b[0m\u001b[2m \u001b[0m│ buy  │\n",
       "│\u001b[36m \u001b[0m\u001b[36m      9\u001b[0m\u001b[36m \u001b[0m│       20 │ $11.00 │\u001b[32m \u001b[0m\u001b[32m3          \u001b[0m\u001b[32m \u001b[0m│\u001b[2m \u001b[0m\u001b[2m182320fb-3475-49de-b0…\u001b[0m\u001b[2m \u001b[0m│\u001b[34m \u001b[0m\u001b[34m2          \u001b[0m\u001b[34m \u001b[0m│\u001b[2m \u001b[0m\u001b[2m99151189-cb6f-457c-8…\u001b[0m\u001b[2m \u001b[0m│ sell │\n",
       "│\u001b[36m \u001b[0m\u001b[36m     10\u001b[0m\u001b[36m \u001b[0m│       20 │ $11.00 │\u001b[32m \u001b[0m\u001b[32m3          \u001b[0m\u001b[32m \u001b[0m│\u001b[2m \u001b[0m\u001b[2m182320fb-3475-49de-b0…\u001b[0m\u001b[2m \u001b[0m│\u001b[34m \u001b[0m\u001b[34m12         \u001b[0m\u001b[34m \u001b[0m│\u001b[2m \u001b[0m\u001b[2ma4107c07-6a0d-4710-8…\u001b[0m\u001b[2m \u001b[0m│ sell │\n",
       "│\u001b[36m \u001b[0m\u001b[36m     11\u001b[0m\u001b[36m \u001b[0m│       10 │ $11.00 │\u001b[32m \u001b[0m\u001b[32m3          \u001b[0m\u001b[32m \u001b[0m│\u001b[2m \u001b[0m\u001b[2m182320fb-3475-49de-b0…\u001b[0m\u001b[2m \u001b[0m│\u001b[34m \u001b[0m\u001b[34m2          \u001b[0m\u001b[34m \u001b[0m│\u001b[2m \u001b[0m\u001b[2m99151189-cb6f-457c-8…\u001b[0m\u001b[2m \u001b[0m│ sell │\n",
       "│\u001b[36m \u001b[0m\u001b[36m     12\u001b[0m\u001b[36m \u001b[0m│       10 │ $11.00 │\u001b[32m \u001b[0m\u001b[32m17         \u001b[0m\u001b[32m \u001b[0m│\u001b[2m \u001b[0m\u001b[2mb698bca8-0c4e-4c78-b9…\u001b[0m\u001b[2m \u001b[0m│\u001b[34m \u001b[0m\u001b[34m2          \u001b[0m\u001b[34m \u001b[0m│\u001b[2m \u001b[0m\u001b[2m99151189-cb6f-457c-8…\u001b[0m\u001b[2m \u001b[0m│ sell │\n",
       "│\u001b[36m \u001b[0m\u001b[36m     13\u001b[0m\u001b[36m \u001b[0m│       20 │ $11.00 │\u001b[32m \u001b[0m\u001b[32m17         \u001b[0m\u001b[32m \u001b[0m│\u001b[2m \u001b[0m\u001b[2mb698bca8-0c4e-4c78-b9…\u001b[0m\u001b[2m \u001b[0m│\u001b[34m \u001b[0m\u001b[34m12         \u001b[0m\u001b[34m \u001b[0m│\u001b[2m \u001b[0m\u001b[2ma4107c07-6a0d-4710-8…\u001b[0m\u001b[2m \u001b[0m│ sell │\n",
       "│\u001b[36m \u001b[0m\u001b[36m     14\u001b[0m\u001b[36m \u001b[0m│        5 │ $12.00 │\u001b[32m \u001b[0m\u001b[32m16         \u001b[0m\u001b[32m \u001b[0m│\u001b[2m \u001b[0m\u001b[2mb4bb277a-1a92-4698-89…\u001b[0m\u001b[2m \u001b[0m│\u001b[34m \u001b[0m\u001b[34m17         \u001b[0m\u001b[34m \u001b[0m│\u001b[2m \u001b[0m\u001b[2mb698bca8-0c4e-4c78-b…\u001b[0m\u001b[2m \u001b[0m│ buy  │\n",
       "│\u001b[36m \u001b[0m\u001b[36m     15\u001b[0m\u001b[36m \u001b[0m│       10 │ $11.00 │\u001b[32m \u001b[0m\u001b[32m17         \u001b[0m\u001b[32m \u001b[0m│\u001b[2m \u001b[0m\u001b[2mb698bca8-0c4e-4c78-b9…\u001b[0m\u001b[2m \u001b[0m│\u001b[34m \u001b[0m\u001b[34m2          \u001b[0m\u001b[34m \u001b[0m│\u001b[2m \u001b[0m\u001b[2m99151189-cb6f-457c-8…\u001b[0m\u001b[2m \u001b[0m│ sell │\n",
       "│\u001b[36m \u001b[0m\u001b[36m     16\u001b[0m\u001b[36m \u001b[0m│       20 │ $11.00 │\u001b[32m \u001b[0m\u001b[32m13         \u001b[0m\u001b[32m \u001b[0m│\u001b[2m \u001b[0m\u001b[2mfa8a9258-6206-48fc-81…\u001b[0m\u001b[2m \u001b[0m│\u001b[34m \u001b[0m\u001b[34m2          \u001b[0m\u001b[34m \u001b[0m│\u001b[2m \u001b[0m\u001b[2m99151189-cb6f-457c-8…\u001b[0m\u001b[2m \u001b[0m│ sell │\n",
       "│\u001b[36m \u001b[0m\u001b[36m     17\u001b[0m\u001b[36m \u001b[0m│       10 │ $10.00 │\u001b[32m \u001b[0m\u001b[32m17         \u001b[0m\u001b[32m \u001b[0m│\u001b[2m \u001b[0m\u001b[2mb698bca8-0c4e-4c78-b9…\u001b[0m\u001b[2m \u001b[0m│\u001b[34m \u001b[0m\u001b[34m2          \u001b[0m\u001b[34m \u001b[0m│\u001b[2m \u001b[0m\u001b[2m99151189-cb6f-457c-8…\u001b[0m\u001b[2m \u001b[0m│ sell │\n",
       "│\u001b[36m \u001b[0m\u001b[36m     18\u001b[0m\u001b[36m \u001b[0m│       39 │ $10.00 │\u001b[32m \u001b[0m\u001b[32m17         \u001b[0m\u001b[32m \u001b[0m│\u001b[2m \u001b[0m\u001b[2mb698bca8-0c4e-4c78-b9…\u001b[0m\u001b[2m \u001b[0m│\u001b[34m \u001b[0m\u001b[34m2          \u001b[0m\u001b[34m \u001b[0m│\u001b[2m \u001b[0m\u001b[2m99151189-cb6f-457c-8…\u001b[0m\u001b[2m \u001b[0m│ sell │\n",
       "│\u001b[36m \u001b[0m\u001b[36m     19\u001b[0m\u001b[36m \u001b[0m│       18 │ $11.00 │\u001b[32m \u001b[0m\u001b[32m12         \u001b[0m\u001b[32m \u001b[0m│\u001b[2m \u001b[0m\u001b[2ma4107c07-6a0d-4710-89…\u001b[0m\u001b[2m \u001b[0m│\u001b[34m \u001b[0m\u001b[34m5          \u001b[0m\u001b[34m \u001b[0m│\u001b[2m \u001b[0m\u001b[2m361ef7c2-e97d-4b86-b…\u001b[0m\u001b[2m \u001b[0m│ buy  │\n",
       "│\u001b[36m \u001b[0m\u001b[36m     20\u001b[0m\u001b[36m \u001b[0m│        1 │ $10.00 │\u001b[32m \u001b[0m\u001b[32m17         \u001b[0m\u001b[32m \u001b[0m│\u001b[2m \u001b[0m\u001b[2mb698bca8-0c4e-4c78-b9…\u001b[0m\u001b[2m \u001b[0m│\u001b[34m \u001b[0m\u001b[34m18         \u001b[0m\u001b[34m \u001b[0m│\u001b[2m \u001b[0m\u001b[2m0dc93dfc-ebf7-47de-b…\u001b[0m\u001b[2m \u001b[0m│ sell │\n",
       "│\u001b[36m \u001b[0m\u001b[36m     21\u001b[0m\u001b[36m \u001b[0m│       25 │ $10.00 │\u001b[32m \u001b[0m\u001b[32m3          \u001b[0m\u001b[32m \u001b[0m│\u001b[2m \u001b[0m\u001b[2m182320fb-3475-49de-b0…\u001b[0m\u001b[2m \u001b[0m│\u001b[34m \u001b[0m\u001b[34m18         \u001b[0m\u001b[34m \u001b[0m│\u001b[2m \u001b[0m\u001b[2m0dc93dfc-ebf7-47de-b…\u001b[0m\u001b[2m \u001b[0m│ sell │\n",
       "│\u001b[36m \u001b[0m\u001b[36m     22\u001b[0m\u001b[36m \u001b[0m│        4 │ $10.00 │\u001b[32m \u001b[0m\u001b[32m11         \u001b[0m\u001b[32m \u001b[0m│\u001b[2m \u001b[0m\u001b[2m061bc19c-3e99-4c5a-a7…\u001b[0m\u001b[2m \u001b[0m│\u001b[34m \u001b[0m\u001b[34m18         \u001b[0m\u001b[34m \u001b[0m│\u001b[2m \u001b[0m\u001b[2m0dc93dfc-ebf7-47de-b…\u001b[0m\u001b[2m \u001b[0m│ sell │\n",
       "│\u001b[36m \u001b[0m\u001b[36m     23\u001b[0m\u001b[36m \u001b[0m│        8 │ $11.00 │\u001b[32m \u001b[0m\u001b[32m12         \u001b[0m\u001b[32m \u001b[0m│\u001b[2m \u001b[0m\u001b[2ma4107c07-6a0d-4710-89…\u001b[0m\u001b[2m \u001b[0m│\u001b[34m \u001b[0m\u001b[34m1          \u001b[0m\u001b[34m \u001b[0m│\u001b[2m \u001b[0m\u001b[2mf8d93e64-87de-4a47-b…\u001b[0m\u001b[2m \u001b[0m│ buy  │\n",
       "│\u001b[36m \u001b[0m\u001b[36m     24\u001b[0m\u001b[36m \u001b[0m│       20 │ $10.00 │\u001b[32m \u001b[0m\u001b[32m11         \u001b[0m\u001b[32m \u001b[0m│\u001b[2m \u001b[0m\u001b[2m061bc19c-3e99-4c5a-a7…\u001b[0m\u001b[2m \u001b[0m│\u001b[34m \u001b[0m\u001b[34m4          \u001b[0m\u001b[34m \u001b[0m│\u001b[2m \u001b[0m\u001b[2m25a6b711-b285-483f-9…\u001b[0m\u001b[2m \u001b[0m│ sell │\n",
       "│\u001b[36m \u001b[0m\u001b[36m     25\u001b[0m\u001b[36m \u001b[0m│        3 │ $11.00 │\u001b[32m \u001b[0m\u001b[32m12         \u001b[0m\u001b[32m \u001b[0m│\u001b[2m \u001b[0m\u001b[2ma4107c07-6a0d-4710-89…\u001b[0m\u001b[2m \u001b[0m│\u001b[34m \u001b[0m\u001b[34m1          \u001b[0m\u001b[34m \u001b[0m│\u001b[2m \u001b[0m\u001b[2mf8d93e64-87de-4a47-b…\u001b[0m\u001b[2m \u001b[0m│ buy  │\n",
       "│\u001b[36m \u001b[0m\u001b[36m     26\u001b[0m\u001b[36m \u001b[0m│       30 │ $10.00 │\u001b[32m \u001b[0m\u001b[32m11         \u001b[0m\u001b[32m \u001b[0m│\u001b[2m \u001b[0m\u001b[2m061bc19c-3e99-4c5a-a7…\u001b[0m\u001b[2m \u001b[0m│\u001b[34m \u001b[0m\u001b[34m20         \u001b[0m\u001b[34m \u001b[0m│\u001b[2m \u001b[0m\u001b[2m6643233d-7499-4b7a-b…\u001b[0m\u001b[2m \u001b[0m│ sell │\n",
       "│\u001b[36m \u001b[0m\u001b[36m     27\u001b[0m\u001b[36m \u001b[0m│       46 │ $10.00 │\u001b[32m \u001b[0m\u001b[32m11         \u001b[0m\u001b[32m \u001b[0m│\u001b[2m \u001b[0m\u001b[2m061bc19c-3e99-4c5a-a7…\u001b[0m\u001b[2m \u001b[0m│\u001b[34m \u001b[0m\u001b[34m5          \u001b[0m\u001b[34m \u001b[0m│\u001b[2m \u001b[0m\u001b[2m361ef7c2-e97d-4b86-b…\u001b[0m\u001b[2m \u001b[0m│ sell │\n",
       "│\u001b[36m \u001b[0m\u001b[36m     28\u001b[0m\u001b[36m \u001b[0m│       40 │ $10.00 │\u001b[32m \u001b[0m\u001b[32m7          \u001b[0m\u001b[32m \u001b[0m│\u001b[2m \u001b[0m\u001b[2md1a48546-375f-49f9-b8…\u001b[0m\u001b[2m \u001b[0m│\u001b[34m \u001b[0m\u001b[34m5          \u001b[0m\u001b[34m \u001b[0m│\u001b[2m \u001b[0m\u001b[2m361ef7c2-e97d-4b86-b…\u001b[0m\u001b[2m \u001b[0m│ sell │\n",
       "│\u001b[36m \u001b[0m\u001b[36m     29\u001b[0m\u001b[36m \u001b[0m│       20 │ $10.00 │\u001b[32m \u001b[0m\u001b[32m13         \u001b[0m\u001b[32m \u001b[0m│\u001b[2m \u001b[0m\u001b[2mfa8a9258-6206-48fc-81…\u001b[0m\u001b[2m \u001b[0m│\u001b[34m \u001b[0m\u001b[34m5          \u001b[0m\u001b[34m \u001b[0m│\u001b[2m \u001b[0m\u001b[2m361ef7c2-e97d-4b86-b…\u001b[0m\u001b[2m \u001b[0m│ sell │\n",
       "│\u001b[36m \u001b[0m\u001b[36m     30\u001b[0m\u001b[36m \u001b[0m│       50 │ $10.00 │\u001b[32m \u001b[0m\u001b[32m9          \u001b[0m\u001b[32m \u001b[0m│\u001b[2m \u001b[0m\u001b[2m58feba90-005f-43d5-93…\u001b[0m\u001b[2m \u001b[0m│\u001b[34m \u001b[0m\u001b[34m5          \u001b[0m\u001b[34m \u001b[0m│\u001b[2m \u001b[0m\u001b[2m361ef7c2-e97d-4b86-b…\u001b[0m\u001b[2m \u001b[0m│ sell │\n",
       "│\u001b[36m \u001b[0m\u001b[36m     31\u001b[0m\u001b[36m \u001b[0m│       10 │ $10.00 │\u001b[32m \u001b[0m\u001b[32m5          \u001b[0m\u001b[32m \u001b[0m│\u001b[2m \u001b[0m\u001b[2m361ef7c2-e97d-4b86-bf…\u001b[0m\u001b[2m \u001b[0m│\u001b[34m \u001b[0m\u001b[34m16         \u001b[0m\u001b[34m \u001b[0m│\u001b[2m \u001b[0m\u001b[2mb4bb277a-1a92-4698-8…\u001b[0m\u001b[2m \u001b[0m│ buy  │\n",
       "│\u001b[36m \u001b[0m\u001b[36m     32\u001b[0m\u001b[36m \u001b[0m│       14 │ $10.00 │\u001b[32m \u001b[0m\u001b[32m5          \u001b[0m\u001b[32m \u001b[0m│\u001b[2m \u001b[0m\u001b[2m361ef7c2-e97d-4b86-bf…\u001b[0m\u001b[2m \u001b[0m│\u001b[34m \u001b[0m\u001b[34m14         \u001b[0m\u001b[34m \u001b[0m│\u001b[2m \u001b[0m\u001b[2m0097b91e-d691-4cae-8…\u001b[0m\u001b[2m \u001b[0m│ buy  │\n",
       "│\u001b[36m \u001b[0m\u001b[36m     33\u001b[0m\u001b[36m \u001b[0m│       26 │ $10.00 │\u001b[32m \u001b[0m\u001b[32m11         \u001b[0m\u001b[32m \u001b[0m│\u001b[2m \u001b[0m\u001b[2m061bc19c-3e99-4c5a-a7…\u001b[0m\u001b[2m \u001b[0m│\u001b[34m \u001b[0m\u001b[34m14         \u001b[0m\u001b[34m \u001b[0m│\u001b[2m \u001b[0m\u001b[2m0097b91e-d691-4cae-8…\u001b[0m\u001b[2m \u001b[0m│ buy  │\n",
       "│\u001b[36m \u001b[0m\u001b[36m     34\u001b[0m\u001b[36m \u001b[0m│       30 │ $10.00 │\u001b[32m \u001b[0m\u001b[32m11         \u001b[0m\u001b[32m \u001b[0m│\u001b[2m \u001b[0m\u001b[2m061bc19c-3e99-4c5a-a7…\u001b[0m\u001b[2m \u001b[0m│\u001b[34m \u001b[0m\u001b[34m14         \u001b[0m\u001b[34m \u001b[0m│\u001b[2m \u001b[0m\u001b[2m0097b91e-d691-4cae-8…\u001b[0m\u001b[2m \u001b[0m│ buy  │\n",
       "│\u001b[36m \u001b[0m\u001b[36m     35\u001b[0m\u001b[36m \u001b[0m│       50 │ $10.00 │\u001b[32m \u001b[0m\u001b[32m11         \u001b[0m\u001b[32m \u001b[0m│\u001b[2m \u001b[0m\u001b[2m061bc19c-3e99-4c5a-a7…\u001b[0m\u001b[2m \u001b[0m│\u001b[34m \u001b[0m\u001b[34m2          \u001b[0m\u001b[34m \u001b[0m│\u001b[2m \u001b[0m\u001b[2m99151189-cb6f-457c-8…\u001b[0m\u001b[2m \u001b[0m│ buy  │\n",
       "│\u001b[36m \u001b[0m\u001b[36m     36\u001b[0m\u001b[36m \u001b[0m│       48 │ $10.00 │\u001b[32m \u001b[0m\u001b[32m11         \u001b[0m\u001b[32m \u001b[0m│\u001b[2m \u001b[0m\u001b[2m061bc19c-3e99-4c5a-a7…\u001b[0m\u001b[2m \u001b[0m│\u001b[34m \u001b[0m\u001b[34m2          \u001b[0m\u001b[34m \u001b[0m│\u001b[2m \u001b[0m\u001b[2m99151189-cb6f-457c-8…\u001b[0m\u001b[2m \u001b[0m│ buy  │\n",
       "│\u001b[36m \u001b[0m\u001b[36m     37\u001b[0m\u001b[36m \u001b[0m│        2 │ $10.00 │\u001b[32m \u001b[0m\u001b[32m3          \u001b[0m\u001b[32m \u001b[0m│\u001b[2m \u001b[0m\u001b[2m182320fb-3475-49de-b0…\u001b[0m\u001b[2m \u001b[0m│\u001b[34m \u001b[0m\u001b[34m2          \u001b[0m\u001b[34m \u001b[0m│\u001b[2m \u001b[0m\u001b[2m99151189-cb6f-457c-8…\u001b[0m\u001b[2m \u001b[0m│ buy  │\n",
       "│\u001b[36m \u001b[0m\u001b[36m     38\u001b[0m\u001b[36m \u001b[0m│       60 │ $10.00 │\u001b[32m \u001b[0m\u001b[32m3          \u001b[0m\u001b[32m \u001b[0m│\u001b[2m \u001b[0m\u001b[2m182320fb-3475-49de-b0…\u001b[0m\u001b[2m \u001b[0m│\u001b[34m \u001b[0m\u001b[34m18         \u001b[0m\u001b[34m \u001b[0m│\u001b[2m \u001b[0m\u001b[2m0dc93dfc-ebf7-47de-b…\u001b[0m\u001b[2m \u001b[0m│ buy  │\n",
       "│\u001b[36m \u001b[0m\u001b[36m     39\u001b[0m\u001b[36m \u001b[0m│       20 │ $10.00 │\u001b[32m \u001b[0m\u001b[32m3          \u001b[0m\u001b[32m \u001b[0m│\u001b[2m \u001b[0m\u001b[2m182320fb-3475-49de-b0…\u001b[0m\u001b[2m \u001b[0m│\u001b[34m \u001b[0m\u001b[34m2          \u001b[0m\u001b[34m \u001b[0m│\u001b[2m \u001b[0m\u001b[2m99151189-cb6f-457c-8…\u001b[0m\u001b[2m \u001b[0m│ buy  │\n",
       "│\u001b[36m \u001b[0m\u001b[36m     40\u001b[0m\u001b[36m \u001b[0m│       18 │ $10.00 │\u001b[32m \u001b[0m\u001b[32m3          \u001b[0m\u001b[32m \u001b[0m│\u001b[2m \u001b[0m\u001b[2m182320fb-3475-49de-b0…\u001b[0m\u001b[2m \u001b[0m│\u001b[34m \u001b[0m\u001b[34m18         \u001b[0m\u001b[34m \u001b[0m│\u001b[2m \u001b[0m\u001b[2m0dc93dfc-ebf7-47de-b…\u001b[0m\u001b[2m \u001b[0m│ buy  │\n",
       "│\u001b[36m \u001b[0m\u001b[36m     41\u001b[0m\u001b[36m \u001b[0m│       12 │ $10.00 │\u001b[32m \u001b[0m\u001b[32m13         \u001b[0m\u001b[32m \u001b[0m│\u001b[2m \u001b[0m\u001b[2mfa8a9258-6206-48fc-81…\u001b[0m\u001b[2m \u001b[0m│\u001b[34m \u001b[0m\u001b[34m18         \u001b[0m\u001b[34m \u001b[0m│\u001b[2m \u001b[0m\u001b[2m0dc93dfc-ebf7-47de-b…\u001b[0m\u001b[2m \u001b[0m│ buy  │\n",
       "│\u001b[36m \u001b[0m\u001b[36m     42\u001b[0m\u001b[36m \u001b[0m│        8 │ $10.00 │\u001b[32m \u001b[0m\u001b[32m13         \u001b[0m\u001b[32m \u001b[0m│\u001b[2m \u001b[0m\u001b[2mfa8a9258-6206-48fc-81…\u001b[0m\u001b[2m \u001b[0m│\u001b[34m \u001b[0m\u001b[34m12         \u001b[0m\u001b[34m \u001b[0m│\u001b[2m \u001b[0m\u001b[2ma4107c07-6a0d-4710-8…\u001b[0m\u001b[2m \u001b[0m│ buy  │\n",
       "│\u001b[36m \u001b[0m\u001b[36m     43\u001b[0m\u001b[36m \u001b[0m│       22 │ $10.00 │\u001b[32m \u001b[0m\u001b[32m13         \u001b[0m\u001b[32m \u001b[0m│\u001b[2m \u001b[0m\u001b[2mfa8a9258-6206-48fc-81…\u001b[0m\u001b[2m \u001b[0m│\u001b[34m \u001b[0m\u001b[34m12         \u001b[0m\u001b[34m \u001b[0m│\u001b[2m \u001b[0m\u001b[2ma4107c07-6a0d-4710-8…\u001b[0m\u001b[2m \u001b[0m│ buy  │\n",
       "│\u001b[36m \u001b[0m\u001b[36m     44\u001b[0m\u001b[36m \u001b[0m│        8 │ $10.00 │\u001b[32m \u001b[0m\u001b[32m13         \u001b[0m\u001b[32m \u001b[0m│\u001b[2m \u001b[0m\u001b[2mfa8a9258-6206-48fc-81…\u001b[0m\u001b[2m \u001b[0m│\u001b[34m \u001b[0m\u001b[34m4          \u001b[0m\u001b[34m \u001b[0m│\u001b[2m \u001b[0m\u001b[2m25a6b711-b285-483f-9…\u001b[0m\u001b[2m \u001b[0m│ buy  │\n",
       "│\u001b[36m \u001b[0m\u001b[36m     45\u001b[0m\u001b[36m \u001b[0m│        1 │ $11.00 │\u001b[32m \u001b[0m\u001b[32m12         \u001b[0m\u001b[32m \u001b[0m│\u001b[2m \u001b[0m\u001b[2ma4107c07-6a0d-4710-89…\u001b[0m\u001b[2m \u001b[0m│\u001b[34m \u001b[0m\u001b[34m2          \u001b[0m\u001b[34m \u001b[0m│\u001b[2m \u001b[0m\u001b[2m99151189-cb6f-457c-8…\u001b[0m\u001b[2m \u001b[0m│ buy  │\n",
       "│\u001b[36m \u001b[0m\u001b[36m     46\u001b[0m\u001b[36m \u001b[0m│       40 │ $11.00 │\u001b[32m \u001b[0m\u001b[32m18         \u001b[0m\u001b[32m \u001b[0m│\u001b[2m \u001b[0m\u001b[2m0dc93dfc-ebf7-47de-bf…\u001b[0m\u001b[2m \u001b[0m│\u001b[34m \u001b[0m\u001b[34m2          \u001b[0m\u001b[34m \u001b[0m│\u001b[2m \u001b[0m\u001b[2m99151189-cb6f-457c-8…\u001b[0m\u001b[2m \u001b[0m│ buy  │\n",
       "│\u001b[36m \u001b[0m\u001b[36m     47\u001b[0m\u001b[36m \u001b[0m│        9 │ $11.00 │\u001b[32m \u001b[0m\u001b[32m5          \u001b[0m\u001b[32m \u001b[0m│\u001b[2m \u001b[0m\u001b[2m361ef7c2-e97d-4b86-bf…\u001b[0m\u001b[2m \u001b[0m│\u001b[34m \u001b[0m\u001b[34m2          \u001b[0m\u001b[34m \u001b[0m│\u001b[2m \u001b[0m\u001b[2m99151189-cb6f-457c-8…\u001b[0m\u001b[2m \u001b[0m│ buy  │\n",
       "│\u001b[36m \u001b[0m\u001b[36m     48\u001b[0m\u001b[36m \u001b[0m│        9 │ $11.00 │\u001b[32m \u001b[0m\u001b[32m5          \u001b[0m\u001b[32m \u001b[0m│\u001b[2m \u001b[0m\u001b[2m361ef7c2-e97d-4b86-bf…\u001b[0m\u001b[2m \u001b[0m│\u001b[34m \u001b[0m\u001b[34m6          \u001b[0m\u001b[34m \u001b[0m│\u001b[2m \u001b[0m\u001b[2m4a42da52-9be1-40d8-8…\u001b[0m\u001b[2m \u001b[0m│ buy  │\n",
       "│\u001b[36m \u001b[0m\u001b[36m     49\u001b[0m\u001b[36m \u001b[0m│       16 │ $11.00 │\u001b[32m \u001b[0m\u001b[32m17         \u001b[0m\u001b[32m \u001b[0m│\u001b[2m \u001b[0m\u001b[2mb698bca8-0c4e-4c78-b9…\u001b[0m\u001b[2m \u001b[0m│\u001b[34m \u001b[0m\u001b[34m6          \u001b[0m\u001b[34m \u001b[0m│\u001b[2m \u001b[0m\u001b[2m4a42da52-9be1-40d8-8…\u001b[0m\u001b[2m \u001b[0m│ buy  │\n",
       "│\u001b[36m \u001b[0m\u001b[36m     50\u001b[0m\u001b[36m \u001b[0m│       20 │ $11.00 │\u001b[32m \u001b[0m\u001b[32m17         \u001b[0m\u001b[32m \u001b[0m│\u001b[2m \u001b[0m\u001b[2mb698bca8-0c4e-4c78-b9…\u001b[0m\u001b[2m \u001b[0m│\u001b[34m \u001b[0m\u001b[34m6          \u001b[0m\u001b[34m \u001b[0m│\u001b[2m \u001b[0m\u001b[2m4a42da52-9be1-40d8-8…\u001b[0m\u001b[2m \u001b[0m│ buy  │\n",
       "│\u001b[36m \u001b[0m\u001b[36m     51\u001b[0m\u001b[36m \u001b[0m│       10 │ $11.00 │\u001b[32m \u001b[0m\u001b[32m17         \u001b[0m\u001b[32m \u001b[0m│\u001b[2m \u001b[0m\u001b[2mb698bca8-0c4e-4c78-b9…\u001b[0m\u001b[2m \u001b[0m│\u001b[34m \u001b[0m\u001b[34m6          \u001b[0m\u001b[34m \u001b[0m│\u001b[2m \u001b[0m\u001b[2m4a42da52-9be1-40d8-8…\u001b[0m\u001b[2m \u001b[0m│ buy  │\n",
       "│\u001b[36m \u001b[0m\u001b[36m     52\u001b[0m\u001b[36m \u001b[0m│       50 │ $11.00 │\u001b[32m \u001b[0m\u001b[32m17         \u001b[0m\u001b[32m \u001b[0m│\u001b[2m \u001b[0m\u001b[2mb698bca8-0c4e-4c78-b9…\u001b[0m\u001b[2m \u001b[0m│\u001b[34m \u001b[0m\u001b[34m4          \u001b[0m\u001b[34m \u001b[0m│\u001b[2m \u001b[0m\u001b[2m25a6b711-b285-483f-9…\u001b[0m\u001b[2m \u001b[0m│ buy  │\n",
       "│\u001b[36m \u001b[0m\u001b[36m     53\u001b[0m\u001b[36m \u001b[0m│        4 │ $11.00 │\u001b[32m \u001b[0m\u001b[32m17         \u001b[0m\u001b[32m \u001b[0m│\u001b[2m \u001b[0m\u001b[2mb698bca8-0c4e-4c78-b9…\u001b[0m\u001b[2m \u001b[0m│\u001b[34m \u001b[0m\u001b[34m4          \u001b[0m\u001b[34m \u001b[0m│\u001b[2m \u001b[0m\u001b[2m25a6b711-b285-483f-9…\u001b[0m\u001b[2m \u001b[0m│ buy  │\n",
       "│\u001b[36m \u001b[0m\u001b[36m     54\u001b[0m\u001b[36m \u001b[0m│       16 │ $11.00 │\u001b[32m \u001b[0m\u001b[32m3          \u001b[0m\u001b[32m \u001b[0m│\u001b[2m \u001b[0m\u001b[2m182320fb-3475-49de-b0…\u001b[0m\u001b[2m \u001b[0m│\u001b[34m \u001b[0m\u001b[34m4          \u001b[0m\u001b[34m \u001b[0m│\u001b[2m \u001b[0m\u001b[2m25a6b711-b285-483f-9…\u001b[0m\u001b[2m \u001b[0m│ buy  │\n",
       "│\u001b[36m \u001b[0m\u001b[36m     55\u001b[0m\u001b[36m \u001b[0m│       10 │ $11.00 │\u001b[32m \u001b[0m\u001b[32m3          \u001b[0m\u001b[32m \u001b[0m│\u001b[2m \u001b[0m\u001b[2m182320fb-3475-49de-b0…\u001b[0m\u001b[2m \u001b[0m│\u001b[34m \u001b[0m\u001b[34m6          \u001b[0m\u001b[34m \u001b[0m│\u001b[2m \u001b[0m\u001b[2m4a42da52-9be1-40d8-8…\u001b[0m\u001b[2m \u001b[0m│ buy  │\n",
       "│\u001b[36m \u001b[0m\u001b[36m     56\u001b[0m\u001b[36m \u001b[0m│       19 │ $11.00 │\u001b[32m \u001b[0m\u001b[32m3          \u001b[0m\u001b[32m \u001b[0m│\u001b[2m \u001b[0m\u001b[2m182320fb-3475-49de-b0…\u001b[0m\u001b[2m \u001b[0m│\u001b[34m \u001b[0m\u001b[34m4          \u001b[0m\u001b[34m \u001b[0m│\u001b[2m \u001b[0m\u001b[2m25a6b711-b285-483f-9…\u001b[0m\u001b[2m \u001b[0m│ buy  │\n",
       "│\u001b[36m \u001b[0m\u001b[36m     57\u001b[0m\u001b[36m \u001b[0m│        5 │ $11.00 │\u001b[32m \u001b[0m\u001b[32m3          \u001b[0m\u001b[32m \u001b[0m│\u001b[2m \u001b[0m\u001b[2m182320fb-3475-49de-b0…\u001b[0m\u001b[2m \u001b[0m│\u001b[34m \u001b[0m\u001b[34m20         \u001b[0m\u001b[34m \u001b[0m│\u001b[2m \u001b[0m\u001b[2m6643233d-7499-4b7a-b…\u001b[0m\u001b[2m \u001b[0m│ buy  │\n",
       "│\u001b[36m \u001b[0m\u001b[36m     58\u001b[0m\u001b[36m \u001b[0m│       15 │ $11.00 │\u001b[32m \u001b[0m\u001b[32m13         \u001b[0m\u001b[32m \u001b[0m│\u001b[2m \u001b[0m\u001b[2mfa8a9258-6206-48fc-81…\u001b[0m\u001b[2m \u001b[0m│\u001b[34m \u001b[0m\u001b[34m20         \u001b[0m\u001b[34m \u001b[0m│\u001b[2m \u001b[0m\u001b[2m6643233d-7499-4b7a-b…\u001b[0m\u001b[2m \u001b[0m│ buy  │\n",
       "│\u001b[36m \u001b[0m\u001b[36m     59\u001b[0m\u001b[36m \u001b[0m│       12 │ $10.00 │\u001b[32m \u001b[0m\u001b[32m4          \u001b[0m\u001b[32m \u001b[0m│\u001b[2m \u001b[0m\u001b[2m25a6b711-b285-483f-9b…\u001b[0m\u001b[2m \u001b[0m│\u001b[34m \u001b[0m\u001b[34m7          \u001b[0m\u001b[34m \u001b[0m│\u001b[2m \u001b[0m\u001b[2md1a48546-375f-49f9-b…\u001b[0m\u001b[2m \u001b[0m│ sell │\n",
       "│\u001b[36m \u001b[0m\u001b[36m     60\u001b[0m\u001b[36m \u001b[0m│       18 │ $10.00 │\u001b[32m \u001b[0m\u001b[32m12         \u001b[0m\u001b[32m \u001b[0m│\u001b[2m \u001b[0m\u001b[2ma4107c07-6a0d-4710-89…\u001b[0m\u001b[2m \u001b[0m│\u001b[34m \u001b[0m\u001b[34m7          \u001b[0m\u001b[34m \u001b[0m│\u001b[2m \u001b[0m\u001b[2md1a48546-375f-49f9-b…\u001b[0m\u001b[2m \u001b[0m│ sell │\n",
       "│\u001b[36m \u001b[0m\u001b[36m     61\u001b[0m\u001b[36m \u001b[0m│       24 │ $10.00 │\u001b[32m \u001b[0m\u001b[32m12         \u001b[0m\u001b[32m \u001b[0m│\u001b[2m \u001b[0m\u001b[2ma4107c07-6a0d-4710-89…\u001b[0m\u001b[2m \u001b[0m│\u001b[34m \u001b[0m\u001b[34m2          \u001b[0m\u001b[34m \u001b[0m│\u001b[2m \u001b[0m\u001b[2m99151189-cb6f-457c-8…\u001b[0m\u001b[2m \u001b[0m│ sell │\n",
       "│\u001b[36m \u001b[0m\u001b[36m     62\u001b[0m\u001b[36m \u001b[0m│      127 │ $10.00 │\u001b[32m \u001b[0m\u001b[32m10         \u001b[0m\u001b[32m \u001b[0m│\u001b[2m \u001b[0m\u001b[2m5ecae8a0-42dd-45f1-ad…\u001b[0m\u001b[2m \u001b[0m│\u001b[34m \u001b[0m\u001b[34m2          \u001b[0m\u001b[34m \u001b[0m│\u001b[2m \u001b[0m\u001b[2m99151189-cb6f-457c-8…\u001b[0m\u001b[2m \u001b[0m│ sell │\n",
       "│\u001b[36m \u001b[0m\u001b[36m     63\u001b[0m\u001b[36m \u001b[0m│       75 │ $10.00 │\u001b[32m \u001b[0m\u001b[32m10         \u001b[0m\u001b[32m \u001b[0m│\u001b[2m \u001b[0m\u001b[2m5ecae8a0-42dd-45f1-ad…\u001b[0m\u001b[2m \u001b[0m│\u001b[34m \u001b[0m\u001b[34m14         \u001b[0m\u001b[34m \u001b[0m│\u001b[2m \u001b[0m\u001b[2m0097b91e-d691-4cae-8…\u001b[0m\u001b[2m \u001b[0m│ sell │\n",
       "│\u001b[36m \u001b[0m\u001b[36m     64\u001b[0m\u001b[36m \u001b[0m│       25 │ $10.00 │\u001b[32m \u001b[0m\u001b[32m20         \u001b[0m\u001b[32m \u001b[0m│\u001b[2m \u001b[0m\u001b[2m6643233d-7499-4b7a-bd…\u001b[0m\u001b[2m \u001b[0m│\u001b[34m \u001b[0m\u001b[34m14         \u001b[0m\u001b[34m \u001b[0m│\u001b[2m \u001b[0m\u001b[2m0097b91e-d691-4cae-8…\u001b[0m\u001b[2m \u001b[0m│ sell │\n",
       "│\u001b[36m \u001b[0m\u001b[36m     65\u001b[0m\u001b[36m \u001b[0m│       25 │ $10.00 │\u001b[32m \u001b[0m\u001b[32m20         \u001b[0m\u001b[32m \u001b[0m│\u001b[2m \u001b[0m\u001b[2m6643233d-7499-4b7a-bd…\u001b[0m\u001b[2m \u001b[0m│\u001b[34m \u001b[0m\u001b[34m18         \u001b[0m\u001b[34m \u001b[0m│\u001b[2m \u001b[0m\u001b[2m0dc93dfc-ebf7-47de-b…\u001b[0m\u001b[2m \u001b[0m│ sell │\n",
       "│\u001b[36m \u001b[0m\u001b[36m     66\u001b[0m\u001b[36m \u001b[0m│       12 │ $10.00 │\u001b[32m \u001b[0m\u001b[32m15         \u001b[0m\u001b[32m \u001b[0m│\u001b[2m \u001b[0m\u001b[2md8db39d8-d3d6-4e2c-87…\u001b[0m\u001b[2m \u001b[0m│\u001b[34m \u001b[0m\u001b[34m18         \u001b[0m\u001b[34m \u001b[0m│\u001b[2m \u001b[0m\u001b[2m0dc93dfc-ebf7-47de-b…\u001b[0m\u001b[2m \u001b[0m│ sell │\n",
       "│\u001b[36m \u001b[0m\u001b[36m     67\u001b[0m\u001b[36m \u001b[0m│       20 │ $10.00 │\u001b[32m \u001b[0m\u001b[32m13         \u001b[0m\u001b[32m \u001b[0m│\u001b[2m \u001b[0m\u001b[2mfa8a9258-6206-48fc-81…\u001b[0m\u001b[2m \u001b[0m│\u001b[34m \u001b[0m\u001b[34m18         \u001b[0m\u001b[34m \u001b[0m│\u001b[2m \u001b[0m\u001b[2m0dc93dfc-ebf7-47de-b…\u001b[0m\u001b[2m \u001b[0m│ sell │\n",
       "│\u001b[36m \u001b[0m\u001b[36m     68\u001b[0m\u001b[36m \u001b[0m│       43 │ $10.00 │\u001b[32m \u001b[0m\u001b[32m18         \u001b[0m\u001b[32m \u001b[0m│\u001b[2m \u001b[0m\u001b[2m0dc93dfc-ebf7-47de-bf…\u001b[0m\u001b[2m \u001b[0m│\u001b[34m \u001b[0m\u001b[34m3          \u001b[0m\u001b[34m \u001b[0m│\u001b[2m \u001b[0m\u001b[2m182320fb-3475-49de-b…\u001b[0m\u001b[2m \u001b[0m│ buy  │\n",
       "│\u001b[36m \u001b[0m\u001b[36m     69\u001b[0m\u001b[36m \u001b[0m│        5 │ $11.00 │\u001b[32m \u001b[0m\u001b[32m13         \u001b[0m\u001b[32m \u001b[0m│\u001b[2m \u001b[0m\u001b[2mfa8a9258-6206-48fc-81…\u001b[0m\u001b[2m \u001b[0m│\u001b[34m \u001b[0m\u001b[34m3          \u001b[0m\u001b[34m \u001b[0m│\u001b[2m \u001b[0m\u001b[2m182320fb-3475-49de-b…\u001b[0m\u001b[2m \u001b[0m│ buy  │\n",
       "│\u001b[36m \u001b[0m\u001b[36m     70\u001b[0m\u001b[36m \u001b[0m│        2 │ $11.00 │\u001b[32m \u001b[0m\u001b[32m1          \u001b[0m\u001b[32m \u001b[0m│\u001b[2m \u001b[0m\u001b[2mf8d93e64-87de-4a47-b0…\u001b[0m\u001b[2m \u001b[0m│\u001b[34m \u001b[0m\u001b[34m3          \u001b[0m\u001b[34m \u001b[0m│\u001b[2m \u001b[0m\u001b[2m182320fb-3475-49de-b…\u001b[0m\u001b[2m \u001b[0m│ buy  │\n",
       "│\u001b[36m \u001b[0m\u001b[36m     71\u001b[0m\u001b[36m \u001b[0m│      109 │ $11.00 │\u001b[32m \u001b[0m\u001b[32m1          \u001b[0m\u001b[32m \u001b[0m│\u001b[2m \u001b[0m\u001b[2mf8d93e64-87de-4a47-b0…\u001b[0m\u001b[2m \u001b[0m│\u001b[34m \u001b[0m\u001b[34m11         \u001b[0m\u001b[34m \u001b[0m│\u001b[2m \u001b[0m\u001b[2m061bc19c-3e99-4c5a-a…\u001b[0m\u001b[2m \u001b[0m│ buy  │\n",
       "│\u001b[36m \u001b[0m\u001b[36m     72\u001b[0m\u001b[36m \u001b[0m│       31 │ $11.00 │\u001b[32m \u001b[0m\u001b[32m15         \u001b[0m\u001b[32m \u001b[0m│\u001b[2m \u001b[0m\u001b[2md8db39d8-d3d6-4e2c-87…\u001b[0m\u001b[2m \u001b[0m│\u001b[34m \u001b[0m\u001b[34m11         \u001b[0m\u001b[34m \u001b[0m│\u001b[2m \u001b[0m\u001b[2m061bc19c-3e99-4c5a-a…\u001b[0m\u001b[2m \u001b[0m│ buy  │\n",
       "│\u001b[36m \u001b[0m\u001b[36m     73\u001b[0m\u001b[36m \u001b[0m│       19 │ $11.00 │\u001b[32m \u001b[0m\u001b[32m15         \u001b[0m\u001b[32m \u001b[0m│\u001b[2m \u001b[0m\u001b[2md8db39d8-d3d6-4e2c-87…\u001b[0m\u001b[2m \u001b[0m│\u001b[34m \u001b[0m\u001b[34m17         \u001b[0m\u001b[34m \u001b[0m│\u001b[2m \u001b[0m\u001b[2mb698bca8-0c4e-4c78-b…\u001b[0m\u001b[2m \u001b[0m│ buy  │\n",
       "│\u001b[36m \u001b[0m\u001b[36m     74\u001b[0m\u001b[36m \u001b[0m│       40 │ $11.00 │\u001b[32m \u001b[0m\u001b[32m7          \u001b[0m\u001b[32m \u001b[0m│\u001b[2m \u001b[0m\u001b[2md1a48546-375f-49f9-b8…\u001b[0m\u001b[2m \u001b[0m│\u001b[34m \u001b[0m\u001b[34m17         \u001b[0m\u001b[34m \u001b[0m│\u001b[2m \u001b[0m\u001b[2mb698bca8-0c4e-4c78-b…\u001b[0m\u001b[2m \u001b[0m│ buy  │\n",
       "│\u001b[36m \u001b[0m\u001b[36m     75\u001b[0m\u001b[36m \u001b[0m│       41 │ $11.00 │\u001b[32m \u001b[0m\u001b[32m14         \u001b[0m\u001b[32m \u001b[0m│\u001b[2m \u001b[0m\u001b[2m0097b91e-d691-4cae-8e…\u001b[0m\u001b[2m \u001b[0m│\u001b[34m \u001b[0m\u001b[34m17         \u001b[0m\u001b[34m \u001b[0m│\u001b[2m \u001b[0m\u001b[2mb698bca8-0c4e-4c78-b…\u001b[0m\u001b[2m \u001b[0m│ buy  │\n",
       "│\u001b[36m \u001b[0m\u001b[36m     76\u001b[0m\u001b[36m \u001b[0m│       25 │ $11.00 │\u001b[32m \u001b[0m\u001b[32m14         \u001b[0m\u001b[32m \u001b[0m│\u001b[2m \u001b[0m\u001b[2m0097b91e-d691-4cae-8e…\u001b[0m\u001b[2m \u001b[0m│\u001b[34m \u001b[0m\u001b[34m3          \u001b[0m\u001b[34m \u001b[0m│\u001b[2m \u001b[0m\u001b[2m182320fb-3475-49de-b…\u001b[0m\u001b[2m \u001b[0m│ buy  │\n",
       "│\u001b[36m \u001b[0m\u001b[36m     77\u001b[0m\u001b[36m \u001b[0m│      100 │ $10.00 │\u001b[32m \u001b[0m\u001b[32m5          \u001b[0m\u001b[32m \u001b[0m│\u001b[2m \u001b[0m\u001b[2m361ef7c2-e97d-4b86-bf…\u001b[0m\u001b[2m \u001b[0m│\u001b[34m \u001b[0m\u001b[34m2          \u001b[0m\u001b[34m \u001b[0m│\u001b[2m \u001b[0m\u001b[2m99151189-cb6f-457c-8…\u001b[0m\u001b[2m \u001b[0m│ sell │\n",
       "│\u001b[36m \u001b[0m\u001b[36m     78\u001b[0m\u001b[36m \u001b[0m│      100 │ $10.00 │\u001b[32m \u001b[0m\u001b[32m5          \u001b[0m\u001b[32m \u001b[0m│\u001b[2m \u001b[0m\u001b[2m361ef7c2-e97d-4b86-bf…\u001b[0m\u001b[2m \u001b[0m│\u001b[34m \u001b[0m\u001b[34m1          \u001b[0m\u001b[34m \u001b[0m│\u001b[2m \u001b[0m\u001b[2mf8d93e64-87de-4a47-b…\u001b[0m\u001b[2m \u001b[0m│ sell │\n",
       "│\u001b[36m \u001b[0m\u001b[36m     79\u001b[0m\u001b[36m \u001b[0m│       11 │ $10.00 │\u001b[32m \u001b[0m\u001b[32m3          \u001b[0m\u001b[32m \u001b[0m│\u001b[2m \u001b[0m\u001b[2m182320fb-3475-49de-b0…\u001b[0m\u001b[2m \u001b[0m│\u001b[34m \u001b[0m\u001b[34m1          \u001b[0m\u001b[34m \u001b[0m│\u001b[2m \u001b[0m\u001b[2mf8d93e64-87de-4a47-b…\u001b[0m\u001b[2m \u001b[0m│ sell │\n",
       "│\u001b[36m \u001b[0m\u001b[36m     80\u001b[0m\u001b[36m \u001b[0m│       89 │ $10.00 │\u001b[32m \u001b[0m\u001b[32m3          \u001b[0m\u001b[32m \u001b[0m│\u001b[2m \u001b[0m\u001b[2m182320fb-3475-49de-b0…\u001b[0m\u001b[2m \u001b[0m│\u001b[34m \u001b[0m\u001b[34m4          \u001b[0m\u001b[34m \u001b[0m│\u001b[2m \u001b[0m\u001b[2m25a6b711-b285-483f-9…\u001b[0m\u001b[2m \u001b[0m│ sell │\n",
       "│\u001b[36m \u001b[0m\u001b[36m     81\u001b[0m\u001b[36m \u001b[0m│       11 │ $10.00 │\u001b[32m \u001b[0m\u001b[32m4          \u001b[0m\u001b[32m \u001b[0m│\u001b[2m \u001b[0m\u001b[2m25a6b711-b285-483f-9b…\u001b[0m\u001b[2m \u001b[0m│\u001b[34m \u001b[0m\u001b[34m13         \u001b[0m\u001b[34m \u001b[0m│\u001b[2m \u001b[0m\u001b[2mfa8a9258-6206-48fc-8…\u001b[0m\u001b[2m \u001b[0m│ buy  │\n",
       "│\u001b[36m \u001b[0m\u001b[36m     82\u001b[0m\u001b[36m \u001b[0m│        4 │ $11.00 │\u001b[32m \u001b[0m\u001b[32m14         \u001b[0m\u001b[32m \u001b[0m│\u001b[2m \u001b[0m\u001b[2m0097b91e-d691-4cae-8e…\u001b[0m\u001b[2m \u001b[0m│\u001b[34m \u001b[0m\u001b[34m13         \u001b[0m\u001b[34m \u001b[0m│\u001b[2m \u001b[0m\u001b[2mfa8a9258-6206-48fc-8…\u001b[0m\u001b[2m \u001b[0m│ buy  │\n",
       "│\u001b[36m \u001b[0m\u001b[36m     83\u001b[0m\u001b[36m \u001b[0m│       15 │ $11.00 │\u001b[32m \u001b[0m\u001b[32m20         \u001b[0m\u001b[32m \u001b[0m│\u001b[2m \u001b[0m\u001b[2m6643233d-7499-4b7a-bd…\u001b[0m\u001b[2m \u001b[0m│\u001b[34m \u001b[0m\u001b[34m13         \u001b[0m\u001b[34m \u001b[0m│\u001b[2m \u001b[0m\u001b[2mfa8a9258-6206-48fc-8…\u001b[0m\u001b[2m \u001b[0m│ buy  │\n",
       "│\u001b[36m \u001b[0m\u001b[36m     84\u001b[0m\u001b[36m \u001b[0m│       50 │ $10.00 │\u001b[32m \u001b[0m\u001b[32m9          \u001b[0m\u001b[32m \u001b[0m│\u001b[2m \u001b[0m\u001b[2m58feba90-005f-43d5-93…\u001b[0m\u001b[2m \u001b[0m│\u001b[34m \u001b[0m\u001b[34m4          \u001b[0m\u001b[34m \u001b[0m│\u001b[2m \u001b[0m\u001b[2m25a6b711-b285-483f-9…\u001b[0m\u001b[2m \u001b[0m│ sell │\n",
       "│\u001b[36m \u001b[0m\u001b[36m     85\u001b[0m\u001b[36m \u001b[0m│       30 │ $10.00 │\u001b[32m \u001b[0m\u001b[32m9          \u001b[0m\u001b[32m \u001b[0m│\u001b[2m \u001b[0m\u001b[2m58feba90-005f-43d5-93…\u001b[0m\u001b[2m \u001b[0m│\u001b[34m \u001b[0m\u001b[34m20         \u001b[0m\u001b[34m \u001b[0m│\u001b[2m \u001b[0m\u001b[2m6643233d-7499-4b7a-b…\u001b[0m\u001b[2m \u001b[0m│ sell │\n",
       "│\u001b[36m \u001b[0m\u001b[36m     86\u001b[0m\u001b[36m \u001b[0m│       10 │ $11.00 │\u001b[32m \u001b[0m\u001b[32m20         \u001b[0m\u001b[32m \u001b[0m│\u001b[2m \u001b[0m\u001b[2m6643233d-7499-4b7a-bd…\u001b[0m\u001b[2m \u001b[0m│\u001b[34m \u001b[0m\u001b[34m13         \u001b[0m\u001b[34m \u001b[0m│\u001b[2m \u001b[0m\u001b[2mfa8a9258-6206-48fc-8…\u001b[0m\u001b[2m \u001b[0m│ buy  │\n",
       "│\u001b[36m \u001b[0m\u001b[36m     87\u001b[0m\u001b[36m \u001b[0m│       25 │ $11.00 │\u001b[32m \u001b[0m\u001b[32m20         \u001b[0m\u001b[32m \u001b[0m│\u001b[2m \u001b[0m\u001b[2m6643233d-7499-4b7a-bd…\u001b[0m\u001b[2m \u001b[0m│\u001b[34m \u001b[0m\u001b[34m15         \u001b[0m\u001b[34m \u001b[0m│\u001b[2m \u001b[0m\u001b[2md8db39d8-d3d6-4e2c-8…\u001b[0m\u001b[2m \u001b[0m│ buy  │\n",
       "│\u001b[36m \u001b[0m\u001b[36m     88\u001b[0m\u001b[36m \u001b[0m│       25 │ $11.00 │\u001b[32m \u001b[0m\u001b[32m2          \u001b[0m\u001b[32m \u001b[0m│\u001b[2m \u001b[0m\u001b[2m99151189-cb6f-457c-8b…\u001b[0m\u001b[2m \u001b[0m│\u001b[34m \u001b[0m\u001b[34m15         \u001b[0m\u001b[34m \u001b[0m│\u001b[2m \u001b[0m\u001b[2md8db39d8-d3d6-4e2c-8…\u001b[0m\u001b[2m \u001b[0m│ buy  │\n",
       "│\u001b[36m \u001b[0m\u001b[36m     89\u001b[0m\u001b[36m \u001b[0m│       30 │ $11.00 │\u001b[32m \u001b[0m\u001b[32m12         \u001b[0m\u001b[32m \u001b[0m│\u001b[2m \u001b[0m\u001b[2ma4107c07-6a0d-4710-89…\u001b[0m\u001b[2m \u001b[0m│\u001b[34m \u001b[0m\u001b[34m15         \u001b[0m\u001b[34m \u001b[0m│\u001b[2m \u001b[0m\u001b[2md8db39d8-d3d6-4e2c-8…\u001b[0m\u001b[2m \u001b[0m│ buy  │\n",
       "│\u001b[36m \u001b[0m\u001b[36m     90\u001b[0m\u001b[36m \u001b[0m│       20 │ $11.00 │\u001b[32m \u001b[0m\u001b[32m18         \u001b[0m\u001b[32m \u001b[0m│\u001b[2m \u001b[0m\u001b[2m0dc93dfc-ebf7-47de-bf…\u001b[0m\u001b[2m \u001b[0m│\u001b[34m \u001b[0m\u001b[34m15         \u001b[0m\u001b[34m \u001b[0m│\u001b[2m \u001b[0m\u001b[2md8db39d8-d3d6-4e2c-8…\u001b[0m\u001b[2m \u001b[0m│ buy  │\n",
       "│\u001b[36m \u001b[0m\u001b[36m     91\u001b[0m\u001b[36m \u001b[0m│       20 │ $10.00 │\u001b[32m \u001b[0m\u001b[32m9          \u001b[0m\u001b[32m \u001b[0m│\u001b[2m \u001b[0m\u001b[2m58feba90-005f-43d5-93…\u001b[0m\u001b[2m \u001b[0m│\u001b[34m \u001b[0m\u001b[34m8          \u001b[0m\u001b[34m \u001b[0m│\u001b[2m \u001b[0m\u001b[2mb23f55dc-9db5-4632-8…\u001b[0m\u001b[2m \u001b[0m│ sell │\n",
       "│\u001b[36m \u001b[0m\u001b[36m     92\u001b[0m\u001b[36m \u001b[0m│       20 │ $10.00 │\u001b[32m \u001b[0m\u001b[32m1          \u001b[0m\u001b[32m \u001b[0m│\u001b[2m \u001b[0m\u001b[2mf8d93e64-87de-4a47-b0…\u001b[0m\u001b[2m \u001b[0m│\u001b[34m \u001b[0m\u001b[34m8          \u001b[0m\u001b[34m \u001b[0m│\u001b[2m \u001b[0m\u001b[2mb23f55dc-9db5-4632-8…\u001b[0m\u001b[2m \u001b[0m│ sell │\n",
       "│\u001b[36m \u001b[0m\u001b[36m     93\u001b[0m\u001b[36m \u001b[0m│       10 │ $10.00 │\u001b[32m \u001b[0m\u001b[32m1          \u001b[0m\u001b[32m \u001b[0m│\u001b[2m \u001b[0m\u001b[2mf8d93e64-87de-4a47-b0…\u001b[0m\u001b[2m \u001b[0m│\u001b[34m \u001b[0m\u001b[34m20         \u001b[0m\u001b[34m \u001b[0m│\u001b[2m \u001b[0m\u001b[2m6643233d-7499-4b7a-b…\u001b[0m\u001b[2m \u001b[0m│ sell │\n",
       "│\u001b[36m \u001b[0m\u001b[36m     94\u001b[0m\u001b[36m \u001b[0m│       30 │ $10.00 │\u001b[32m \u001b[0m\u001b[32m1          \u001b[0m\u001b[32m \u001b[0m│\u001b[2m \u001b[0m\u001b[2mf8d93e64-87de-4a47-b0…\u001b[0m\u001b[2m \u001b[0m│\u001b[34m \u001b[0m\u001b[34m11         \u001b[0m\u001b[34m \u001b[0m│\u001b[2m \u001b[0m\u001b[2m061bc19c-3e99-4c5a-a…\u001b[0m\u001b[2m \u001b[0m│ buy  │\n",
       "│\u001b[36m \u001b[0m\u001b[36m     95\u001b[0m\u001b[36m \u001b[0m│       20 │ $10.00 │\u001b[32m \u001b[0m\u001b[32m1          \u001b[0m\u001b[32m \u001b[0m│\u001b[2m \u001b[0m\u001b[2mf8d93e64-87de-4a47-b0…\u001b[0m\u001b[2m \u001b[0m│\u001b[34m \u001b[0m\u001b[34m3          \u001b[0m\u001b[34m \u001b[0m│\u001b[2m \u001b[0m\u001b[2m182320fb-3475-49de-b…\u001b[0m\u001b[2m \u001b[0m│ sell │\n",
       "│\u001b[36m \u001b[0m\u001b[36m     96\u001b[0m\u001b[36m \u001b[0m│       20 │ $10.00 │\u001b[32m \u001b[0m\u001b[32m1          \u001b[0m\u001b[32m \u001b[0m│\u001b[2m \u001b[0m\u001b[2mf8d93e64-87de-4a47-b0…\u001b[0m\u001b[2m \u001b[0m│\u001b[34m \u001b[0m\u001b[34m6          \u001b[0m\u001b[34m \u001b[0m│\u001b[2m \u001b[0m\u001b[2m4a42da52-9be1-40d8-8…\u001b[0m\u001b[2m \u001b[0m│ sell │\n",
       "│\u001b[36m \u001b[0m\u001b[36m     97\u001b[0m\u001b[36m \u001b[0m│       30 │ $10.00 │\u001b[32m \u001b[0m\u001b[32m1          \u001b[0m\u001b[32m \u001b[0m│\u001b[2m \u001b[0m\u001b[2mf8d93e64-87de-4a47-b0…\u001b[0m\u001b[2m \u001b[0m│\u001b[34m \u001b[0m\u001b[34m13         \u001b[0m\u001b[34m \u001b[0m│\u001b[2m \u001b[0m\u001b[2mfa8a9258-6206-48fc-8…\u001b[0m\u001b[2m \u001b[0m│ sell │\n",
       "│\u001b[36m \u001b[0m\u001b[36m     98\u001b[0m\u001b[36m \u001b[0m│       80 │ $10.00 │\u001b[32m \u001b[0m\u001b[32m1          \u001b[0m\u001b[32m \u001b[0m│\u001b[2m \u001b[0m\u001b[2mf8d93e64-87de-4a47-b0…\u001b[0m\u001b[2m \u001b[0m│\u001b[34m \u001b[0m\u001b[34m14         \u001b[0m\u001b[34m \u001b[0m│\u001b[2m \u001b[0m\u001b[2m0097b91e-d691-4cae-8…\u001b[0m\u001b[2m \u001b[0m│ buy  │\n",
       "│\u001b[36m \u001b[0m\u001b[36m     99\u001b[0m\u001b[36m \u001b[0m│       11 │ $10.00 │\u001b[32m \u001b[0m\u001b[32m1          \u001b[0m\u001b[32m \u001b[0m│\u001b[2m \u001b[0m\u001b[2mf8d93e64-87de-4a47-b0…\u001b[0m\u001b[2m \u001b[0m│\u001b[34m \u001b[0m\u001b[34m5          \u001b[0m\u001b[34m \u001b[0m│\u001b[2m \u001b[0m\u001b[2m361ef7c2-e97d-4b86-b…\u001b[0m\u001b[2m \u001b[0m│ sell │\n",
       "│\u001b[36m \u001b[0m\u001b[36m    100\u001b[0m\u001b[36m \u001b[0m│      111 │ $10.00 │\u001b[32m \u001b[0m\u001b[32m1          \u001b[0m\u001b[32m \u001b[0m│\u001b[2m \u001b[0m\u001b[2mf8d93e64-87de-4a47-b0…\u001b[0m\u001b[2m \u001b[0m│\u001b[34m \u001b[0m\u001b[34m5          \u001b[0m\u001b[34m \u001b[0m│\u001b[2m \u001b[0m\u001b[2m361ef7c2-e97d-4b86-b…\u001b[0m\u001b[2m \u001b[0m│ sell │\n",
       "│\u001b[36m \u001b[0m\u001b[36m    101\u001b[0m\u001b[36m \u001b[0m│       51 │ $10.00 │\u001b[32m \u001b[0m\u001b[32m1          \u001b[0m\u001b[32m \u001b[0m│\u001b[2m \u001b[0m\u001b[2mf8d93e64-87de-4a47-b0…\u001b[0m\u001b[2m \u001b[0m│\u001b[34m \u001b[0m\u001b[34m5          \u001b[0m\u001b[34m \u001b[0m│\u001b[2m \u001b[0m\u001b[2m361ef7c2-e97d-4b86-b…\u001b[0m\u001b[2m \u001b[0m│ sell │\n",
       "│\u001b[36m \u001b[0m\u001b[36m    102\u001b[0m\u001b[36m \u001b[0m│        1 │ $10.00 │\u001b[32m \u001b[0m\u001b[32m1          \u001b[0m\u001b[32m \u001b[0m│\u001b[2m \u001b[0m\u001b[2mf8d93e64-87de-4a47-b0…\u001b[0m\u001b[2m \u001b[0m│\u001b[34m \u001b[0m\u001b[34m6          \u001b[0m\u001b[34m \u001b[0m│\u001b[2m \u001b[0m\u001b[2m4a42da52-9be1-40d8-8…\u001b[0m\u001b[2m \u001b[0m│ buy  │\n",
       "│\u001b[36m \u001b[0m\u001b[36m    103\u001b[0m\u001b[36m \u001b[0m│       27 │ $10.00 │\u001b[32m \u001b[0m\u001b[32m5          \u001b[0m\u001b[32m \u001b[0m│\u001b[2m \u001b[0m\u001b[2m361ef7c2-e97d-4b86-bf…\u001b[0m\u001b[2m \u001b[0m│\u001b[34m \u001b[0m\u001b[34m6          \u001b[0m\u001b[34m \u001b[0m│\u001b[2m \u001b[0m\u001b[2m4a42da52-9be1-40d8-8…\u001b[0m\u001b[2m \u001b[0m│ buy  │\n",
       "│\u001b[36m \u001b[0m\u001b[36m    104\u001b[0m\u001b[36m \u001b[0m│       48 │ $10.00 │\u001b[32m \u001b[0m\u001b[32m6          \u001b[0m\u001b[32m \u001b[0m│\u001b[2m \u001b[0m\u001b[2m4a42da52-9be1-40d8-87…\u001b[0m\u001b[2m \u001b[0m│\u001b[34m \u001b[0m\u001b[34m13         \u001b[0m\u001b[34m \u001b[0m│\u001b[2m \u001b[0m\u001b[2mfa8a9258-6206-48fc-8…\u001b[0m\u001b[2m \u001b[0m│ sell │\n",
       "│\u001b[36m \u001b[0m\u001b[36m    105\u001b[0m\u001b[36m \u001b[0m│       22 │ $10.00 │\u001b[32m \u001b[0m\u001b[32m13         \u001b[0m\u001b[32m \u001b[0m│\u001b[2m \u001b[0m\u001b[2mfa8a9258-6206-48fc-81…\u001b[0m\u001b[2m \u001b[0m│\u001b[34m \u001b[0m\u001b[34m2          \u001b[0m\u001b[34m \u001b[0m│\u001b[2m \u001b[0m\u001b[2m99151189-cb6f-457c-8…\u001b[0m\u001b[2m \u001b[0m│ buy  │\n",
       "│\u001b[36m \u001b[0m\u001b[36m    106\u001b[0m\u001b[36m \u001b[0m│       78 │ $10.00 │\u001b[32m \u001b[0m\u001b[32m3          \u001b[0m\u001b[32m \u001b[0m│\u001b[2m \u001b[0m\u001b[2m182320fb-3475-49de-b0…\u001b[0m\u001b[2m \u001b[0m│\u001b[34m \u001b[0m\u001b[34m2          \u001b[0m\u001b[34m \u001b[0m│\u001b[2m \u001b[0m\u001b[2m99151189-cb6f-457c-8…\u001b[0m\u001b[2m \u001b[0m│ buy  │\n",
       "│\u001b[36m \u001b[0m\u001b[36m    107\u001b[0m\u001b[36m \u001b[0m│       22 │ $10.00 │\u001b[32m \u001b[0m\u001b[32m3          \u001b[0m\u001b[32m \u001b[0m│\u001b[2m \u001b[0m\u001b[2m182320fb-3475-49de-b0…\u001b[0m\u001b[2m \u001b[0m│\u001b[34m \u001b[0m\u001b[34m12         \u001b[0m\u001b[34m \u001b[0m│\u001b[2m \u001b[0m\u001b[2ma4107c07-6a0d-4710-8…\u001b[0m\u001b[2m \u001b[0m│ buy  │\n",
       "│\u001b[36m \u001b[0m\u001b[36m    108\u001b[0m\u001b[36m \u001b[0m│      100 │ $11.00 │\u001b[32m \u001b[0m\u001b[32m6          \u001b[0m\u001b[32m \u001b[0m│\u001b[2m \u001b[0m\u001b[2m4a42da52-9be1-40d8-87…\u001b[0m\u001b[2m \u001b[0m│\u001b[34m \u001b[0m\u001b[34m2          \u001b[0m\u001b[34m \u001b[0m│\u001b[2m \u001b[0m\u001b[2m99151189-cb6f-457c-8…\u001b[0m\u001b[2m \u001b[0m│ buy  │\n",
       "│\u001b[36m \u001b[0m\u001b[36m    109\u001b[0m\u001b[36m \u001b[0m│       28 │ $10.00 │\u001b[32m \u001b[0m\u001b[32m12         \u001b[0m\u001b[32m \u001b[0m│\u001b[2m \u001b[0m\u001b[2ma4107c07-6a0d-4710-89…\u001b[0m\u001b[2m \u001b[0m│\u001b[34m \u001b[0m\u001b[34m17         \u001b[0m\u001b[34m \u001b[0m│\u001b[2m \u001b[0m\u001b[2mb698bca8-0c4e-4c78-b…\u001b[0m\u001b[2m \u001b[0m│ sell │\n",
       "│\u001b[36m \u001b[0m\u001b[36m    110\u001b[0m\u001b[36m \u001b[0m│      167 │ $10.00 │\u001b[32m \u001b[0m\u001b[32m18         \u001b[0m\u001b[32m \u001b[0m│\u001b[2m \u001b[0m\u001b[2m0dc93dfc-ebf7-47de-bf…\u001b[0m\u001b[2m \u001b[0m│\u001b[34m \u001b[0m\u001b[34m17         \u001b[0m\u001b[34m \u001b[0m│\u001b[2m \u001b[0m\u001b[2mb698bca8-0c4e-4c78-b…\u001b[0m\u001b[2m \u001b[0m│ sell │\n",
       "│\u001b[36m \u001b[0m\u001b[36m    111\u001b[0m\u001b[36m \u001b[0m│       19 │ $10.00 │\u001b[32m \u001b[0m\u001b[32m18         \u001b[0m\u001b[32m \u001b[0m│\u001b[2m \u001b[0m\u001b[2m0dc93dfc-ebf7-47de-bf…\u001b[0m\u001b[2m \u001b[0m│\u001b[34m \u001b[0m\u001b[34m11         \u001b[0m\u001b[34m \u001b[0m│\u001b[2m \u001b[0m\u001b[2m061bc19c-3e99-4c5a-a…\u001b[0m\u001b[2m \u001b[0m│ sell │\n",
       "│\u001b[36m \u001b[0m\u001b[36m    112\u001b[0m\u001b[36m \u001b[0m│       40 │ $10.00 │\u001b[32m \u001b[0m\u001b[32m11         \u001b[0m\u001b[32m \u001b[0m│\u001b[2m \u001b[0m\u001b[2m061bc19c-3e99-4c5a-a7…\u001b[0m\u001b[2m \u001b[0m│\u001b[34m \u001b[0m\u001b[34m20         \u001b[0m\u001b[34m \u001b[0m│\u001b[2m \u001b[0m\u001b[2m6643233d-7499-4b7a-b…\u001b[0m\u001b[2m \u001b[0m│ buy  │\n",
       "│\u001b[36m \u001b[0m\u001b[36m    113\u001b[0m\u001b[36m \u001b[0m│      100 │ $10.00 │\u001b[32m \u001b[0m\u001b[32m11         \u001b[0m\u001b[32m \u001b[0m│\u001b[2m \u001b[0m\u001b[2m061bc19c-3e99-4c5a-a7…\u001b[0m\u001b[2m \u001b[0m│\u001b[34m \u001b[0m\u001b[34m2          \u001b[0m\u001b[34m \u001b[0m│\u001b[2m \u001b[0m\u001b[2m99151189-cb6f-457c-8…\u001b[0m\u001b[2m \u001b[0m│ buy  │\n",
       "│\u001b[36m \u001b[0m\u001b[36m    114\u001b[0m\u001b[36m \u001b[0m│       40 │ $10.00 │\u001b[32m \u001b[0m\u001b[32m11         \u001b[0m\u001b[32m \u001b[0m│\u001b[2m \u001b[0m\u001b[2m061bc19c-3e99-4c5a-a7…\u001b[0m\u001b[2m \u001b[0m│\u001b[34m \u001b[0m\u001b[34m20         \u001b[0m\u001b[34m \u001b[0m│\u001b[2m \u001b[0m\u001b[2m6643233d-7499-4b7a-b…\u001b[0m\u001b[2m \u001b[0m│ buy  │\n",
       "│\u001b[36m \u001b[0m\u001b[36m    115\u001b[0m\u001b[36m \u001b[0m│       17 │ $10.00 │\u001b[32m \u001b[0m\u001b[32m11         \u001b[0m\u001b[32m \u001b[0m│\u001b[2m \u001b[0m\u001b[2m061bc19c-3e99-4c5a-a7…\u001b[0m\u001b[2m \u001b[0m│\u001b[34m \u001b[0m\u001b[34m8          \u001b[0m\u001b[34m \u001b[0m│\u001b[2m \u001b[0m\u001b[2mb23f55dc-9db5-4632-8…\u001b[0m\u001b[2m \u001b[0m│ buy  │\n",
       "│\u001b[36m \u001b[0m\u001b[36m    116\u001b[0m\u001b[36m \u001b[0m│       23 │ $10.00 │\u001b[32m \u001b[0m\u001b[32m7          \u001b[0m\u001b[32m \u001b[0m│\u001b[2m \u001b[0m\u001b[2md1a48546-375f-49f9-b8…\u001b[0m\u001b[2m \u001b[0m│\u001b[34m \u001b[0m\u001b[34m8          \u001b[0m\u001b[34m \u001b[0m│\u001b[2m \u001b[0m\u001b[2mb23f55dc-9db5-4632-8…\u001b[0m\u001b[2m \u001b[0m│ buy  │\n",
       "│\u001b[36m \u001b[0m\u001b[36m    117\u001b[0m\u001b[36m \u001b[0m│        7 │ $10.00 │\u001b[32m \u001b[0m\u001b[32m7          \u001b[0m\u001b[32m \u001b[0m│\u001b[2m \u001b[0m\u001b[2md1a48546-375f-49f9-b8…\u001b[0m\u001b[2m \u001b[0m│\u001b[34m \u001b[0m\u001b[34m20         \u001b[0m\u001b[34m \u001b[0m│\u001b[2m \u001b[0m\u001b[2m6643233d-7499-4b7a-b…\u001b[0m\u001b[2m \u001b[0m│ buy  │\n",
       "│\u001b[36m \u001b[0m\u001b[36m    118\u001b[0m\u001b[36m \u001b[0m│       25 │ $11.00 │\u001b[32m \u001b[0m\u001b[32m2          \u001b[0m\u001b[32m \u001b[0m│\u001b[2m \u001b[0m\u001b[2m99151189-cb6f-457c-8b…\u001b[0m\u001b[2m \u001b[0m│\u001b[34m \u001b[0m\u001b[34m20         \u001b[0m\u001b[34m \u001b[0m│\u001b[2m \u001b[0m\u001b[2m6643233d-7499-4b7a-b…\u001b[0m\u001b[2m \u001b[0m│ buy  │\n",
       "│\u001b[36m \u001b[0m\u001b[36m    119\u001b[0m\u001b[36m \u001b[0m│        8 │ $11.00 │\u001b[32m \u001b[0m\u001b[32m8          \u001b[0m\u001b[32m \u001b[0m│\u001b[2m \u001b[0m\u001b[2mb23f55dc-9db5-4632-8b…\u001b[0m\u001b[2m \u001b[0m│\u001b[34m \u001b[0m\u001b[34m20         \u001b[0m\u001b[34m \u001b[0m│\u001b[2m \u001b[0m\u001b[2m6643233d-7499-4b7a-b…\u001b[0m\u001b[2m \u001b[0m│ buy  │\n",
       "│\u001b[36m \u001b[0m\u001b[36m    120\u001b[0m\u001b[36m \u001b[0m│       22 │ $11.00 │\u001b[32m \u001b[0m\u001b[32m8          \u001b[0m\u001b[32m \u001b[0m│\u001b[2m \u001b[0m\u001b[2mb23f55dc-9db5-4632-8b…\u001b[0m\u001b[2m \u001b[0m│\u001b[34m \u001b[0m\u001b[34m20         \u001b[0m\u001b[34m \u001b[0m│\u001b[2m \u001b[0m\u001b[2m6643233d-7499-4b7a-b…\u001b[0m\u001b[2m \u001b[0m│ buy  │\n",
       "│\u001b[36m \u001b[0m\u001b[36m    121\u001b[0m\u001b[36m \u001b[0m│       10 │ $11.00 │\u001b[32m \u001b[0m\u001b[32m13         \u001b[0m\u001b[32m \u001b[0m│\u001b[2m \u001b[0m\u001b[2mfa8a9258-6206-48fc-81…\u001b[0m\u001b[2m \u001b[0m│\u001b[34m \u001b[0m\u001b[34m20         \u001b[0m\u001b[34m \u001b[0m│\u001b[2m \u001b[0m\u001b[2m6643233d-7499-4b7a-b…\u001b[0m\u001b[2m \u001b[0m│ buy  │\n",
       "│\u001b[36m \u001b[0m\u001b[36m    122\u001b[0m\u001b[36m \u001b[0m│       13 │ $11.00 │\u001b[32m \u001b[0m\u001b[32m9          \u001b[0m\u001b[32m \u001b[0m│\u001b[2m \u001b[0m\u001b[2m58feba90-005f-43d5-93…\u001b[0m\u001b[2m \u001b[0m│\u001b[34m \u001b[0m\u001b[34m20         \u001b[0m\u001b[34m \u001b[0m│\u001b[2m \u001b[0m\u001b[2m6643233d-7499-4b7a-b…\u001b[0m\u001b[2m \u001b[0m│ buy  │\n",
       "│\u001b[36m \u001b[0m\u001b[36m    123\u001b[0m\u001b[36m \u001b[0m│       45 │ $11.00 │\u001b[32m \u001b[0m\u001b[32m9          \u001b[0m\u001b[32m \u001b[0m│\u001b[2m \u001b[0m\u001b[2m58feba90-005f-43d5-93…\u001b[0m\u001b[2m \u001b[0m│\u001b[34m \u001b[0m\u001b[34m4          \u001b[0m\u001b[34m \u001b[0m│\u001b[2m \u001b[0m\u001b[2m25a6b711-b285-483f-9…\u001b[0m\u001b[2m \u001b[0m│ buy  │\n",
       "│\u001b[36m \u001b[0m\u001b[36m    124\u001b[0m\u001b[36m \u001b[0m│      100 │ $10.00 │\u001b[32m \u001b[0m\u001b[32m4          \u001b[0m\u001b[32m \u001b[0m│\u001b[2m \u001b[0m\u001b[2m25a6b711-b285-483f-9b…\u001b[0m\u001b[2m \u001b[0m│\u001b[34m \u001b[0m\u001b[34m15         \u001b[0m\u001b[34m \u001b[0m│\u001b[2m \u001b[0m\u001b[2md8db39d8-d3d6-4e2c-8…\u001b[0m\u001b[2m \u001b[0m│ sell │\n",
       "│\u001b[36m \u001b[0m\u001b[36m    125\u001b[0m\u001b[36m \u001b[0m│       10 │  $9.00 │\u001b[32m \u001b[0m\u001b[32m13         \u001b[0m\u001b[32m \u001b[0m│\u001b[2m \u001b[0m\u001b[2mfa8a9258-6206-48fc-81…\u001b[0m\u001b[2m \u001b[0m│\u001b[34m \u001b[0m\u001b[34m15         \u001b[0m\u001b[34m \u001b[0m│\u001b[2m \u001b[0m\u001b[2md8db39d8-d3d6-4e2c-8…\u001b[0m\u001b[2m \u001b[0m│ sell │\n",
       "│\u001b[36m \u001b[0m\u001b[36m    126\u001b[0m\u001b[36m \u001b[0m│       30 │  $9.00 │\u001b[32m \u001b[0m\u001b[32m1          \u001b[0m\u001b[32m \u001b[0m│\u001b[2m \u001b[0m\u001b[2mf8d93e64-87de-4a47-b0…\u001b[0m\u001b[2m \u001b[0m│\u001b[34m \u001b[0m\u001b[34m15         \u001b[0m\u001b[34m \u001b[0m│\u001b[2m \u001b[0m\u001b[2md8db39d8-d3d6-4e2c-8…\u001b[0m\u001b[2m \u001b[0m│ sell │\n",
       "│\u001b[36m \u001b[0m\u001b[36m    127\u001b[0m\u001b[36m \u001b[0m│       20 │  $9.00 │\u001b[32m \u001b[0m\u001b[32m16         \u001b[0m\u001b[32m \u001b[0m│\u001b[2m \u001b[0m\u001b[2mb4bb277a-1a92-4698-89…\u001b[0m\u001b[2m \u001b[0m│\u001b[34m \u001b[0m\u001b[34m15         \u001b[0m\u001b[34m \u001b[0m│\u001b[2m \u001b[0m\u001b[2md8db39d8-d3d6-4e2c-8…\u001b[0m\u001b[2m \u001b[0m│ sell │\n",
       "│\u001b[36m \u001b[0m\u001b[36m    128\u001b[0m\u001b[36m \u001b[0m│       30 │  $9.00 │\u001b[32m \u001b[0m\u001b[32m12         \u001b[0m\u001b[32m \u001b[0m│\u001b[2m \u001b[0m\u001b[2ma4107c07-6a0d-4710-89…\u001b[0m\u001b[2m \u001b[0m│\u001b[34m \u001b[0m\u001b[34m15         \u001b[0m\u001b[34m \u001b[0m│\u001b[2m \u001b[0m\u001b[2md8db39d8-d3d6-4e2c-8…\u001b[0m\u001b[2m \u001b[0m│ sell │\n",
       "│\u001b[36m \u001b[0m\u001b[36m    129\u001b[0m\u001b[36m \u001b[0m│       10 │  $9.00 │\u001b[32m \u001b[0m\u001b[32m18         \u001b[0m\u001b[32m \u001b[0m│\u001b[2m \u001b[0m\u001b[2m0dc93dfc-ebf7-47de-bf…\u001b[0m\u001b[2m \u001b[0m│\u001b[34m \u001b[0m\u001b[34m15         \u001b[0m\u001b[34m \u001b[0m│\u001b[2m \u001b[0m\u001b[2md8db39d8-d3d6-4e2c-8…\u001b[0m\u001b[2m \u001b[0m│ sell │\n",
       "│\u001b[36m \u001b[0m\u001b[36m    130\u001b[0m\u001b[36m \u001b[0m│       40 │  $9.00 │\u001b[32m \u001b[0m\u001b[32m8          \u001b[0m\u001b[32m \u001b[0m│\u001b[2m \u001b[0m\u001b[2mb23f55dc-9db5-4632-8b…\u001b[0m\u001b[2m \u001b[0m│\u001b[34m \u001b[0m\u001b[34m15         \u001b[0m\u001b[34m \u001b[0m│\u001b[2m \u001b[0m\u001b[2md8db39d8-d3d6-4e2c-8…\u001b[0m\u001b[2m \u001b[0m│ sell │\n",
       "│\u001b[36m \u001b[0m\u001b[36m    131\u001b[0m\u001b[36m \u001b[0m│       30 │ $11.00 │\u001b[32m \u001b[0m\u001b[32m9          \u001b[0m\u001b[32m \u001b[0m│\u001b[2m \u001b[0m\u001b[2m58feba90-005f-43d5-93…\u001b[0m\u001b[2m \u001b[0m│\u001b[34m \u001b[0m\u001b[34m16         \u001b[0m\u001b[34m \u001b[0m│\u001b[2m \u001b[0m\u001b[2mb4bb277a-1a92-4698-8…\u001b[0m\u001b[2m \u001b[0m│ buy  │\n",
       "│\u001b[36m \u001b[0m\u001b[36m    132\u001b[0m\u001b[36m \u001b[0m│       50 │ $11.00 │\u001b[32m \u001b[0m\u001b[32m9          \u001b[0m\u001b[32m \u001b[0m│\u001b[2m \u001b[0m\u001b[2m58feba90-005f-43d5-93…\u001b[0m\u001b[2m \u001b[0m│\u001b[34m \u001b[0m\u001b[34m16         \u001b[0m\u001b[34m \u001b[0m│\u001b[2m \u001b[0m\u001b[2mb4bb277a-1a92-4698-8…\u001b[0m\u001b[2m \u001b[0m│ buy  │\n",
       "│\u001b[36m \u001b[0m\u001b[36m    133\u001b[0m\u001b[36m \u001b[0m│       20 │  $9.00 │\u001b[32m \u001b[0m\u001b[32m8          \u001b[0m\u001b[32m \u001b[0m│\u001b[2m \u001b[0m\u001b[2mb23f55dc-9db5-4632-8b…\u001b[0m\u001b[2m \u001b[0m│\u001b[34m \u001b[0m\u001b[34m10         \u001b[0m\u001b[34m \u001b[0m│\u001b[2m \u001b[0m\u001b[2m5ecae8a0-42dd-45f1-a…\u001b[0m\u001b[2m \u001b[0m│ sell │\n",
       "│\u001b[36m \u001b[0m\u001b[36m    134\u001b[0m\u001b[36m \u001b[0m│       30 │  $9.00 │\u001b[32m \u001b[0m\u001b[32m20         \u001b[0m\u001b[32m \u001b[0m│\u001b[2m \u001b[0m\u001b[2m6643233d-7499-4b7a-bd…\u001b[0m\u001b[2m \u001b[0m│\u001b[34m \u001b[0m\u001b[34m10         \u001b[0m\u001b[34m \u001b[0m│\u001b[2m \u001b[0m\u001b[2m5ecae8a0-42dd-45f1-a…\u001b[0m\u001b[2m \u001b[0m│ sell │\n",
       "│\u001b[36m \u001b[0m\u001b[36m    135\u001b[0m\u001b[36m \u001b[0m│       20 │  $9.00 │\u001b[32m \u001b[0m\u001b[32m2          \u001b[0m\u001b[32m \u001b[0m│\u001b[2m \u001b[0m\u001b[2m99151189-cb6f-457c-8b…\u001b[0m\u001b[2m \u001b[0m│\u001b[34m \u001b[0m\u001b[34m10         \u001b[0m\u001b[34m \u001b[0m│\u001b[2m \u001b[0m\u001b[2m5ecae8a0-42dd-45f1-a…\u001b[0m\u001b[2m \u001b[0m│ sell │\n",
       "│\u001b[36m \u001b[0m\u001b[36m    136\u001b[0m\u001b[36m \u001b[0m│       30 │  $9.00 │\u001b[32m \u001b[0m\u001b[32m14         \u001b[0m\u001b[32m \u001b[0m│\u001b[2m \u001b[0m\u001b[2m0097b91e-d691-4cae-8e…\u001b[0m\u001b[2m \u001b[0m│\u001b[34m \u001b[0m\u001b[34m10         \u001b[0m\u001b[34m \u001b[0m│\u001b[2m \u001b[0m\u001b[2m5ecae8a0-42dd-45f1-a…\u001b[0m\u001b[2m \u001b[0m│ sell │\n",
       "│\u001b[36m \u001b[0m\u001b[36m    137\u001b[0m\u001b[36m \u001b[0m│       90 │  $9.00 │\u001b[32m \u001b[0m\u001b[32m12         \u001b[0m\u001b[32m \u001b[0m│\u001b[2m \u001b[0m\u001b[2ma4107c07-6a0d-4710-89…\u001b[0m\u001b[2m \u001b[0m│\u001b[34m \u001b[0m\u001b[34m10         \u001b[0m\u001b[34m \u001b[0m│\u001b[2m \u001b[0m\u001b[2m5ecae8a0-42dd-45f1-a…\u001b[0m\u001b[2m \u001b[0m│ sell │\n",
       "│\u001b[36m \u001b[0m\u001b[36m    138\u001b[0m\u001b[36m \u001b[0m│       12 │  $9.00 │\u001b[32m \u001b[0m\u001b[32m1          \u001b[0m\u001b[32m \u001b[0m│\u001b[2m \u001b[0m\u001b[2mf8d93e64-87de-4a47-b0…\u001b[0m\u001b[2m \u001b[0m│\u001b[34m \u001b[0m\u001b[34m10         \u001b[0m\u001b[34m \u001b[0m│\u001b[2m \u001b[0m\u001b[2m5ecae8a0-42dd-45f1-a…\u001b[0m\u001b[2m \u001b[0m│ sell │\n",
       "│\u001b[36m \u001b[0m\u001b[36m    139\u001b[0m\u001b[36m \u001b[0m│      200 │ $10.00 │\u001b[32m \u001b[0m\u001b[32m5          \u001b[0m\u001b[32m \u001b[0m│\u001b[2m \u001b[0m\u001b[2m361ef7c2-e97d-4b86-bf…\u001b[0m\u001b[2m \u001b[0m│\u001b[34m \u001b[0m\u001b[34m16         \u001b[0m\u001b[34m \u001b[0m│\u001b[2m \u001b[0m\u001b[2mb4bb277a-1a92-4698-8…\u001b[0m\u001b[2m \u001b[0m│ sell │\n",
       "│\u001b[36m \u001b[0m\u001b[36m    140\u001b[0m\u001b[36m \u001b[0m│       39 │  $9.00 │\u001b[32m \u001b[0m\u001b[32m1          \u001b[0m\u001b[32m \u001b[0m│\u001b[2m \u001b[0m\u001b[2mf8d93e64-87de-4a47-b0…\u001b[0m\u001b[2m \u001b[0m│\u001b[34m \u001b[0m\u001b[34m16         \u001b[0m\u001b[34m \u001b[0m│\u001b[2m \u001b[0m\u001b[2mb4bb277a-1a92-4698-8…\u001b[0m\u001b[2m \u001b[0m│ sell │\n",
       "│\u001b[36m \u001b[0m\u001b[36m    141\u001b[0m\u001b[36m \u001b[0m│       10 │  $9.00 │\u001b[32m \u001b[0m\u001b[32m18         \u001b[0m\u001b[32m \u001b[0m│\u001b[2m \u001b[0m\u001b[2m0dc93dfc-ebf7-47de-bf…\u001b[0m\u001b[2m \u001b[0m│\u001b[34m \u001b[0m\u001b[34m16         \u001b[0m\u001b[34m \u001b[0m│\u001b[2m \u001b[0m\u001b[2mb4bb277a-1a92-4698-8…\u001b[0m\u001b[2m \u001b[0m│ sell │\n",
       "│\u001b[36m \u001b[0m\u001b[36m    142\u001b[0m\u001b[36m \u001b[0m│       31 │  $9.00 │\u001b[32m \u001b[0m\u001b[32m8          \u001b[0m\u001b[32m \u001b[0m│\u001b[2m \u001b[0m\u001b[2mb23f55dc-9db5-4632-8b…\u001b[0m\u001b[2m \u001b[0m│\u001b[34m \u001b[0m\u001b[34m16         \u001b[0m\u001b[34m \u001b[0m│\u001b[2m \u001b[0m\u001b[2mb4bb277a-1a92-4698-8…\u001b[0m\u001b[2m \u001b[0m│ sell │\n",
       "│\u001b[36m \u001b[0m\u001b[36m    143\u001b[0m\u001b[36m \u001b[0m│      180 │ $10.00 │\u001b[32m \u001b[0m\u001b[32m17         \u001b[0m\u001b[32m \u001b[0m│\u001b[2m \u001b[0m\u001b[2mb698bca8-0c4e-4c78-b9…\u001b[0m\u001b[2m \u001b[0m│\u001b[34m \u001b[0m\u001b[34m18         \u001b[0m\u001b[34m \u001b[0m│\u001b[2m \u001b[0m\u001b[2m0dc93dfc-ebf7-47de-b…\u001b[0m\u001b[2m \u001b[0m│ sell │\n",
       "│\u001b[36m \u001b[0m\u001b[36m    144\u001b[0m\u001b[36m \u001b[0m│       15 │ $10.00 │\u001b[32m \u001b[0m\u001b[32m17         \u001b[0m\u001b[32m \u001b[0m│\u001b[2m \u001b[0m\u001b[2mb698bca8-0c4e-4c78-b9…\u001b[0m\u001b[2m \u001b[0m│\u001b[34m \u001b[0m\u001b[34m1          \u001b[0m\u001b[34m \u001b[0m│\u001b[2m \u001b[0m\u001b[2mf8d93e64-87de-4a47-b…\u001b[0m\u001b[2m \u001b[0m│ sell │\n",
       "│\u001b[36m \u001b[0m\u001b[36m    145\u001b[0m\u001b[36m \u001b[0m│       66 │ $10.00 │\u001b[32m \u001b[0m\u001b[32m1          \u001b[0m\u001b[32m \u001b[0m│\u001b[2m \u001b[0m\u001b[2mf8d93e64-87de-4a47-b0…\u001b[0m\u001b[2m \u001b[0m│\u001b[34m \u001b[0m\u001b[34m11         \u001b[0m\u001b[34m \u001b[0m│\u001b[2m \u001b[0m\u001b[2m061bc19c-3e99-4c5a-a…\u001b[0m\u001b[2m \u001b[0m│ buy  │\n",
       "│\u001b[36m \u001b[0m\u001b[36m    146\u001b[0m\u001b[36m \u001b[0m│      112 │ $11.00 │\u001b[32m \u001b[0m\u001b[32m9          \u001b[0m\u001b[32m \u001b[0m│\u001b[2m \u001b[0m\u001b[2m58feba90-005f-43d5-93…\u001b[0m\u001b[2m \u001b[0m│\u001b[34m \u001b[0m\u001b[34m11         \u001b[0m\u001b[34m \u001b[0m│\u001b[2m \u001b[0m\u001b[2m061bc19c-3e99-4c5a-a…\u001b[0m\u001b[2m \u001b[0m│ buy  │\n",
       "│\u001b[36m \u001b[0m\u001b[36m    147\u001b[0m\u001b[36m \u001b[0m│        5 │ $11.00 │\u001b[32m \u001b[0m\u001b[32m3          \u001b[0m\u001b[32m \u001b[0m│\u001b[2m \u001b[0m\u001b[2m182320fb-3475-49de-b0…\u001b[0m\u001b[2m \u001b[0m│\u001b[34m \u001b[0m\u001b[34m11         \u001b[0m\u001b[34m \u001b[0m│\u001b[2m \u001b[0m\u001b[2m061bc19c-3e99-4c5a-a…\u001b[0m\u001b[2m \u001b[0m│ buy  │\n",
       "│\u001b[36m \u001b[0m\u001b[36m    148\u001b[0m\u001b[36m \u001b[0m│       50 │ $10.00 │\u001b[32m \u001b[0m\u001b[32m13         \u001b[0m\u001b[32m \u001b[0m│\u001b[2m \u001b[0m\u001b[2mfa8a9258-6206-48fc-81…\u001b[0m\u001b[2m \u001b[0m│\u001b[34m \u001b[0m\u001b[34m14         \u001b[0m\u001b[34m \u001b[0m│\u001b[2m \u001b[0m\u001b[2m0097b91e-d691-4cae-8…\u001b[0m\u001b[2m \u001b[0m│ sell │\n",
       "│\u001b[36m \u001b[0m\u001b[36m    149\u001b[0m\u001b[36m \u001b[0m│       10 │ $10.00 │\u001b[32m \u001b[0m\u001b[32m13         \u001b[0m\u001b[32m \u001b[0m│\u001b[2m \u001b[0m\u001b[2mfa8a9258-6206-48fc-81…\u001b[0m\u001b[2m \u001b[0m│\u001b[34m \u001b[0m\u001b[34m14         \u001b[0m\u001b[34m \u001b[0m│\u001b[2m \u001b[0m\u001b[2m0097b91e-d691-4cae-8…\u001b[0m\u001b[2m \u001b[0m│ sell │\n",
       "│\u001b[36m \u001b[0m\u001b[36m    150\u001b[0m\u001b[36m \u001b[0m│       20 │ $10.00 │\u001b[32m \u001b[0m\u001b[32m9          \u001b[0m\u001b[32m \u001b[0m│\u001b[2m \u001b[0m\u001b[2m58feba90-005f-43d5-93…\u001b[0m\u001b[2m \u001b[0m│\u001b[34m \u001b[0m\u001b[34m14         \u001b[0m\u001b[34m \u001b[0m│\u001b[2m \u001b[0m\u001b[2m0097b91e-d691-4cae-8…\u001b[0m\u001b[2m \u001b[0m│ sell │\n",
       "│\u001b[36m \u001b[0m\u001b[36m    151\u001b[0m\u001b[36m \u001b[0m│       80 │ $10.00 │\u001b[32m \u001b[0m\u001b[32m9          \u001b[0m\u001b[32m \u001b[0m│\u001b[2m \u001b[0m\u001b[2m58feba90-005f-43d5-93…\u001b[0m\u001b[2m \u001b[0m│\u001b[34m \u001b[0m\u001b[34m20         \u001b[0m\u001b[34m \u001b[0m│\u001b[2m \u001b[0m\u001b[2m6643233d-7499-4b7a-b…\u001b[0m\u001b[2m \u001b[0m│ sell │\n",
       "│\u001b[36m \u001b[0m\u001b[36m    152\u001b[0m\u001b[36m \u001b[0m│       30 │ $10.00 │\u001b[32m \u001b[0m\u001b[32m13         \u001b[0m\u001b[32m \u001b[0m│\u001b[2m \u001b[0m\u001b[2mfa8a9258-6206-48fc-81…\u001b[0m\u001b[2m \u001b[0m│\u001b[34m \u001b[0m\u001b[34m20         \u001b[0m\u001b[34m \u001b[0m│\u001b[2m \u001b[0m\u001b[2m6643233d-7499-4b7a-b…\u001b[0m\u001b[2m \u001b[0m│ sell │\n",
       "│\u001b[36m \u001b[0m\u001b[36m    153\u001b[0m\u001b[36m \u001b[0m│        9 │  $9.00 │\u001b[32m \u001b[0m\u001b[32m8          \u001b[0m\u001b[32m \u001b[0m│\u001b[2m \u001b[0m\u001b[2mb23f55dc-9db5-4632-8b…\u001b[0m\u001b[2m \u001b[0m│\u001b[34m \u001b[0m\u001b[34m20         \u001b[0m\u001b[34m \u001b[0m│\u001b[2m \u001b[0m\u001b[2m6643233d-7499-4b7a-b…\u001b[0m\u001b[2m \u001b[0m│ sell │\n",
       "│\u001b[36m \u001b[0m\u001b[36m    154\u001b[0m\u001b[36m \u001b[0m│       31 │  $9.00 │\u001b[32m \u001b[0m\u001b[32m7          \u001b[0m\u001b[32m \u001b[0m│\u001b[2m \u001b[0m\u001b[2md1a48546-375f-49f9-b8…\u001b[0m\u001b[2m \u001b[0m│\u001b[34m \u001b[0m\u001b[34m20         \u001b[0m\u001b[34m \u001b[0m│\u001b[2m \u001b[0m\u001b[2m6643233d-7499-4b7a-b…\u001b[0m\u001b[2m \u001b[0m│ sell │\n",
       "│\u001b[36m \u001b[0m\u001b[36m    155\u001b[0m\u001b[36m \u001b[0m│       45 │ $11.00 │\u001b[32m \u001b[0m\u001b[32m3          \u001b[0m\u001b[32m \u001b[0m│\u001b[2m \u001b[0m\u001b[2m182320fb-3475-49de-b0…\u001b[0m\u001b[2m \u001b[0m│\u001b[34m \u001b[0m\u001b[34m9          \u001b[0m\u001b[34m \u001b[0m│\u001b[2m \u001b[0m\u001b[2m58feba90-005f-43d5-9…\u001b[0m\u001b[2m \u001b[0m│ buy  │\n",
       "│\u001b[36m \u001b[0m\u001b[36m    156\u001b[0m\u001b[36m \u001b[0m│        5 │ $11.00 │\u001b[32m \u001b[0m\u001b[32m7          \u001b[0m\u001b[32m \u001b[0m│\u001b[2m \u001b[0m\u001b[2md1a48546-375f-49f9-b8…\u001b[0m\u001b[2m \u001b[0m│\u001b[34m \u001b[0m\u001b[34m9          \u001b[0m\u001b[34m \u001b[0m│\u001b[2m \u001b[0m\u001b[2m58feba90-005f-43d5-9…\u001b[0m\u001b[2m \u001b[0m│ buy  │\n",
       "│\u001b[36m \u001b[0m\u001b[36m    157\u001b[0m\u001b[36m \u001b[0m│       25 │ $11.00 │\u001b[32m \u001b[0m\u001b[32m7          \u001b[0m\u001b[32m \u001b[0m│\u001b[2m \u001b[0m\u001b[2md1a48546-375f-49f9-b8…\u001b[0m\u001b[2m \u001b[0m│\u001b[34m \u001b[0m\u001b[34m15         \u001b[0m\u001b[34m \u001b[0m│\u001b[2m \u001b[0m\u001b[2md8db39d8-d3d6-4e2c-8…\u001b[0m\u001b[2m \u001b[0m│ buy  │\n",
       "│\u001b[36m \u001b[0m\u001b[36m    158\u001b[0m\u001b[36m \u001b[0m│       30 │ $11.00 │\u001b[32m \u001b[0m\u001b[32m12         \u001b[0m\u001b[32m \u001b[0m│\u001b[2m \u001b[0m\u001b[2ma4107c07-6a0d-4710-89…\u001b[0m\u001b[2m \u001b[0m│\u001b[34m \u001b[0m\u001b[34m15         \u001b[0m\u001b[34m \u001b[0m│\u001b[2m \u001b[0m\u001b[2md8db39d8-d3d6-4e2c-8…\u001b[0m\u001b[2m \u001b[0m│ buy  │\n",
       "│\u001b[36m \u001b[0m\u001b[36m    159\u001b[0m\u001b[36m \u001b[0m│       45 │ $11.00 │\u001b[32m \u001b[0m\u001b[32m2          \u001b[0m\u001b[32m \u001b[0m│\u001b[2m \u001b[0m\u001b[2m99151189-cb6f-457c-8b…\u001b[0m\u001b[2m \u001b[0m│\u001b[34m \u001b[0m\u001b[34m15         \u001b[0m\u001b[34m \u001b[0m│\u001b[2m \u001b[0m\u001b[2md8db39d8-d3d6-4e2c-8…\u001b[0m\u001b[2m \u001b[0m│ buy  │\n",
       "│\u001b[36m \u001b[0m\u001b[36m    160\u001b[0m\u001b[36m \u001b[0m│       61 │ $10.00 │\u001b[32m \u001b[0m\u001b[32m4          \u001b[0m\u001b[32m \u001b[0m│\u001b[2m \u001b[0m\u001b[2m25a6b711-b285-483f-9b…\u001b[0m\u001b[2m \u001b[0m│\u001b[34m \u001b[0m\u001b[34m15         \u001b[0m\u001b[34m \u001b[0m│\u001b[2m \u001b[0m\u001b[2md8db39d8-d3d6-4e2c-8…\u001b[0m\u001b[2m \u001b[0m│ buy  │\n",
       "│\u001b[36m \u001b[0m\u001b[36m    161\u001b[0m\u001b[36m \u001b[0m│       19 │  $9.00 │\u001b[32m \u001b[0m\u001b[32m7          \u001b[0m\u001b[32m \u001b[0m│\u001b[2m \u001b[0m\u001b[2md1a48546-375f-49f9-b8…\u001b[0m\u001b[2m \u001b[0m│\u001b[34m \u001b[0m\u001b[34m4          \u001b[0m\u001b[34m \u001b[0m│\u001b[2m \u001b[0m\u001b[2m25a6b711-b285-483f-9…\u001b[0m\u001b[2m \u001b[0m│ sell │\n",
       "│\u001b[36m \u001b[0m\u001b[36m    162\u001b[0m\u001b[36m \u001b[0m│       40 │  $9.00 │\u001b[32m \u001b[0m\u001b[32m7          \u001b[0m\u001b[32m \u001b[0m│\u001b[2m \u001b[0m\u001b[2md1a48546-375f-49f9-b8…\u001b[0m\u001b[2m \u001b[0m│\u001b[34m \u001b[0m\u001b[34m4          \u001b[0m\u001b[34m \u001b[0m│\u001b[2m \u001b[0m\u001b[2m25a6b711-b285-483f-9…\u001b[0m\u001b[2m \u001b[0m│ sell │\n",
       "│\u001b[36m \u001b[0m\u001b[36m    163\u001b[0m\u001b[36m \u001b[0m│       31 │  $9.00 │\u001b[32m \u001b[0m\u001b[32m7          \u001b[0m\u001b[32m \u001b[0m│\u001b[2m \u001b[0m\u001b[2md1a48546-375f-49f9-b8…\u001b[0m\u001b[2m \u001b[0m│\u001b[34m \u001b[0m\u001b[34m4          \u001b[0m\u001b[34m \u001b[0m│\u001b[2m \u001b[0m\u001b[2m25a6b711-b285-483f-9…\u001b[0m\u001b[2m \u001b[0m│ sell │\n",
       "│\u001b[36m \u001b[0m\u001b[36m    164\u001b[0m\u001b[36m \u001b[0m│        8 │  $9.00 │\u001b[32m \u001b[0m\u001b[32m7          \u001b[0m\u001b[32m \u001b[0m│\u001b[2m \u001b[0m\u001b[2md1a48546-375f-49f9-b8…\u001b[0m\u001b[2m \u001b[0m│\u001b[34m \u001b[0m\u001b[34m20         \u001b[0m\u001b[34m \u001b[0m│\u001b[2m \u001b[0m\u001b[2m6643233d-7499-4b7a-b…\u001b[0m\u001b[2m \u001b[0m│ sell │\n",
       "│\u001b[36m \u001b[0m\u001b[36m    165\u001b[0m\u001b[36m \u001b[0m│       20 │ $10.00 │\u001b[32m \u001b[0m\u001b[32m4          \u001b[0m\u001b[32m \u001b[0m│\u001b[2m \u001b[0m\u001b[2m25a6b711-b285-483f-9b…\u001b[0m\u001b[2m \u001b[0m│\u001b[34m \u001b[0m\u001b[34m3          \u001b[0m\u001b[34m \u001b[0m│\u001b[2m \u001b[0m\u001b[2m182320fb-3475-49de-b…\u001b[0m\u001b[2m \u001b[0m│ buy  │\n",
       "│\u001b[36m \u001b[0m\u001b[36m    166\u001b[0m\u001b[36m \u001b[0m│        9 │ $10.00 │\u001b[32m \u001b[0m\u001b[32m4          \u001b[0m\u001b[32m \u001b[0m│\u001b[2m \u001b[0m\u001b[2m25a6b711-b285-483f-9b…\u001b[0m\u001b[2m \u001b[0m│\u001b[34m \u001b[0m\u001b[34m3          \u001b[0m\u001b[34m \u001b[0m│\u001b[2m \u001b[0m\u001b[2m182320fb-3475-49de-b…\u001b[0m\u001b[2m \u001b[0m│ buy  │\n",
       "│\u001b[36m \u001b[0m\u001b[36m    167\u001b[0m\u001b[36m \u001b[0m│       11 │ $10.00 │\u001b[32m \u001b[0m\u001b[32m8          \u001b[0m\u001b[32m \u001b[0m│\u001b[2m \u001b[0m\u001b[2mb23f55dc-9db5-4632-8b…\u001b[0m\u001b[2m \u001b[0m│\u001b[34m \u001b[0m\u001b[34m3          \u001b[0m\u001b[34m \u001b[0m│\u001b[2m \u001b[0m\u001b[2m182320fb-3475-49de-b…\u001b[0m\u001b[2m \u001b[0m│ buy  │\n",
       "│\u001b[36m \u001b[0m\u001b[36m    168\u001b[0m\u001b[36m \u001b[0m│       19 │ $10.00 │\u001b[32m \u001b[0m\u001b[32m8          \u001b[0m\u001b[32m \u001b[0m│\u001b[2m \u001b[0m\u001b[2mb23f55dc-9db5-4632-8b…\u001b[0m\u001b[2m \u001b[0m│\u001b[34m \u001b[0m\u001b[34m3          \u001b[0m\u001b[34m \u001b[0m│\u001b[2m \u001b[0m\u001b[2m182320fb-3475-49de-b…\u001b[0m\u001b[2m \u001b[0m│ buy  │\n",
       "│\u001b[36m \u001b[0m\u001b[36m    169\u001b[0m\u001b[36m \u001b[0m│        1 │ $10.00 │\u001b[32m \u001b[0m\u001b[32m12         \u001b[0m\u001b[32m \u001b[0m│\u001b[2m \u001b[0m\u001b[2ma4107c07-6a0d-4710-89…\u001b[0m\u001b[2m \u001b[0m│\u001b[34m \u001b[0m\u001b[34m3          \u001b[0m\u001b[34m \u001b[0m│\u001b[2m \u001b[0m\u001b[2m182320fb-3475-49de-b…\u001b[0m\u001b[2m \u001b[0m│ buy  │\n",
       "│\u001b[36m \u001b[0m\u001b[36m    170\u001b[0m\u001b[36m \u001b[0m│        1 │ $10.00 │\u001b[32m \u001b[0m\u001b[32m12         \u001b[0m\u001b[32m \u001b[0m│\u001b[2m \u001b[0m\u001b[2ma4107c07-6a0d-4710-89…\u001b[0m\u001b[2m \u001b[0m│\u001b[34m \u001b[0m\u001b[34m3          \u001b[0m\u001b[34m \u001b[0m│\u001b[2m \u001b[0m\u001b[2m182320fb-3475-49de-b…\u001b[0m\u001b[2m \u001b[0m│ buy  │\n",
       "│\u001b[36m \u001b[0m\u001b[36m    171\u001b[0m\u001b[36m \u001b[0m│        3 │ $10.00 │\u001b[32m \u001b[0m\u001b[32m6          \u001b[0m\u001b[32m \u001b[0m│\u001b[2m \u001b[0m\u001b[2m4a42da52-9be1-40d8-87…\u001b[0m\u001b[2m \u001b[0m│\u001b[34m \u001b[0m\u001b[34m3          \u001b[0m\u001b[34m \u001b[0m│\u001b[2m \u001b[0m\u001b[2m182320fb-3475-49de-b…\u001b[0m\u001b[2m \u001b[0m│ buy  │\n",
       "│\u001b[36m \u001b[0m\u001b[36m    172\u001b[0m\u001b[36m \u001b[0m│       11 │  $9.00 │\u001b[32m \u001b[0m\u001b[32m7          \u001b[0m\u001b[32m \u001b[0m│\u001b[2m \u001b[0m\u001b[2md1a48546-375f-49f9-b8…\u001b[0m\u001b[2m \u001b[0m│\u001b[34m \u001b[0m\u001b[34m13         \u001b[0m\u001b[34m \u001b[0m│\u001b[2m \u001b[0m\u001b[2mfa8a9258-6206-48fc-8…\u001b[0m\u001b[2m \u001b[0m│ sell │\n",
       "│\u001b[36m \u001b[0m\u001b[36m    173\u001b[0m\u001b[36m \u001b[0m│       50 │  $8.00 │\u001b[32m \u001b[0m\u001b[32m1          \u001b[0m\u001b[32m \u001b[0m│\u001b[2m \u001b[0m\u001b[2mf8d93e64-87de-4a47-b0…\u001b[0m\u001b[2m \u001b[0m│\u001b[34m \u001b[0m\u001b[34m7          \u001b[0m\u001b[34m \u001b[0m│\u001b[2m \u001b[0m\u001b[2md1a48546-375f-49f9-b…\u001b[0m\u001b[2m \u001b[0m│ sell │\n",
       "│\u001b[36m \u001b[0m\u001b[36m    174\u001b[0m\u001b[36m \u001b[0m│       50 │  $9.00 │\u001b[32m \u001b[0m\u001b[32m13         \u001b[0m\u001b[32m \u001b[0m│\u001b[2m \u001b[0m\u001b[2mfa8a9258-6206-48fc-81…\u001b[0m\u001b[2m \u001b[0m│\u001b[34m \u001b[0m\u001b[34m2          \u001b[0m\u001b[34m \u001b[0m│\u001b[2m \u001b[0m\u001b[2m99151189-cb6f-457c-8…\u001b[0m\u001b[2m \u001b[0m│ buy  │\n",
       "│\u001b[36m \u001b[0m\u001b[36m    175\u001b[0m\u001b[36m \u001b[0m│       12 │  $9.00 │\u001b[32m \u001b[0m\u001b[32m13         \u001b[0m\u001b[32m \u001b[0m│\u001b[2m \u001b[0m\u001b[2mfa8a9258-6206-48fc-81…\u001b[0m\u001b[2m \u001b[0m│\u001b[34m \u001b[0m\u001b[34m12         \u001b[0m\u001b[34m \u001b[0m│\u001b[2m \u001b[0m\u001b[2ma4107c07-6a0d-4710-8…\u001b[0m\u001b[2m \u001b[0m│ buy  │\n",
       "│\u001b[36m \u001b[0m\u001b[36m    176\u001b[0m\u001b[36m \u001b[0m│        7 │  $9.00 │\u001b[32m \u001b[0m\u001b[32m13         \u001b[0m\u001b[32m \u001b[0m│\u001b[2m \u001b[0m\u001b[2mfa8a9258-6206-48fc-81…\u001b[0m\u001b[2m \u001b[0m│\u001b[34m \u001b[0m\u001b[34m16         \u001b[0m\u001b[34m \u001b[0m│\u001b[2m \u001b[0m\u001b[2mb4bb277a-1a92-4698-8…\u001b[0m\u001b[2m \u001b[0m│ buy  │\n",
       "│\u001b[36m \u001b[0m\u001b[36m    177\u001b[0m\u001b[36m \u001b[0m│      143 │  $9.00 │\u001b[32m \u001b[0m\u001b[32m5          \u001b[0m\u001b[32m \u001b[0m│\u001b[2m \u001b[0m\u001b[2m361ef7c2-e97d-4b86-bf…\u001b[0m\u001b[2m \u001b[0m│\u001b[34m \u001b[0m\u001b[34m16         \u001b[0m\u001b[34m \u001b[0m│\u001b[2m \u001b[0m\u001b[2mb4bb277a-1a92-4698-8…\u001b[0m\u001b[2m \u001b[0m│ buy  │\n",
       "│\u001b[36m \u001b[0m\u001b[36m    178\u001b[0m\u001b[36m \u001b[0m│       20 │  $9.00 │\u001b[32m \u001b[0m\u001b[32m5          \u001b[0m\u001b[32m \u001b[0m│\u001b[2m \u001b[0m\u001b[2m361ef7c2-e97d-4b86-bf…\u001b[0m\u001b[2m \u001b[0m│\u001b[34m \u001b[0m\u001b[34m2          \u001b[0m\u001b[34m \u001b[0m│\u001b[2m \u001b[0m\u001b[2m99151189-cb6f-457c-8…\u001b[0m\u001b[2m \u001b[0m│ buy  │\n",
       "│\u001b[36m \u001b[0m\u001b[36m    179\u001b[0m\u001b[36m \u001b[0m│       30 │  $8.00 │\u001b[32m \u001b[0m\u001b[32m7          \u001b[0m\u001b[32m \u001b[0m│\u001b[2m \u001b[0m\u001b[2md1a48546-375f-49f9-b8…\u001b[0m\u001b[2m \u001b[0m│\u001b[34m \u001b[0m\u001b[34m11         \u001b[0m\u001b[34m \u001b[0m│\u001b[2m \u001b[0m\u001b[2m061bc19c-3e99-4c5a-a…\u001b[0m\u001b[2m \u001b[0m│ sell │\n",
       "│\u001b[36m \u001b[0m\u001b[36m    180\u001b[0m\u001b[36m \u001b[0m│       30 │  $8.00 │\u001b[32m \u001b[0m\u001b[32m7          \u001b[0m\u001b[32m \u001b[0m│\u001b[2m \u001b[0m\u001b[2md1a48546-375f-49f9-b8…\u001b[0m\u001b[2m \u001b[0m│\u001b[34m \u001b[0m\u001b[34m11         \u001b[0m\u001b[34m \u001b[0m│\u001b[2m \u001b[0m\u001b[2m061bc19c-3e99-4c5a-a…\u001b[0m\u001b[2m \u001b[0m│ sell │\n",
       "│\u001b[36m \u001b[0m\u001b[36m    181\u001b[0m\u001b[36m \u001b[0m│       30 │  $8.00 │\u001b[32m \u001b[0m\u001b[32m1          \u001b[0m\u001b[32m \u001b[0m│\u001b[2m \u001b[0m\u001b[2mf8d93e64-87de-4a47-b0…\u001b[0m\u001b[2m \u001b[0m│\u001b[34m \u001b[0m\u001b[34m11         \u001b[0m\u001b[34m \u001b[0m│\u001b[2m \u001b[0m\u001b[2m061bc19c-3e99-4c5a-a…\u001b[0m\u001b[2m \u001b[0m│ sell │\n",
       "│\u001b[36m \u001b[0m\u001b[36m    182\u001b[0m\u001b[36m \u001b[0m│       30 │  $8.00 │\u001b[32m \u001b[0m\u001b[32m16         \u001b[0m\u001b[32m \u001b[0m│\u001b[2m \u001b[0m\u001b[2mb4bb277a-1a92-4698-89…\u001b[0m\u001b[2m \u001b[0m│\u001b[34m \u001b[0m\u001b[34m11         \u001b[0m\u001b[34m \u001b[0m│\u001b[2m \u001b[0m\u001b[2m061bc19c-3e99-4c5a-a…\u001b[0m\u001b[2m \u001b[0m│ sell │\n",
       "│\u001b[36m \u001b[0m\u001b[36m    183\u001b[0m\u001b[36m \u001b[0m│       63 │  $8.00 │\u001b[32m \u001b[0m\u001b[32m7          \u001b[0m\u001b[32m \u001b[0m│\u001b[2m \u001b[0m\u001b[2md1a48546-375f-49f9-b8…\u001b[0m\u001b[2m \u001b[0m│\u001b[34m \u001b[0m\u001b[34m11         \u001b[0m\u001b[34m \u001b[0m│\u001b[2m \u001b[0m\u001b[2m061bc19c-3e99-4c5a-a…\u001b[0m\u001b[2m \u001b[0m│ sell │\n",
       "│\u001b[36m \u001b[0m\u001b[36m    184\u001b[0m\u001b[36m \u001b[0m│       37 │  $9.00 │\u001b[32m \u001b[0m\u001b[32m5          \u001b[0m\u001b[32m \u001b[0m│\u001b[2m \u001b[0m\u001b[2m361ef7c2-e97d-4b86-bf…\u001b[0m\u001b[2m \u001b[0m│\u001b[34m \u001b[0m\u001b[34m16         \u001b[0m\u001b[34m \u001b[0m│\u001b[2m \u001b[0m\u001b[2mb4bb277a-1a92-4698-8…\u001b[0m\u001b[2m \u001b[0m│ buy  │\n",
       "│\u001b[36m \u001b[0m\u001b[36m    185\u001b[0m\u001b[36m \u001b[0m│       97 │ $10.00 │\u001b[32m \u001b[0m\u001b[32m6          \u001b[0m\u001b[32m \u001b[0m│\u001b[2m \u001b[0m\u001b[2m4a42da52-9be1-40d8-87…\u001b[0m\u001b[2m \u001b[0m│\u001b[34m \u001b[0m\u001b[34m16         \u001b[0m\u001b[34m \u001b[0m│\u001b[2m \u001b[0m\u001b[2mb4bb277a-1a92-4698-8…\u001b[0m\u001b[2m \u001b[0m│ buy  │\n",
       "│\u001b[36m \u001b[0m\u001b[36m    186\u001b[0m\u001b[36m \u001b[0m│       16 │ $10.00 │\u001b[32m \u001b[0m\u001b[32m16         \u001b[0m\u001b[32m \u001b[0m│\u001b[2m \u001b[0m\u001b[2mb4bb277a-1a92-4698-89…\u001b[0m\u001b[2m \u001b[0m│\u001b[34m \u001b[0m\u001b[34m13         \u001b[0m\u001b[34m \u001b[0m│\u001b[2m \u001b[0m\u001b[2mfa8a9258-6206-48fc-8…\u001b[0m\u001b[2m \u001b[0m│ sell │\n",
       "│\u001b[36m \u001b[0m\u001b[36m    187\u001b[0m\u001b[36m \u001b[0m│        7 │  $8.00 │\u001b[32m \u001b[0m\u001b[32m7          \u001b[0m\u001b[32m \u001b[0m│\u001b[2m \u001b[0m\u001b[2md1a48546-375f-49f9-b8…\u001b[0m\u001b[2m \u001b[0m│\u001b[34m \u001b[0m\u001b[34m13         \u001b[0m\u001b[34m \u001b[0m│\u001b[2m \u001b[0m\u001b[2mfa8a9258-6206-48fc-8…\u001b[0m\u001b[2m \u001b[0m│ sell │\n",
       "│\u001b[36m \u001b[0m\u001b[36m    188\u001b[0m\u001b[36m \u001b[0m│       10 │  $8.00 │\u001b[32m \u001b[0m\u001b[32m8          \u001b[0m\u001b[32m \u001b[0m│\u001b[2m \u001b[0m\u001b[2mb23f55dc-9db5-4632-8b…\u001b[0m\u001b[2m \u001b[0m│\u001b[34m \u001b[0m\u001b[34m13         \u001b[0m\u001b[34m \u001b[0m│\u001b[2m \u001b[0m\u001b[2mfa8a9258-6206-48fc-8…\u001b[0m\u001b[2m \u001b[0m│ sell │\n",
       "│\u001b[36m \u001b[0m\u001b[36m    189\u001b[0m\u001b[36m \u001b[0m│        7 │  $8.00 │\u001b[32m \u001b[0m\u001b[32m13         \u001b[0m\u001b[32m \u001b[0m│\u001b[2m \u001b[0m\u001b[2mfa8a9258-6206-48fc-81…\u001b[0m\u001b[2m \u001b[0m│\u001b[34m \u001b[0m\u001b[34m16         \u001b[0m\u001b[34m \u001b[0m│\u001b[2m \u001b[0m\u001b[2mb4bb277a-1a92-4698-8…\u001b[0m\u001b[2m \u001b[0m│ buy  │\n",
       "│\u001b[36m \u001b[0m\u001b[36m    190\u001b[0m\u001b[36m \u001b[0m│      143 │  $9.00 │\u001b[32m \u001b[0m\u001b[32m17         \u001b[0m\u001b[32m \u001b[0m│\u001b[2m \u001b[0m\u001b[2mb698bca8-0c4e-4c78-b9…\u001b[0m\u001b[2m \u001b[0m│\u001b[34m \u001b[0m\u001b[34m16         \u001b[0m\u001b[34m \u001b[0m│\u001b[2m \u001b[0m\u001b[2mb4bb277a-1a92-4698-8…\u001b[0m\u001b[2m \u001b[0m│ buy  │\n",
       "│\u001b[36m \u001b[0m\u001b[36m    191\u001b[0m\u001b[36m \u001b[0m│       50 │  $8.00 │\u001b[32m \u001b[0m\u001b[32m7          \u001b[0m\u001b[32m \u001b[0m│\u001b[2m \u001b[0m\u001b[2md1a48546-375f-49f9-b8…\u001b[0m\u001b[2m \u001b[0m│\u001b[34m \u001b[0m\u001b[34m18         \u001b[0m\u001b[34m \u001b[0m│\u001b[2m \u001b[0m\u001b[2m0dc93dfc-ebf7-47de-b…\u001b[0m\u001b[2m \u001b[0m│ buy  │\n",
       "│\u001b[36m \u001b[0m\u001b[36m    192\u001b[0m\u001b[36m \u001b[0m│       48 │  $8.00 │\u001b[32m \u001b[0m\u001b[32m7          \u001b[0m\u001b[32m \u001b[0m│\u001b[2m \u001b[0m\u001b[2md1a48546-375f-49f9-b8…\u001b[0m\u001b[2m \u001b[0m│\u001b[34m \u001b[0m\u001b[34m18         \u001b[0m\u001b[34m \u001b[0m│\u001b[2m \u001b[0m\u001b[2m0dc93dfc-ebf7-47de-b…\u001b[0m\u001b[2m \u001b[0m│ buy  │\n",
       "│\u001b[36m \u001b[0m\u001b[36m    193\u001b[0m\u001b[36m \u001b[0m│       52 │  $9.00 │\u001b[32m \u001b[0m\u001b[32m17         \u001b[0m\u001b[32m \u001b[0m│\u001b[2m \u001b[0m\u001b[2mb698bca8-0c4e-4c78-b9…\u001b[0m\u001b[2m \u001b[0m│\u001b[34m \u001b[0m\u001b[34m18         \u001b[0m\u001b[34m \u001b[0m│\u001b[2m \u001b[0m\u001b[2m0dc93dfc-ebf7-47de-b…\u001b[0m\u001b[2m \u001b[0m│ buy  │\n",
       "│\u001b[36m \u001b[0m\u001b[36m    194\u001b[0m\u001b[36m \u001b[0m│       10 │ $10.00 │\u001b[32m \u001b[0m\u001b[32m1          \u001b[0m\u001b[32m \u001b[0m│\u001b[2m \u001b[0m\u001b[2mf8d93e64-87de-4a47-b0…\u001b[0m\u001b[2m \u001b[0m│\u001b[34m \u001b[0m\u001b[34m18         \u001b[0m\u001b[34m \u001b[0m│\u001b[2m \u001b[0m\u001b[2m0dc93dfc-ebf7-47de-b…\u001b[0m\u001b[2m \u001b[0m│ buy  │\n",
       "│\u001b[36m \u001b[0m\u001b[36m    195\u001b[0m\u001b[36m \u001b[0m│       41 │ $10.00 │\u001b[32m \u001b[0m\u001b[32m1          \u001b[0m\u001b[32m \u001b[0m│\u001b[2m \u001b[0m\u001b[2mf8d93e64-87de-4a47-b0…\u001b[0m\u001b[2m \u001b[0m│\u001b[34m \u001b[0m\u001b[34m10         \u001b[0m\u001b[34m \u001b[0m│\u001b[2m \u001b[0m\u001b[2m5ecae8a0-42dd-45f1-a…\u001b[0m\u001b[2m \u001b[0m│ buy  │\n",
       "│\u001b[36m \u001b[0m\u001b[36m    196\u001b[0m\u001b[36m \u001b[0m│        5 │ $11.00 │\u001b[32m \u001b[0m\u001b[32m2          \u001b[0m\u001b[32m \u001b[0m│\u001b[2m \u001b[0m\u001b[2m99151189-cb6f-457c-8b…\u001b[0m\u001b[2m \u001b[0m│\u001b[34m \u001b[0m\u001b[34m10         \u001b[0m\u001b[34m \u001b[0m│\u001b[2m \u001b[0m\u001b[2m5ecae8a0-42dd-45f1-a…\u001b[0m\u001b[2m \u001b[0m│ buy  │\n",
       "│\u001b[36m \u001b[0m\u001b[36m    197\u001b[0m\u001b[36m \u001b[0m│       16 │ $11.00 │\u001b[32m \u001b[0m\u001b[32m18         \u001b[0m\u001b[32m \u001b[0m│\u001b[2m \u001b[0m\u001b[2m0dc93dfc-ebf7-47de-bf…\u001b[0m\u001b[2m \u001b[0m│\u001b[34m \u001b[0m\u001b[34m10         \u001b[0m\u001b[34m \u001b[0m│\u001b[2m \u001b[0m\u001b[2m5ecae8a0-42dd-45f1-a…\u001b[0m\u001b[2m \u001b[0m│ buy  │\n",
       "│\u001b[36m \u001b[0m\u001b[36m    198\u001b[0m\u001b[36m \u001b[0m│       60 │ $11.00 │\u001b[32m \u001b[0m\u001b[32m12         \u001b[0m\u001b[32m \u001b[0m│\u001b[2m \u001b[0m\u001b[2ma4107c07-6a0d-4710-89…\u001b[0m\u001b[2m \u001b[0m│\u001b[34m \u001b[0m\u001b[34m10         \u001b[0m\u001b[34m \u001b[0m│\u001b[2m \u001b[0m\u001b[2m5ecae8a0-42dd-45f1-a…\u001b[0m\u001b[2m \u001b[0m│ buy  │\n",
       "│\u001b[36m \u001b[0m\u001b[36m    199\u001b[0m\u001b[36m \u001b[0m│       20 │ $11.00 │\u001b[32m \u001b[0m\u001b[32m8          \u001b[0m\u001b[32m \u001b[0m│\u001b[2m \u001b[0m\u001b[2mb23f55dc-9db5-4632-8b…\u001b[0m\u001b[2m \u001b[0m│\u001b[34m \u001b[0m\u001b[34m10         \u001b[0m\u001b[34m \u001b[0m│\u001b[2m \u001b[0m\u001b[2m5ecae8a0-42dd-45f1-a…\u001b[0m\u001b[2m \u001b[0m│ buy  │\n",
       "│\u001b[36m \u001b[0m\u001b[36m    200\u001b[0m\u001b[36m \u001b[0m│        9 │ $11.00 │\u001b[32m \u001b[0m\u001b[32m9          \u001b[0m\u001b[32m \u001b[0m│\u001b[2m \u001b[0m\u001b[2m58feba90-005f-43d5-93…\u001b[0m\u001b[2m \u001b[0m│\u001b[34m \u001b[0m\u001b[34m10         \u001b[0m\u001b[34m \u001b[0m│\u001b[2m \u001b[0m\u001b[2m5ecae8a0-42dd-45f1-a…\u001b[0m\u001b[2m \u001b[0m│ buy  │\n",
       "│\u001b[36m \u001b[0m\u001b[36m    201\u001b[0m\u001b[36m \u001b[0m│      107 │ $10.00 │\u001b[32m \u001b[0m\u001b[32m6          \u001b[0m\u001b[32m \u001b[0m│\u001b[2m \u001b[0m\u001b[2m4a42da52-9be1-40d8-87…\u001b[0m\u001b[2m \u001b[0m│\u001b[34m \u001b[0m\u001b[34m15         \u001b[0m\u001b[34m \u001b[0m│\u001b[2m \u001b[0m\u001b[2md8db39d8-d3d6-4e2c-8…\u001b[0m\u001b[2m \u001b[0m│ sell │\n",
       "│\u001b[36m \u001b[0m\u001b[36m    202\u001b[0m\u001b[36m \u001b[0m│       56 │  $9.00 │\u001b[32m \u001b[0m\u001b[32m14         \u001b[0m\u001b[32m \u001b[0m│\u001b[2m \u001b[0m\u001b[2m0097b91e-d691-4cae-8e…\u001b[0m\u001b[2m \u001b[0m│\u001b[34m \u001b[0m\u001b[34m15         \u001b[0m\u001b[34m \u001b[0m│\u001b[2m \u001b[0m\u001b[2md8db39d8-d3d6-4e2c-8…\u001b[0m\u001b[2m \u001b[0m│ sell │\n",
       "│\u001b[36m \u001b[0m\u001b[36m    203\u001b[0m\u001b[36m \u001b[0m│       50 │ $11.00 │\u001b[32m \u001b[0m\u001b[32m9          \u001b[0m\u001b[32m \u001b[0m│\u001b[2m \u001b[0m\u001b[2m58feba90-005f-43d5-93…\u001b[0m\u001b[2m \u001b[0m│\u001b[34m \u001b[0m\u001b[34m20         \u001b[0m\u001b[34m \u001b[0m│\u001b[2m \u001b[0m\u001b[2m6643233d-7499-4b7a-b…\u001b[0m\u001b[2m \u001b[0m│ buy  │\n",
       "│\u001b[36m \u001b[0m\u001b[36m    204\u001b[0m\u001b[36m \u001b[0m│       10 │ $11.00 │\u001b[32m \u001b[0m\u001b[32m9          \u001b[0m\u001b[32m \u001b[0m│\u001b[2m \u001b[0m\u001b[2m58feba90-005f-43d5-93…\u001b[0m\u001b[2m \u001b[0m│\u001b[34m \u001b[0m\u001b[34m20         \u001b[0m\u001b[34m \u001b[0m│\u001b[2m \u001b[0m\u001b[2m6643233d-7499-4b7a-b…\u001b[0m\u001b[2m \u001b[0m│ buy  │\n",
       "└─────────┴──────────┴────────┴─────────────┴────────────────────────┴─────────────┴───────────────────────┴──────┘\n"
      ]
     },
     "metadata": {},
     "output_type": "display_data"
    }
   ],
   "source": [
    "# Process orders and collect trades\n",
    "filled_trades: List[Trade] = []\n",
    "total_orders = len(orders_df)\n",
    "checkpoints = {4, 19, total_orders - 1}\n",
    "\n",
    "for index, row in tqdm(orders_df.iterrows(), total=total_orders, desc=\"Processing orders\"):\n",
    "    order_request = OrderRequest(\n",
    "        trader_id=row[\"trader_uuid\"],\n",
    "        side=row[\"Buy Sell Direction\"],\n",
    "        priority=Priority.HIGH,\n",
    "        timestamp=row[\"unix_timestamp\"],\n",
    "        price=row[\"Order Price\"],\n",
    "        quantity=row[\"Quantity\"]\n",
    "    )\n",
    "    \n",
    "    trades = matching_engine.process_order(order_request)\n",
    "    if trades:\n",
    "        filled_trades.extend(trades)\n",
    "    \n",
    "    # Display order book at checkpoints\n",
    "    if index in checkpoints:\n",
    "        label = \"FINAL\" if index == total_orders - 1 else f\"#{index + 1}\"\n",
    "        console.print(f\"\\n[bold cyan]=== Order Book after {label} orders ===[/bold cyan]\")\n",
    "        print(order_book)\n",
    "\n",
    "# Display all executed trades\n",
    "console.print(\"\\n[bold cyan]=== ALL EXECUTED TRADES ===[/bold cyan]\")\n",
    "console.print(f\"[bold]Total number of trades: {len(filled_trades)}[/bold]\\n\")\n",
    "console.print(create_trade_table(filled_trades, uuid_to_group))"
   ]
  },
  {
   "cell_type": "code",
   "execution_count": 6,
   "id": "0507ca0f",
   "metadata": {},
   "outputs": [
    {
     "data": {
      "text/html": [
       "<pre style=\"white-space:pre;overflow-x:auto;line-height:normal;font-family:Menlo,'DejaVu Sans Mono',consolas,'Courier New',monospace\"><span style=\"color: #000080; text-decoration-color: #000080; font-weight: bold\">--- Final Metrics ---</span>\n",
       "</pre>\n"
      ],
      "text/plain": [
       "\u001b[1;34m--- Final Metrics ---\u001b[0m\n"
      ]
     },
     "metadata": {},
     "output_type": "display_data"
    },
    {
     "data": {
      "text/html": [
       "<pre style=\"white-space:pre;overflow-x:auto;line-height:normal;font-family:Menlo,'DejaVu Sans Mono',consolas,'Courier New',monospace\">\n",
       "<span style=\"color: #800000; text-decoration-color: #800000; font-weight: bold\">⚠️  Total Crossed Book Occurrences: </span><span style=\"color: #800000; text-decoration-color: #800000; font-weight: bold\">12</span>\n",
       "</pre>\n"
      ],
      "text/plain": [
       "\n",
       "\u001b[1;31m⚠️  Total Crossed Book Occurrences: \u001b[0m\u001b[1;31m12\u001b[0m\n"
      ]
     },
     "metadata": {},
     "output_type": "display_data"
    },
    {
     "data": {
      "text/html": [
       "<pre style=\"white-space:pre;overflow-x:auto;line-height:normal;font-family:Menlo,'DejaVu Sans Mono',consolas,'Courier New',monospace\">\n",
       "<span style=\"color: #800000; text-decoration-color: #800000; font-weight: bold\">Crossed Book Events:</span>\n",
       "</pre>\n"
      ],
      "text/plain": [
       "\n",
       "\u001b[1;31mCrossed Book Events:\u001b[0m\n"
      ]
     },
     "metadata": {},
     "output_type": "display_data"
    },
    {
     "data": {
      "text/html": [
       "<pre style=\"white-space:pre;overflow-x:auto;line-height:normal;font-family:Menlo,'DejaVu Sans Mono',consolas,'Courier New',monospace\">\n",
       "  <span style=\"font-weight: bold\">Event </span><span style=\"color: #008080; text-decoration-color: #008080; font-weight: bold\">1</span><span style=\"font-weight: bold\">:</span>\n",
       "</pre>\n"
      ],
      "text/plain": [
       "\n",
       "  \u001b[1mEvent \u001b[0m\u001b[1;36m1\u001b[0m\u001b[1m:\u001b[0m\n"
      ]
     },
     "metadata": {},
     "output_type": "display_data"
    },
    {
     "data": {
      "text/html": [
       "<pre style=\"white-space:pre;overflow-x:auto;line-height:normal;font-family:Menlo,'DejaVu Sans Mono',consolas,'Courier New',monospace\">    <span style=\"color: #000080; text-decoration-color: #000080\">Timestamp:</span> <span style=\"color: #008080; text-decoration-color: #008080; font-weight: bold\">1759868528.65815</span>\n",
       "</pre>\n"
      ],
      "text/plain": [
       "    \u001b[34mTimestamp:\u001b[0m \u001b[1;36m1759868528.65815\u001b[0m\n"
      ]
     },
     "metadata": {},
     "output_type": "display_data"
    },
    {
     "data": {
      "text/html": [
       "<pre style=\"white-space:pre;overflow-x:auto;line-height:normal;font-family:Menlo,'DejaVu Sans Mono',consolas,'Courier New',monospace\">    <span style=\"color: #000080; text-decoration-color: #000080\">Best Bid:</span> $<span style=\"color: #008080; text-decoration-color: #008080; font-weight: bold\">10.00</span>\n",
       "</pre>\n"
      ],
      "text/plain": [
       "    \u001b[34mBest Bid:\u001b[0m $\u001b[1;36m10.00\u001b[0m\n"
      ]
     },
     "metadata": {},
     "output_type": "display_data"
    },
    {
     "data": {
      "text/html": [
       "<pre style=\"white-space:pre;overflow-x:auto;line-height:normal;font-family:Menlo,'DejaVu Sans Mono',consolas,'Courier New',monospace\">    <span style=\"color: #000080; text-decoration-color: #000080\">Best Ask:</span> $<span style=\"color: #008080; text-decoration-color: #008080; font-weight: bold\">10.00</span>\n",
       "</pre>\n"
      ],
      "text/plain": [
       "    \u001b[34mBest Ask:\u001b[0m $\u001b[1;36m10.00\u001b[0m\n"
      ]
     },
     "metadata": {},
     "output_type": "display_data"
    },
    {
     "data": {
      "text/html": [
       "<pre style=\"white-space:pre;overflow-x:auto;line-height:normal;font-family:Menlo,'DejaVu Sans Mono',consolas,'Courier New',monospace\">\n",
       "  <span style=\"font-weight: bold\">Event </span><span style=\"color: #008080; text-decoration-color: #008080; font-weight: bold\">2</span><span style=\"font-weight: bold\">:</span>\n",
       "</pre>\n"
      ],
      "text/plain": [
       "\n",
       "  \u001b[1mEvent \u001b[0m\u001b[1;36m2\u001b[0m\u001b[1m:\u001b[0m\n"
      ]
     },
     "metadata": {},
     "output_type": "display_data"
    },
    {
     "data": {
      "text/html": [
       "<pre style=\"white-space:pre;overflow-x:auto;line-height:normal;font-family:Menlo,'DejaVu Sans Mono',consolas,'Courier New',monospace\">    <span style=\"color: #000080; text-decoration-color: #000080\">Timestamp:</span> <span style=\"color: #008080; text-decoration-color: #008080; font-weight: bold\">1759868535.4140673</span>\n",
       "</pre>\n"
      ],
      "text/plain": [
       "    \u001b[34mTimestamp:\u001b[0m \u001b[1;36m1759868535.4140673\u001b[0m\n"
      ]
     },
     "metadata": {},
     "output_type": "display_data"
    },
    {
     "data": {
      "text/html": [
       "<pre style=\"white-space:pre;overflow-x:auto;line-height:normal;font-family:Menlo,'DejaVu Sans Mono',consolas,'Courier New',monospace\">    <span style=\"color: #000080; text-decoration-color: #000080\">Best Bid:</span> $<span style=\"color: #008080; text-decoration-color: #008080; font-weight: bold\">10.00</span>\n",
       "</pre>\n"
      ],
      "text/plain": [
       "    \u001b[34mBest Bid:\u001b[0m $\u001b[1;36m10.00\u001b[0m\n"
      ]
     },
     "metadata": {},
     "output_type": "display_data"
    },
    {
     "data": {
      "text/html": [
       "<pre style=\"white-space:pre;overflow-x:auto;line-height:normal;font-family:Menlo,'DejaVu Sans Mono',consolas,'Courier New',monospace\">    <span style=\"color: #000080; text-decoration-color: #000080\">Best Ask:</span> $<span style=\"color: #008080; text-decoration-color: #008080; font-weight: bold\">10.00</span>\n",
       "</pre>\n"
      ],
      "text/plain": [
       "    \u001b[34mBest Ask:\u001b[0m $\u001b[1;36m10.00\u001b[0m\n"
      ]
     },
     "metadata": {},
     "output_type": "display_data"
    },
    {
     "data": {
      "text/html": [
       "<pre style=\"white-space:pre;overflow-x:auto;line-height:normal;font-family:Menlo,'DejaVu Sans Mono',consolas,'Courier New',monospace\">\n",
       "  <span style=\"font-weight: bold\">Event </span><span style=\"color: #008080; text-decoration-color: #008080; font-weight: bold\">3</span><span style=\"font-weight: bold\">:</span>\n",
       "</pre>\n"
      ],
      "text/plain": [
       "\n",
       "  \u001b[1mEvent \u001b[0m\u001b[1;36m3\u001b[0m\u001b[1m:\u001b[0m\n"
      ]
     },
     "metadata": {},
     "output_type": "display_data"
    },
    {
     "data": {
      "text/html": [
       "<pre style=\"white-space:pre;overflow-x:auto;line-height:normal;font-family:Menlo,'DejaVu Sans Mono',consolas,'Courier New',monospace\">    <span style=\"color: #000080; text-decoration-color: #000080\">Timestamp:</span> <span style=\"color: #008080; text-decoration-color: #008080; font-weight: bold\">1759868540.1620402</span>\n",
       "</pre>\n"
      ],
      "text/plain": [
       "    \u001b[34mTimestamp:\u001b[0m \u001b[1;36m1759868540.1620402\u001b[0m\n"
      ]
     },
     "metadata": {},
     "output_type": "display_data"
    },
    {
     "data": {
      "text/html": [
       "<pre style=\"white-space:pre;overflow-x:auto;line-height:normal;font-family:Menlo,'DejaVu Sans Mono',consolas,'Courier New',monospace\">    <span style=\"color: #000080; text-decoration-color: #000080\">Best Bid:</span> $<span style=\"color: #008080; text-decoration-color: #008080; font-weight: bold\">10.00</span>\n",
       "</pre>\n"
      ],
      "text/plain": [
       "    \u001b[34mBest Bid:\u001b[0m $\u001b[1;36m10.00\u001b[0m\n"
      ]
     },
     "metadata": {},
     "output_type": "display_data"
    },
    {
     "data": {
      "text/html": [
       "<pre style=\"white-space:pre;overflow-x:auto;line-height:normal;font-family:Menlo,'DejaVu Sans Mono',consolas,'Courier New',monospace\">    <span style=\"color: #000080; text-decoration-color: #000080\">Best Ask:</span> $<span style=\"color: #008080; text-decoration-color: #008080; font-weight: bold\">10.00</span>\n",
       "</pre>\n"
      ],
      "text/plain": [
       "    \u001b[34mBest Ask:\u001b[0m $\u001b[1;36m10.00\u001b[0m\n"
      ]
     },
     "metadata": {},
     "output_type": "display_data"
    },
    {
     "data": {
      "text/html": [
       "<pre style=\"white-space:pre;overflow-x:auto;line-height:normal;font-family:Menlo,'DejaVu Sans Mono',consolas,'Courier New',monospace\">\n",
       "  <span style=\"font-weight: bold\">Event </span><span style=\"color: #008080; text-decoration-color: #008080; font-weight: bold\">4</span><span style=\"font-weight: bold\">:</span>\n",
       "</pre>\n"
      ],
      "text/plain": [
       "\n",
       "  \u001b[1mEvent \u001b[0m\u001b[1;36m4\u001b[0m\u001b[1m:\u001b[0m\n"
      ]
     },
     "metadata": {},
     "output_type": "display_data"
    },
    {
     "data": {
      "text/html": [
       "<pre style=\"white-space:pre;overflow-x:auto;line-height:normal;font-family:Menlo,'DejaVu Sans Mono',consolas,'Courier New',monospace\">    <span style=\"color: #000080; text-decoration-color: #000080\">Timestamp:</span> <span style=\"color: #008080; text-decoration-color: #008080; font-weight: bold\">1759868545.457759</span>\n",
       "</pre>\n"
      ],
      "text/plain": [
       "    \u001b[34mTimestamp:\u001b[0m \u001b[1;36m1759868545.457759\u001b[0m\n"
      ]
     },
     "metadata": {},
     "output_type": "display_data"
    },
    {
     "data": {
      "text/html": [
       "<pre style=\"white-space:pre;overflow-x:auto;line-height:normal;font-family:Menlo,'DejaVu Sans Mono',consolas,'Courier New',monospace\">    <span style=\"color: #000080; text-decoration-color: #000080\">Best Bid:</span> $<span style=\"color: #008080; text-decoration-color: #008080; font-weight: bold\">10.00</span>\n",
       "</pre>\n"
      ],
      "text/plain": [
       "    \u001b[34mBest Bid:\u001b[0m $\u001b[1;36m10.00\u001b[0m\n"
      ]
     },
     "metadata": {},
     "output_type": "display_data"
    },
    {
     "data": {
      "text/html": [
       "<pre style=\"white-space:pre;overflow-x:auto;line-height:normal;font-family:Menlo,'DejaVu Sans Mono',consolas,'Courier New',monospace\">    <span style=\"color: #000080; text-decoration-color: #000080\">Best Ask:</span> $<span style=\"color: #008080; text-decoration-color: #008080; font-weight: bold\">10.00</span>\n",
       "</pre>\n"
      ],
      "text/plain": [
       "    \u001b[34mBest Ask:\u001b[0m $\u001b[1;36m10.00\u001b[0m\n"
      ]
     },
     "metadata": {},
     "output_type": "display_data"
    },
    {
     "data": {
      "text/html": [
       "<pre style=\"white-space:pre;overflow-x:auto;line-height:normal;font-family:Menlo,'DejaVu Sans Mono',consolas,'Courier New',monospace\">\n",
       "  <span style=\"font-weight: bold\">Event </span><span style=\"color: #008080; text-decoration-color: #008080; font-weight: bold\">5</span><span style=\"font-weight: bold\">:</span>\n",
       "</pre>\n"
      ],
      "text/plain": [
       "\n",
       "  \u001b[1mEvent \u001b[0m\u001b[1;36m5\u001b[0m\u001b[1m:\u001b[0m\n"
      ]
     },
     "metadata": {},
     "output_type": "display_data"
    },
    {
     "data": {
      "text/html": [
       "<pre style=\"white-space:pre;overflow-x:auto;line-height:normal;font-family:Menlo,'DejaVu Sans Mono',consolas,'Courier New',monospace\">    <span style=\"color: #000080; text-decoration-color: #000080\">Timestamp:</span> <span style=\"color: #008080; text-decoration-color: #008080; font-weight: bold\">1759868562.5308638</span>\n",
       "</pre>\n"
      ],
      "text/plain": [
       "    \u001b[34mTimestamp:\u001b[0m \u001b[1;36m1759868562.5308638\u001b[0m\n"
      ]
     },
     "metadata": {},
     "output_type": "display_data"
    },
    {
     "data": {
      "text/html": [
       "<pre style=\"white-space:pre;overflow-x:auto;line-height:normal;font-family:Menlo,'DejaVu Sans Mono',consolas,'Courier New',monospace\">    <span style=\"color: #000080; text-decoration-color: #000080\">Best Bid:</span> $<span style=\"color: #008080; text-decoration-color: #008080; font-weight: bold\">10.00</span>\n",
       "</pre>\n"
      ],
      "text/plain": [
       "    \u001b[34mBest Bid:\u001b[0m $\u001b[1;36m10.00\u001b[0m\n"
      ]
     },
     "metadata": {},
     "output_type": "display_data"
    },
    {
     "data": {
      "text/html": [
       "<pre style=\"white-space:pre;overflow-x:auto;line-height:normal;font-family:Menlo,'DejaVu Sans Mono',consolas,'Courier New',monospace\">    <span style=\"color: #000080; text-decoration-color: #000080\">Best Ask:</span> $<span style=\"color: #008080; text-decoration-color: #008080; font-weight: bold\">10.00</span>\n",
       "</pre>\n"
      ],
      "text/plain": [
       "    \u001b[34mBest Ask:\u001b[0m $\u001b[1;36m10.00\u001b[0m\n"
      ]
     },
     "metadata": {},
     "output_type": "display_data"
    },
    {
     "data": {
      "text/html": [
       "<pre style=\"white-space:pre;overflow-x:auto;line-height:normal;font-family:Menlo,'DejaVu Sans Mono',consolas,'Courier New',monospace\">\n",
       "  <span style=\"font-weight: bold\">Event </span><span style=\"color: #008080; text-decoration-color: #008080; font-weight: bold\">6</span><span style=\"font-weight: bold\">:</span>\n",
       "</pre>\n"
      ],
      "text/plain": [
       "\n",
       "  \u001b[1mEvent \u001b[0m\u001b[1;36m6\u001b[0m\u001b[1m:\u001b[0m\n"
      ]
     },
     "metadata": {},
     "output_type": "display_data"
    },
    {
     "data": {
      "text/html": [
       "<pre style=\"white-space:pre;overflow-x:auto;line-height:normal;font-family:Menlo,'DejaVu Sans Mono',consolas,'Courier New',monospace\">    <span style=\"color: #000080; text-decoration-color: #000080\">Timestamp:</span> <span style=\"color: #008080; text-decoration-color: #008080; font-weight: bold\">1759868567.5341454</span>\n",
       "</pre>\n"
      ],
      "text/plain": [
       "    \u001b[34mTimestamp:\u001b[0m \u001b[1;36m1759868567.5341454\u001b[0m\n"
      ]
     },
     "metadata": {},
     "output_type": "display_data"
    },
    {
     "data": {
      "text/html": [
       "<pre style=\"white-space:pre;overflow-x:auto;line-height:normal;font-family:Menlo,'DejaVu Sans Mono',consolas,'Courier New',monospace\">    <span style=\"color: #000080; text-decoration-color: #000080\">Best Bid:</span> $<span style=\"color: #008080; text-decoration-color: #008080; font-weight: bold\">10.00</span>\n",
       "</pre>\n"
      ],
      "text/plain": [
       "    \u001b[34mBest Bid:\u001b[0m $\u001b[1;36m10.00\u001b[0m\n"
      ]
     },
     "metadata": {},
     "output_type": "display_data"
    },
    {
     "data": {
      "text/html": [
       "<pre style=\"white-space:pre;overflow-x:auto;line-height:normal;font-family:Menlo,'DejaVu Sans Mono',consolas,'Courier New',monospace\">    <span style=\"color: #000080; text-decoration-color: #000080\">Best Ask:</span> $<span style=\"color: #008080; text-decoration-color: #008080; font-weight: bold\">10.00</span>\n",
       "</pre>\n"
      ],
      "text/plain": [
       "    \u001b[34mBest Ask:\u001b[0m $\u001b[1;36m10.00\u001b[0m\n"
      ]
     },
     "metadata": {},
     "output_type": "display_data"
    },
    {
     "data": {
      "text/html": [
       "<pre style=\"white-space:pre;overflow-x:auto;line-height:normal;font-family:Menlo,'DejaVu Sans Mono',consolas,'Courier New',monospace\">\n",
       "  <span style=\"font-weight: bold\">Event </span><span style=\"color: #008080; text-decoration-color: #008080; font-weight: bold\">7</span><span style=\"font-weight: bold\">:</span>\n",
       "</pre>\n"
      ],
      "text/plain": [
       "\n",
       "  \u001b[1mEvent \u001b[0m\u001b[1;36m7\u001b[0m\u001b[1m:\u001b[0m\n"
      ]
     },
     "metadata": {},
     "output_type": "display_data"
    },
    {
     "data": {
      "text/html": [
       "<pre style=\"white-space:pre;overflow-x:auto;line-height:normal;font-family:Menlo,'DejaVu Sans Mono',consolas,'Courier New',monospace\">    <span style=\"color: #000080; text-decoration-color: #000080\">Timestamp:</span> <span style=\"color: #008080; text-decoration-color: #008080; font-weight: bold\">1759868576.267902</span>\n",
       "</pre>\n"
      ],
      "text/plain": [
       "    \u001b[34mTimestamp:\u001b[0m \u001b[1;36m1759868576.267902\u001b[0m\n"
      ]
     },
     "metadata": {},
     "output_type": "display_data"
    },
    {
     "data": {
      "text/html": [
       "<pre style=\"white-space:pre;overflow-x:auto;line-height:normal;font-family:Menlo,'DejaVu Sans Mono',consolas,'Courier New',monospace\">    <span style=\"color: #000080; text-decoration-color: #000080\">Best Bid:</span> $<span style=\"color: #008080; text-decoration-color: #008080; font-weight: bold\">10.00</span>\n",
       "</pre>\n"
      ],
      "text/plain": [
       "    \u001b[34mBest Bid:\u001b[0m $\u001b[1;36m10.00\u001b[0m\n"
      ]
     },
     "metadata": {},
     "output_type": "display_data"
    },
    {
     "data": {
      "text/html": [
       "<pre style=\"white-space:pre;overflow-x:auto;line-height:normal;font-family:Menlo,'DejaVu Sans Mono',consolas,'Courier New',monospace\">    <span style=\"color: #000080; text-decoration-color: #000080\">Best Ask:</span> $<span style=\"color: #008080; text-decoration-color: #008080; font-weight: bold\">10.00</span>\n",
       "</pre>\n"
      ],
      "text/plain": [
       "    \u001b[34mBest Ask:\u001b[0m $\u001b[1;36m10.00\u001b[0m\n"
      ]
     },
     "metadata": {},
     "output_type": "display_data"
    },
    {
     "data": {
      "text/html": [
       "<pre style=\"white-space:pre;overflow-x:auto;line-height:normal;font-family:Menlo,'DejaVu Sans Mono',consolas,'Courier New',monospace\">\n",
       "  <span style=\"font-weight: bold\">Event </span><span style=\"color: #008080; text-decoration-color: #008080; font-weight: bold\">8</span><span style=\"font-weight: bold\">:</span>\n",
       "</pre>\n"
      ],
      "text/plain": [
       "\n",
       "  \u001b[1mEvent \u001b[0m\u001b[1;36m8\u001b[0m\u001b[1m:\u001b[0m\n"
      ]
     },
     "metadata": {},
     "output_type": "display_data"
    },
    {
     "data": {
      "text/html": [
       "<pre style=\"white-space:pre;overflow-x:auto;line-height:normal;font-family:Menlo,'DejaVu Sans Mono',consolas,'Courier New',monospace\">    <span style=\"color: #000080; text-decoration-color: #000080\">Timestamp:</span> <span style=\"color: #008080; text-decoration-color: #008080; font-weight: bold\">1759868615.043267</span>\n",
       "</pre>\n"
      ],
      "text/plain": [
       "    \u001b[34mTimestamp:\u001b[0m \u001b[1;36m1759868615.043267\u001b[0m\n"
      ]
     },
     "metadata": {},
     "output_type": "display_data"
    },
    {
     "data": {
      "text/html": [
       "<pre style=\"white-space:pre;overflow-x:auto;line-height:normal;font-family:Menlo,'DejaVu Sans Mono',consolas,'Courier New',monospace\">    <span style=\"color: #000080; text-decoration-color: #000080\">Best Bid:</span> $<span style=\"color: #008080; text-decoration-color: #008080; font-weight: bold\">10.00</span>\n",
       "</pre>\n"
      ],
      "text/plain": [
       "    \u001b[34mBest Bid:\u001b[0m $\u001b[1;36m10.00\u001b[0m\n"
      ]
     },
     "metadata": {},
     "output_type": "display_data"
    },
    {
     "data": {
      "text/html": [
       "<pre style=\"white-space:pre;overflow-x:auto;line-height:normal;font-family:Menlo,'DejaVu Sans Mono',consolas,'Courier New',monospace\">    <span style=\"color: #000080; text-decoration-color: #000080\">Best Ask:</span> $<span style=\"color: #008080; text-decoration-color: #008080; font-weight: bold\">10.00</span>\n",
       "</pre>\n"
      ],
      "text/plain": [
       "    \u001b[34mBest Ask:\u001b[0m $\u001b[1;36m10.00\u001b[0m\n"
      ]
     },
     "metadata": {},
     "output_type": "display_data"
    },
    {
     "data": {
      "text/html": [
       "<pre style=\"white-space:pre;overflow-x:auto;line-height:normal;font-family:Menlo,'DejaVu Sans Mono',consolas,'Courier New',monospace\">\n",
       "  <span style=\"font-weight: bold\">Event </span><span style=\"color: #008080; text-decoration-color: #008080; font-weight: bold\">9</span><span style=\"font-weight: bold\">:</span>\n",
       "</pre>\n"
      ],
      "text/plain": [
       "\n",
       "  \u001b[1mEvent \u001b[0m\u001b[1;36m9\u001b[0m\u001b[1m:\u001b[0m\n"
      ]
     },
     "metadata": {},
     "output_type": "display_data"
    },
    {
     "data": {
      "text/html": [
       "<pre style=\"white-space:pre;overflow-x:auto;line-height:normal;font-family:Menlo,'DejaVu Sans Mono',consolas,'Courier New',monospace\">    <span style=\"color: #000080; text-decoration-color: #000080\">Timestamp:</span> <span style=\"color: #008080; text-decoration-color: #008080; font-weight: bold\">1759868967.297148</span>\n",
       "</pre>\n"
      ],
      "text/plain": [
       "    \u001b[34mTimestamp:\u001b[0m \u001b[1;36m1759868967.297148\u001b[0m\n"
      ]
     },
     "metadata": {},
     "output_type": "display_data"
    },
    {
     "data": {
      "text/html": [
       "<pre style=\"white-space:pre;overflow-x:auto;line-height:normal;font-family:Menlo,'DejaVu Sans Mono',consolas,'Courier New',monospace\">    <span style=\"color: #000080; text-decoration-color: #000080\">Best Bid:</span> $<span style=\"color: #008080; text-decoration-color: #008080; font-weight: bold\">10.00</span>\n",
       "</pre>\n"
      ],
      "text/plain": [
       "    \u001b[34mBest Bid:\u001b[0m $\u001b[1;36m10.00\u001b[0m\n"
      ]
     },
     "metadata": {},
     "output_type": "display_data"
    },
    {
     "data": {
      "text/html": [
       "<pre style=\"white-space:pre;overflow-x:auto;line-height:normal;font-family:Menlo,'DejaVu Sans Mono',consolas,'Courier New',monospace\">    <span style=\"color: #000080; text-decoration-color: #000080\">Best Ask:</span> $<span style=\"color: #008080; text-decoration-color: #008080; font-weight: bold\">10.00</span>\n",
       "</pre>\n"
      ],
      "text/plain": [
       "    \u001b[34mBest Ask:\u001b[0m $\u001b[1;36m10.00\u001b[0m\n"
      ]
     },
     "metadata": {},
     "output_type": "display_data"
    },
    {
     "data": {
      "text/html": [
       "<pre style=\"white-space:pre;overflow-x:auto;line-height:normal;font-family:Menlo,'DejaVu Sans Mono',consolas,'Courier New',monospace\">\n",
       "  <span style=\"font-weight: bold\">Event </span><span style=\"color: #008080; text-decoration-color: #008080; font-weight: bold\">10</span><span style=\"font-weight: bold\">:</span>\n",
       "</pre>\n"
      ],
      "text/plain": [
       "\n",
       "  \u001b[1mEvent \u001b[0m\u001b[1;36m10\u001b[0m\u001b[1m:\u001b[0m\n"
      ]
     },
     "metadata": {},
     "output_type": "display_data"
    },
    {
     "data": {
      "text/html": [
       "<pre style=\"white-space:pre;overflow-x:auto;line-height:normal;font-family:Menlo,'DejaVu Sans Mono',consolas,'Courier New',monospace\">    <span style=\"color: #000080; text-decoration-color: #000080\">Timestamp:</span> <span style=\"color: #008080; text-decoration-color: #008080; font-weight: bold\">1759869069.4104345</span>\n",
       "</pre>\n"
      ],
      "text/plain": [
       "    \u001b[34mTimestamp:\u001b[0m \u001b[1;36m1759869069.4104345\u001b[0m\n"
      ]
     },
     "metadata": {},
     "output_type": "display_data"
    },
    {
     "data": {
      "text/html": [
       "<pre style=\"white-space:pre;overflow-x:auto;line-height:normal;font-family:Menlo,'DejaVu Sans Mono',consolas,'Courier New',monospace\">    <span style=\"color: #000080; text-decoration-color: #000080\">Best Bid:</span> $<span style=\"color: #008080; text-decoration-color: #008080; font-weight: bold\">10.00</span>\n",
       "</pre>\n"
      ],
      "text/plain": [
       "    \u001b[34mBest Bid:\u001b[0m $\u001b[1;36m10.00\u001b[0m\n"
      ]
     },
     "metadata": {},
     "output_type": "display_data"
    },
    {
     "data": {
      "text/html": [
       "<pre style=\"white-space:pre;overflow-x:auto;line-height:normal;font-family:Menlo,'DejaVu Sans Mono',consolas,'Courier New',monospace\">    <span style=\"color: #000080; text-decoration-color: #000080\">Best Ask:</span> $<span style=\"color: #008080; text-decoration-color: #008080; font-weight: bold\">10.00</span>\n",
       "</pre>\n"
      ],
      "text/plain": [
       "    \u001b[34mBest Ask:\u001b[0m $\u001b[1;36m10.00\u001b[0m\n"
      ]
     },
     "metadata": {},
     "output_type": "display_data"
    },
    {
     "data": {
      "text/html": [
       "<pre style=\"white-space:pre;overflow-x:auto;line-height:normal;font-family:Menlo,'DejaVu Sans Mono',consolas,'Courier New',monospace\">\n",
       "  <span style=\"font-weight: bold\">Event </span><span style=\"color: #008080; text-decoration-color: #008080; font-weight: bold\">11</span><span style=\"font-weight: bold\">:</span>\n",
       "</pre>\n"
      ],
      "text/plain": [
       "\n",
       "  \u001b[1mEvent \u001b[0m\u001b[1;36m11\u001b[0m\u001b[1m:\u001b[0m\n"
      ]
     },
     "metadata": {},
     "output_type": "display_data"
    },
    {
     "data": {
      "text/html": [
       "<pre style=\"white-space:pre;overflow-x:auto;line-height:normal;font-family:Menlo,'DejaVu Sans Mono',consolas,'Courier New',monospace\">    <span style=\"color: #000080; text-decoration-color: #000080\">Timestamp:</span> <span style=\"color: #008080; text-decoration-color: #008080; font-weight: bold\">1759869421.2538884</span>\n",
       "</pre>\n"
      ],
      "text/plain": [
       "    \u001b[34mTimestamp:\u001b[0m \u001b[1;36m1759869421.2538884\u001b[0m\n"
      ]
     },
     "metadata": {},
     "output_type": "display_data"
    },
    {
     "data": {
      "text/html": [
       "<pre style=\"white-space:pre;overflow-x:auto;line-height:normal;font-family:Menlo,'DejaVu Sans Mono',consolas,'Courier New',monospace\">    <span style=\"color: #000080; text-decoration-color: #000080\">Best Bid:</span> $<span style=\"color: #008080; text-decoration-color: #008080; font-weight: bold\">10.00</span>\n",
       "</pre>\n"
      ],
      "text/plain": [
       "    \u001b[34mBest Bid:\u001b[0m $\u001b[1;36m10.00\u001b[0m\n"
      ]
     },
     "metadata": {},
     "output_type": "display_data"
    },
    {
     "data": {
      "text/html": [
       "<pre style=\"white-space:pre;overflow-x:auto;line-height:normal;font-family:Menlo,'DejaVu Sans Mono',consolas,'Courier New',monospace\">    <span style=\"color: #000080; text-decoration-color: #000080\">Best Ask:</span> $<span style=\"color: #008080; text-decoration-color: #008080; font-weight: bold\">10.00</span>\n",
       "</pre>\n"
      ],
      "text/plain": [
       "    \u001b[34mBest Ask:\u001b[0m $\u001b[1;36m10.00\u001b[0m\n"
      ]
     },
     "metadata": {},
     "output_type": "display_data"
    },
    {
     "data": {
      "text/html": [
       "<pre style=\"white-space:pre;overflow-x:auto;line-height:normal;font-family:Menlo,'DejaVu Sans Mono',consolas,'Courier New',monospace\">\n",
       "  <span style=\"font-weight: bold\">Event </span><span style=\"color: #008080; text-decoration-color: #008080; font-weight: bold\">12</span><span style=\"font-weight: bold\">:</span>\n",
       "</pre>\n"
      ],
      "text/plain": [
       "\n",
       "  \u001b[1mEvent \u001b[0m\u001b[1;36m12\u001b[0m\u001b[1m:\u001b[0m\n"
      ]
     },
     "metadata": {},
     "output_type": "display_data"
    },
    {
     "data": {
      "text/html": [
       "<pre style=\"white-space:pre;overflow-x:auto;line-height:normal;font-family:Menlo,'DejaVu Sans Mono',consolas,'Courier New',monospace\">    <span style=\"color: #000080; text-decoration-color: #000080\">Timestamp:</span> <span style=\"color: #008080; text-decoration-color: #008080; font-weight: bold\">1759869421.5100951</span>\n",
       "</pre>\n"
      ],
      "text/plain": [
       "    \u001b[34mTimestamp:\u001b[0m \u001b[1;36m1759869421.5100951\u001b[0m\n"
      ]
     },
     "metadata": {},
     "output_type": "display_data"
    },
    {
     "data": {
      "text/html": [
       "<pre style=\"white-space:pre;overflow-x:auto;line-height:normal;font-family:Menlo,'DejaVu Sans Mono',consolas,'Courier New',monospace\">    <span style=\"color: #000080; text-decoration-color: #000080\">Best Bid:</span> $<span style=\"color: #008080; text-decoration-color: #008080; font-weight: bold\">10.00</span>\n",
       "</pre>\n"
      ],
      "text/plain": [
       "    \u001b[34mBest Bid:\u001b[0m $\u001b[1;36m10.00\u001b[0m\n"
      ]
     },
     "metadata": {},
     "output_type": "display_data"
    },
    {
     "data": {
      "text/html": [
       "<pre style=\"white-space:pre;overflow-x:auto;line-height:normal;font-family:Menlo,'DejaVu Sans Mono',consolas,'Courier New',monospace\">    <span style=\"color: #000080; text-decoration-color: #000080\">Best Ask:</span> $<span style=\"color: #008080; text-decoration-color: #008080; font-weight: bold\">10.00</span>\n",
       "</pre>\n"
      ],
      "text/plain": [
       "    \u001b[34mBest Ask:\u001b[0m $\u001b[1;36m10.00\u001b[0m\n"
      ]
     },
     "metadata": {},
     "output_type": "display_data"
    },
    {
     "data": {
      "text/html": [
       "<pre style=\"white-space:pre;overflow-x:auto;line-height:normal;font-family:Menlo,'DejaVu Sans Mono',consolas,'Courier New',monospace\">\n",
       "<span style=\"color: #008080; text-decoration-color: #008080; font-weight: bold\">Simple Average (Arithmetic Mean):</span>\n",
       "</pre>\n"
      ],
      "text/plain": [
       "\n",
       "\u001b[1;36mSimple Average \u001b[0m\u001b[1;36m(\u001b[0m\u001b[1;36mArithmetic Mean\u001b[0m\u001b[1;36m)\u001b[0m\u001b[1;36m:\u001b[0m\n"
      ]
     },
     "metadata": {},
     "output_type": "display_data"
    },
    {
     "data": {
      "text/html": [
       "<pre style=\"white-space:pre;overflow-x:auto;line-height:normal;font-family:Menlo,'DejaVu Sans Mono',consolas,'Courier New',monospace\">  Simple Avg Bid-Ask Spread <span style=\"font-weight: bold\">(</span>in Ticks<span style=\"font-weight: bold\">)</span>: <span style=\"color: #008000; text-decoration-color: #008000; font-weight: bold\">106.4777</span>\n",
       "</pre>\n"
      ],
      "text/plain": [
       "  Simple Avg Bid-Ask Spread \u001b[1m(\u001b[0min Ticks\u001b[1m)\u001b[0m: \u001b[1;32m106.4777\u001b[0m\n"
      ]
     },
     "metadata": {},
     "output_type": "display_data"
    },
    {
     "data": {
      "text/html": [
       "<pre style=\"white-space:pre;overflow-x:auto;line-height:normal;font-family:Menlo,'DejaVu Sans Mono',consolas,'Courier New',monospace\">  Simple Avg Bid-Ask Spread <span style=\"font-weight: bold\">(</span>in Basis Points<span style=\"font-weight: bold\">)</span>: <span style=\"color: #008000; text-decoration-color: #008000; font-weight: bold\">1055.2239</span>\n",
       "</pre>\n"
      ],
      "text/plain": [
       "  Simple Avg Bid-Ask Spread \u001b[1m(\u001b[0min Basis Points\u001b[1m)\u001b[0m: \u001b[1;32m1055.2239\u001b[0m\n"
      ]
     },
     "metadata": {},
     "output_type": "display_data"
    },
    {
     "data": {
      "text/html": [
       "<pre style=\"white-space:pre;overflow-x:auto;line-height:normal;font-family:Menlo,'DejaVu Sans Mono',consolas,'Courier New',monospace\">  Simple Avg Best-Level Market Depth <span style=\"font-weight: bold\">(</span>in Dollars<span style=\"font-weight: bold\">)</span>: <span style=\"color: #008000; text-decoration-color: #008000; font-weight: bold\">$</span><span style=\"color: #008000; text-decoration-color: #008000; font-weight: bold\">2</span><span style=\"color: #008000; text-decoration-color: #008000; font-weight: bold\">,</span><span style=\"color: #008000; text-decoration-color: #008000; font-weight: bold\">635.57</span>\n",
       "</pre>\n"
      ],
      "text/plain": [
       "  Simple Avg Best-Level Market Depth \u001b[1m(\u001b[0min Dollars\u001b[1m)\u001b[0m: \u001b[1;32m$\u001b[0m\u001b[1;32m2\u001b[0m\u001b[1;32m,\u001b[0m\u001b[1;32m635.57\u001b[0m\n"
      ]
     },
     "metadata": {},
     "output_type": "display_data"
    },
    {
     "data": {
      "text/html": [
       "<pre style=\"white-space:pre;overflow-x:auto;line-height:normal;font-family:Menlo,'DejaVu Sans Mono',consolas,'Courier New',monospace\">  Simple Avg Order Imbalance: <span style=\"color: #008000; text-decoration-color: #008000; font-weight: bold\">-0.0179</span>\n",
       "</pre>\n"
      ],
      "text/plain": [
       "  Simple Avg Order Imbalance: \u001b[1;32m-0.0179\u001b[0m\n"
      ]
     },
     "metadata": {},
     "output_type": "display_data"
    },
    {
     "data": {
      "text/html": [
       "<pre style=\"white-space:pre;overflow-x:auto;line-height:normal;font-family:Menlo,'DejaVu Sans Mono',consolas,'Courier New',monospace\">\n",
       "<span style=\"color: #008080; text-decoration-color: #008080; font-weight: bold\">Time-Weighted Average:</span>\n",
       "</pre>\n"
      ],
      "text/plain": [
       "\n",
       "\u001b[1;36mTime-Weighted Average:\u001b[0m\n"
      ]
     },
     "metadata": {},
     "output_type": "display_data"
    },
    {
     "data": {
      "text/html": [
       "<pre style=\"white-space:pre;overflow-x:auto;line-height:normal;font-family:Menlo,'DejaVu Sans Mono',consolas,'Courier New',monospace\">  Time-Weighted Avg Bid-Ask Spread <span style=\"font-weight: bold\">(</span>in Ticks<span style=\"font-weight: bold\">)</span>: <span style=\"color: #008000; text-decoration-color: #008000; font-weight: bold\">93.2276</span>\n",
       "</pre>\n"
      ],
      "text/plain": [
       "  Time-Weighted Avg Bid-Ask Spread \u001b[1m(\u001b[0min Ticks\u001b[1m)\u001b[0m: \u001b[1;32m93.2276\u001b[0m\n"
      ]
     },
     "metadata": {},
     "output_type": "display_data"
    },
    {
     "data": {
      "text/html": [
       "<pre style=\"white-space:pre;overflow-x:auto;line-height:normal;font-family:Menlo,'DejaVu Sans Mono',consolas,'Courier New',monospace\">  Time-Weighted Avg Bid-Ask Spread <span style=\"font-weight: bold\">(</span>in Basis Points<span style=\"font-weight: bold\">)</span>: <span style=\"color: #008000; text-decoration-color: #008000; font-weight: bold\">897.7823</span>\n",
       "</pre>\n"
      ],
      "text/plain": [
       "  Time-Weighted Avg Bid-Ask Spread \u001b[1m(\u001b[0min Basis Points\u001b[1m)\u001b[0m: \u001b[1;32m897.7823\u001b[0m\n"
      ]
     },
     "metadata": {},
     "output_type": "display_data"
    },
    {
     "data": {
      "text/html": [
       "<pre style=\"white-space:pre;overflow-x:auto;line-height:normal;font-family:Menlo,'DejaVu Sans Mono',consolas,'Courier New',monospace\">  Time-Weighted Avg Best-Level Market Depth <span style=\"font-weight: bold\">(</span>in Dollars<span style=\"font-weight: bold\">)</span>: <span style=\"color: #008000; text-decoration-color: #008000; font-weight: bold\">$</span><span style=\"color: #008000; text-decoration-color: #008000; font-weight: bold\">2</span><span style=\"color: #008000; text-decoration-color: #008000; font-weight: bold\">,</span><span style=\"color: #008000; text-decoration-color: #008000; font-weight: bold\">421.55</span>\n",
       "</pre>\n"
      ],
      "text/plain": [
       "  Time-Weighted Avg Best-Level Market Depth \u001b[1m(\u001b[0min Dollars\u001b[1m)\u001b[0m: \u001b[1;32m$\u001b[0m\u001b[1;32m2\u001b[0m\u001b[1;32m,\u001b[0m\u001b[1;32m421.55\u001b[0m\n"
      ]
     },
     "metadata": {},
     "output_type": "display_data"
    },
    {
     "data": {
      "text/html": [
       "<pre style=\"white-space:pre;overflow-x:auto;line-height:normal;font-family:Menlo,'DejaVu Sans Mono',consolas,'Courier New',monospace\">  Time-Weighted Avg Order Imbalance: <span style=\"color: #008000; text-decoration-color: #008000; font-weight: bold\">+</span><span style=\"color: #008000; text-decoration-color: #008000; font-weight: bold\">0.3443</span>\n",
       "</pre>\n"
      ],
      "text/plain": [
       "  Time-Weighted Avg Order Imbalance: \u001b[1;32m+\u001b[0m\u001b[1;32m0.3443\u001b[0m\n"
      ]
     },
     "metadata": {},
     "output_type": "display_data"
    }
   ],
   "source": [
    "final_metrics = metrics_calculator.calculate_averages(orders_df[\"unix_timestamp\"].max())"
   ]
  }
 ],
 "metadata": {
  "kernelspec": {
   "display_name": "order-book-simulator-py3.12",
   "language": "python",
   "name": "python3"
  },
  "language_info": {
   "codemirror_mode": {
    "name": "ipython",
    "version": 3
   },
   "file_extension": ".py",
   "mimetype": "text/x-python",
   "name": "python",
   "nbconvert_exporter": "python",
   "pygments_lexer": "ipython3",
   "version": "3.12.4"
  }
 },
 "nbformat": 4,
 "nbformat_minor": 5
}
