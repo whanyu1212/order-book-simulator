{
 "cells": [
  {
   "cell_type": "code",
   "execution_count": 1,
   "id": "7767bf6f",
   "metadata": {},
   "outputs": [],
   "source": [
    "import uuid\n",
    "import asyncio\n",
    "import pandas as pd\n",
    "from tqdm import tqdm\n",
    "from order_book_simulator.config import OrderRequest, Priority\n",
    "from order_book_simulator.config import OrderRequest, Side, Priority\n",
    "from order_book_simulator.core import OrderBook, MatchingEngine\n",
    "from order_book_simulator.websocket import ConnectionManager\n",
    "from order_book_simulator.analysis import MetricsCalculator"
   ]
  },
  {
   "cell_type": "code",
   "execution_count": 2,
   "id": "fb708966",
   "metadata": {},
   "outputs": [],
   "source": [
    "orders_df = pd.read_csv('../data/orders-1.csv')"
   ]
  },
  {
   "cell_type": "code",
   "execution_count": 3,
   "id": "bf79b15e",
   "metadata": {},
   "outputs": [],
   "source": [
    "# just to adhere to my definition of the OrdrerRequest dataclass\n",
    "# unix timestamp is more efficient for computation and storage\n",
    "# trader_uuid is more secure and flexible than group number\n",
    "# (in real life, traders won't identify themselves with group numbers)\n",
    "# so we convert them here\n",
    "orders_df[\"unix_timestamp\"] = pd.to_datetime(orders_df[\"Timestamp\"]).astype(int) // 10**9\n",
    "group_to_uuid = {group: uuid.uuid4() for group in orders_df[\"Group Number\"].unique()}\n",
    "orders_df[\"trader_uuid\"] = orders_df[\"Group Number\"].map(group_to_uuid)"
   ]
  },
  {
   "cell_type": "code",
   "execution_count": 4,
   "id": "41ea300c",
   "metadata": {},
   "outputs": [],
   "source": [
    "order_book = OrderBook()\n",
    "metrics_calculator = MetricsCalculator(order_book, 0.01)\n",
    "connection_manager = ConnectionManager()\n",
    "\n",
    "# websocket related stuff are not required for this assignment but we designed some functions to allow that\n",
    "matching_engine = MatchingEngine(order_book, \n",
    "                                 connection_manager, # not needed for assignment\n",
    "                                 asyncio.get_event_loop(), # not needed for assignment\n",
    "                                 metrics_calculator)"
   ]
  },
  {
   "cell_type": "code",
   "execution_count": 5,
   "id": "e95fb329",
   "metadata": {},
   "outputs": [
    {
     "name": "stderr",
     "output_type": "stream",
     "text": [
      "Processing orders:   0%|          | 0/248 [00:00<?, ?it/s]"
     ]
    },
    {
     "name": "stdout",
     "output_type": "stream",
     "text": [
      "\n",
      "=== Order Book after #5 orders ===\n"
     ]
    },
    {
     "data": {
      "text/html": [
       "<pre style=\"white-space:pre;overflow-x:auto;line-height:normal;font-family:Menlo,'DejaVu Sans Mono',consolas,'Courier New',monospace\">┏━━━━━━━━━━━┳━━━━━━━━━━━━━━┳━━━━━━━━━━━┳━━━━━━━━━━━━━━┓\n",
       "┃<span style=\"color: #800080; text-decoration-color: #800080; font-weight: bold\"> Bid Price </span>┃<span style=\"color: #800080; text-decoration-color: #800080; font-weight: bold\"> Bid Quantity </span>┃<span style=\"color: #800080; text-decoration-color: #800080; font-weight: bold\"> Ask Price </span>┃<span style=\"color: #800080; text-decoration-color: #800080; font-weight: bold\"> Ask Quantity </span>┃\n",
       "┡━━━━━━━━━━━╇━━━━━━━━━━━━━━╇━━━━━━━━━━━╇━━━━━━━━━━━━━━┩\n",
       "│<span style=\"color: #008080; text-decoration-color: #008080\">     11.00 </span>│<span style=\"color: #008080; text-decoration-color: #008080\">           20 </span>│<span style=\"color: #800080; text-decoration-color: #800080\">     12.00 </span>│<span style=\"color: #800080; text-decoration-color: #800080\">           30 </span>│\n",
       "│<span style=\"color: #008080; text-decoration-color: #008080\">           </span>│<span style=\"color: #008080; text-decoration-color: #008080\">              </span>│<span style=\"color: #800080; text-decoration-color: #800080\">     50.00 </span>│<span style=\"color: #800080; text-decoration-color: #800080\">           11 </span>│\n",
       "└───────────┴──────────────┴───────────┴──────────────┘\n",
       "</pre>\n"
      ],
      "text/plain": [
       "┏━━━━━━━━━━━┳━━━━━━━━━━━━━━┳━━━━━━━━━━━┳━━━━━━━━━━━━━━┓\n",
       "┃\u001b[1;35m \u001b[0m\u001b[1;35mBid Price\u001b[0m\u001b[1;35m \u001b[0m┃\u001b[1;35m \u001b[0m\u001b[1;35mBid Quantity\u001b[0m\u001b[1;35m \u001b[0m┃\u001b[1;35m \u001b[0m\u001b[1;35mAsk Price\u001b[0m\u001b[1;35m \u001b[0m┃\u001b[1;35m \u001b[0m\u001b[1;35mAsk Quantity\u001b[0m\u001b[1;35m \u001b[0m┃\n",
       "┡━━━━━━━━━━━╇━━━━━━━━━━━━━━╇━━━━━━━━━━━╇━━━━━━━━━━━━━━┩\n",
       "│\u001b[36m \u001b[0m\u001b[36m    11.00\u001b[0m\u001b[36m \u001b[0m│\u001b[36m \u001b[0m\u001b[36m          20\u001b[0m\u001b[36m \u001b[0m│\u001b[35m \u001b[0m\u001b[35m    12.00\u001b[0m\u001b[35m \u001b[0m│\u001b[35m \u001b[0m\u001b[35m          30\u001b[0m\u001b[35m \u001b[0m│\n",
       "│\u001b[36m \u001b[0m\u001b[36m         \u001b[0m\u001b[36m \u001b[0m│\u001b[36m \u001b[0m\u001b[36m            \u001b[0m\u001b[36m \u001b[0m│\u001b[35m \u001b[0m\u001b[35m    50.00\u001b[0m\u001b[35m \u001b[0m│\u001b[35m \u001b[0m\u001b[35m          11\u001b[0m\u001b[35m \u001b[0m│\n",
       "└───────────┴──────────────┴───────────┴──────────────┘\n"
      ]
     },
     "metadata": {},
     "output_type": "display_data"
    },
    {
     "name": "stdout",
     "output_type": "stream",
     "text": [
      "\n",
      "\n",
      "=== Order Book after #20 orders ===\n"
     ]
    },
    {
     "data": {
      "text/html": [
       "<pre style=\"white-space:pre;overflow-x:auto;line-height:normal;font-family:Menlo,'DejaVu Sans Mono',consolas,'Courier New',monospace\">┏━━━━━━━━━━━┳━━━━━━━━━━━━━━┳━━━━━━━━━━━┳━━━━━━━━━━━━━━┓\n",
       "┃<span style=\"color: #800080; text-decoration-color: #800080; font-weight: bold\"> Bid Price </span>┃<span style=\"color: #800080; text-decoration-color: #800080; font-weight: bold\"> Bid Quantity </span>┃<span style=\"color: #800080; text-decoration-color: #800080; font-weight: bold\"> Ask Price </span>┃<span style=\"color: #800080; text-decoration-color: #800080; font-weight: bold\"> Ask Quantity </span>┃\n",
       "┡━━━━━━━━━━━╇━━━━━━━━━━━━━━╇━━━━━━━━━━━╇━━━━━━━━━━━━━━┩\n",
       "│<span style=\"color: #008080; text-decoration-color: #008080\">     11.00 </span>│<span style=\"color: #008080; text-decoration-color: #008080\">           50 </span>│<span style=\"color: #800080; text-decoration-color: #800080\">     12.00 </span>│<span style=\"color: #800080; text-decoration-color: #800080\">           55 </span>│\n",
       "│<span style=\"color: #008080; text-decoration-color: #008080\">     10.00 </span>│<span style=\"color: #008080; text-decoration-color: #008080\">           75 </span>│<span style=\"color: #800080; text-decoration-color: #800080\">     50.00 </span>│<span style=\"color: #800080; text-decoration-color: #800080\">           11 </span>│\n",
       "└───────────┴──────────────┴───────────┴──────────────┘\n",
       "</pre>\n"
      ],
      "text/plain": [
       "┏━━━━━━━━━━━┳━━━━━━━━━━━━━━┳━━━━━━━━━━━┳━━━━━━━━━━━━━━┓\n",
       "┃\u001b[1;35m \u001b[0m\u001b[1;35mBid Price\u001b[0m\u001b[1;35m \u001b[0m┃\u001b[1;35m \u001b[0m\u001b[1;35mBid Quantity\u001b[0m\u001b[1;35m \u001b[0m┃\u001b[1;35m \u001b[0m\u001b[1;35mAsk Price\u001b[0m\u001b[1;35m \u001b[0m┃\u001b[1;35m \u001b[0m\u001b[1;35mAsk Quantity\u001b[0m\u001b[1;35m \u001b[0m┃\n",
       "┡━━━━━━━━━━━╇━━━━━━━━━━━━━━╇━━━━━━━━━━━╇━━━━━━━━━━━━━━┩\n",
       "│\u001b[36m \u001b[0m\u001b[36m    11.00\u001b[0m\u001b[36m \u001b[0m│\u001b[36m \u001b[0m\u001b[36m          50\u001b[0m\u001b[36m \u001b[0m│\u001b[35m \u001b[0m\u001b[35m    12.00\u001b[0m\u001b[35m \u001b[0m│\u001b[35m \u001b[0m\u001b[35m          55\u001b[0m\u001b[35m \u001b[0m│\n",
       "│\u001b[36m \u001b[0m\u001b[36m    10.00\u001b[0m\u001b[36m \u001b[0m│\u001b[36m \u001b[0m\u001b[36m          75\u001b[0m\u001b[36m \u001b[0m│\u001b[35m \u001b[0m\u001b[35m    50.00\u001b[0m\u001b[35m \u001b[0m│\u001b[35m \u001b[0m\u001b[35m          11\u001b[0m\u001b[35m \u001b[0m│\n",
       "└───────────┴──────────────┴───────────┴──────────────┘\n"
      ]
     },
     "metadata": {},
     "output_type": "display_data"
    },
    {
     "name": "stdout",
     "output_type": "stream",
     "text": [
      "\n",
      "\n",
      "=== Order Book after FINAL orders ===\n"
     ]
    },
    {
     "data": {
      "text/html": [
       "<pre style=\"white-space:pre;overflow-x:auto;line-height:normal;font-family:Menlo,'DejaVu Sans Mono',consolas,'Courier New',monospace\">┏━━━━━━━━━━━┳━━━━━━━━━━━━━━┳━━━━━━━━━━━┳━━━━━━━━━━━━━━┓\n",
       "┃<span style=\"color: #800080; text-decoration-color: #800080; font-weight: bold\"> Bid Price </span>┃<span style=\"color: #800080; text-decoration-color: #800080; font-weight: bold\"> Bid Quantity </span>┃<span style=\"color: #800080; text-decoration-color: #800080; font-weight: bold\"> Ask Price </span>┃<span style=\"color: #800080; text-decoration-color: #800080; font-weight: bold\"> Ask Quantity </span>┃\n",
       "┡━━━━━━━━━━━╇━━━━━━━━━━━━━━╇━━━━━━━━━━━╇━━━━━━━━━━━━━━┩\n",
       "│<span style=\"color: #008080; text-decoration-color: #008080\">     10.00 </span>│<span style=\"color: #008080; text-decoration-color: #008080\">          190 </span>│<span style=\"color: #800080; text-decoration-color: #800080\">     11.00 </span>│<span style=\"color: #800080; text-decoration-color: #800080\">           81 </span>│\n",
       "│<span style=\"color: #008080; text-decoration-color: #008080\">      9.00 </span>│<span style=\"color: #008080; text-decoration-color: #008080\">          228 </span>│<span style=\"color: #800080; text-decoration-color: #800080\">     12.00 </span>│<span style=\"color: #800080; text-decoration-color: #800080\">          510 </span>│\n",
       "│<span style=\"color: #008080; text-decoration-color: #008080\">      8.00 </span>│<span style=\"color: #008080; text-decoration-color: #008080\">           25 </span>│<span style=\"color: #800080; text-decoration-color: #800080\">     13.00 </span>│<span style=\"color: #800080; text-decoration-color: #800080\">          155 </span>│\n",
       "│<span style=\"color: #008080; text-decoration-color: #008080\">      7.00 </span>│<span style=\"color: #008080; text-decoration-color: #008080\">          130 </span>│<span style=\"color: #800080; text-decoration-color: #800080\">     15.00 </span>│<span style=\"color: #800080; text-decoration-color: #800080\">           50 </span>│\n",
       "│<span style=\"color: #008080; text-decoration-color: #008080\">           </span>│<span style=\"color: #008080; text-decoration-color: #008080\">              </span>│<span style=\"color: #800080; text-decoration-color: #800080\">     50.00 </span>│<span style=\"color: #800080; text-decoration-color: #800080\">           11 </span>│\n",
       "└───────────┴──────────────┴───────────┴──────────────┘\n",
       "</pre>\n"
      ],
      "text/plain": [
       "┏━━━━━━━━━━━┳━━━━━━━━━━━━━━┳━━━━━━━━━━━┳━━━━━━━━━━━━━━┓\n",
       "┃\u001b[1;35m \u001b[0m\u001b[1;35mBid Price\u001b[0m\u001b[1;35m \u001b[0m┃\u001b[1;35m \u001b[0m\u001b[1;35mBid Quantity\u001b[0m\u001b[1;35m \u001b[0m┃\u001b[1;35m \u001b[0m\u001b[1;35mAsk Price\u001b[0m\u001b[1;35m \u001b[0m┃\u001b[1;35m \u001b[0m\u001b[1;35mAsk Quantity\u001b[0m\u001b[1;35m \u001b[0m┃\n",
       "┡━━━━━━━━━━━╇━━━━━━━━━━━━━━╇━━━━━━━━━━━╇━━━━━━━━━━━━━━┩\n",
       "│\u001b[36m \u001b[0m\u001b[36m    10.00\u001b[0m\u001b[36m \u001b[0m│\u001b[36m \u001b[0m\u001b[36m         190\u001b[0m\u001b[36m \u001b[0m│\u001b[35m \u001b[0m\u001b[35m    11.00\u001b[0m\u001b[35m \u001b[0m│\u001b[35m \u001b[0m\u001b[35m          81\u001b[0m\u001b[35m \u001b[0m│\n",
       "│\u001b[36m \u001b[0m\u001b[36m     9.00\u001b[0m\u001b[36m \u001b[0m│\u001b[36m \u001b[0m\u001b[36m         228\u001b[0m\u001b[36m \u001b[0m│\u001b[35m \u001b[0m\u001b[35m    12.00\u001b[0m\u001b[35m \u001b[0m│\u001b[35m \u001b[0m\u001b[35m         510\u001b[0m\u001b[35m \u001b[0m│\n",
       "│\u001b[36m \u001b[0m\u001b[36m     8.00\u001b[0m\u001b[36m \u001b[0m│\u001b[36m \u001b[0m\u001b[36m          25\u001b[0m\u001b[36m \u001b[0m│\u001b[35m \u001b[0m\u001b[35m    13.00\u001b[0m\u001b[35m \u001b[0m│\u001b[35m \u001b[0m\u001b[35m         155\u001b[0m\u001b[35m \u001b[0m│\n",
       "│\u001b[36m \u001b[0m\u001b[36m     7.00\u001b[0m\u001b[36m \u001b[0m│\u001b[36m \u001b[0m\u001b[36m         130\u001b[0m\u001b[36m \u001b[0m│\u001b[35m \u001b[0m\u001b[35m    15.00\u001b[0m\u001b[35m \u001b[0m│\u001b[35m \u001b[0m\u001b[35m          50\u001b[0m\u001b[35m \u001b[0m│\n",
       "│\u001b[36m \u001b[0m\u001b[36m         \u001b[0m\u001b[36m \u001b[0m│\u001b[36m \u001b[0m\u001b[36m            \u001b[0m\u001b[36m \u001b[0m│\u001b[35m \u001b[0m\u001b[35m    50.00\u001b[0m\u001b[35m \u001b[0m│\u001b[35m \u001b[0m\u001b[35m          11\u001b[0m\u001b[35m \u001b[0m│\n",
       "└───────────┴──────────────┴───────────┴──────────────┘\n"
      ]
     },
     "metadata": {},
     "output_type": "display_data"
    },
    {
     "name": "stderr",
     "output_type": "stream",
     "text": [
      "Processing orders: 100%|██████████| 248/248 [00:00<00:00, 9524.91it/s]"
     ]
    },
    {
     "name": "stdout",
     "output_type": "stream",
     "text": [
      "\n"
     ]
    },
    {
     "name": "stderr",
     "output_type": "stream",
     "text": [
      "\n"
     ]
    }
   ],
   "source": [
    "filled_trades = []\n",
    "total_orders = len(orders_df)\n",
    "checkpoints = {4, 19, total_orders - 1} \n",
    "\n",
    "for index, row in tqdm(orders_df.iterrows(), total=total_orders, desc=\"Processing orders\"):\n",
    "    order_request = OrderRequest(\n",
    "        trader_id = row[\"trader_uuid\"],\n",
    "        side = row[\"Buy Sell Direction\"],\n",
    "        priority=Priority.HIGH,\n",
    "        timestamp=row[\"unix_timestamp\"],\n",
    "        price=row[\"Order Price\"],\n",
    "        quantity=row[\"Quantity\"]\n",
    "    )\n",
    "    trade = matching_engine.process_order(order_request)\n",
    "    if trade:\n",
    "        filled_trades.extend(trade)\n",
    "    \n",
    "    if index in checkpoints:\n",
    "        label = \"FINAL\" if index == total_orders - 1 else f\"#{index + 1}\"\n",
    "        print(f\"\\n=== Order Book after {label} orders ===\")\n",
    "        print(order_book)"
   ]
  },
  {
   "cell_type": "code",
   "execution_count": 7,
   "id": "0507ca0f",
   "metadata": {},
   "outputs": [
    {
     "data": {
      "text/html": [
       "<pre style=\"white-space:pre;overflow-x:auto;line-height:normal;font-family:Menlo,'DejaVu Sans Mono',consolas,'Courier New',monospace\"><span style=\"color: #000080; text-decoration-color: #000080; font-weight: bold\">--- Final Metrics ---</span>\n",
       "</pre>\n"
      ],
      "text/plain": [
       "\u001b[1;34m--- Final Metrics ---\u001b[0m\n"
      ]
     },
     "metadata": {},
     "output_type": "display_data"
    },
    {
     "data": {
      "text/html": [
       "<pre style=\"white-space:pre;overflow-x:auto;line-height:normal;font-family:Menlo,'DejaVu Sans Mono',consolas,'Courier New',monospace\">Average Bid-Ask Spread <span style=\"font-weight: bold\">(</span>in Ticks<span style=\"font-weight: bold\">)</span>: <span style=\"color: #008000; text-decoration-color: #008000; font-weight: bold\">123.1373</span>\n",
       "</pre>\n"
      ],
      "text/plain": [
       "Average Bid-Ask Spread \u001b[1m(\u001b[0min Ticks\u001b[1m)\u001b[0m: \u001b[1;32m123.1373\u001b[0m\n"
      ]
     },
     "metadata": {},
     "output_type": "display_data"
    },
    {
     "data": {
      "text/html": [
       "<pre style=\"white-space:pre;overflow-x:auto;line-height:normal;font-family:Menlo,'DejaVu Sans Mono',consolas,'Courier New',monospace\">Average Bid-Ask Spread <span style=\"font-weight: bold\">(</span>in Basis Points<span style=\"font-weight: bold\">)</span>: <span style=\"color: #008000; text-decoration-color: #008000; font-weight: bold\">1233.6630</span>\n",
       "</pre>\n"
      ],
      "text/plain": [
       "Average Bid-Ask Spread \u001b[1m(\u001b[0min Basis Points\u001b[1m)\u001b[0m: \u001b[1;32m1233.6630\u001b[0m\n"
      ]
     },
     "metadata": {},
     "output_type": "display_data"
    },
    {
     "data": {
      "text/html": [
       "<pre style=\"white-space:pre;overflow-x:auto;line-height:normal;font-family:Menlo,'DejaVu Sans Mono',consolas,'Courier New',monospace\">Average Best-Level Market Depth <span style=\"font-weight: bold\">(</span>in Dollars<span style=\"font-weight: bold\">)</span>: <span style=\"color: #008000; text-decoration-color: #008000; font-weight: bold\">$</span><span style=\"color: #008000; text-decoration-color: #008000; font-weight: bold\">2</span><span style=\"color: #008000; text-decoration-color: #008000; font-weight: bold\">,</span><span style=\"color: #008000; text-decoration-color: #008000; font-weight: bold\">939.49</span>\n",
       "</pre>\n"
      ],
      "text/plain": [
       "Average Best-Level Market Depth \u001b[1m(\u001b[0min Dollars\u001b[1m)\u001b[0m: \u001b[1;32m$\u001b[0m\u001b[1;32m2\u001b[0m\u001b[1;32m,\u001b[0m\u001b[1;32m939.49\u001b[0m\n"
      ]
     },
     "metadata": {},
     "output_type": "display_data"
    }
   ],
   "source": [
    "final_metrics = metrics_calculator.calculate_averages()"
   ]
  }
 ],
 "metadata": {
  "kernelspec": {
   "display_name": "order-book-simulator-py3.12",
   "language": "python",
   "name": "python3"
  },
  "language_info": {
   "codemirror_mode": {
    "name": "ipython",
    "version": 3
   },
   "file_extension": ".py",
   "mimetype": "text/x-python",
   "name": "python",
   "nbconvert_exporter": "python",
   "pygments_lexer": "ipython3",
   "version": "3.12.4"
  }
 },
 "nbformat": 4,
 "nbformat_minor": 5
}
