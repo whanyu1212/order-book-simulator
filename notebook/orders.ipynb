{
 "cells": [
  {
   "cell_type": "code",
   "execution_count": 1,
   "id": "7767bf6f",
   "metadata": {},
   "outputs": [],
   "source": [
    "import uuid\n",
    "import asyncio\n",
    "import pandas as pd\n",
    "from tqdm import tqdm\n",
    "from order_book_simulator.config import OrderRequest, Priority\n",
    "from order_book_simulator.config import OrderRequest, Side, Priority\n",
    "from order_book_simulator.core import OrderBook, MatchingEngine\n",
    "from order_book_simulator.websocket import ConnectionManager\n",
    "from order_book_simulator.analysis import MetricsCalculator"
   ]
  },
  {
   "cell_type": "code",
   "execution_count": 2,
   "id": "fb708966",
   "metadata": {},
   "outputs": [],
   "source": [
    "orders_df = pd.read_csv('../data/orders-1.csv')"
   ]
  },
  {
   "cell_type": "code",
   "execution_count": 3,
   "id": "bf79b15e",
   "metadata": {},
   "outputs": [],
   "source": [
    "# just to adhere to my definition of the OrdrerRequest dataclass\n",
    "# unix timestamp is more efficient for computation and storage\n",
    "# trader_uuid is more secure and flexible than group number\n",
    "# (in real life, traders won't identify themselves with group numbers)\n",
    "# so we convert them here\n",
    "orders_df[\"unix_timestamp\"] = pd.to_datetime(orders_df[\"Timestamp\"]).astype(int) // 10**9\n",
    "group_to_uuid = {group: uuid.uuid4() for group in orders_df[\"Group Number\"].unique()}\n",
    "orders_df[\"trader_uuid\"] = orders_df[\"Group Number\"].map(group_to_uuid)"
   ]
  },
  {
   "cell_type": "code",
   "execution_count": 4,
   "id": "41ea300c",
   "metadata": {},
   "outputs": [],
   "source": [
    "order_book = OrderBook()\n",
    "metrics_calculator = MetricsCalculator(order_book, 0.01)\n",
    "connection_manager = ConnectionManager()\n",
    "\n",
    "# websocket related stuff are not required for this assignment but we designed some functions to allow that\n",
    "matching_engine = MatchingEngine(order_book, \n",
    "                                 connection_manager, # not needed for assignment\n",
    "                                 asyncio.get_event_loop(), # not needed for assignment\n",
    "                                 metrics_calculator)"
   ]
  },
  {
   "cell_type": "code",
   "execution_count": null,
   "id": "e95fb329",
   "metadata": {},
   "outputs": [
    {
     "name": "stderr",
     "output_type": "stream",
     "text": [
      "Processing orders:   0%|          | 0/248 [00:00<?, ?it/s]"
     ]
    },
    {
     "name": "stdout",
     "output_type": "stream",
     "text": [
      "\n",
      "=== Order Book after #5 orders ===\n"
     ]
    },
    {
     "data": {
      "text/html": [
       "<pre style=\"white-space:pre;overflow-x:auto;line-height:normal;font-family:Menlo,'DejaVu Sans Mono',consolas,'Courier New',monospace\">┏━━━━━━━━━━━┳━━━━━━━━━━━━━━┳━━━━━━━━━━━┳━━━━━━━━━━━━━━┓\n",
       "┃<span style=\"color: #800080; text-decoration-color: #800080; font-weight: bold\"> Bid Price </span>┃<span style=\"color: #800080; text-decoration-color: #800080; font-weight: bold\"> Bid Quantity </span>┃<span style=\"color: #800080; text-decoration-color: #800080; font-weight: bold\"> Ask Price </span>┃<span style=\"color: #800080; text-decoration-color: #800080; font-weight: bold\"> Ask Quantity </span>┃\n",
       "┡━━━━━━━━━━━╇━━━━━━━━━━━━━━╇━━━━━━━━━━━╇━━━━━━━━━━━━━━┩\n",
       "│<span style=\"color: #008080; text-decoration-color: #008080\">     11.00 </span>│<span style=\"color: #008080; text-decoration-color: #008080\">           20 </span>│<span style=\"color: #800080; text-decoration-color: #800080\">     12.00 </span>│<span style=\"color: #800080; text-decoration-color: #800080\">           30 </span>│\n",
       "│<span style=\"color: #008080; text-decoration-color: #008080\">           </span>│<span style=\"color: #008080; text-decoration-color: #008080\">              </span>│<span style=\"color: #800080; text-decoration-color: #800080\">     50.00 </span>│<span style=\"color: #800080; text-decoration-color: #800080\">           11 </span>│\n",
       "└───────────┴──────────────┴───────────┴──────────────┘\n",
       "</pre>\n"
      ],
      "text/plain": [
       "┏━━━━━━━━━━━┳━━━━━━━━━━━━━━┳━━━━━━━━━━━┳━━━━━━━━━━━━━━┓\n",
       "┃\u001b[1;35m \u001b[0m\u001b[1;35mBid Price\u001b[0m\u001b[1;35m \u001b[0m┃\u001b[1;35m \u001b[0m\u001b[1;35mBid Quantity\u001b[0m\u001b[1;35m \u001b[0m┃\u001b[1;35m \u001b[0m\u001b[1;35mAsk Price\u001b[0m\u001b[1;35m \u001b[0m┃\u001b[1;35m \u001b[0m\u001b[1;35mAsk Quantity\u001b[0m\u001b[1;35m \u001b[0m┃\n",
       "┡━━━━━━━━━━━╇━━━━━━━━━━━━━━╇━━━━━━━━━━━╇━━━━━━━━━━━━━━┩\n",
       "│\u001b[36m \u001b[0m\u001b[36m    11.00\u001b[0m\u001b[36m \u001b[0m│\u001b[36m \u001b[0m\u001b[36m          20\u001b[0m\u001b[36m \u001b[0m│\u001b[35m \u001b[0m\u001b[35m    12.00\u001b[0m\u001b[35m \u001b[0m│\u001b[35m \u001b[0m\u001b[35m          30\u001b[0m\u001b[35m \u001b[0m│\n",
       "│\u001b[36m \u001b[0m\u001b[36m         \u001b[0m\u001b[36m \u001b[0m│\u001b[36m \u001b[0m\u001b[36m            \u001b[0m\u001b[36m \u001b[0m│\u001b[35m \u001b[0m\u001b[35m    50.00\u001b[0m\u001b[35m \u001b[0m│\u001b[35m \u001b[0m\u001b[35m          11\u001b[0m\u001b[35m \u001b[0m│\n",
       "└───────────┴──────────────┴───────────┴──────────────┘\n"
      ]
     },
     "metadata": {},
     "output_type": "display_data"
    },
    {
     "name": "stdout",
     "output_type": "stream",
     "text": [
      "\n",
      "\n",
      "=== Order Book after #20 orders ===\n"
     ]
    },
    {
     "data": {
      "text/html": [
       "<pre style=\"white-space:pre;overflow-x:auto;line-height:normal;font-family:Menlo,'DejaVu Sans Mono',consolas,'Courier New',monospace\">┏━━━━━━━━━━━┳━━━━━━━━━━━━━━┳━━━━━━━━━━━┳━━━━━━━━━━━━━━┓\n",
       "┃<span style=\"color: #800080; text-decoration-color: #800080; font-weight: bold\"> Bid Price </span>┃<span style=\"color: #800080; text-decoration-color: #800080; font-weight: bold\"> Bid Quantity </span>┃<span style=\"color: #800080; text-decoration-color: #800080; font-weight: bold\"> Ask Price </span>┃<span style=\"color: #800080; text-decoration-color: #800080; font-weight: bold\"> Ask Quantity </span>┃\n",
       "┡━━━━━━━━━━━╇━━━━━━━━━━━━━━╇━━━━━━━━━━━╇━━━━━━━━━━━━━━┩\n",
       "│<span style=\"color: #008080; text-decoration-color: #008080\">     11.00 </span>│<span style=\"color: #008080; text-decoration-color: #008080\">           50 </span>│<span style=\"color: #800080; text-decoration-color: #800080\">     12.00 </span>│<span style=\"color: #800080; text-decoration-color: #800080\">           55 </span>│\n",
       "│<span style=\"color: #008080; text-decoration-color: #008080\">     10.00 </span>│<span style=\"color: #008080; text-decoration-color: #008080\">           75 </span>│<span style=\"color: #800080; text-decoration-color: #800080\">     50.00 </span>│<span style=\"color: #800080; text-decoration-color: #800080\">           11 </span>│\n",
       "└───────────┴──────────────┴───────────┴──────────────┘\n",
       "</pre>\n"
      ],
      "text/plain": [
       "┏━━━━━━━━━━━┳━━━━━━━━━━━━━━┳━━━━━━━━━━━┳━━━━━━━━━━━━━━┓\n",
       "┃\u001b[1;35m \u001b[0m\u001b[1;35mBid Price\u001b[0m\u001b[1;35m \u001b[0m┃\u001b[1;35m \u001b[0m\u001b[1;35mBid Quantity\u001b[0m\u001b[1;35m \u001b[0m┃\u001b[1;35m \u001b[0m\u001b[1;35mAsk Price\u001b[0m\u001b[1;35m \u001b[0m┃\u001b[1;35m \u001b[0m\u001b[1;35mAsk Quantity\u001b[0m\u001b[1;35m \u001b[0m┃\n",
       "┡━━━━━━━━━━━╇━━━━━━━━━━━━━━╇━━━━━━━━━━━╇━━━━━━━━━━━━━━┩\n",
       "│\u001b[36m \u001b[0m\u001b[36m    11.00\u001b[0m\u001b[36m \u001b[0m│\u001b[36m \u001b[0m\u001b[36m          50\u001b[0m\u001b[36m \u001b[0m│\u001b[35m \u001b[0m\u001b[35m    12.00\u001b[0m\u001b[35m \u001b[0m│\u001b[35m \u001b[0m\u001b[35m          55\u001b[0m\u001b[35m \u001b[0m│\n",
       "│\u001b[36m \u001b[0m\u001b[36m    10.00\u001b[0m\u001b[36m \u001b[0m│\u001b[36m \u001b[0m\u001b[36m          75\u001b[0m\u001b[36m \u001b[0m│\u001b[35m \u001b[0m\u001b[35m    50.00\u001b[0m\u001b[35m \u001b[0m│\u001b[35m \u001b[0m\u001b[35m          11\u001b[0m\u001b[35m \u001b[0m│\n",
       "└───────────┴──────────────┴───────────┴──────────────┘\n"
      ]
     },
     "metadata": {},
     "output_type": "display_data"
    },
    {
     "name": "stdout",
     "output_type": "stream",
     "text": [
      "\n",
      "\n",
      "=== Order Book after FINAL orders ===\n"
     ]
    },
    {
     "data": {
      "text/html": [
       "<pre style=\"white-space:pre;overflow-x:auto;line-height:normal;font-family:Menlo,'DejaVu Sans Mono',consolas,'Courier New',monospace\">┏━━━━━━━━━━━┳━━━━━━━━━━━━━━┳━━━━━━━━━━━┳━━━━━━━━━━━━━━┓\n",
       "┃<span style=\"color: #800080; text-decoration-color: #800080; font-weight: bold\"> Bid Price </span>┃<span style=\"color: #800080; text-decoration-color: #800080; font-weight: bold\"> Bid Quantity </span>┃<span style=\"color: #800080; text-decoration-color: #800080; font-weight: bold\"> Ask Price </span>┃<span style=\"color: #800080; text-decoration-color: #800080; font-weight: bold\"> Ask Quantity </span>┃\n",
       "┡━━━━━━━━━━━╇━━━━━━━━━━━━━━╇━━━━━━━━━━━╇━━━━━━━━━━━━━━┩\n",
       "│<span style=\"color: #008080; text-decoration-color: #008080\">     10.00 </span>│<span style=\"color: #008080; text-decoration-color: #008080\">          190 </span>│<span style=\"color: #800080; text-decoration-color: #800080\">     11.00 </span>│<span style=\"color: #800080; text-decoration-color: #800080\">           81 </span>│\n",
       "│<span style=\"color: #008080; text-decoration-color: #008080\">      9.00 </span>│<span style=\"color: #008080; text-decoration-color: #008080\">          228 </span>│<span style=\"color: #800080; text-decoration-color: #800080\">     12.00 </span>│<span style=\"color: #800080; text-decoration-color: #800080\">          510 </span>│\n",
       "│<span style=\"color: #008080; text-decoration-color: #008080\">      8.00 </span>│<span style=\"color: #008080; text-decoration-color: #008080\">           25 </span>│<span style=\"color: #800080; text-decoration-color: #800080\">     13.00 </span>│<span style=\"color: #800080; text-decoration-color: #800080\">          155 </span>│\n",
       "│<span style=\"color: #008080; text-decoration-color: #008080\">      7.00 </span>│<span style=\"color: #008080; text-decoration-color: #008080\">          130 </span>│<span style=\"color: #800080; text-decoration-color: #800080\">     15.00 </span>│<span style=\"color: #800080; text-decoration-color: #800080\">           50 </span>│\n",
       "│<span style=\"color: #008080; text-decoration-color: #008080\">           </span>│<span style=\"color: #008080; text-decoration-color: #008080\">              </span>│<span style=\"color: #800080; text-decoration-color: #800080\">     50.00 </span>│<span style=\"color: #800080; text-decoration-color: #800080\">           11 </span>│\n",
       "└───────────┴──────────────┴───────────┴──────────────┘\n",
       "</pre>\n"
      ],
      "text/plain": [
       "┏━━━━━━━━━━━┳━━━━━━━━━━━━━━┳━━━━━━━━━━━┳━━━━━━━━━━━━━━┓\n",
       "┃\u001b[1;35m \u001b[0m\u001b[1;35mBid Price\u001b[0m\u001b[1;35m \u001b[0m┃\u001b[1;35m \u001b[0m\u001b[1;35mBid Quantity\u001b[0m\u001b[1;35m \u001b[0m┃\u001b[1;35m \u001b[0m\u001b[1;35mAsk Price\u001b[0m\u001b[1;35m \u001b[0m┃\u001b[1;35m \u001b[0m\u001b[1;35mAsk Quantity\u001b[0m\u001b[1;35m \u001b[0m┃\n",
       "┡━━━━━━━━━━━╇━━━━━━━━━━━━━━╇━━━━━━━━━━━╇━━━━━━━━━━━━━━┩\n",
       "│\u001b[36m \u001b[0m\u001b[36m    10.00\u001b[0m\u001b[36m \u001b[0m│\u001b[36m \u001b[0m\u001b[36m         190\u001b[0m\u001b[36m \u001b[0m│\u001b[35m \u001b[0m\u001b[35m    11.00\u001b[0m\u001b[35m \u001b[0m│\u001b[35m \u001b[0m\u001b[35m          81\u001b[0m\u001b[35m \u001b[0m│\n",
       "│\u001b[36m \u001b[0m\u001b[36m     9.00\u001b[0m\u001b[36m \u001b[0m│\u001b[36m \u001b[0m\u001b[36m         228\u001b[0m\u001b[36m \u001b[0m│\u001b[35m \u001b[0m\u001b[35m    12.00\u001b[0m\u001b[35m \u001b[0m│\u001b[35m \u001b[0m\u001b[35m         510\u001b[0m\u001b[35m \u001b[0m│\n",
       "│\u001b[36m \u001b[0m\u001b[36m     8.00\u001b[0m\u001b[36m \u001b[0m│\u001b[36m \u001b[0m\u001b[36m          25\u001b[0m\u001b[36m \u001b[0m│\u001b[35m \u001b[0m\u001b[35m    13.00\u001b[0m\u001b[35m \u001b[0m│\u001b[35m \u001b[0m\u001b[35m         155\u001b[0m\u001b[35m \u001b[0m│\n",
       "│\u001b[36m \u001b[0m\u001b[36m     7.00\u001b[0m\u001b[36m \u001b[0m│\u001b[36m \u001b[0m\u001b[36m         130\u001b[0m\u001b[36m \u001b[0m│\u001b[35m \u001b[0m\u001b[35m    15.00\u001b[0m\u001b[35m \u001b[0m│\u001b[35m \u001b[0m\u001b[35m          50\u001b[0m\u001b[35m \u001b[0m│\n",
       "│\u001b[36m \u001b[0m\u001b[36m         \u001b[0m\u001b[36m \u001b[0m│\u001b[36m \u001b[0m\u001b[36m            \u001b[0m\u001b[36m \u001b[0m│\u001b[35m \u001b[0m\u001b[35m    50.00\u001b[0m\u001b[35m \u001b[0m│\u001b[35m \u001b[0m\u001b[35m          11\u001b[0m\u001b[35m \u001b[0m│\n",
       "└───────────┴──────────────┴───────────┴──────────────┘\n"
      ]
     },
     "metadata": {},
     "output_type": "display_data"
    },
    {
     "name": "stderr",
     "output_type": "stream",
     "text": [
      "Processing orders: 100%|██████████| 248/248 [00:00<00:00, 11817.49it/s]"
     ]
    },
    {
     "name": "stdout",
     "output_type": "stream",
     "text": [
      "\n",
      "\n",
      "=== ALL EXECUTED TRADES ===\n",
      "Total number of trades: 204\n",
      "\n",
      "Trade 1: 30@11.0 | Maker: 33905946-52f6-4e78-9f0b-a96e5d9b6a4a | Taker: 20fb9367-ee44-43fd-b30d-4ea5f5deb558 | Side: sell\n",
      "Trade 2: 30@11.0 | Maker: 33905946-52f6-4e78-9f0b-a96e5d9b6a4a | Taker: afaee8d7-d388-40cf-b0f8-38f39713209a | Side: sell\n",
      "Trade 3: 10@11.0 | Maker: 33905946-52f6-4e78-9f0b-a96e5d9b6a4a | Taker: 6cf75ba1-3006-4014-b4f5-336d1381dfdc | Side: sell\n",
      "Trade 4: 10@11.0 | Maker: 33905946-52f6-4e78-9f0b-a96e5d9b6a4a | Taker: 6dd5718a-cc8b-4bf7-ad7e-cf4d1564894c | Side: sell\n",
      "Trade 5: 50@10.0 | Maker: 3dcedd43-2c53-40a0-b58a-ccbf69a5288b | Taker: 9e7d7111-9d94-48da-814b-c3d54637f98c | Side: sell\n",
      "Trade 6: 30@10.0 | Maker: 3dcedd43-2c53-40a0-b58a-ccbf69a5288b | Taker: 1447c37f-6691-4948-bd84-06e437cb9858 | Side: sell\n",
      "Trade 7: 20@11.0 | Maker: 874c7d0d-08c4-4050-b796-169098a4c10d | Taker: 1f0ae803-62c4-4a46-ac88-a47a8a066b09 | Side: buy\n",
      "Trade 8: 5@12.0 | Maker: 788b6cda-cbd6-48a5-8af1-5c905354cd36 | Taker: 1f0ae803-62c4-4a46-ac88-a47a8a066b09 | Side: buy\n",
      "Trade 9: 20@11.0 | Maker: 83fed9d0-6f4f-41fc-8147-689d901a79be | Taker: ffc631da-47d3-4a0a-8efd-466a5734593e | Side: sell\n",
      "Trade 10: 20@11.0 | Maker: 83fed9d0-6f4f-41fc-8147-689d901a79be | Taker: bbc9ca7a-551e-4831-9c0e-a2d63f39eb86 | Side: sell\n",
      "Trade 11: 10@11.0 | Maker: 83fed9d0-6f4f-41fc-8147-689d901a79be | Taker: 0b44f89e-91d7-4bbe-a8f7-1f2e9b68d82d | Side: sell\n",
      "Trade 12: 10@11.0 | Maker: 23cc021a-d3fe-4995-8907-33a0a2b93578 | Taker: 0b44f89e-91d7-4bbe-a8f7-1f2e9b68d82d | Side: sell\n",
      "Trade 13: 20@11.0 | Maker: 23cc021a-d3fe-4995-8907-33a0a2b93578 | Taker: e88e2ece-fa9a-4291-b657-79a506f99be5 | Side: sell\n",
      "Trade 14: 5@12.0 | Maker: 788b6cda-cbd6-48a5-8af1-5c905354cd36 | Taker: 45f19782-b09e-4803-8202-57023257815d | Side: buy\n",
      "Trade 15: 10@11.0 | Maker: 23cc021a-d3fe-4995-8907-33a0a2b93578 | Taker: a688b372-24c6-4ca0-ac03-38f9da3accd3 | Side: sell\n",
      "Trade 16: 20@11.0 | Maker: b2dae4a6-2a49-457f-9a03-ac458c1ea140 | Taker: a688b372-24c6-4ca0-ac03-38f9da3accd3 | Side: sell\n",
      "Trade 17: 10@10.0 | Maker: 16dbd1f9-7d37-4f99-bff0-4ffddd41f970 | Taker: a688b372-24c6-4ca0-ac03-38f9da3accd3 | Side: sell\n",
      "Trade 18: 39@10.0 | Maker: 16dbd1f9-7d37-4f99-bff0-4ffddd41f970 | Taker: 27d1d865-6f61-449c-887d-c447ab47ac32 | Side: sell\n",
      "Trade 19: 18@11.0 | Maker: 488c125b-9921-4396-ac3e-60d30263d082 | Taker: 71de0c60-bb69-48ce-aaec-f17ef35c5ee0 | Side: buy\n",
      "Trade 20: 1@10.0 | Maker: 16dbd1f9-7d37-4f99-bff0-4ffddd41f970 | Taker: c80ed2c5-2825-41a7-983b-14eeaaad9c62 | Side: sell\n",
      "Trade 21: 25@10.0 | Maker: 894f77be-9834-45c9-9cad-482db1549e81 | Taker: c80ed2c5-2825-41a7-983b-14eeaaad9c62 | Side: sell\n",
      "Trade 22: 4@10.0 | Maker: 651df4f1-d1ac-4818-9a7b-29a986b9ee6f | Taker: c80ed2c5-2825-41a7-983b-14eeaaad9c62 | Side: sell\n",
      "Trade 23: 8@11.0 | Maker: 488c125b-9921-4396-ac3e-60d30263d082 | Taker: e57ccd2b-7096-41a3-9c79-acaf56626b0a | Side: buy\n",
      "Trade 24: 20@10.0 | Maker: 651df4f1-d1ac-4818-9a7b-29a986b9ee6f | Taker: 99e62572-8410-42e2-ba87-6a42e80a8ebc | Side: sell\n",
      "Trade 25: 3@11.0 | Maker: 488c125b-9921-4396-ac3e-60d30263d082 | Taker: 28f73a0f-e0ff-4a65-9bb6-2713784998d1 | Side: buy\n",
      "Trade 26: 30@10.0 | Maker: 651df4f1-d1ac-4818-9a7b-29a986b9ee6f | Taker: 4be1455a-be30-49c1-bae7-e3fb1f41b228 | Side: sell\n",
      "Trade 27: 46@10.0 | Maker: 651df4f1-d1ac-4818-9a7b-29a986b9ee6f | Taker: 5462a4ae-c218-44e1-847d-6d99d7c41bf0 | Side: sell\n",
      "Trade 28: 40@10.0 | Maker: a305a37d-90d5-4c28-82df-f4f0158e5ab9 | Taker: 5462a4ae-c218-44e1-847d-6d99d7c41bf0 | Side: sell\n",
      "Trade 29: 20@10.0 | Maker: f2a89085-622f-4770-a166-9ebb7f8e3811 | Taker: 5462a4ae-c218-44e1-847d-6d99d7c41bf0 | Side: sell\n",
      "Trade 30: 50@10.0 | Maker: b234e148-5b3b-4187-8f63-f4a3796d1de4 | Taker: 5462a4ae-c218-44e1-847d-6d99d7c41bf0 | Side: sell\n",
      "Trade 31: 10@10.0 | Maker: 5462a4ae-c218-44e1-847d-6d99d7c41bf0 | Taker: 3242d452-4610-40ff-9842-cc730c2b6bfd | Side: buy\n",
      "Trade 32: 14@10.0 | Maker: 5462a4ae-c218-44e1-847d-6d99d7c41bf0 | Taker: 90c47ade-5302-4ffa-9624-9a3f04d68543 | Side: buy\n",
      "Trade 33: 26@10.0 | Maker: 6b111877-27b0-418c-94d0-72f257d0f7f5 | Taker: 90c47ade-5302-4ffa-9624-9a3f04d68543 | Side: buy\n",
      "Trade 34: 30@10.0 | Maker: 6b111877-27b0-418c-94d0-72f257d0f7f5 | Taker: 2bf2808a-2f4b-44ec-a52c-2ba0cf1cc088 | Side: buy\n",
      "Trade 35: 50@10.0 | Maker: 6b111877-27b0-418c-94d0-72f257d0f7f5 | Taker: 1a13f8b3-022e-4e40-997f-c932913f460a | Side: buy\n",
      "Trade 36: 48@10.0 | Maker: 6b111877-27b0-418c-94d0-72f257d0f7f5 | Taker: 4db25aa6-cb7c-43f0-92df-b03ca8cac2b2 | Side: buy\n",
      "Trade 37: 2@10.0 | Maker: bbdabaac-8f35-417f-8ca5-99e226de50b5 | Taker: 4db25aa6-cb7c-43f0-92df-b03ca8cac2b2 | Side: buy\n",
      "Trade 38: 60@10.0 | Maker: bbdabaac-8f35-417f-8ca5-99e226de50b5 | Taker: 738cb461-5fde-4179-ac92-d02e73b2fef1 | Side: buy\n",
      "Trade 39: 20@10.0 | Maker: bbdabaac-8f35-417f-8ca5-99e226de50b5 | Taker: c2a24a1c-833e-498f-8208-f6725a7ae054 | Side: buy\n",
      "Trade 40: 18@10.0 | Maker: bbdabaac-8f35-417f-8ca5-99e226de50b5 | Taker: 14ca2af4-cd7b-4f96-b301-7f2c5e475cb8 | Side: buy\n",
      "Trade 41: 12@10.0 | Maker: df32453f-e804-435a-b681-0fd23febfc79 | Taker: 14ca2af4-cd7b-4f96-b301-7f2c5e475cb8 | Side: buy\n",
      "Trade 42: 8@10.0 | Maker: df32453f-e804-435a-b681-0fd23febfc79 | Taker: 02284326-2a1b-42a1-a56c-0c2696057123 | Side: buy\n",
      "Trade 43: 22@10.0 | Maker: 8b0a62cf-9238-4b48-a71e-b27c4f09e6fe | Taker: 02284326-2a1b-42a1-a56c-0c2696057123 | Side: buy\n",
      "Trade 44: 8@10.0 | Maker: 8b0a62cf-9238-4b48-a71e-b27c4f09e6fe | Taker: 1e4e6751-4e0c-4501-8570-025b6b5aeb60 | Side: buy\n",
      "Trade 45: 1@11.0 | Maker: 488c125b-9921-4396-ac3e-60d30263d082 | Taker: 0ff2adba-acdb-4457-b584-9b87902173d1 | Side: buy\n",
      "Trade 46: 40@11.0 | Maker: ae03b879-d448-4e98-b75f-eddf489930d1 | Taker: 0ff2adba-acdb-4457-b584-9b87902173d1 | Side: buy\n",
      "Trade 47: 9@11.0 | Maker: 33cb1bd5-f43a-4bd1-bf16-9a3618e76c63 | Taker: 0ff2adba-acdb-4457-b584-9b87902173d1 | Side: buy\n",
      "Trade 48: 9@11.0 | Maker: 33cb1bd5-f43a-4bd1-bf16-9a3618e76c63 | Taker: d42cc4c1-8fcc-41bd-9748-032b1ea693a7 | Side: buy\n",
      "Trade 49: 16@11.0 | Maker: acc6c90d-d39c-46f0-84ed-f92e1eb36d71 | Taker: d42cc4c1-8fcc-41bd-9748-032b1ea693a7 | Side: buy\n",
      "Trade 50: 20@11.0 | Maker: acc6c90d-d39c-46f0-84ed-f92e1eb36d71 | Taker: 47578f3c-1742-41ca-95b0-6cb7996ff155 | Side: buy\n",
      "Trade 51: 10@11.0 | Maker: acc6c90d-d39c-46f0-84ed-f92e1eb36d71 | Taker: 876f7f67-54b0-467b-807b-c94eb71aeaf5 | Side: buy\n",
      "Trade 52: 50@11.0 | Maker: acc6c90d-d39c-46f0-84ed-f92e1eb36d71 | Taker: 33eb1175-60ee-408b-8f7f-52177dff0dc1 | Side: buy\n",
      "Trade 53: 4@11.0 | Maker: acc6c90d-d39c-46f0-84ed-f92e1eb36d71 | Taker: fac4bf3f-f603-42e3-8bee-2b7a69196ae1 | Side: buy\n",
      "Trade 54: 16@11.0 | Maker: e06d8926-8e84-4780-91ce-01f3519154a0 | Taker: fac4bf3f-f603-42e3-8bee-2b7a69196ae1 | Side: buy\n",
      "Trade 55: 10@11.0 | Maker: e06d8926-8e84-4780-91ce-01f3519154a0 | Taker: 49c0ac0d-1f26-4321-9815-e90ad84261c2 | Side: buy\n",
      "Trade 56: 19@11.0 | Maker: e06d8926-8e84-4780-91ce-01f3519154a0 | Taker: d6affad6-090f-42fd-af47-8aec821db4c8 | Side: buy\n",
      "Trade 57: 5@11.0 | Maker: e06d8926-8e84-4780-91ce-01f3519154a0 | Taker: ec941233-1ec6-4e2b-8bf0-0703ce1f8f52 | Side: buy\n",
      "Trade 58: 15@11.0 | Maker: 9af352fa-9003-4669-ae27-0832a94e81eb | Taker: ec941233-1ec6-4e2b-8bf0-0703ce1f8f52 | Side: buy\n",
      "Trade 59: 12@10.0 | Maker: 1e4e6751-4e0c-4501-8570-025b6b5aeb60 | Taker: 2701bbda-9306-4ffb-bd90-ba082c3287a6 | Side: sell\n",
      "Trade 60: 18@10.0 | Maker: ae18716d-5a3b-4f41-bc48-8f0eabb4a835 | Taker: 2701bbda-9306-4ffb-bd90-ba082c3287a6 | Side: sell\n",
      "Trade 61: 24@10.0 | Maker: ae18716d-5a3b-4f41-bc48-8f0eabb4a835 | Taker: aa8ba157-0fb8-4f94-9532-06a14c86eca5 | Side: sell\n",
      "Trade 62: 127@10.0 | Maker: 9c285caa-78e9-46bc-b369-530d0f6176cb | Taker: aa8ba157-0fb8-4f94-9532-06a14c86eca5 | Side: sell\n",
      "Trade 63: 75@10.0 | Maker: 9c285caa-78e9-46bc-b369-530d0f6176cb | Taker: 55a5844d-0441-4b5a-8f92-f3f0d78da33d | Side: sell\n",
      "Trade 64: 25@10.0 | Maker: 6e0ab9a4-0f2c-400b-864e-7a5fedad2882 | Taker: 55a5844d-0441-4b5a-8f92-f3f0d78da33d | Side: sell\n",
      "Trade 65: 25@10.0 | Maker: 6e0ab9a4-0f2c-400b-864e-7a5fedad2882 | Taker: ea541c16-6f74-48c0-8662-be0f31d7bb09 | Side: sell\n",
      "Trade 66: 12@10.0 | Maker: e445937a-d657-4c8f-b750-4fb771267c8e | Taker: ea541c16-6f74-48c0-8662-be0f31d7bb09 | Side: sell\n",
      "Trade 67: 20@10.0 | Maker: 1f111c98-4441-4506-8e17-6781bdd4a92c | Taker: ea541c16-6f74-48c0-8662-be0f31d7bb09 | Side: sell\n",
      "Trade 68: 43@10.0 | Maker: ea541c16-6f74-48c0-8662-be0f31d7bb09 | Taker: b8b92874-ff86-43b2-afba-46ffeabf22c6 | Side: buy\n",
      "Trade 69: 5@11.0 | Maker: 9af352fa-9003-4669-ae27-0832a94e81eb | Taker: b8b92874-ff86-43b2-afba-46ffeabf22c6 | Side: buy\n",
      "Trade 70: 2@11.0 | Maker: 64d492c4-4b92-406d-a3ee-bcb89c3c6a8a | Taker: b8b92874-ff86-43b2-afba-46ffeabf22c6 | Side: buy\n",
      "Trade 71: 109@11.0 | Maker: 64d492c4-4b92-406d-a3ee-bcb89c3c6a8a | Taker: 3b5fb09a-70b5-4e5f-af7b-3df3f7ca59db | Side: buy\n",
      "Trade 72: 31@11.0 | Maker: 7859de6e-ebcf-4e40-a735-0ced0118100d | Taker: 3b5fb09a-70b5-4e5f-af7b-3df3f7ca59db | Side: buy\n",
      "Trade 73: 19@11.0 | Maker: 7859de6e-ebcf-4e40-a735-0ced0118100d | Taker: e3bbad9e-85a3-49a4-a308-53bf0087c47b | Side: buy\n",
      "Trade 74: 40@11.0 | Maker: 32b4352e-531a-4fcf-a5e5-3b7b9ef9db35 | Taker: e3bbad9e-85a3-49a4-a308-53bf0087c47b | Side: buy\n",
      "Trade 75: 41@11.0 | Maker: 30833f98-6797-4cba-a5d5-4c0d5fb0e232 | Taker: e3bbad9e-85a3-49a4-a308-53bf0087c47b | Side: buy\n",
      "Trade 76: 25@11.0 | Maker: 30833f98-6797-4cba-a5d5-4c0d5fb0e232 | Taker: e5c35dff-b4ae-42be-b838-208a3b5c0b48 | Side: buy\n",
      "Trade 77: 100@10.0 | Maker: 61053bc7-e7ee-435e-909a-7de281ded251 | Taker: 2808ea87-b537-4757-8925-090800015cdd | Side: sell\n",
      "Trade 78: 100@10.0 | Maker: 61053bc7-e7ee-435e-909a-7de281ded251 | Taker: 29d13029-98f8-4081-b169-9fbdf936dfdb | Side: sell\n",
      "Trade 79: 11@10.0 | Maker: 794def44-98d8-423e-ac74-359088c2b324 | Taker: 29d13029-98f8-4081-b169-9fbdf936dfdb | Side: sell\n",
      "Trade 80: 89@10.0 | Maker: 794def44-98d8-423e-ac74-359088c2b324 | Taker: acfa85ac-0448-4a36-8f8a-781b13f16f41 | Side: sell\n",
      "Trade 81: 11@10.0 | Maker: acfa85ac-0448-4a36-8f8a-781b13f16f41 | Taker: b957557d-b022-4e2a-bc6e-7d4b53b1e82c | Side: buy\n",
      "Trade 82: 4@11.0 | Maker: 30833f98-6797-4cba-a5d5-4c0d5fb0e232 | Taker: b957557d-b022-4e2a-bc6e-7d4b53b1e82c | Side: buy\n",
      "Trade 83: 15@11.0 | Maker: a57002d3-f204-4d6b-824e-e1f1aa923294 | Taker: b957557d-b022-4e2a-bc6e-7d4b53b1e82c | Side: buy\n",
      "Trade 84: 50@10.0 | Maker: 09eafd69-48e1-43f7-9137-370058bf4207 | Taker: 4ac34979-2cf5-40b9-9bbc-e40d7cb00db8 | Side: sell\n",
      "Trade 85: 30@10.0 | Maker: 09eafd69-48e1-43f7-9137-370058bf4207 | Taker: 019f7869-d9f4-4932-857d-b4a8626fe0fe | Side: sell\n",
      "Trade 86: 10@11.0 | Maker: a57002d3-f204-4d6b-824e-e1f1aa923294 | Taker: 9b8cd403-2ac5-4770-a0c9-d16552a058b3 | Side: buy\n",
      "Trade 87: 25@11.0 | Maker: a57002d3-f204-4d6b-824e-e1f1aa923294 | Taker: 278edfb0-7ca6-4cfd-9c71-9cc94173b716 | Side: buy\n",
      "Trade 88: 25@11.0 | Maker: 35c99268-fd1b-4f9c-b640-97f526ab3819 | Taker: 278edfb0-7ca6-4cfd-9c71-9cc94173b716 | Side: buy\n",
      "Trade 89: 30@11.0 | Maker: 4705e23e-2d21-4f41-ab0e-95bd48494e52 | Taker: 278edfb0-7ca6-4cfd-9c71-9cc94173b716 | Side: buy\n",
      "Trade 90: 20@11.0 | Maker: ed564882-71f5-4c5c-a29a-f00aa0bb9c7c | Taker: 278edfb0-7ca6-4cfd-9c71-9cc94173b716 | Side: buy\n",
      "Trade 91: 20@10.0 | Maker: 09eafd69-48e1-43f7-9137-370058bf4207 | Taker: e77217d0-978d-416c-8afa-ebd1a3408f62 | Side: sell\n",
      "Trade 92: 20@10.0 | Maker: d6a2a966-27e2-4fb2-8a4d-a8aad795f583 | Taker: e77217d0-978d-416c-8afa-ebd1a3408f62 | Side: sell\n",
      "Trade 93: 10@10.0 | Maker: d6a2a966-27e2-4fb2-8a4d-a8aad795f583 | Taker: 836ebdc9-eb43-4ebc-82a9-463e70715208 | Side: sell\n",
      "Trade 94: 30@10.0 | Maker: 19fbe4eb-c277-4e66-a86d-b5c809f31436 | Taker: 64062d44-28c1-4054-995b-9a80bcf86058 | Side: buy\n",
      "Trade 95: 20@10.0 | Maker: d6a2a966-27e2-4fb2-8a4d-a8aad795f583 | Taker: 249621b9-586b-4b31-8da3-3db48a36c751 | Side: sell\n",
      "Trade 96: 20@10.0 | Maker: d6a2a966-27e2-4fb2-8a4d-a8aad795f583 | Taker: 1a77b939-a478-42f8-b071-2423dabab4bb | Side: sell\n",
      "Trade 97: 30@10.0 | Maker: d6a2a966-27e2-4fb2-8a4d-a8aad795f583 | Taker: a9443f27-3505-44bf-8496-4ca3d8b282c6 | Side: sell\n",
      "Trade 98: 80@10.0 | Maker: 19fbe4eb-c277-4e66-a86d-b5c809f31436 | Taker: d8f62d2d-0c9c-43f0-8171-a3227d1262dc | Side: buy\n",
      "Trade 99: 11@10.0 | Maker: d6a2a966-27e2-4fb2-8a4d-a8aad795f583 | Taker: ea00145b-e255-4388-9166-fab7b44c058a | Side: sell\n",
      "Trade 100: 111@10.0 | Maker: 55bec6a7-7f2e-476c-9d54-ffaabd8d63f2 | Taker: ea00145b-e255-4388-9166-fab7b44c058a | Side: sell\n",
      "Trade 101: 51@10.0 | Maker: da4daff6-d3ad-43f4-a5da-0033bfce1b84 | Taker: ea00145b-e255-4388-9166-fab7b44c058a | Side: sell\n",
      "Trade 102: 1@10.0 | Maker: 19fbe4eb-c277-4e66-a86d-b5c809f31436 | Taker: 1b1d5c80-ef71-45b2-b592-0dee80f6d54d | Side: buy\n",
      "Trade 103: 27@10.0 | Maker: ea00145b-e255-4388-9166-fab7b44c058a | Taker: 1b1d5c80-ef71-45b2-b592-0dee80f6d54d | Side: buy\n",
      "Trade 104: 48@10.0 | Maker: 1b1d5c80-ef71-45b2-b592-0dee80f6d54d | Taker: b935461b-8017-4a79-98e7-abb43a845e6e | Side: sell\n",
      "Trade 105: 22@10.0 | Maker: b935461b-8017-4a79-98e7-abb43a845e6e | Taker: 79810fb1-bb07-4f3f-a92e-04c4121d52ac | Side: buy\n",
      "Trade 106: 78@10.0 | Maker: 35e58923-99ca-4bf3-9867-f8fe5d8a10f1 | Taker: 79810fb1-bb07-4f3f-a92e-04c4121d52ac | Side: buy\n",
      "Trade 107: 22@10.0 | Maker: 35e58923-99ca-4bf3-9867-f8fe5d8a10f1 | Taker: 1948080d-313f-4221-8ef7-6062a67af799 | Side: buy\n",
      "Trade 108: 100@11.0 | Maker: ff1126c6-39ce-4f45-90ad-c514e1220579 | Taker: 1b90b8c6-b859-4f13-8c98-1795a18d9890 | Side: buy\n",
      "Trade 109: 28@10.0 | Maker: 1948080d-313f-4221-8ef7-6062a67af799 | Taker: cd09bd7c-63d9-4bb4-b4d9-d063b7dcaf8f | Side: sell\n",
      "Trade 110: 167@10.0 | Maker: bef8874a-2646-44d3-8d3c-d46627638645 | Taker: cd09bd7c-63d9-4bb4-b4d9-d063b7dcaf8f | Side: sell\n",
      "Trade 111: 19@10.0 | Maker: bef8874a-2646-44d3-8d3c-d46627638645 | Taker: 43093474-8b8d-4351-902c-3aaf954baf65 | Side: sell\n",
      "Trade 112: 40@10.0 | Maker: 43093474-8b8d-4351-902c-3aaf954baf65 | Taker: b1a5d044-c9a1-4f28-b640-ecfa696160d5 | Side: buy\n",
      "Trade 113: 100@10.0 | Maker: 43093474-8b8d-4351-902c-3aaf954baf65 | Taker: 9c35c194-f51c-4385-99e7-2ec205fb491c | Side: buy\n",
      "Trade 114: 40@10.0 | Maker: 43093474-8b8d-4351-902c-3aaf954baf65 | Taker: ada0b6e5-da62-42e8-8e94-377380e15378 | Side: buy\n",
      "Trade 115: 17@10.0 | Maker: 43093474-8b8d-4351-902c-3aaf954baf65 | Taker: 48d5fc7b-7692-46ab-8fa6-b70efa7bfc18 | Side: buy\n",
      "Trade 116: 23@10.0 | Maker: 099abf3e-0b42-42d9-ad57-6fabf8c25c20 | Taker: 48d5fc7b-7692-46ab-8fa6-b70efa7bfc18 | Side: buy\n",
      "Trade 117: 7@10.0 | Maker: 099abf3e-0b42-42d9-ad57-6fabf8c25c20 | Taker: 52fa41f4-ede6-49f1-8176-ab0cc8464d58 | Side: buy\n",
      "Trade 118: 25@11.0 | Maker: 24a4948b-24ce-40cc-890a-6596214830dd | Taker: 52fa41f4-ede6-49f1-8176-ab0cc8464d58 | Side: buy\n",
      "Trade 119: 8@11.0 | Maker: 95ccebd9-c5cf-4fcc-a789-19f168ea8ace | Taker: 52fa41f4-ede6-49f1-8176-ab0cc8464d58 | Side: buy\n",
      "Trade 120: 22@11.0 | Maker: 95ccebd9-c5cf-4fcc-a789-19f168ea8ace | Taker: 6902f383-1093-4813-9952-01ac136993bc | Side: buy\n",
      "Trade 121: 10@11.0 | Maker: 8aebe03b-8132-446a-8381-324e183fa0ec | Taker: 6902f383-1093-4813-9952-01ac136993bc | Side: buy\n",
      "Trade 122: 13@11.0 | Maker: 3fdd5699-8dab-4bd5-858f-6d853dc88f21 | Taker: 6902f383-1093-4813-9952-01ac136993bc | Side: buy\n",
      "Trade 123: 45@11.0 | Maker: 3fdd5699-8dab-4bd5-858f-6d853dc88f21 | Taker: 4a27439e-e010-4fa5-9e5b-813ae58f8b31 | Side: buy\n",
      "Trade 124: 100@10.0 | Maker: 2b3aa7b2-8aba-45c9-9bfc-f4039a907d53 | Taker: 34bcd4f4-2f29-4211-8243-31f1133c8bd0 | Side: sell\n",
      "Trade 125: 10@9.0 | Maker: 24397af1-0ca2-4243-aad0-5d7a660c9b67 | Taker: 34bcd4f4-2f29-4211-8243-31f1133c8bd0 | Side: sell\n",
      "Trade 126: 30@9.0 | Maker: ce405b66-228f-4a5a-a6b9-bcc5271e53b0 | Taker: 34bcd4f4-2f29-4211-8243-31f1133c8bd0 | Side: sell\n",
      "Trade 127: 20@9.0 | Maker: aa1872b9-45c9-42c4-bbb0-3b3bc9273543 | Taker: 34bcd4f4-2f29-4211-8243-31f1133c8bd0 | Side: sell\n",
      "Trade 128: 30@9.0 | Maker: 12f638ef-7d8c-4243-bbf0-501d9bd7cbdd | Taker: 34bcd4f4-2f29-4211-8243-31f1133c8bd0 | Side: sell\n",
      "Trade 129: 10@9.0 | Maker: b1459bb0-9d70-46c2-8d84-97cd137f4016 | Taker: 34bcd4f4-2f29-4211-8243-31f1133c8bd0 | Side: sell\n",
      "Trade 130: 40@9.0 | Maker: 535841ec-97ff-4ded-be35-8adf5d61bcc9 | Taker: 34bcd4f4-2f29-4211-8243-31f1133c8bd0 | Side: sell\n",
      "Trade 131: 30@11.0 | Maker: 3fdd5699-8dab-4bd5-858f-6d853dc88f21 | Taker: 27d4ee58-9f10-4378-bf2d-39f2ef950d45 | Side: buy\n",
      "Trade 132: 50@11.0 | Maker: 3fdd5699-8dab-4bd5-858f-6d853dc88f21 | Taker: acc22c23-60c0-4c36-bf88-5e75d68c5fcc | Side: buy\n",
      "Trade 133: 20@9.0 | Maker: 535841ec-97ff-4ded-be35-8adf5d61bcc9 | Taker: f64a617e-1d39-4232-9eff-896e7cb6f37a | Side: sell\n",
      "Trade 134: 30@9.0 | Maker: 6172b30e-64ce-4be0-8ad0-c8f6773979ca | Taker: f64a617e-1d39-4232-9eff-896e7cb6f37a | Side: sell\n",
      "Trade 135: 20@9.0 | Maker: af0ceb54-8f87-4344-bcba-d38a317dcc5b | Taker: f64a617e-1d39-4232-9eff-896e7cb6f37a | Side: sell\n",
      "Trade 136: 30@9.0 | Maker: f8bddfcc-014e-4463-b5bb-3176c863218d | Taker: f64a617e-1d39-4232-9eff-896e7cb6f37a | Side: sell\n",
      "Trade 137: 90@9.0 | Maker: 07c4fb34-b0f3-4b13-a6d8-cd8f480ba55c | Taker: f64a617e-1d39-4232-9eff-896e7cb6f37a | Side: sell\n",
      "Trade 138: 12@9.0 | Maker: dd4fe029-46b5-47b2-81d4-b69184a9e49b | Taker: f64a617e-1d39-4232-9eff-896e7cb6f37a | Side: sell\n",
      "Trade 139: 200@10.0 | Maker: 5d3c1a60-a008-40ec-925e-cfc45cc3e408 | Taker: 89c903d4-584d-48c5-8ddd-cb218df91581 | Side: sell\n",
      "Trade 140: 39@9.0 | Maker: dd4fe029-46b5-47b2-81d4-b69184a9e49b | Taker: 89c903d4-584d-48c5-8ddd-cb218df91581 | Side: sell\n",
      "Trade 141: 10@9.0 | Maker: b44ae779-f4e6-4b74-a72f-f48e4af00eeb | Taker: 89c903d4-584d-48c5-8ddd-cb218df91581 | Side: sell\n",
      "Trade 142: 31@9.0 | Maker: db1e6b86-be2f-4ebe-82e0-06405b53ab55 | Taker: 89c903d4-584d-48c5-8ddd-cb218df91581 | Side: sell\n",
      "Trade 143: 180@10.0 | Maker: 4f787f93-2406-4079-bce9-a48d9bece1a5 | Taker: 9ea67189-e282-4c8e-ae32-207a762f265c | Side: sell\n",
      "Trade 144: 15@10.0 | Maker: 4f787f93-2406-4079-bce9-a48d9bece1a5 | Taker: 7e7061fd-d453-4f50-870f-25c4dbe5d51b | Side: sell\n",
      "Trade 145: 66@10.0 | Maker: 7e7061fd-d453-4f50-870f-25c4dbe5d51b | Taker: 2273651d-7568-41eb-b21d-b8ed2d63b88b | Side: buy\n",
      "Trade 146: 112@11.0 | Maker: 3fdd5699-8dab-4bd5-858f-6d853dc88f21 | Taker: 2273651d-7568-41eb-b21d-b8ed2d63b88b | Side: buy\n",
      "Trade 147: 5@11.0 | Maker: 85ad32e2-9bb6-48c5-8a80-4094644ff677 | Taker: 2273651d-7568-41eb-b21d-b8ed2d63b88b | Side: buy\n",
      "Trade 148: 50@10.0 | Maker: 83d5c757-382c-4f0e-bb78-935663a95461 | Taker: 4f035c53-8aba-410c-8871-a32e0e904df4 | Side: sell\n",
      "Trade 149: 10@10.0 | Maker: 83d5c757-382c-4f0e-bb78-935663a95461 | Taker: 441af6a3-e58b-4d62-a08e-d33f14a648de | Side: sell\n",
      "Trade 150: 20@10.0 | Maker: 5e048ec6-c1f9-409a-84be-5aab7a26332b | Taker: 441af6a3-e58b-4d62-a08e-d33f14a648de | Side: sell\n",
      "Trade 151: 80@10.0 | Maker: 5e048ec6-c1f9-409a-84be-5aab7a26332b | Taker: 18bbecfe-c05f-40f7-bdfa-e93ab5f00f5b | Side: sell\n",
      "Trade 152: 30@10.0 | Maker: 46f53298-ead6-41b3-9fe6-a584ce985441 | Taker: 18bbecfe-c05f-40f7-bdfa-e93ab5f00f5b | Side: sell\n",
      "Trade 153: 9@9.0 | Maker: db1e6b86-be2f-4ebe-82e0-06405b53ab55 | Taker: 18bbecfe-c05f-40f7-bdfa-e93ab5f00f5b | Side: sell\n",
      "Trade 154: 31@9.0 | Maker: 82ff5991-7e31-4f01-8977-9c0f91d107c5 | Taker: 18bbecfe-c05f-40f7-bdfa-e93ab5f00f5b | Side: sell\n",
      "Trade 155: 45@11.0 | Maker: 85ad32e2-9bb6-48c5-8a80-4094644ff677 | Taker: 0432d8b9-f6d9-4f23-826f-4706b557ad26 | Side: buy\n",
      "Trade 156: 5@11.0 | Maker: f3f8cb52-e3b8-463b-862e-018064ac6a05 | Taker: 0432d8b9-f6d9-4f23-826f-4706b557ad26 | Side: buy\n",
      "Trade 157: 25@11.0 | Maker: f3f8cb52-e3b8-463b-862e-018064ac6a05 | Taker: f0427b00-27b4-4e2d-9605-a4f32365654b | Side: buy\n",
      "Trade 158: 30@11.0 | Maker: a57b02e2-7439-4713-82ba-1393beb0d44e | Taker: f0427b00-27b4-4e2d-9605-a4f32365654b | Side: buy\n",
      "Trade 159: 45@11.0 | Maker: 16fa580c-fa2b-49db-83c0-f804ae7d67ec | Taker: f0427b00-27b4-4e2d-9605-a4f32365654b | Side: buy\n",
      "Trade 160: 61@10.0 | Maker: c876c0a6-34e1-46d0-9847-ba91f3e8c05f | Taker: 80c56c06-0f91-41b8-bc6c-97fc24a54ea5 | Side: buy\n",
      "Trade 161: 19@9.0 | Maker: 82ff5991-7e31-4f01-8977-9c0f91d107c5 | Taker: 58e8cecf-6f33-4481-a900-db42cfad6abc | Side: sell\n",
      "Trade 162: 40@9.0 | Maker: 423339f6-ae33-48f7-af7e-865b68a25477 | Taker: 58e8cecf-6f33-4481-a900-db42cfad6abc | Side: sell\n",
      "Trade 163: 31@9.0 | Maker: 062a0bab-1d4b-4996-b1ad-511ee4dde65a | Taker: 58e8cecf-6f33-4481-a900-db42cfad6abc | Side: sell\n",
      "Trade 164: 8@9.0 | Maker: 062a0bab-1d4b-4996-b1ad-511ee4dde65a | Taker: fd8f7a1a-3c60-4d1b-899b-9d0cbaa06660 | Side: sell\n",
      "Trade 165: 20@10.0 | Maker: c876c0a6-34e1-46d0-9847-ba91f3e8c05f | Taker: 7ff9a1b4-05c4-40b2-a19d-715cc7c7b1c5 | Side: buy\n",
      "Trade 166: 9@10.0 | Maker: c876c0a6-34e1-46d0-9847-ba91f3e8c05f | Taker: a7054422-b61f-4cbd-83d6-9f25289d21e0 | Side: buy\n",
      "Trade 167: 11@10.0 | Maker: a408031d-c82a-4cc6-b112-a6dfd3ef9dc3 | Taker: a7054422-b61f-4cbd-83d6-9f25289d21e0 | Side: buy\n",
      "Trade 168: 19@10.0 | Maker: a408031d-c82a-4cc6-b112-a6dfd3ef9dc3 | Taker: a6808163-ef6b-4823-9de3-e17b909013d5 | Side: buy\n",
      "Trade 169: 1@10.0 | Maker: 05a173b4-241a-479e-9a40-2bdee7a400cb | Taker: a6808163-ef6b-4823-9de3-e17b909013d5 | Side: buy\n",
      "Trade 170: 1@10.0 | Maker: 05a173b4-241a-479e-9a40-2bdee7a400cb | Taker: 7fb8af2c-c504-4bb6-ade6-d75a34c38b6e | Side: buy\n",
      "Trade 171: 3@10.0 | Maker: a45e5b2d-c746-4248-aed3-e8141b148ad5 | Taker: 7fb8af2c-c504-4bb6-ade6-d75a34c38b6e | Side: buy\n",
      "Trade 172: 11@9.0 | Maker: 062a0bab-1d4b-4996-b1ad-511ee4dde65a | Taker: c95e329e-51b4-4bec-8d08-74372b3dc243 | Side: sell\n",
      "Trade 173: 50@8.0 | Maker: 106a9a7f-a543-47aa-a9db-655505a69441 | Taker: 8a80368a-2988-4c55-b738-d4f6f9eb2a99 | Side: sell\n",
      "Trade 174: 50@9.0 | Maker: c95e329e-51b4-4bec-8d08-74372b3dc243 | Taker: d1bfccbb-4f9f-408a-ba23-fc2f9a290186 | Side: buy\n",
      "Trade 175: 12@9.0 | Maker: c95e329e-51b4-4bec-8d08-74372b3dc243 | Taker: a1a6cb1c-30aa-4948-acce-142ede743f81 | Side: buy\n",
      "Trade 176: 7@9.0 | Maker: c95e329e-51b4-4bec-8d08-74372b3dc243 | Taker: b32c1c57-f1b4-4b89-ae8b-920fb73bbbd2 | Side: buy\n",
      "Trade 177: 143@9.0 | Maker: fca91e85-ba1f-4bc3-b90f-e090ca25092d | Taker: b32c1c57-f1b4-4b89-ae8b-920fb73bbbd2 | Side: buy\n",
      "Trade 178: 20@9.0 | Maker: fca91e85-ba1f-4bc3-b90f-e090ca25092d | Taker: 30a4e8b5-bb97-4ec0-855f-c42483816b89 | Side: buy\n",
      "Trade 179: 30@8.0 | Maker: f03ae270-fa1d-4c9c-beef-fd5c0116c61e | Taker: 6f6fc15c-46e9-4b32-8fcc-45d124c9a7b1 | Side: sell\n",
      "Trade 180: 30@8.0 | Maker: 64cd3ef7-2b5c-4041-ac02-3c32cccac9b1 | Taker: 6f6fc15c-46e9-4b32-8fcc-45d124c9a7b1 | Side: sell\n",
      "Trade 181: 30@8.0 | Maker: 106a9a7f-a543-47aa-a9db-655505a69441 | Taker: 6f6fc15c-46e9-4b32-8fcc-45d124c9a7b1 | Side: sell\n",
      "Trade 182: 30@8.0 | Maker: 3f1a95fc-10b8-4393-8899-ccaafefcebb4 | Taker: 6f6fc15c-46e9-4b32-8fcc-45d124c9a7b1 | Side: sell\n",
      "Trade 183: 63@8.0 | Maker: 00d81bc5-8269-45af-bd47-60f957095cb3 | Taker: 6f6fc15c-46e9-4b32-8fcc-45d124c9a7b1 | Side: sell\n",
      "Trade 184: 37@9.0 | Maker: fca91e85-ba1f-4bc3-b90f-e090ca25092d | Taker: 8a9ac1b8-775f-46a7-90db-3c0a90c785eb | Side: buy\n",
      "Trade 185: 97@10.0 | Maker: a45e5b2d-c746-4248-aed3-e8141b148ad5 | Taker: 8a9ac1b8-775f-46a7-90db-3c0a90c785eb | Side: buy\n",
      "Trade 186: 16@10.0 | Maker: 8a9ac1b8-775f-46a7-90db-3c0a90c785eb | Taker: e175477a-0bed-4345-8166-0ae5602ce6ab | Side: sell\n",
      "Trade 187: 7@8.0 | Maker: 00d81bc5-8269-45af-bd47-60f957095cb3 | Taker: e175477a-0bed-4345-8166-0ae5602ce6ab | Side: sell\n",
      "Trade 188: 10@8.0 | Maker: 1b1509d6-8a72-491f-b74b-b803b96a8f61 | Taker: e175477a-0bed-4345-8166-0ae5602ce6ab | Side: sell\n",
      "Trade 189: 7@8.0 | Maker: e175477a-0bed-4345-8166-0ae5602ce6ab | Taker: 81337e20-42d5-4fc5-abb5-8737548a1604 | Side: buy\n",
      "Trade 190: 143@9.0 | Maker: 3ad1344a-8cb0-41be-bd35-6896ac4d341e | Taker: 81337e20-42d5-4fc5-abb5-8737548a1604 | Side: buy\n",
      "Trade 191: 50@8.0 | Maker: 8d0a95b0-5777-48a8-80a1-f00d8f63e59c | Taker: eb691e18-f62d-409f-8986-82fdf618c4b7 | Side: buy\n",
      "Trade 192: 48@8.0 | Maker: 426719d6-e52e-4867-b330-dfeff46e7f62 | Taker: eb691e18-f62d-409f-8986-82fdf618c4b7 | Side: buy\n",
      "Trade 193: 52@9.0 | Maker: 3ad1344a-8cb0-41be-bd35-6896ac4d341e | Taker: eb691e18-f62d-409f-8986-82fdf618c4b7 | Side: buy\n",
      "Trade 194: 10@10.0 | Maker: 7526d282-da08-4ead-9804-2171b1610a6a | Taker: eb691e18-f62d-409f-8986-82fdf618c4b7 | Side: buy\n",
      "Trade 195: 41@10.0 | Maker: 7526d282-da08-4ead-9804-2171b1610a6a | Taker: 358865e5-609a-4e93-8652-5180386eb2e7 | Side: buy\n",
      "Trade 196: 5@11.0 | Maker: 16fa580c-fa2b-49db-83c0-f804ae7d67ec | Taker: 358865e5-609a-4e93-8652-5180386eb2e7 | Side: buy\n",
      "Trade 197: 16@11.0 | Maker: 919f5a82-e0a5-4f82-af89-ab5e7c3af3c0 | Taker: 358865e5-609a-4e93-8652-5180386eb2e7 | Side: buy\n",
      "Trade 198: 60@11.0 | Maker: 28739adf-86f3-40f1-bca7-e705ee9a4dff | Taker: 358865e5-609a-4e93-8652-5180386eb2e7 | Side: buy\n",
      "Trade 199: 20@11.0 | Maker: 2b8ae380-19d6-4a8b-aba8-1033c4eee213 | Taker: 358865e5-609a-4e93-8652-5180386eb2e7 | Side: buy\n",
      "Trade 200: 9@11.0 | Maker: fde6e5a7-90a8-497f-b1ab-93f1777bdb0e | Taker: 358865e5-609a-4e93-8652-5180386eb2e7 | Side: buy\n",
      "Trade 201: 107@10.0 | Maker: 1bcce9a8-5596-41cf-804f-ac82f5fec8d2 | Taker: 34a19d4a-d0a0-4567-970d-a60234c9e41e | Side: sell\n",
      "Trade 202: 56@9.0 | Maker: 6d111fcb-2389-48f3-9dc5-9c6de80ba437 | Taker: 34a19d4a-d0a0-4567-970d-a60234c9e41e | Side: sell\n",
      "Trade 203: 50@11.0 | Maker: fde6e5a7-90a8-497f-b1ab-93f1777bdb0e | Taker: 93ccb1cb-1b90-43f2-9df1-6b3c051ee2a8 | Side: buy\n",
      "Trade 204: 10@11.0 | Maker: fde6e5a7-90a8-497f-b1ab-93f1777bdb0e | Taker: 77ff6ffc-5a55-4bbd-8529-6140230de1b8 | Side: buy\n"
     ]
    },
    {
     "name": "stderr",
     "output_type": "stream",
     "text": [
      "\n"
     ]
    }
   ],
   "source": [
    "filled_trades = []\n",
    "total_orders = len(orders_df)\n",
    "checkpoints = {4, 19, total_orders - 1} \n",
    "\n",
    "for index, row in tqdm(orders_df.iterrows(), total=total_orders, desc=\"Processing orders\"):\n",
    "    order_request = OrderRequest(\n",
    "        trader_id = row[\"trader_uuid\"],\n",
    "        side = row[\"Buy Sell Direction\"],\n",
    "        priority=Priority.HIGH,\n",
    "        timestamp=row[\"unix_timestamp\"],\n",
    "        price=row[\"Order Price\"],\n",
    "        quantity=row[\"Quantity\"]\n",
    "    )\n",
    "    trade = matching_engine.process_order(order_request)\n",
    "    if trade:\n",
    "        filled_trades.extend(trade)\n",
    "    \n",
    "    if index in checkpoints:\n",
    "        label = \"FINAL\" if index == total_orders - 1 else f\"#{index + 1}\"\n",
    "        print(f\"\\n=== Order Book after {label} orders ===\")\n",
    "        print(order_book)\n",
    "\n",
    "# Print all executed trades\n",
    "print(\"\\n=== ALL EXECUTED TRADES ===\")\n",
    "print(f\"Total number of trades: {len(filled_trades)}\\n\")\n",
    "for i, trade in enumerate(filled_trades, 1):\n",
    "    print(f\"Trade {i}: Quantity: {trade.quantity} @ Price: {trade.price} | \"\n",
    "          f\"Maker: {trade.maker_order_id} | Taker: {trade.taker_order_id} | \"\n",
    "          f\"Side: {trade.taker_side.value}\")"
   ]
  },
  {
   "cell_type": "code",
   "execution_count": 6,
   "id": "c24cc6d6",
   "metadata": {},
   "outputs": [
    {
     "name": "stdout",
     "output_type": "stream",
     "text": [
      "\n",
      "Number of trades executed: 204\n",
      "Number of spread snapshots taken: 247\n"
     ]
    }
   ],
   "source": [
    "len(metrics_calculator.spread_bps)\n",
    "print(f\"\\nNumber of trades executed: {len(filled_trades)}\")\n",
    "print(f\"Number of spread snapshots taken: {len(metrics_calculator.spread_bps)}\")"
   ]
  },
  {
   "cell_type": "code",
   "execution_count": 7,
   "id": "6bc1f4f8",
   "metadata": {},
   "outputs": [
    {
     "name": "stdout",
     "output_type": "stream",
     "text": [
      "Number of spread snapshots taken: 247\n"
     ]
    }
   ],
   "source": [
    "len(metrics_calculator.spread_ticks)\n",
    "print(f\"Number of spread snapshots taken: {len(metrics_calculator.spread_ticks)}\")\n",
    "spread_ticks_list = metrics_calculator.spread_ticks"
   ]
  },
  {
   "cell_type": "code",
   "execution_count": 8,
   "id": "0507ca0f",
   "metadata": {},
   "outputs": [
    {
     "data": {
      "text/html": [
       "<pre style=\"white-space:pre;overflow-x:auto;line-height:normal;font-family:Menlo,'DejaVu Sans Mono',consolas,'Courier New',monospace\"><span style=\"color: #000080; text-decoration-color: #000080; font-weight: bold\">--- Final Metrics ---</span>\n",
       "</pre>\n"
      ],
      "text/plain": [
       "\u001b[1;34m--- Final Metrics ---\u001b[0m\n"
      ]
     },
     "metadata": {},
     "output_type": "display_data"
    },
    {
     "data": {
      "text/html": [
       "<pre style=\"white-space:pre;overflow-x:auto;line-height:normal;font-family:Menlo,'DejaVu Sans Mono',consolas,'Courier New',monospace\">\n",
       "<span style=\"color: #008080; text-decoration-color: #008080; font-weight: bold\">Simple Average (Arithmetic Mean):</span>\n",
       "</pre>\n"
      ],
      "text/plain": [
       "\n",
       "\u001b[1;36mSimple Average \u001b[0m\u001b[1;36m(\u001b[0m\u001b[1;36mArithmetic Mean\u001b[0m\u001b[1;36m)\u001b[0m\u001b[1;36m:\u001b[0m\n"
      ]
     },
     "metadata": {},
     "output_type": "display_data"
    },
    {
     "data": {
      "text/html": [
       "<pre style=\"white-space:pre;overflow-x:auto;line-height:normal;font-family:Menlo,'DejaVu Sans Mono',consolas,'Courier New',monospace\">  Simple Avg Bid-Ask Spread <span style=\"font-weight: bold\">(</span>in Ticks<span style=\"font-weight: bold\">)</span>: <span style=\"color: #008000; text-decoration-color: #008000; font-weight: bold\">106.4777</span>\n",
       "</pre>\n"
      ],
      "text/plain": [
       "  Simple Avg Bid-Ask Spread \u001b[1m(\u001b[0min Ticks\u001b[1m)\u001b[0m: \u001b[1;32m106.4777\u001b[0m\n"
      ]
     },
     "metadata": {},
     "output_type": "display_data"
    },
    {
     "data": {
      "text/html": [
       "<pre style=\"white-space:pre;overflow-x:auto;line-height:normal;font-family:Menlo,'DejaVu Sans Mono',consolas,'Courier New',monospace\">  Simple Avg Bid-Ask Spread <span style=\"font-weight: bold\">(</span>in Basis Points<span style=\"font-weight: bold\">)</span>: <span style=\"color: #008000; text-decoration-color: #008000; font-weight: bold\">1055.2239</span>\n",
       "</pre>\n"
      ],
      "text/plain": [
       "  Simple Avg Bid-Ask Spread \u001b[1m(\u001b[0min Basis Points\u001b[1m)\u001b[0m: \u001b[1;32m1055.2239\u001b[0m\n"
      ]
     },
     "metadata": {},
     "output_type": "display_data"
    },
    {
     "data": {
      "text/html": [
       "<pre style=\"white-space:pre;overflow-x:auto;line-height:normal;font-family:Menlo,'DejaVu Sans Mono',consolas,'Courier New',monospace\">  Simple Avg Best-Level Market Depth <span style=\"font-weight: bold\">(</span>in Dollars<span style=\"font-weight: bold\">)</span>: <span style=\"color: #008000; text-decoration-color: #008000; font-weight: bold\">$</span><span style=\"color: #008000; text-decoration-color: #008000; font-weight: bold\">2</span><span style=\"color: #008000; text-decoration-color: #008000; font-weight: bold\">,</span><span style=\"color: #008000; text-decoration-color: #008000; font-weight: bold\">635.57</span>\n",
       "</pre>\n"
      ],
      "text/plain": [
       "  Simple Avg Best-Level Market Depth \u001b[1m(\u001b[0min Dollars\u001b[1m)\u001b[0m: \u001b[1;32m$\u001b[0m\u001b[1;32m2\u001b[0m\u001b[1;32m,\u001b[0m\u001b[1;32m635.57\u001b[0m\n"
      ]
     },
     "metadata": {},
     "output_type": "display_data"
    },
    {
     "data": {
      "text/html": [
       "<pre style=\"white-space:pre;overflow-x:auto;line-height:normal;font-family:Menlo,'DejaVu Sans Mono',consolas,'Courier New',monospace\">  Simple Avg Order Imbalance: <span style=\"color: #008000; text-decoration-color: #008000; font-weight: bold\">-0.0179</span>\n",
       "</pre>\n"
      ],
      "text/plain": [
       "  Simple Avg Order Imbalance: \u001b[1;32m-0.0179\u001b[0m\n"
      ]
     },
     "metadata": {},
     "output_type": "display_data"
    },
    {
     "data": {
      "text/html": [
       "<pre style=\"white-space:pre;overflow-x:auto;line-height:normal;font-family:Menlo,'DejaVu Sans Mono',consolas,'Courier New',monospace\">\n",
       "<span style=\"color: #008080; text-decoration-color: #008080; font-weight: bold\">Time-Weighted Average:</span>\n",
       "</pre>\n"
      ],
      "text/plain": [
       "\n",
       "\u001b[1;36mTime-Weighted Average:\u001b[0m\n"
      ]
     },
     "metadata": {},
     "output_type": "display_data"
    },
    {
     "data": {
      "text/html": [
       "<pre style=\"white-space:pre;overflow-x:auto;line-height:normal;font-family:Menlo,'DejaVu Sans Mono',consolas,'Courier New',monospace\">  Time-Weighted Avg Bid-Ask Spread <span style=\"font-weight: bold\">(</span>in Ticks<span style=\"font-weight: bold\">)</span>: <span style=\"color: #008000; text-decoration-color: #008000; font-weight: bold\">93.1985</span>\n",
       "</pre>\n"
      ],
      "text/plain": [
       "  Time-Weighted Avg Bid-Ask Spread \u001b[1m(\u001b[0min Ticks\u001b[1m)\u001b[0m: \u001b[1;32m93.1985\u001b[0m\n"
      ]
     },
     "metadata": {},
     "output_type": "display_data"
    },
    {
     "data": {
      "text/html": [
       "<pre style=\"white-space:pre;overflow-x:auto;line-height:normal;font-family:Menlo,'DejaVu Sans Mono',consolas,'Courier New',monospace\">  Time-Weighted Avg Bid-Ask Spread <span style=\"font-weight: bold\">(</span>in Basis Points<span style=\"font-weight: bold\">)</span>: <span style=\"color: #008000; text-decoration-color: #008000; font-weight: bold\">897.4538</span>\n",
       "</pre>\n"
      ],
      "text/plain": [
       "  Time-Weighted Avg Bid-Ask Spread \u001b[1m(\u001b[0min Basis Points\u001b[1m)\u001b[0m: \u001b[1;32m897.4538\u001b[0m\n"
      ]
     },
     "metadata": {},
     "output_type": "display_data"
    },
    {
     "data": {
      "text/html": [
       "<pre style=\"white-space:pre;overflow-x:auto;line-height:normal;font-family:Menlo,'DejaVu Sans Mono',consolas,'Courier New',monospace\">  Time-Weighted Avg Best-Level Market Depth <span style=\"font-weight: bold\">(</span>in Dollars<span style=\"font-weight: bold\">)</span>: <span style=\"color: #008000; text-decoration-color: #008000; font-weight: bold\">$</span><span style=\"color: #008000; text-decoration-color: #008000; font-weight: bold\">2</span><span style=\"color: #008000; text-decoration-color: #008000; font-weight: bold\">,</span><span style=\"color: #008000; text-decoration-color: #008000; font-weight: bold\">421.82</span>\n",
       "</pre>\n"
      ],
      "text/plain": [
       "  Time-Weighted Avg Best-Level Market Depth \u001b[1m(\u001b[0min Dollars\u001b[1m)\u001b[0m: \u001b[1;32m$\u001b[0m\u001b[1;32m2\u001b[0m\u001b[1;32m,\u001b[0m\u001b[1;32m421.82\u001b[0m\n"
      ]
     },
     "metadata": {},
     "output_type": "display_data"
    },
    {
     "data": {
      "text/html": [
       "<pre style=\"white-space:pre;overflow-x:auto;line-height:normal;font-family:Menlo,'DejaVu Sans Mono',consolas,'Courier New',monospace\">  Time-Weighted Avg Order Imbalance: <span style=\"color: #008000; text-decoration-color: #008000; font-weight: bold\">+</span><span style=\"color: #008000; text-decoration-color: #008000; font-weight: bold\">0.3439</span>\n",
       "</pre>\n"
      ],
      "text/plain": [
       "  Time-Weighted Avg Order Imbalance: \u001b[1;32m+\u001b[0m\u001b[1;32m0.3439\u001b[0m\n"
      ]
     },
     "metadata": {},
     "output_type": "display_data"
    }
   ],
   "source": [
    "final_metrics = metrics_calculator.calculate_averages(orders_df[\"unix_timestamp\"].max())"
   ]
  }
 ],
 "metadata": {
  "kernelspec": {
   "display_name": "order-book-simulator-py3.12",
   "language": "python",
   "name": "python3"
  },
  "language_info": {
   "codemirror_mode": {
    "name": "ipython",
    "version": 3
   },
   "file_extension": ".py",
   "mimetype": "text/x-python",
   "name": "python",
   "nbconvert_exporter": "python",
   "pygments_lexer": "ipython3",
   "version": "3.12.4"
  }
 },
 "nbformat": 4,
 "nbformat_minor": 5
}
